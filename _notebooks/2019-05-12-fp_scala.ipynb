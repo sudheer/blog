{
 "cells": [
  {
   "cell_type": "markdown",
   "metadata": {},
   "source": [
    "# \"Functional programming in scala\"\n",
    "> \"notes of scala\"\n",
    "\n",
    "- toc:true\n",
    "- branch: master\n",
    "- badges: true\n",
    "- comments: true\n",
    "- categories: [programming]\n",
    "- tags: [scala, functional programming]"
   ]
  },
  {
   "cell_type": "markdown",
   "metadata": {},
   "source": [
    "# Introduction\n",
    "\n",
    "![Functional programming](https://user-images.githubusercontent.com/8268939/79669092-ffb9b380-816d-11ea-9727-39552b327ca5.jpg)\n",
    "\n",
    "1. Functions are first class values\n",
    "    - Functions can be defined with in other functions\n",
    "    - Functions can be passed as params to other functions\n",
    "    - Functions can be return types of functions\n",
    "2. Immutability\n",
    "    - operations on objects creates new objects rather than modifying original\n",
    "3. Pure functions\n",
    "\n",
    "> Pure Function = O/p depends on I/p + No side effects\n",
    "  - A pure function cannot rely on input from files, databases, web services etc\n",
    "  - always produces same output with given input\n",
    "\n",
    "![pure function](https://user-images.githubusercontent.com/8268939/79669398-0a754800-8170-11ea-943c-bc19a5b65506.jpeg)\n",
    "\n",
    "- pure function\n",
    "```scala\n",
    "def add(a:Int, b:Int):Int = { \n",
    "            return a + b\n",
    "        } \n",
    "```\n",
    "- impure function\n",
    "```scala\n",
    "def getSysTime:Long = { \n",
    "            return System.currentTimeMillis()\n",
    "  } \n",
    "```"
   ]
  },
  {
   "cell_type": "markdown",
   "metadata": {},
   "source": [
    "#### Defining functions"
   ]
  },
  {
   "cell_type": "markdown",
   "metadata": {},
   "source": [
    "```\n",
    "def functionName(params : paramTypes) : functionReturnType = {  \n",
    "     // statements\n",
    "}\n",
    "```"
   ]
  },
  {
   "cell_type": "code",
   "execution_count": 2,
   "metadata": {},
   "outputs": [
    {
     "data": {
      "text/plain": [
       "defined \u001b[32mfunction\u001b[39m \u001b[36msqrt\u001b[39m"
      ]
     },
     "execution_count": 2,
     "metadata": {},
     "output_type": "execute_result"
    }
   ],
   "source": [
    "def sqrt(x: Double) = x * x"
   ]
  },
  {
   "cell_type": "code",
   "execution_count": 6,
   "metadata": {},
   "outputs": [
    {
     "data": {
      "text/plain": [
       "defined \u001b[32mfunction\u001b[39m \u001b[36marea\u001b[39m\n",
       "\u001b[36mres5_1\u001b[39m: \u001b[32mInt\u001b[39m = \u001b[32m6\u001b[39m\n",
       "\u001b[36mres5_2\u001b[39m: \u001b[32mInt\u001b[39m = \u001b[32m0\u001b[39m"
      ]
     },
     "execution_count": 6,
     "metadata": {},
     "output_type": "execute_result"
    }
   ],
   "source": [
    "def area(a: Int = 0, b: Int = 0) = {\n",
    "    a * b\n",
    "}\n",
    "\n",
    "area(2,3)\n",
    "\n",
    "area(a=2)"
   ]
  },
  {
   "cell_type": "markdown",
   "metadata": {},
   "source": [
    "### Function evaluation strategies"
   ]
  },
  {
   "cell_type": "code",
   "execution_count": 13,
   "metadata": {},
   "outputs": [
    {
     "data": {
      "text/plain": [
       "defined \u001b[32mfunction\u001b[39m \u001b[36mtest\u001b[39m"
      ]
     },
     "execution_count": 13,
     "metadata": {},
     "output_type": "execute_result"
    }
   ],
   "source": [
    "def test() = {\n",
    "  println(\"testing call by value/name\")\n",
    "  1 // return value\n",
    "}"
   ]
  },
  {
   "cell_type": "markdown",
   "metadata": {},
   "source": [
    "#### call by value"
   ]
  },
  {
   "cell_type": "code",
   "execution_count": 14,
   "metadata": {},
   "outputs": [
    {
     "name": "stdout",
     "output_type": "stream",
     "text": [
      "testing call by value/name\n",
      "x1=1\n",
      "x2=1\n"
     ]
    },
    {
     "data": {
      "text/plain": [
       "defined \u001b[32mfunction\u001b[39m \u001b[36mcallByValue\u001b[39m"
      ]
     },
     "execution_count": 14,
     "metadata": {},
     "output_type": "execute_result"
    }
   ],
   "source": [
    "def callByValue(x: Int) = {\n",
    "  println(\"x1=\" + x)\n",
    "  println(\"x2=\" + x)\n",
    "}\n",
    "\n",
    "callByValue(test())"
   ]
  },
  {
   "cell_type": "markdown",
   "metadata": {},
   "source": [
    "#### call by name"
   ]
  },
  {
   "cell_type": "code",
   "execution_count": 15,
   "metadata": {},
   "outputs": [
    {
     "name": "stdout",
     "output_type": "stream",
     "text": [
      "testing call by value/name\n",
      "x1=1\n",
      "testing call by value/name\n",
      "x2=1\n"
     ]
    },
    {
     "data": {
      "text/plain": [
       "defined \u001b[32mfunction\u001b[39m \u001b[36mcallByName\u001b[39m"
      ]
     },
     "execution_count": 15,
     "metadata": {},
     "output_type": "execute_result"
    }
   ],
   "source": [
    "def callByName(x: => Int) = {\n",
    "  println(\"x1=\" + x)\n",
    "  println(\"x2=\" + x)\n",
    "}\n",
    "\n",
    "callByName(test())"
   ]
  },
  {
   "cell_type": "markdown",
   "metadata": {},
   "source": [
    "### def vs val for functions"
   ]
  },
  {
   "cell_type": "markdown",
   "metadata": {},
   "source": [
    "```\n",
    "val add = (a: Int, b: Int) => a + b\n",
    "\n",
    "add(2,3)\n",
    "```\n",
    "\n",
    "```\n",
    "def add(a: Int, b: Int) => a + b\n",
    "\n",
    "add(2,3)\n",
    "```"
   ]
  },
  {
   "cell_type": "markdown",
   "metadata": {},
   "source": [
    "### Blocks in scala"
   ]
  },
  {
   "cell_type": "code",
   "execution_count": 19,
   "metadata": {},
   "outputs": [
    {
     "name": "stdout",
     "output_type": "stream",
     "text": [
      "5\n"
     ]
    }
   ],
   "source": [
    "println({\n",
    "  val a = 2 + 2\n",
    "  a + 1\n",
    "})"
   ]
  },
  {
   "cell_type": "markdown",
   "metadata": {},
   "source": [
    "#### variable definitions in blocks"
   ]
  },
  {
   "cell_type": "code",
   "execution_count": 22,
   "metadata": {},
   "outputs": [
    {
     "data": {
      "text/plain": [
       "\u001b[36mvarName\u001b[39m: \u001b[32mString\u001b[39m = \u001b[32m\"Hello World\"\u001b[39m"
      ]
     },
     "execution_count": 22,
     "metadata": {},
     "output_type": "execute_result"
    }
   ],
   "source": [
    "val varName:String= {\n",
    "    val d = \"Hello World\"\n",
    "    d.toString()\n",
    "}"
   ]
  },
  {
   "cell_type": "code",
   "execution_count": 23,
   "metadata": {},
   "outputs": [
    {
     "name": "stdout",
     "output_type": "stream",
     "text": [
      "Hello World\n"
     ]
    },
    {
     "data": {
      "text/plain": [
       "defined \u001b[32mfunction\u001b[39m \u001b[36mmeth2\u001b[39m"
      ]
     },
     "execution_count": 23,
     "metadata": {},
     "output_type": "execute_result"
    }
   ],
   "source": [
    "def meth2():String = {\n",
    "        val d = \"Hello World\"\n",
    "        d.toString()\n",
    "}\n",
    "\n",
    "println(meth2)"
   ]
  },
  {
   "cell_type": "markdown",
   "metadata": {},
   "source": [
    "# Higher order functions\n",
    "\n",
    "- take function as argument\n",
    "- return function as argument\n",
    "\n",
    "![Higher order functions](https://user-images.githubusercontent.com/8268939/79669243-0e549a80-816f-11ea-8cae-29f930cae016.jpeg)"
   ]
  },
  {
   "cell_type": "code",
   "execution_count": 1,
   "metadata": {},
   "outputs": [
    {
     "data": {
      "text/plain": [
       "defined \u001b[32mfunction\u001b[39m \u001b[36mmath\u001b[39m\n",
       "\u001b[36mres0_1\u001b[39m: \u001b[32mDouble\u001b[39m = \u001b[32m30.0\u001b[39m\n",
       "\u001b[36mres0_2\u001b[39m: \u001b[32mDouble\u001b[39m = \u001b[32m-10.0\u001b[39m"
      ]
     },
     "execution_count": 1,
     "metadata": {},
     "output_type": "execute_result"
    }
   ],
   "source": [
    "def math(x: Double, y: Double, f: (Double, Double) => Double) : Double = f(x,y)\n",
    "\n",
    "math(10, 20, (a,b)=>a+b)\n",
    "\n",
    "math(10,20, (a,b)=>a-b)"
   ]
  },
  {
   "cell_type": "code",
   "execution_count": 11,
   "metadata": {},
   "outputs": [
    {
     "data": {
      "text/plain": [
       "\u001b[36mlist\u001b[39m: \u001b[32mList\u001b[39m[\u001b[32mInt\u001b[39m] = \u001b[33mList\u001b[39m(\u001b[32m1\u001b[39m, \u001b[32m2\u001b[39m, \u001b[32m3\u001b[39m)\n",
       "\u001b[36mres10_1\u001b[39m: \u001b[32mList\u001b[39m[\u001b[32mInt\u001b[39m] = \u001b[33mList\u001b[39m(\u001b[32m2\u001b[39m, \u001b[32m3\u001b[39m, \u001b[32m4\u001b[39m)"
      ]
     },
     "execution_count": 11,
     "metadata": {},
     "output_type": "execute_result"
    }
   ],
   "source": [
    "val list = List(1,2,3)\n",
    "\n",
    "list.map(x => x+1) // Higher order function passed to map"
   ]
  },
  {
   "cell_type": "markdown",
   "metadata": {},
   "source": [
    "# Partiallly applied Functions\n",
    "\n",
    "- function which may not be defined for all inputs"
   ]
  },
  {
   "cell_type": "markdown",
   "metadata": {},
   "source": [
    "### Creating partial functions"
   ]
  },
  {
   "cell_type": "code",
   "execution_count": 28,
   "metadata": {},
   "outputs": [
    {
     "data": {
      "text/plain": [
       "\u001b[36mmultiplyVal\u001b[39m: (\u001b[32mInt\u001b[39m, \u001b[32mInt\u001b[39m) => \u001b[32mInt\u001b[39m = ammonite.$sess.cmd27$Helper$$Lambda$2404/1209197431@12a200a0\n",
       "\u001b[36mmultiplyCurried\u001b[39m: \u001b[32mInt\u001b[39m => \u001b[32mInt\u001b[39m => \u001b[32mInt\u001b[39m = scala.Function2$$Lambda$2298/1567973346@219b84fc\n",
       "\u001b[36mpartiallyAppliedFunc1\u001b[39m: \u001b[32mInt\u001b[39m => \u001b[32mInt\u001b[39m = scala.Function2$$Lambda$2308/1602704739@170ea369\n",
       "\u001b[36mpartiallyAppliedFunc2\u001b[39m: \u001b[32mInt\u001b[39m => \u001b[32mInt\u001b[39m = ammonite.$sess.cmd27$Helper$$Lambda$2405/294871968@3d7fc26c\n",
       "\u001b[36mres1\u001b[39m: \u001b[32mInt\u001b[39m = \u001b[32m6\u001b[39m\n",
       "\u001b[36mres2\u001b[39m: \u001b[32mInt\u001b[39m = \u001b[32m6\u001b[39m"
      ]
     },
     "execution_count": 28,
     "metadata": {},
     "output_type": "execute_result"
    }
   ],
   "source": [
    "val multiplyVal = (x: Int, y: Int) => x * y\n",
    "\n",
    "val multiplyCurried = multiplyVal.curried\n",
    "\n",
    "// The call to .curried transforms function value's type from (Int, Int) => Int to Int => (Int => Int)\n",
    "\n",
    "val partiallyAppliedFunc1 = multiplyCurried(2)\n",
    "\n",
    "val partiallyAppliedFunc2 = multiplyVal(2, _: Int)\n",
    "\n",
    "val res1 = partiallyAppliedFunc1(3)\n",
    "\n",
    "val res2 = partiallyAppliedFunc2(3)"
   ]
  },
  {
   "cell_type": "markdown",
   "metadata": {},
   "source": [
    "# Currying"
   ]
  },
  {
   "cell_type": "markdown",
   "metadata": {},
   "source": [
    "![currying](https://user-images.githubusercontent.com/8268939/79669482-a901a900-8170-11ea-9dde-314d21550448.jpeg)\n",
    "\n",
    "**Pseudo Code**\n",
    "```scala\n",
    "result = f(x)(y)(z)\n",
    "\n",
    "f1 = f(x)\n",
    "f2 = f1(y)\n",
    "result = f2(z)\n",
    "```"
   ]
  },
  {
   "cell_type": "code",
   "execution_count": 16,
   "metadata": {},
   "outputs": [
    {
     "name": "stdout",
     "output_type": "stream",
     "text": [
      "add(2)(1) output is 3 and result is 3\n"
     ]
    },
    {
     "data": {
      "text/plain": [
       "defined \u001b[32mfunction\u001b[39m \u001b[36madd\u001b[39m\n",
       "\u001b[36mtwoPlusOne\u001b[39m: \u001b[32mInt\u001b[39m = \u001b[32m3\u001b[39m\n",
       "\u001b[36mplusOneCounter\u001b[39m: \u001b[32mInt\u001b[39m => \u001b[32mInt\u001b[39m = ammonite.$sess.cmd15$Helper$$Lambda$2113/1951893763@55ae6ff8\n",
       "\u001b[36mresult\u001b[39m: \u001b[32mInt\u001b[39m = \u001b[32m3\u001b[39m"
      ]
     },
     "execution_count": 16,
     "metadata": {},
     "output_type": "execute_result"
    }
   ],
   "source": [
    "def add(a: Int)(b: Int) = a + b\n",
    "\n",
    "val twoPlusOne = add(2)(1)\n",
    "\n",
    "val plusOneCounter = add(1) _\n",
    "\n",
    "val result = plusOneCounter(2)\n",
    "\n",
    "println(s\"add(2)(1) output is ${twoPlusOne} and result is $result\")"
   ]
  },
  {
   "cell_type": "code",
   "execution_count": 33,
   "metadata": {},
   "outputs": [
    {
     "data": {
      "text/plain": [
       "defined \u001b[32mfunction\u001b[39m \u001b[36msum\u001b[39m\n",
       "\u001b[36msumCurried\u001b[39m: \u001b[32mInt\u001b[39m => \u001b[32mInt\u001b[39m = ammonite.$sess.cmd32$Helper$$Lambda$2512/507796500@f24aa23\n",
       "\u001b[36mres32_2\u001b[39m: \u001b[32mInt\u001b[39m = \u001b[32m8\u001b[39m"
      ]
     },
     "execution_count": 33,
     "metadata": {},
     "output_type": "execute_result"
    }
   ],
   "source": [
    "def add(a: Int, b: Int) = a + b\n",
    "val addCurried = add(2, _)\n",
    "sumCurried(6)"
   ]
  },
  {
   "cell_type": "markdown",
   "metadata": {},
   "source": [
    "# Functional Composition "
   ]
  },
  {
   "cell_type": "code",
   "execution_count": 2,
   "metadata": {},
   "outputs": [
    {
     "data": {
      "text/plain": [
       "\u001b[36madd1\u001b[39m: \u001b[32mInt\u001b[39m => \u001b[32mInt\u001b[39m = ammonite.$sess.cmd1$Helper$$Lambda$1829/1144892518@2e7ed391\n",
       "\u001b[36mmultiply3\u001b[39m: \u001b[32mInt\u001b[39m => \u001b[32mInt\u001b[39m = ammonite.$sess.cmd1$Helper$$Lambda$1830/1298967826@3f84a3ec"
      ]
     },
     "execution_count": 2,
     "metadata": {},
     "output_type": "execute_result"
    }
   ],
   "source": [
    "val add1 = (a: Int) => a+1\n",
    "\n",
    "val multiply3 = (a: Int) => a*3"
   ]
  },
  {
   "cell_type": "code",
   "execution_count": 7,
   "metadata": {},
   "outputs": [
    {
     "data": {
      "text/plain": [
       "\u001b[36mandTahenExample\u001b[39m: \u001b[32mInt\u001b[39m => \u001b[32mInt\u001b[39m = scala.Function1$$Lambda$320/899929247@27071089\n",
       "\u001b[36mres6_1\u001b[39m: \u001b[32mInt\u001b[39m = \u001b[32m12\u001b[39m"
      ]
     },
     "execution_count": 7,
     "metadata": {},
     "output_type": "execute_result"
    }
   ],
   "source": [
    "// AndThen\n",
    "\n",
    "val andThenExample = add1 andThen multiply3\n",
    "\n",
    "andThenExample(3)"
   ]
  },
  {
   "cell_type": "code",
   "execution_count": 10,
   "metadata": {},
   "outputs": [
    {
     "data": {
      "text/plain": [
       "\u001b[36mcomposeExample\u001b[39m: \u001b[32mInt\u001b[39m => \u001b[32mInt\u001b[39m = scala.Function1$$Lambda$2020/929592323@3dec46e5\n",
       "\u001b[36mres9_1\u001b[39m: \u001b[32mInt\u001b[39m = \u001b[32m4\u001b[39m"
      ]
     },
     "execution_count": 10,
     "metadata": {},
     "output_type": "execute_result"
    }
   ],
   "source": [
    "// compose\n",
    "\n",
    "val composeExample = add1 compose multiply3\n",
    "\n",
    "composeExample (1)"
   ]
  },
  {
   "cell_type": "markdown",
   "metadata": {},
   "source": [
    "# Declarative style\n",
    "\n",
    "FP helps us to write declarative style of programming thus reducing the number of lines and defining a cleaner way. Given a list to modify, lets see both imperative vs declarative styles."
   ]
  },
  {
   "cell_type": "code",
   "execution_count": 29,
   "metadata": {},
   "outputs": [
    {
     "data": {
      "text/plain": [
       "\u001b[36mx\u001b[39m: \u001b[32mList\u001b[39m[\u001b[32mInt\u001b[39m] = \u001b[33mList\u001b[39m(\u001b[32m10\u001b[39m, \u001b[32m20\u001b[39m, \u001b[32m30\u001b[39m, \u001b[32m40\u001b[39m)"
      ]
     },
     "execution_count": 29,
     "metadata": {},
     "output_type": "execute_result"
    }
   ],
   "source": [
    "val x = List(10,20,30,40)"
   ]
  },
  {
   "cell_type": "markdown",
   "metadata": {},
   "source": [
    "### Imperative style"
   ]
  },
  {
   "cell_type": "markdown",
   "metadata": {},
   "source": [
    "- an apply method is generated\n",
    "- constructor params are public vals by default\n",
    "- equals and hashcode are generated\n",
    "- tostring method is generated\n",
    "- unapply method is generated\n",
    "- has built in copy method which is helpful in cloning"
   ]
  },
  {
   "cell_type": "code",
   "execution_count": 30,
   "metadata": {},
   "outputs": [
    {
     "name": "stdout",
     "output_type": "stream",
     "text": [
      "List(30, 60, 90, 120)\n"
     ]
    },
    {
     "data": {
      "text/plain": [
       "\u001b[32mimport \u001b[39m\u001b[36mscala.collection.mutable.ListBuffer\n",
       "\n",
       "\u001b[39m\n",
       "\u001b[36mmutable\u001b[39m: \u001b[32mListBuffer\u001b[39m[\u001b[32mInt\u001b[39m] = \u001b[33mListBuffer\u001b[39m(\u001b[32m30\u001b[39m, \u001b[32m60\u001b[39m, \u001b[32m90\u001b[39m, \u001b[32m120\u001b[39m)"
      ]
     },
     "execution_count": 30,
     "metadata": {},
     "output_type": "execute_result"
    }
   ],
   "source": [
    "import scala.collection.mutable.ListBuffer\n",
    "\n",
    "val mutable = new ListBuffer[Int]\n",
    "\n",
    "  for (e <- x) {\n",
    "    mutable += (e * 3)\n",
    "  }\n",
    "\n",
    "  println(mutable.toList)"
   ]
  },
  {
   "cell_type": "markdown",
   "metadata": {},
   "source": [
    "### Declarative style"
   ]
  },
  {
   "cell_type": "code",
   "execution_count": 27,
   "metadata": {},
   "outputs": [
    {
     "name": "stdout",
     "output_type": "stream",
     "text": [
      "List(List(3, 4))\n"
     ]
    },
    {
     "data": {
      "text/plain": [
       "\u001b[36ma\u001b[39m: \u001b[32mSeq\u001b[39m[\u001b[32mList\u001b[39m[\u001b[32mInt\u001b[39m]] = \u001b[33mList\u001b[39m(\u001b[33mList\u001b[39m(\u001b[32m3\u001b[39m, \u001b[32m4\u001b[39m))"
      ]
     },
     "execution_count": 27,
     "metadata": {},
     "output_type": "execute_result"
    }
   ],
   "source": [
    "val a = Seq({\n",
    "    val list = List(1,2,3,4)\n",
    "    list.filter(x => x>2)\n",
    "})\n",
    "\n",
    "println(a)"
   ]
  },
  {
   "cell_type": "code",
   "execution_count": 31,
   "metadata": {},
   "outputs": [
    {
     "name": "stdout",
     "output_type": "stream",
     "text": [
      "List(30, 60, 90, 120)\n"
     ]
    },
    {
     "data": {
      "text/plain": [
       "\u001b[36mresult\u001b[39m: \u001b[32mList\u001b[39m[\u001b[32mInt\u001b[39m] = \u001b[33mList\u001b[39m(\u001b[32m30\u001b[39m, \u001b[32m60\u001b[39m, \u001b[32m90\u001b[39m, \u001b[32m120\u001b[39m)"
      ]
     },
     "execution_count": 31,
     "metadata": {},
     "output_type": "execute_result"
    }
   ],
   "source": [
    "val result = x.map(element => element * 3)\n",
    "\n",
    "println(result)"
   ]
  },
  {
   "cell_type": "markdown",
   "metadata": {},
   "source": [
    "# Closures\n",
    "\n",
    "Closures are functions whose return values depends on 1 or more values outside of function"
   ]
  },
  {
   "cell_type": "code",
   "execution_count": 32,
   "metadata": {},
   "outputs": [
    {
     "data": {
      "text/html": [
       "<div class=\"jp-RenderedText\">\n",
       "<pre><code><span style=\"color: rgb(0, 187, 187)\"><span class=\"ansi-cyan-fg\">factor</span></span>: <span style=\"color: rgb(0, 187, 0)\"><span class=\"ansi-green-fg\">Int</span></span> = <span style=\"color: rgb(0, 187, 0)\"><span class=\"ansi-green-fg\">7</span></span>\n",
       "<span style=\"color: rgb(0, 187, 187)\"><span class=\"ansi-cyan-fg\">multiplier</span></span>: <span style=\"color: rgb(0, 187, 0)\"><span class=\"ansi-green-fg\">Int</span></span> =&gt; <span style=\"color: rgb(0, 187, 0)\"><span class=\"ansi-green-fg\">Int</span></span> = ammonite.$sess.cmd31$Helper$$Lambda$2482/1360119030@25b7c499\n",
       "<span style=\"color: rgb(0, 187, 187)\"><span class=\"ansi-cyan-fg\">res31_2</span></span>: <span style=\"color: rgb(0, 187, 0)\"><span class=\"ansi-green-fg\">Int</span></span> = <span style=\"color: rgb(0, 187, 0)\"><span class=\"ansi-green-fg\">49</span></span></code></pre>\n",
       "</div>"
      ],
      "text/plain": [
       "\u001b[36mfactor\u001b[39m: \u001b[32mInt\u001b[39m = \u001b[32m7\u001b[39m\n",
       "\u001b[36mmultiplier\u001b[39m: \u001b[32mInt\u001b[39m => \u001b[32mInt\u001b[39m = ammonite.$sess.cmd31$Helper$$Lambda$2482/1360119030@25b7c499\n",
       "\u001b[36mres31_2\u001b[39m: \u001b[32mInt\u001b[39m = \u001b[32m49\u001b[39m"
      ]
     },
     "metadata": {},
     "output_type": "display_data"
    }
   ],
   "source": [
    "var factor = 7\n",
    "val multiplier = (i:Int) => i * factor\n",
    "\n",
    "multiplier(7)"
   ]
  }
 ],
 "metadata": {
  "kernelspec": {
   "display_name": "Scala",
   "language": "scala",
   "name": "scala"
  },
  "language_info": {
   "codemirror_mode": "text/x-scala",
   "file_extension": ".scala",
   "mimetype": "text/x-scala",
   "name": "scala",
   "nbconvert_exporter": "script",
   "version": "2.13.1"
  },
  "toc-autonumbering": true,
  "toc-showcode": false,
  "toc-showmarkdowntxt": false,
  "toc-showtags": false
 },
 "nbformat": 4,
 "nbformat_minor": 4
}
