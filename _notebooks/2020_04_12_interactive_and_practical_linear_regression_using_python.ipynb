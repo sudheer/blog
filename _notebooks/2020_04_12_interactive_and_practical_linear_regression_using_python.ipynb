{
  "nbformat": 4,
  "nbformat_minor": 0,
  "metadata": {
    "colab": {
      "name": "2020-04-12-interactive and practical linear regression using python.ipynb",
      "provenance": [],
      "collapsed_sections": [],
      "authorship_tag": "ABX9TyOVVjRKvv5TYu0euCDfyq1k"
    },
    "kernelspec": {
      "name": "python3",
      "display_name": "Python 3"
    }
  },
  "cells": [
    {
      "cell_type": "markdown",
      "metadata": {
        "id": "E7d8BZlZY5vN",
        "colab_type": "text"
      },
      "source": [
        "# Linear Regression algorithm\n",
        "\n",
        "Linear regression assumes relation between input variable and output. It predicts the output as a linear function from input variables.\n",
        "\n",
        "Various methods of Linear Regression \n",
        "- Simple Linear Regression\n",
        " - Requires to calculate mean, std-deviation, co-variance, corelation \n",
        "- Ordinary Least Squares\n",
        " - uses Linear Algebra to estimate best values for co-efficients\n",
        "- Gradient Descent\n",
        " - Iteratively miniize the error of model this it gets to a minimum\n",
        "- Regularized Linear Regression\n",
        " - Lasso Regression \n",
        " - Rdige Regression"
      ]
    },
    {
      "cell_type": "markdown",
      "metadata": {
        "id": "OnTAYZmksHhu",
        "colab_type": "text"
      },
      "source": [
        "\n",
        "# Introduction and Terminology\n",
        "\n",
        "Lets say we have below sample data. \n",
        "\n",
        "| size in feet | price ($) |\n",
        "| ------  | ----- |\n",
        "| 2104 | 460 |\n",
        "| 1416 | 232 |\n",
        "\n",
        "$m$ = number of training example\n",
        "\n",
        "$x$ = input variable/ feature/ independent variable/ predictor\n",
        "\n",
        "$y$ = output variable/ target variable/ dependent variable\n",
        "\n",
        "![](https://mermaid.ink/img/eyJjb2RlIjoiZ3JhcGggVERcblx0QVtUcmFpbmluZyBTZXRdIC0tPiBCKExlYXJuaW5nIEFsZ29yaXRobSlcblx0QiAtLT4gaFxuICAgIENbc2l6ZSBvZiBob3VzZV0gLS0-IGhcbiAgICBoIC0tPiBEW0VzdGltYXRlZCBQcmljZV1cblxuIiwibWVybWFpZCI6eyJ0aGVtZSI6ImRlZmF1bHQifSwidXBkYXRlRWRpdG9yIjpmYWxzZX0)\n",
        "\n",
        "How do we represent h ?\n",
        "\n",
        "**Hypothesis**:\n",
        "$h_\\theta(x) = \\theta_0 + \\theta_1 * x$\n",
        "\n",
        "$h(x)$ is predictor of $y$\n",
        "\n",
        "This is linear regression with one variable\n",
        "\n",
        "Let's express this as Matrix and vectors\n",
        "\n",
        "$h_\\theta(x) = \\begin{pmatrix} x \\\\ 1\\end{pmatrix}^T * \\begin{pmatrix} \\theta_1 \\\\ \\theta_0\\end{pmatrix}$\n",
        "\n",
        "Let $ X = \\begin{pmatrix} x \\\\ 1\\end{pmatrix}^T$ and $\\theta = \\begin{pmatrix} \\theta_1 \\\\ \\theta_0\\end{pmatrix}$\n",
        "\n",
        "we can write it as $ h_\\theta(x) = X * \\theta $\n",
        "\n",
        "We need to choose $\\theta_0$ and $\\theta_1$ so it best fits our function"
      ]
    },
    {
      "cell_type": "markdown",
      "metadata": {
        "id": "xxm6Zz8pbPuY",
        "colab_type": "text"
      },
      "source": [
        "# Simple Linear Regression\n",
        "\n",
        "- uses stats to estimate co-efficients\n",
        "- need to calculate mean, std-devitation, co-variance and corelation.\n",
        "\n",
        "Lets generate some data for simple linear regression. Lets take house price prediction example\n",
        "\n",
        "Linear equation for our calculations is $y = \\theta_1 * x + \\theta_0$\n",
        "\n",
        "**Steps**:\n",
        "\n",
        "- **Estimate the slope $\\theta_1$**\n",
        "\n",
        "\\begin{equation}\n",
        "\\\\\\theta_1 = \\frac{\\sum(x_i – mean(x)) (y_i – mean(y)} {\\sum(x_i – mean(x))^2}\n",
        "\\end{equation}\n",
        "\n",
        "where \n",
        "\n",
        "\\begin{equation}\n",
        "mean(x) = \\frac{1}{n}\\sum_{i=1}^n x_i\n",
        "\\end{equation}\n",
        "\n",
        "- **Estinmate the intercept $\\theta_0$**\n",
        "\n",
        "\\begin{equation}\n",
        "\\theta_0 = mean(y) – \\theta_1 * mean(x)\n",
        "\\end{equation}\n",
        "\n",
        "- **Estimating Error**\n",
        "\n",
        "Root Mean Square Error \n",
        "\n",
        "$RMSE = \\sqrt{(\\frac{1}{n})\\sum_{i=1}^{n}(h_{i} - y_{i})^{2}}$\n",
        "\n",
        "$h_i$ is predicted value and $y_i$ is actual value\n"
      ]
    },
    {
      "cell_type": "code",
      "metadata": {
        "id": "XJTJpsPYyU_l",
        "colab_type": "code",
        "colab": {}
      },
      "source": [
        "# imports\n",
        "import pandas as pd\n",
        "import numpy as np\n",
        "from matplotlib import pyplot as plt"
      ],
      "execution_count": 0,
      "outputs": []
    },
    {
      "cell_type": "markdown",
      "metadata": {
        "id": "Y2Pu6_ooy11z",
        "colab_type": "text"
      },
      "source": [
        "### Generate Data"
      ]
    },
    {
      "cell_type": "code",
      "metadata": {
        "id": "KPcdVTbEyQPU",
        "colab_type": "code",
        "colab": {
          "base_uri": "https://localhost:8080/",
          "height": 204
        },
        "outputId": "73fc7269-676a-4bec-c2f2-57b9739730bc"
      },
      "source": [
        "# Generate 'random' data\n",
        "np.random.seed(0)\n",
        "no_of_records=200\n",
        "sq_ft = 50 * np.random.rand(no_of_records) + 500  # Array of 100 values with mean = 1000\n",
        "res = 5 * np.random.randn(no_of_records)       # Generate 100 residual terms\n",
        "price = 2 * sq_ft + 1000 + res                  # Actual values of Y\n",
        "\n",
        "# create pandas dataframe to store size and price\n",
        "df = pd.DataFrame(\n",
        "    {'sq_ft': sq_ft,\n",
        "     'price': price}\n",
        ")\n",
        "\n",
        "# first five rows of our dataframe\n",
        "df.head()"
      ],
      "execution_count": 18,
      "outputs": [
        {
          "output_type": "execute_result",
          "data": {
            "text/html": [
              "<div>\n",
              "<style scoped>\n",
              "    .dataframe tbody tr th:only-of-type {\n",
              "        vertical-align: middle;\n",
              "    }\n",
              "\n",
              "    .dataframe tbody tr th {\n",
              "        vertical-align: top;\n",
              "    }\n",
              "\n",
              "    .dataframe thead th {\n",
              "        text-align: right;\n",
              "    }\n",
              "</style>\n",
              "<table border=\"1\" class=\"dataframe\">\n",
              "  <thead>\n",
              "    <tr style=\"text-align: right;\">\n",
              "      <th></th>\n",
              "      <th>sq_ft</th>\n",
              "      <th>price</th>\n",
              "    </tr>\n",
              "  </thead>\n",
              "  <tbody>\n",
              "    <tr>\n",
              "      <th>0</th>\n",
              "      <td>527.440675</td>\n",
              "      <td>2060.514530</td>\n",
              "    </tr>\n",
              "    <tr>\n",
              "      <th>1</th>\n",
              "      <td>535.759468</td>\n",
              "      <td>2066.119279</td>\n",
              "    </tr>\n",
              "    <tr>\n",
              "      <th>2</th>\n",
              "      <td>530.138169</td>\n",
              "      <td>2054.538994</td>\n",
              "    </tr>\n",
              "    <tr>\n",
              "      <th>3</th>\n",
              "      <td>527.244159</td>\n",
              "      <td>2052.299218</td>\n",
              "    </tr>\n",
              "    <tr>\n",
              "      <th>4</th>\n",
              "      <td>521.182740</td>\n",
              "      <td>2039.875318</td>\n",
              "    </tr>\n",
              "  </tbody>\n",
              "</table>\n",
              "</div>"
            ],
            "text/plain": [
              "        sq_ft        price\n",
              "0  527.440675  2060.514530\n",
              "1  535.759468  2066.119279\n",
              "2  530.138169  2054.538994\n",
              "3  527.244159  2052.299218\n",
              "4  521.182740  2039.875318"
            ]
          },
          "metadata": {
            "tags": []
          },
          "execution_count": 18
        }
      ]
    },
    {
      "cell_type": "markdown",
      "metadata": {
        "id": "_CG8s6uoy41u",
        "colab_type": "text"
      },
      "source": [
        "### Visualize Data"
      ]
    },
    {
      "cell_type": "code",
      "metadata": {
        "id": "KS8UMUNYyzDV",
        "colab_type": "code",
        "colab": {
          "base_uri": "https://localhost:8080/",
          "height": 312
        },
        "outputId": "9ac79742-d895-4b2c-e43b-aee32d98eb52"
      },
      "source": [
        "X = df.iloc[:, 0]\n",
        "Y = df.iloc[:, 1]\n",
        "plt.title('House Price vs Sq ft') \n",
        "plt.xlabel('Sq ft')  \n",
        "plt.ylabel('House Price')  \n",
        "plt.scatter(X,Y)"
      ],
      "execution_count": 19,
      "outputs": [
        {
          "output_type": "execute_result",
          "data": {
            "text/plain": [
              "<matplotlib.collections.PathCollection at 0x7fb08db6cf60>"
            ]
          },
          "metadata": {
            "tags": []
          },
          "execution_count": 19
        },
        {
          "output_type": "display_data",
          "data": {
            "image/png": "[encoded data removed]",
            "text/plain": [
              "<Figure size 432x288 with 1 Axes>"
            ]
          },
          "metadata": {
            "tags": [],
            "needs_background": "light"
          }
        }
      ]
    },
    {
      "cell_type": "markdown",
      "metadata": {
        "id": "YwBfi8tUzKG5",
        "colab_type": "text"
      },
      "source": [
        "### Build the model\n",
        "\n",
        "Lets calculate\n",
        "\n",
        "\\begin{equation}\n",
        "\\\\m = \\frac{\\sum(x_i – mean(x)) (y_i – mean(y)} {\\sum(x_i – mean(x))^2}\n",
        "\\end{equation}\n",
        "\n",
        "\\begin{equation}\n",
        "c = mean(y) – \\theta_1 * mean(x)\n",
        "\\end{equation}"
      ]
    },
    {
      "cell_type": "code",
      "metadata": {
        "id": "SlMqRW7ZzWC9",
        "colab_type": "code",
        "colab": {
          "base_uri": "https://localhost:8080/",
          "height": 34
        },
        "outputId": "aae741ff-da46-4265-87b4-64a7da65eda0"
      },
      "source": [
        "# Building the model\n",
        "X_mean = np.mean(X)\n",
        "Y_mean = np.mean(Y)\n",
        "\n",
        "num = 0\n",
        "den = 0\n",
        "for i in range(len(X)):\n",
        "    num += (X[i] - X_mean)*(Y[i] - Y_mean) # sum of all differences in numerator\n",
        "    den += (X[i] - X_mean)**2 # sum of all differences in denom\n",
        "m = num / den # final slope \\theta_1\n",
        "c = Y_mean - m*X_mean # final intercept \\theta_0\n",
        "\n",
        "print (m, c)"
      ],
      "execution_count": 20,
      "outputs": [
        {
          "output_type": "stream",
          "text": [
            "1.956195597832525 1022.4369105614524\n"
          ],
          "name": "stdout"
        }
      ]
    },
    {
      "cell_type": "markdown",
      "metadata": {
        "id": "dNlaBP134tbE",
        "colab_type": "text"
      },
      "source": [
        "Now our linear equation is $House Price (Y) = (1.956195597832525) * x + (1022.4369105614524)$\n",
        "\n",
        "\n",
        "Lets plot and visualize it\n"
      ]
    },
    {
      "cell_type": "code",
      "metadata": {
        "id": "02KgUzkS5Gxa",
        "colab_type": "code",
        "colab": {
          "base_uri": "https://localhost:8080/",
          "height": 265
        },
        "outputId": "7a51ba91-ea55-41cd-9738-c5ff50b3ed65"
      },
      "source": [
        "m = 1.956195597832525\n",
        "b = 1022.4369105614524\n",
        "Y_pred = m*X+b # predicted values\n",
        "plt.scatter(X,Y)\n",
        "plt.plot(X,Y_pred,color='red')\n",
        "plt.show()"
      ],
      "execution_count": 21,
      "outputs": [
        {
          "output_type": "display_data",
          "data": {
            "image/png": "[encoded data removed]",
            "text/plain": [
              "<Figure size 432x288 with 1 Axes>"
            ]
          },
          "metadata": {
            "tags": [],
            "needs_background": "light"
          }
        }
      ]
    },
    {
      "cell_type": "markdown",
      "metadata": {
        "id": "hWTOpNES5gBN",
        "colab_type": "text"
      },
      "source": [
        "### Check accuracy\n",
        "\n",
        "Lets check how accurate is our model by estimating error. \n",
        "\n",
        "$RMSE = \\sqrt{(\\frac{1}{n})\\sum_{i=1}^{n}(h_{i} - y_{i})^{2}}$"
      ]
    },
    {
      "cell_type": "code",
      "metadata": {
        "id": "MRPYqWgP7LYn",
        "colab_type": "code",
        "colab": {
          "base_uri": "https://localhost:8080/",
          "height": 34
        },
        "outputId": "ecbcce70-ebdb-4e9f-f6a8-c329a765b2e5"
      },
      "source": [
        "Y = df.iloc[:, 1] # observed\n",
        "Y_pred \n",
        "summation = 0  #summation of differences\n",
        "n = len(Y) #finding total number of items in list\n",
        "for i in range (0,n):  #looping through each element of the list\n",
        "  difference = Y[i] - Y_pred[i]  #finding the difference between observed and predicted value\n",
        "  squared_difference = difference**2  #taking square of the differene \n",
        "  summation = summation + squared_difference  #taking a sum of all the differences\n",
        "MSE = summation/n  #dividing summation by total values to obtain average\n",
        "print(\"ROOT Mean Square Error is: {}\".format(MSE))"
      ],
      "execution_count": 22,
      "outputs": [
        {
          "output_type": "stream",
          "text": [
            "ROOT Mean Square Error is: 22.826601317067663\n"
          ],
          "name": "stdout"
        }
      ]
    },
    {
      "cell_type": "markdown",
      "metadata": {
        "id": "-qATQWd49CmY",
        "colab_type": "text"
      },
      "source": [
        "This mean 22% of time our estimation is not accurate."
      ]
    },
    {
      "cell_type": "markdown",
      "metadata": {
        "id": "BUjVg_4fBriX",
        "colab_type": "text"
      },
      "source": [
        "# Cost function \n",
        "\n",
        "Lets see how can we choose parameters $\\theta_0$ and $\\theta_1$\n",
        "\n",
        "Let y be result after substitution\n",
        "\n",
        "**Cost Function**: \n",
        "\n",
        "$J(\\theta_0, \\theta_1) = \\sum\\limits_{i=1}^m (y_{predicted} - y_{actual})^2$\n",
        "\n",
        "$J(\\theta_0, \\theta_1) = \\dfrac{1}{2m}\\sum\\limits_{i=1}^m (h_\\theta(x^i) - y^i)^2$\n",
        "\n",
        "**Goal** : minimize $J(\\theta_0, \\theta_1)$\n",
        "\n",
        "Linear regression uses `Gradient Descent` to minimize the cost Function"
      ]
    },
    {
      "cell_type": "markdown",
      "metadata": {
        "id": "U89zj_-pkZq6",
        "colab_type": "text"
      },
      "source": [
        "To find the values ​$\\theta_0$ and $\\theta_1$, we will need mean of X and Y. We will find these and the coeffients."
      ]
    },
    {
      "cell_type": "markdown",
      "metadata": {
        "id": "zDFG2kBWksVE",
        "colab_type": "text"
      },
      "source": [
        "\n",
        "---\n",
        "\n"
      ]
    },
    {
      "cell_type": "code",
      "metadata": {
        "id": "4kgWAF4q33Je",
        "colab_type": "code",
        "outputId": "73c665f2-b155-4458-aa8b-66e289fe369a",
        "colab": {
          "base_uri": "https://localhost:8080/",
          "height": 198
        }
      },
      "source": [
        "#hide\n",
        "#initial MSE\n",
        "def mse_calc(slope, intercept, m, n):\n",
        "    tot_error = 0\n",
        "    pred = []\n",
        "    for i in range(len(m)):\n",
        "        print(\"i value {}\".format(i))\n",
        "        x = sq_ft[i]\n",
        "        y = price[i]\n",
        "        #calculating total error. It follows the formula y=mx+c\n",
        "        #m is the slope and c is the intercept\n",
        "        pred.append(((slope*x) + intercept))\n",
        "        tot_error += (y - ((slope*x) + intercept)) ** 2\n",
        "    error = tot_error / float(len(m))\n",
        "    return error, pred\n",
        "\n",
        "sq_ft = np.array(df[\"sq_ft\"].tolist())\n",
        "price = np.array(df[\"price\"].tolist())\n",
        "\n",
        "mse_calc(1,2,x,y)"
      ],
      "execution_count": 23,
      "outputs": [
        {
          "output_type": "error",
          "ename": "NameError",
          "evalue": "ignored",
          "traceback": [
            "\u001b[0;31m---------------------------------------------------------------------------\u001b[0m",
            "\u001b[0;31mNameError\u001b[0m                                 Traceback (most recent call last)",
            "\u001b[0;32m<ipython-input-23-b74f0dc60c81>\u001b[0m in \u001b[0;36m<module>\u001b[0;34m()\u001b[0m\n\u001b[1;32m     16\u001b[0m \u001b[0mprice\u001b[0m \u001b[0;34m=\u001b[0m \u001b[0mnp\u001b[0m\u001b[0;34m.\u001b[0m\u001b[0marray\u001b[0m\u001b[0;34m(\u001b[0m\u001b[0mdf\u001b[0m\u001b[0;34m[\u001b[0m\u001b[0;34m\"price\"\u001b[0m\u001b[0;34m]\u001b[0m\u001b[0;34m.\u001b[0m\u001b[0mtolist\u001b[0m\u001b[0;34m(\u001b[0m\u001b[0;34m)\u001b[0m\u001b[0;34m)\u001b[0m\u001b[0;34m\u001b[0m\u001b[0;34m\u001b[0m\u001b[0m\n\u001b[1;32m     17\u001b[0m \u001b[0;34m\u001b[0m\u001b[0m\n\u001b[0;32m---> 18\u001b[0;31m \u001b[0mmse_calc\u001b[0m\u001b[0;34m(\u001b[0m\u001b[0;36m1\u001b[0m\u001b[0;34m,\u001b[0m\u001b[0;36m2\u001b[0m\u001b[0;34m,\u001b[0m\u001b[0mx\u001b[0m\u001b[0;34m,\u001b[0m\u001b[0my\u001b[0m\u001b[0;34m)\u001b[0m\u001b[0;34m\u001b[0m\u001b[0;34m\u001b[0m\u001b[0m\n\u001b[0m",
            "\u001b[0;31mNameError\u001b[0m: name 'x' is not defined"
          ]
        }
      ]
    },
    {
      "cell_type": "code",
      "metadata": {
        "id": "lXC4-Xdn_2JU",
        "colab_type": "code",
        "colab": {}
      },
      "source": [
        "#hide\n",
        "import numpy as np\n",
        "\n",
        "iterations = 60\n",
        "def gradient_descent(x,y):\n",
        "    theta_1 = theta_0 = 0\n",
        "    n = len(x)\n",
        "    print (\"s length {}\".format(n))\n",
        "    learning_rate = 0.01\n",
        "\n",
        "    m = []\n",
        "    cost_list = []\n",
        "\n",
        "    for i in range(iterations):\n",
        "        y_predicted = theta_1 * x + theta_0\n",
        "        cost = (1/n) * sum([val**2 for val in (y-y_predicted)])\n",
        "        cost_list.append(cost)\n",
        "        md = -(2/n)*sum(x*(y-y_predicted))\n",
        "        bd = -(2/n)*sum(y-y_predicted)\n",
        "        theta_1 = theta_1 - learning_rate * md\n",
        "        theta_0 = theta_0 - learning_rate * bd\n",
        "        #print (\"m {}, b {}, cost {} iteration {}\".format(theta_1,theta_0,cost, i))\n",
        "    return md, bd, cost, cost_list\n",
        "        \n",
        "\n",
        "x = np.array(df[\"sq_ft\"].tolist())\n",
        "y = np.array(df[\"price\"].tolist())\n",
        "\n",
        "m_current, b_current, cost, cost_list = gradient_descent(x,y)\n",
        "plt.plot(list(range(iterations)), cost_list, '-r') "
      ],
      "execution_count": 0,
      "outputs": []
    }
  ]
}