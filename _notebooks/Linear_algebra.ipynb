{
  "nbformat": 4,
  "nbformat_minor": 0,
  "metadata": {
    "colab": {
      "name": "Linear_algebra.ipynb",
      "provenance": [],
      "collapsed_sections": [
        "D0y2HJDM3nRL"
      ],
      "authorship_tag": "ABX9TyOs8in87FM+QdhFryrQa8Ei"
    },
    "kernelspec": {
      "name": "python3",
      "display_name": "Python 3"
    }
  },
  "cells": [
    {
      "cell_type": "markdown",
      "metadata": {
        "id": "D0y2HJDM3nRL",
        "colab_type": "text"
      },
      "source": [
        "# \"Linear Algebra for Machine Learning\"\n",
        "> \"Linear algebra for machine learning using numpy and python\"\n",
        "\n",
        "- toc:true\n",
        "- branch: master\n",
        "- badges: true\n",
        "- comments: true\n",
        "- categories: [machine learning]\n",
        "- tags: [jupyter, notebook, colab, linear algebra, math]"
      ]
    },
    {
      "cell_type": "code",
      "metadata": {
        "id": "LOMOnL1_ZOOb",
        "colab_type": "code",
        "colab": {}
      },
      "source": [
        "#hide\n",
        "import numpy\n",
        "from numpy.linalg import inv, eig\n",
        "from math import ceil\n",
        "from matplotlib import pyplot, ticker, get_backend, rc\n",
        "from mpl_toolkits.mplot3d import Axes3D\n",
        "from itertools import cycle\n",
        "\n",
        "# interactive backends\n",
        "_int_backends = ['GTK3Agg', 'GTK3Cairo', 'MacOSX', 'nbAgg',\n",
        "                 'Qt4Agg', 'Qt4Cairo', 'Qt5Agg', 'Qt5Cairo',\n",
        "                 'TkAgg', 'TkCairo', 'WebAgg', 'WX', 'WXAgg', 'WXCairo']\n",
        "_backend = get_backend()   # get current backend name\n",
        "\n",
        "# shrink figsize and fontsize when using %matplotlib notebook\n",
        "if _backend in _int_backends:\n",
        "    fontsize = 4\n",
        "    fig_scale = 0.75\n",
        "else:\n",
        "    fontsize = 5\n",
        "    fig_scale = 1\n",
        "\n",
        "grey = '#808080'\n",
        "gold = '#cab18c'   # x-axis grid\n",
        "lightblue = '#0096d6'  # y-axis grid\n",
        "green = '#008367'  # x-axis basis vector\n",
        "red = '#E31937'    # y-axis basis vector\n",
        "darkblue = '#004065'\n",
        "\n",
        "pink, yellow, orange, purple, brown = '#ef7b9d', '#fbd349', '#ffa500', '#a35cff', '#731d1d'\n",
        "\n",
        "quiver_params = {'angles': 'xy',\n",
        "                 'scale_units': 'xy',\n",
        "                 'scale': 1,\n",
        "                 'width': 0.012}\n",
        "\n",
        "grid_params = {'linewidth': 0.5,\n",
        "               'alpha': 0.8}\n",
        "\n",
        "def set_rc(func):\n",
        "    def wrapper(*args, **kwargs):\n",
        "        rc('font', family='serif', size=fontsize)\n",
        "        rc('figure', dpi=200)\n",
        "        rc('axes', axisbelow=True, titlesize=5)\n",
        "        rc('lines', linewidth=1)\n",
        "        func(*args, **kwargs)\n",
        "    return wrapper\n",
        "\n",
        "@set_rc\n",
        "def plot_vector(vectors, tails=None):\n",
        "    ''' Draw 2d vectors based on the values of the vectors and the position of their tails.\n",
        "    \n",
        "    Parameters\n",
        "    ----------\n",
        "    vectors : list.\n",
        "        List of 2-element array-like structures, each represents a 2d vector.\n",
        "    \n",
        "    tails : list, optional.\n",
        "        List of 2-element array-like structures, each represents the coordinates of the tail\n",
        "        of the corresponding vector in vectors. If None (default), all tails are set at the\n",
        "        origin (0,0). If len(tails) is 1, all tails are set at the same position. Otherwise,\n",
        "        vectors and tails must have the same length.\n",
        "    \n",
        "    Examples\n",
        "    --------\n",
        "    >>> v = [(1, 3), (3, 3), (4, 6)]\n",
        "    >>> plot_vector(v)      # draw 3 vectors with their tails at origin\n",
        "    >>> t = [numpy.array((2, 2))]\n",
        "    >>> plot_vector(v, t)   # draw 3 vectors with their tails at (2,2)\n",
        "    >>> t = [[3, 2], [-1, -2], [3, 5]]\n",
        "    >>> plot_vector(v, t)   # draw 3 vectors with 3 different tails\n",
        "\n",
        "    '''   \n",
        "    vectors = numpy.array(vectors)\n",
        "    assert vectors.shape[1] == 2, \"Each vector should have 2 elements.\"  \n",
        "    if tails is not None:\n",
        "        tails = numpy.array(tails)\n",
        "        assert tails.shape[1] == 2, \"Each tail should have 2 elements.\"\n",
        "    else:\n",
        "        tails = numpy.zeros_like(vectors)\n",
        "    \n",
        "    # tile vectors or tails array if needed\n",
        "    nvectors = vectors.shape[0]\n",
        "    ntails = tails.shape[0]\n",
        "    if nvectors == 1 and ntails > 1:\n",
        "        vectors = numpy.tile(vectors, (ntails, 1))\n",
        "    elif ntails == 1 and nvectors > 1:\n",
        "        tails = numpy.tile(tails, (nvectors, 1))\n",
        "    else:\n",
        "        assert tails.shape == vectors.shape, \"vectors and tail must have a same shape\"\n",
        "\n",
        "    # calculate xlimit & ylimit\n",
        "    heads = tails + vectors\n",
        "    limit = numpy.max(numpy.abs(numpy.hstack((tails, heads))))\n",
        "    limit = numpy.ceil(limit * 1.2)   # add some margins\n",
        "    \n",
        "    figsize = numpy.array([2,2]) * fig_scale\n",
        "    figure, axis = pyplot.subplots(figsize=figsize)\n",
        "    axis.quiver(tails[:,0], tails[:,1], vectors[:,0], vectors[:,1], color=darkblue, \n",
        "                  angles='xy', scale_units='xy', scale=1)\n",
        "    axis.set_xlim([-limit, limit])\n",
        "    axis.set_ylim([-limit, limit])\n",
        "    axis.set_aspect('equal')\n",
        "\n",
        "    # if xticks and yticks of grid do not match, choose the finer one\n",
        "    xticks = axis.get_xticks()\n",
        "    yticks = axis.get_yticks()\n",
        "    dx = xticks[1] - xticks[0]\n",
        "    dy = yticks[1] - yticks[0]\n",
        "    base = max(int(min(dx, dy)), 1)   # grid interval is always an integer\n",
        "    loc = ticker.MultipleLocator(base=base)\n",
        "    axis.xaxis.set_major_locator(loc)\n",
        "    axis.yaxis.set_major_locator(loc)\n",
        "    axis.grid(True, **grid_params)\n",
        "    \n",
        "    # show x-y axis in the center, hide frames\n",
        "    axis.spines['left'].set_position('center')\n",
        "    axis.spines['bottom'].set_position('center')\n",
        "    axis.spines['right'].set_color('none')\n",
        "    axis.spines['top'].set_color('none')\n",
        "\n",
        "@set_rc\n",
        "def plot_transformation_helper(axis, matrix, *vectors, unit_vector=True, unit_circle=False, title=None):\n",
        "    \"\"\" A helper function to plot the linear transformation defined by a 2x2 matrix.\n",
        "    \n",
        "    Parameters\n",
        "    ----------\n",
        "    axis : class matplotlib.axes.Axes.\n",
        "        The axes to plot on.\n",
        "\n",
        "    matrix : class numpy.ndarray.\n",
        "        The 2x2 matrix to visualize.\n",
        "\n",
        "    *vectors : class numpy.ndarray.\n",
        "        The vector(s) to plot along with the linear transformation. Each array denotes a vector's\n",
        "        coordinates before the transformation and must have a shape of (2,). Accept any number of vectors. \n",
        "    \n",
        "    unit_vector : bool, optional.\n",
        "        Whether to plot unit vectors of the standard basis, default to True.\n",
        "    \n",
        "    unit_circle: bool, optional.\n",
        "        Whether to plot unit circle, default to False.\n",
        "    \n",
        "    title: str, optional.\n",
        "        Title of the plot.\n",
        "\n",
        "    \"\"\"\n",
        "    assert matrix.shape == (2,2), \"the input matrix must have a shape of (2,2)\"\n",
        "    grid_range = 20\n",
        "    x = numpy.arange(-grid_range, grid_range+1)\n",
        "    X_, Y_ = numpy.meshgrid(x,x)\n",
        "    I = matrix[:,0]\n",
        "    J = matrix[:,1]\n",
        "    X = I[0]*X_ + J[0]*Y_\n",
        "    Y = I[1]*X_ + J[1]*Y_\n",
        "    origin = numpy.zeros(1)\n",
        "        \n",
        "    # draw grid lines\n",
        "    for i in range(x.size):\n",
        "        axis.plot(X[i,:], Y[i,:], c=gold, **grid_params)\n",
        "        axis.plot(X[:,i], Y[:,i], c=lightblue, **grid_params)\n",
        "    \n",
        "    # draw (transformed) unit vectors\n",
        "    if unit_vector:\n",
        "        axis.quiver(origin, origin, [I[0]], [I[1]], color=green, **quiver_params)\n",
        "        axis.quiver(origin, origin, [J[0]], [J[1]], color=red, **quiver_params)\n",
        "\n",
        "    # draw optional vectors\n",
        "    color_cycle = cycle([pink, darkblue, orange, purple, brown])\n",
        "    if vectors:\n",
        "        for vector in vectors:\n",
        "            color = next(color_cycle)\n",
        "            vector_ = matrix @ vector.reshape(-1,1)\n",
        "            axis.quiver(origin, origin, [vector_[0]], [vector_[1]], color=color, **quiver_params)\n",
        "\n",
        "    # draw optional unit circle\n",
        "    if unit_circle:\n",
        "        alpha =  numpy.linspace(0, 2*numpy.pi, 41)\n",
        "        circle = numpy.vstack((numpy.cos(alpha), numpy.sin(alpha)))\n",
        "        circle_trans = matrix @ circle\n",
        "        axis.plot(circle_trans[0], circle_trans[1], color=red, lw=0.8)\n",
        "\n",
        "    # hide frames, set xlimit & ylimit, set title\n",
        "    limit = 4\n",
        "    axis.spines['left'].set_position('center')\n",
        "    axis.spines['bottom'].set_position('center')\n",
        "    axis.spines['left'].set_linewidth(0.3)\n",
        "    axis.spines['bottom'].set_linewidth(0.3)\n",
        "    axis.spines['right'].set_color('none')\n",
        "    axis.spines['top'].set_color('none')\n",
        "    axis.set_xlim([-limit, limit])\n",
        "    axis.set_ylim([-limit, limit])\n",
        "    if title is not None:\n",
        "        axis.set_title(title)\n",
        "\n",
        "@set_rc\n",
        "def plot_linear_transformation(matrix, *vectors, unit_vector=True, unit_circle=False):\n",
        "    \"\"\" Plot the linear transformation defined by a 2x2 matrix using the helper\n",
        "    function plot_transformation_helper(). It will create 2 subplots to visualize some\n",
        "    vectors before and after the transformation.\n",
        "    \n",
        "    Parameters\n",
        "    ----------\n",
        "    matrix : class numpy.ndarray.\n",
        "        The 2x2 matrix to visualize.\n",
        "\n",
        "    *vectors : class numpy.ndarray.\n",
        "        The vector(s) to plot along with the linear transformation. Each array denotes a vector's\n",
        "        coordinates before the transformation and must have a shape of (2,). Accept any number of vectors.\n",
        "    \n",
        "    unit_vector : bool, optional.\n",
        "        Whether to plot unit vectors of the standard basis, default to True.\n",
        "    \n",
        "    unit_circle: bool, optional.\n",
        "        Whether to plot unit circle, default to False.\n",
        "    \n",
        "    \"\"\"\n",
        "    figsize = numpy.array([4,2]) * fig_scale\n",
        "    figure, (axis1, axis2) = pyplot.subplots(1, 2, figsize=figsize)\n",
        "    plot_transformation_helper(axis1, numpy.identity(2), *vectors, unit_vector=unit_vector, unit_circle=unit_circle, title='Before transformation')\n",
        "    plot_transformation_helper(axis2, matrix, *vectors, unit_vector=unit_vector, unit_circle=unit_circle, title='After transformation')\n",
        "\n",
        "@set_rc\n",
        "def plot_linear_transformations(*matrices, unit_vector=True, unit_circle=False):\n",
        "    \"\"\" Plot the linear transformation defined by a sequence of n 2x2 matrices using the helper\n",
        "    function plot_transformation_helper(). It will create n+1 subplots to visualize some\n",
        "    vectors before and after each transformation.\n",
        "\n",
        "    Parameters\n",
        "    ----------\n",
        "    *matrices : class numpy.ndarray.\n",
        "        The 2x2 matrices to visualize. Accept any number of matrices.\n",
        "    \n",
        "    unit_vector : bool, optional.\n",
        "        Whether to plot unit vectors of the standard basis, default to True.\n",
        "    \n",
        "    unit_circle: bool, optional.\n",
        "        Whether to plot unit circle, default to False.\n",
        "      \n",
        "    \"\"\"\n",
        "    nplots = len(matrices) + 1\n",
        "    nx = 2\n",
        "    ny = ceil(nplots/nx)\n",
        "    figsize = numpy.array([2*nx, 2*ny]) * fig_scale\n",
        "    figure, axes = pyplot.subplots(nx, ny, figsize=figsize)\n",
        "\n",
        "    for i in range(nplots):  # fig_idx \n",
        "        if i == 0:\n",
        "            matrix_trans = numpy.identity(2)\n",
        "            title = 'Before transformation'\n",
        "        else:\n",
        "            matrix_trans = matrices[i-1] @ matrix_trans\n",
        "            if i == 1:\n",
        "                title = 'After {} transformation'.format(i)\n",
        "            else:\n",
        "                title = 'After {} transformations'.format(i)\n",
        "        plot_transformation_helper(axes[i//nx, i%nx], matrix_trans, unit_vector=unit_vector, unit_circle=unit_circle, title=title)\n",
        "    # hide axes of the extra subplot (only when nplots is an odd number)\n",
        "    if nx*ny > nplots:\n",
        "        axes[-1,-1].axis('off')\n",
        "        \n",
        "@set_rc\n",
        "def plot_3d_transformation_helper(axis, matrix, grid=True, unit_sphere=False, title=None):\n",
        "    \"\"\" A helper function to plot the linear transformation defined by a 3x3 matrix.\n",
        "    \n",
        "    Parameters\n",
        "    ----------\n",
        "    axis : class matplotlib.axes.Axes.\n",
        "        The axes to plot on.\n",
        "\n",
        "    matrix : class numpy.ndarray.\n",
        "        The 3x3 matrix to visualize.\n",
        "\n",
        "    grid : bool, optional.\n",
        "        Whether to plot 3d grid lines, default to True.\n",
        "    \n",
        "    unit_sphere : bool, optional.\n",
        "        Whether to plot unit sphere, default to False.\n",
        "    \n",
        "    title : str, optional.\n",
        "        Title of the plot.\n",
        "\n",
        "    \"\"\"\n",
        "    assert matrix.shape == (3,3), \"the input matrix must have a shape of (3,3)\"\n",
        "    xcolor, ycolor, zcolor = '#0084b6', '#d8a322', '#FF3333'\n",
        "    linewidth = 0.7\n",
        "    if grid:\n",
        "        grid_range = 2\n",
        "        x = numpy.arange(-grid_range, grid_range+1)\n",
        "        X, Y, Z = numpy.meshgrid(x,x,x)\n",
        "        X_new = matrix[0,0]*X + matrix[0,1]*Y + matrix[0,2]*Z\n",
        "        Y_new = matrix[1,0]*X + matrix[1,1]*Y + matrix[1,2]*Z\n",
        "        Z_new = matrix[2,0]*X + matrix[2,1]*Y + matrix[2,2]*Z\n",
        "        for i in range(x.size):\n",
        "            for j in range(x.size):\n",
        "                axis.plot(X_new[:,i,j], Y_new[:,i,j], Z_new[:,i,j], color=xcolor, linewidth=linewidth)\n",
        "                axis.plot(X_new[i,:,j], Y_new[i,:,j], Z_new[i,:,j], color=ycolor, linewidth=linewidth)\n",
        "                axis.plot(X_new[i,j,:], Y_new[i,j,:], Z_new[i,j,:], color=zcolor, linewidth=linewidth)\n",
        "    \n",
        "    if unit_sphere:\n",
        "        u = numpy.linspace(0, 2 * numpy.pi, 100)\n",
        "        v = numpy.linspace(0, numpy.pi, 100)\n",
        "        X = 1 * numpy.outer(numpy.cos(u), numpy.sin(v))\n",
        "        Y = 1 * numpy.outer(numpy.sin(u), numpy.sin(v))\n",
        "        Z = 1 * numpy.outer(numpy.ones(numpy.size(u)), numpy.cos(v))\n",
        "        X_new = matrix[0,0]*X + matrix[0,1]*Y + matrix[0,2]*Z\n",
        "        Y_new = matrix[1,0]*X + matrix[1,1]*Y + matrix[1,2]*Z\n",
        "        Z_new = matrix[2,0]*X + matrix[2,1]*Y + matrix[2,2]*Z\n",
        "        axis.plot_surface(X_new, Y_new, Z_new, rstride=4, cstride=4, linewidth=0, cmap='ocean', alpha=0.6)\n",
        "\n",
        "    if title is not None:\n",
        "        axis.set_title(title)\n",
        "    \n",
        "    limit = 0\n",
        "    if grid or unit_sphere:\n",
        "        for array in (X_new, Y_new, Z_new):\n",
        "            limit_ = numpy.max(numpy.abs(array))\n",
        "            limit = max(limit, limit_)\n",
        "    else:\n",
        "        limit = 1\n",
        "    axis.set_xlim(-limit, limit)\n",
        "    axis.set_ylim(-limit, limit)\n",
        "    axis.set_zlim(-limit, limit)\n",
        "    # adjust the whitespace between ticks and axes to get a tighter plot\n",
        "    for axis_str in ['x', 'y', 'z']:\n",
        "        axis.tick_params(axis=axis_str, pad=-3)\n",
        "\n",
        "@set_rc\n",
        "def plot_3d_linear_transformation(matrix, grid=True, unit_sphere=False):\n",
        "    \"\"\" Plot the linear transformation defined by a 3x3 matrix using the helper\n",
        "    function plot_3d_transformation_helper(). It will create 2 subplots to visualize some\n",
        "    vectors before and after the transformation.\n",
        "    \n",
        "    Parameters\n",
        "    ----------\n",
        "    matrix : class numpy.ndarray.\n",
        "        The 3x3 matrix to visualize.\n",
        "\n",
        "    grid : bool, optional.\n",
        "        Whether to plot 3d grid lines, default to True.\n",
        "    \n",
        "    unit_sphere : bool, optional.\n",
        "        Whether to plot unit sphere, default to False.\n",
        "\n",
        "    \"\"\"\n",
        "    \n",
        "    figsize = numpy.array([4,2]) * fig_scale\n",
        "    figure = pyplot.figure(figsize=figsize)\n",
        "    axis1 = figure.add_subplot(1, 2, 1, projection='3d')\n",
        "    axis2 = figure.add_subplot(1, 2, 2, projection='3d')\n",
        "    plot_3d_transformation_helper(axis1, numpy.identity(3), grid=grid, unit_sphere=unit_sphere, title='before transformation')\n",
        "    plot_3d_transformation_helper(axis2, matrix, grid=grid, unit_sphere=unit_sphere, title='after transformation')\n",
        "\n",
        "@set_rc\n",
        "def plot_3d_linear_transformations(*matrices, grid=False, unit_sphere=False):\n",
        "    \"\"\" Plot the linear transformation defined by a sequence of n 3x3 matrices using the helper\n",
        "    function plot_3d_transformation_helper(). It will create n+1 subplots to visualize some\n",
        "    vectors before and after each transformation.\n",
        "    \n",
        "    Parameters\n",
        "    ----------\n",
        "    *matrices : class numpy.ndarray.\n",
        "        The 3x3 matrices to visualize. Accept any number of matrices. \n",
        "\n",
        "    grid : bool, optional.\n",
        "        Whether to plot 3d grid lines, default to False.\n",
        "    \n",
        "    unit_sphere : bool, optional.\n",
        "        Whether to plot unit sphere, default to False.\n",
        "\n",
        "    \"\"\"\n",
        "    nplots = len(matrices) + 1\n",
        "    nx = 2                 # number of figures per row\n",
        "    ny = ceil(nplots/nx)   # number of figures per column\n",
        "    figsize = numpy.array([2*nx, 2*ny]) * fig_scale\n",
        "    figure = pyplot.figure(figsize=figsize)\n",
        "\n",
        "    for i in range(nplots):  # fig_idx\n",
        "        axis = figure.add_subplot(ny, nx, i+1, projection='3d')\n",
        "        if i == 0:\n",
        "            matrix_trans = numpy.identity(3)\n",
        "            title = 'Before transformation'\n",
        "        else:\n",
        "            matrix_trans = matrices[i-1] @ matrix_trans\n",
        "            if i == 1:\n",
        "                title = 'After {} transformation'.format(i)\n",
        "            else:\n",
        "                title = 'After {} transformations'.format(i)\n",
        "        plot_3d_transformation_helper(axis, matrix_trans, grid=grid, unit_sphere=unit_sphere, title=title)\n",
        "\n",
        "@set_rc\n",
        "def plot_basis_helper(axis, I, J, *vectors, title=None, I_label='i', J_label='j'):\n",
        "    \"\"\" A helper function to plot the 2D coordinate system determined by the basis I,J.\n",
        "    \n",
        "    Parameters\n",
        "    ----------\n",
        "    axis : class matplotlib.axes.Axes.\n",
        "        The axes to plot on.\n",
        "\n",
        "    I, J: class numpy.ndarray.\n",
        "        The coordinates of the basis vector in the standard basis.\n",
        "\n",
        "    *vectors : class numpy.ndarray.\n",
        "        The vector(s) to plot along with the change of basis. Each array denotes a vector's\n",
        "        coordinates in I-J coordinate system (not in the standard basis). Each vector must have\n",
        "        a shape of (2,). Accept any number of vectors.\n",
        "    \n",
        "    I_label, J_label : str, optional.\n",
        "        Label of the new basis, default to 'i' and 'j'.\n",
        "    \n",
        "    title: str, optional.\n",
        "        Title of the plot.\n",
        "\n",
        "    \"\"\"\n",
        "    grid_range = 20\n",
        "    x = numpy.arange(-grid_range, grid_range+1)\n",
        "    X_, Y_ = numpy.meshgrid(x,x)   # grid coordinates on the new basis\n",
        "    X = I[0]*X_ + J[0]*Y_   # grid coordinates on the standard basis\n",
        "    Y = I[1]*X_ + J[1]*Y_\n",
        "    \n",
        "    # draw origin\n",
        "    origin = numpy.zeros(1)\n",
        "    axis.scatter(origin, origin, c='black', s=3)\n",
        "\n",
        "    # draw grid lines of the new coordinate system\n",
        "    lw_grid = 0.4\n",
        "    for i in range(x.size):\n",
        "        axis.plot(X[i,:], Y[i,:], c=grey, lw=lw_grid)\n",
        "        axis.plot(X[:,i], Y[:,i], c=grey, lw=lw_grid)\n",
        "    \n",
        "    # highlight new axes (spines)\n",
        "    lw_spine = 0.7\n",
        "    zero_id = numpy.where(x==0)[0][0]\n",
        "    axis.plot(X[zero_id,:], Y[zero_id,:], c=gold, lw=lw_spine)\n",
        "    axis.plot(X[:,zero_id], Y[:,zero_id], c=lightblue, lw=lw_spine)\n",
        "\n",
        "    # draw basis vectors using quiver plot\n",
        "    axis.quiver(origin, origin, [I[0]], [I[1]], color=gold, **quiver_params)\n",
        "    axis.quiver(origin, origin, [J[0]], [J[1]], color=lightblue, **quiver_params)\n",
        "\n",
        "    # draw input vector on new coordinate system\n",
        "    bound = 5\n",
        "    if vectors:\n",
        "        for vector in vectors:\n",
        "            M = numpy.transpose(numpy.vstack((I,J)))\n",
        "            vector = M @ vector.reshape(-1,1)\n",
        "            axis.quiver(origin, origin, [vector[0]], [vector[1]], color=red, **quiver_params)\n",
        "            bound = max(ceil(numpy.max(numpy.abs(vector))), bound)\n",
        "    \n",
        "    # hide frames, set xlimit & ylimit, set title\n",
        "    axis.set_xlim([-bound, bound])\n",
        "    axis.set_ylim([-bound, bound])\n",
        "    axis.axis('off')\n",
        "    if title is not None:\n",
        "        axis.set_title(title)\n",
        "\n",
        "    # add text next to new basis vectors\n",
        "    text_params = {'ha': 'center', 'va': 'center', 'size' : 6}\n",
        "    axis.text((I[0]-J[0])/2*1.1, (I[1]-J[1])/2*1.1, r'${}$'.format(I_label), color=gold, **text_params)\n",
        "    axis.text((J[0]-I[0])/2*1.1, (J[1]-I[1])/2*1.1, r'${}$'.format(J_label), color=lightblue, **text_params)\n",
        "\n",
        "@set_rc\n",
        "def plot_basis(I, J, *vectors):\n",
        "    \"\"\" Plot 2d vectors on the coordinates system defined by basis I and J using the helper funtion\n",
        "    plot_basis_helper().\n",
        "    \n",
        "    Parameters\n",
        "    ----------\n",
        "    I, J: class numpy.ndarray.\n",
        "        The coordinates of the basis vector in the standard basis.\n",
        "\n",
        "    *vectors : class numpy.ndarray.\n",
        "        The vector(s) to plot along with the change of basis. Each array denotes a vector's\n",
        "        coordinates in I-J coordinate system (not in the standard basis). Each vector must have\n",
        "        a shape of (2,). Accept any number of vectors.\n",
        "\n",
        "    \"\"\"\n",
        "    figsize = numpy.array([2,2]) * fig_scale\n",
        "    figure, axis = pyplot.subplots(figsize=figsize)\n",
        "    plot_basis_helper(axis, I, J, *vectors)\n",
        "\n",
        "@set_rc\n",
        "def plot_change_basis(I, J, *vectors):\n",
        "    \"\"\" Create a side-by-side plot of some vectors both on the standard basis and on the new basis\n",
        "    defined by I and J, using the helper function plot_basis_helper().\n",
        "    \n",
        "    Parameters\n",
        "    ----------\n",
        "    I, J: class numpy.ndarray.\n",
        "        The coordinates of the basis vector in the standard basis.\n",
        "\n",
        "    *vectors : class numpy.ndarray.\n",
        "        The vector(s) to plot along with the change of basis. Each array denotes a vector's\n",
        "        coordinates in I-J coordinate system (not in the standard basis). Each vector must have\n",
        "        a shape of (2,). Accept any number of vectors.\n",
        "\n",
        "    \"\"\"\n",
        "    figsize = numpy.array([4,2]) * fig_scale\n",
        "    figure, (axis1, axis2) = pyplot.subplots(1, 2, figsize=figsize)\n",
        "    M = numpy.transpose(numpy.vstack((I,J)))\n",
        "    M_inv = inv(M)\n",
        "    vectors_ = [ M_inv @ vector.reshape(-1, 1) for vector in vectors ]\n",
        "    plot_basis_helper(axis1, numpy.array([1,0]), numpy.array([0,1]), *vectors, title='standard basis')\n",
        "    plot_basis_helper(axis2, I, J, *vectors_, title='new basis', I_label='a', J_label='b')\n",
        "\n",
        "@set_rc\n",
        "def plot_eigen(matrix):\n",
        "    \"\"\" Visualize the eigendecomposition of a 2x2 matrix as a combination of changing basis \n",
        "    and scaling transformation, using the helper function plot_basis_helper().\n",
        "\n",
        "    Parameters\n",
        "    ----------\n",
        "    matrix : class numpy.ndarray.\n",
        "        The 2x2 matrix to visualize.\n",
        "\n",
        "    \"\"\"\n",
        "    figsize = numpy.array([4,4]) * fig_scale\n",
        "    figure, axes = pyplot.subplots(2, 2, figsize=figsize)\n",
        "    \n",
        "    eigenvalues, eigenvectors = eig(matrix)\n",
        "    C = eigenvectors\n",
        "    D = numpy.diag(eigenvalues)\n",
        "    C_inv = inv(C)\n",
        "\n",
        "    alpha =  numpy.linspace(0, 2*numpy.pi, 41)\n",
        "    circle = numpy.vstack((numpy.cos(alpha), numpy.sin(alpha)))\n",
        "\n",
        "    plot_basis_helper(axes[0,0], numpy.array([1,0]), numpy.array([0,1]), title=r'coords in standard basis $\\mathbf{x}$')\n",
        "    plot_basis_helper(axes[0,1], C[:,0], C[:,1], title=r'change to new basis $C^{-1}\\mathbf{x}$', I_label='a', J_label='b')\n",
        "    plot_basis_helper(axes[1,0], C[:,0], C[:,1], title=r'scale along new basis $DC^{-1}\\mathbf{x}$', I_label='a', J_label='b')\n",
        "    plot_basis_helper(axes[1,1], numpy.array([1,0]), numpy.array([0,1]), title=r'change back to standard basis $CDC^{-1}\\mathbf{x}$')\n",
        "\n",
        "    circle_trans = matrix @ circle\n",
        "    for axis in axes[0]:\n",
        "        axis.plot(circle[0], circle[1], color=red, lw=0.8)\n",
        "    for axis in axes[1]:\n",
        "        axis.plot(circle_trans[0], circle_trans[1], color=red, lw=0.8)\n",
        "\n",
        "if __name__ == \"__main__\":\n",
        "    pass"
      ],
      "execution_count": 0,
      "outputs": []
    },
    {
      "cell_type": "code",
      "metadata": {
        "id": "P1MDLV5taO4n",
        "colab_type": "code",
        "colab": {}
      },
      "source": [
        "import numpy\n",
        "%matplotlib inline\n",
        "from matplotlib import pyplot"
      ],
      "execution_count": 0,
      "outputs": []
    },
    {
      "cell_type": "markdown",
      "metadata": {
        "id": "NklPz7x_PPGH",
        "colab_type": "text"
      },
      "source": [
        "# Vector\n",
        " \n",
        "- Vector is a tuple of 1 or more scalars\n",
        "\n",
        "![591FCB0C-6554-4980-804D-4F03BAEA3AD5](https://user-images.githubusercontent.com/8268939/80172860-f764dc80-85a2-11ea-9dec-30f6a430a7c8.jpeg)\n",
        "\n",
        "\n"
      ]
    },
    {
      "cell_type": "code",
      "metadata": {
        "id": "hTFQPWwJUh64",
        "colab_type": "code",
        "outputId": "d4d017de-0a6f-47aa-882e-91db6ad82c93",
        "colab": {
          "base_uri": "https://localhost:8080/",
          "height": 53
        }
      },
      "source": [
        "# create a vector\n",
        "import numpy as np\n",
        "v = np.array([4,4])\n",
        "print(v)\n",
        "v.shape"
      ],
      "execution_count": 7,
      "outputs": [
        {
          "output_type": "stream",
          "text": [
            "[4 4]\n"
          ],
          "name": "stdout"
        },
        {
          "output_type": "execute_result",
          "data": {
            "text/plain": [
              "(2,)"
            ]
          },
          "metadata": {
            "tags": []
          },
          "execution_count": 7
        }
      ]
    },
    {
      "cell_type": "code",
      "metadata": {
        "id": "bNzYxZd4iHFj",
        "colab_type": "code",
        "outputId": "a833c86e-c89d-4d0c-8c9c-68f276c8338c",
        "colab": {
          "base_uri": "https://localhost:8080/",
          "height": 35
        }
      },
      "source": [
        "# calculate magnitude of vector\n",
        "import math\n",
        "v = np.array([4,4])\n",
        "vMag = math.sqrt(v[0]**2 + v[1]**2)\n",
        "print (vMag)"
      ],
      "execution_count": 9,
      "outputs": [
        {
          "output_type": "stream",
          "text": [
            "5.656854249492381\n"
          ],
          "name": "stdout"
        }
      ]
    },
    {
      "cell_type": "code",
      "metadata": {
        "id": "TQO9CDJ_ieb0",
        "colab_type": "code",
        "outputId": "3d9ca290-6131-49be-c63d-c88d815bca55",
        "colab": {
          "base_uri": "https://localhost:8080/",
          "height": 35
        }
      },
      "source": [
        "# calculate direction of vector\n",
        "v = np.array([4,4])\n",
        "print ('direction of vector v: ' + str(np.degrees(np.arctan2(v[1], v[0]))))"
      ],
      "execution_count": 10,
      "outputs": [
        {
          "output_type": "stream",
          "text": [
            "direction of vector v: 45.0\n"
          ],
          "name": "stdout"
        }
      ]
    },
    {
      "cell_type": "code",
      "metadata": {
        "id": "NBSVBQLcbrL2",
        "colab_type": "code",
        "outputId": "70a21957-bde7-49e3-f96c-f20b688327e1",
        "colab": {
          "base_uri": "https://localhost:8080/",
          "height": 395
        }
      },
      "source": [
        "# visualize vector\n",
        "vectors = [(4,4)]\n",
        "tails = [(-3,-2), (-3,1), (0,0), (1,-3)]\n",
        "plot_vector(vectors, tails)\n",
        "pyplot.title(\"The same vector, with its tail at four locations.\");"
      ],
      "execution_count": 11,
      "outputs": [
        {
          "output_type": "display_data",
          "data": {
            "image/png": "[encoded data removed]",
            "text/plain": [
              "<Figure size 400x400 with 1 Axes>"
            ]
          },
          "metadata": {
            "tags": [],
            "needs_background": "light"
          }
        }
      ]
    },
    {
      "cell_type": "markdown",
      "metadata": {
        "id": "Q8zNmMutdLWb",
        "colab_type": "text"
      },
      "source": [
        "## Adding 2 vectors\n",
        "\n",
        "$$\n",
        "   \\mathbf{a} = \\left[ \\begin{array}{c} -2 \\\\ 1  \\end{array} \\right], \\quad  \n",
        "   \\mathbf{b} = \\left[ \\begin{array}{c} 1 \\\\ -3  \\end{array} \\right] \n",
        "$$"
      ]
    },
    {
      "cell_type": "code",
      "metadata": {
        "id": "yvyhHMXYkqtI",
        "colab_type": "code",
        "outputId": "fc34ed03-89ee-44d0-ef2e-78e640496c45",
        "colab": {
          "base_uri": "https://localhost:8080/",
          "height": 1000
        }
      },
      "source": [
        "# vector addition\n",
        "a = numpy.array((-2,1))\n",
        "b = numpy.array((1,-3))\n",
        "origin = numpy.array((0,0))\n",
        "\n",
        "vectors = [a, b]\n",
        "tails   = [origin, origin]\n",
        "plot_vector(vectors, tails)\n",
        "pyplot.title(\"Initial 2 vecotrs with co-ordinates $(-2,1)$ and $(1,-3)$\")\n",
        "plot_vector(vectors, [origin, a])\n",
        "pyplot.title(\"2nd vector $(1,-3)$ moved to tip of 1st vector $(-2,1)$\")\n",
        "plot_vector([a,b,a+b], [origin, a, origin])\n",
        "pyplot.title(\"Adding vectors with coordinates $(-2, 1)$ and $(1,-3)$.\\n\");"
      ],
      "execution_count": 15,
      "outputs": [
        {
          "output_type": "display_data",
          "data": {
            "image/png": "[encoded data removed]",
            "text/plain": [
              "<Figure size 400x400 with 1 Axes>"
            ]
          },
          "metadata": {
            "tags": [],
            "needs_background": "light"
          }
        },
        {
          "output_type": "display_data",
          "data": {
            "image/png": "[encoded data removed]",
            "text/plain": [
              "<Figure size 400x400 with 1 Axes>"
            ]
          },
          "metadata": {
            "tags": [],
            "needs_background": "light"
          }
        },
        {
          "output_type": "display_data",
          "data": {
            "image/png": "[encoded data removed]",
            "text/plain": [
              "<Figure size 400x400 with 1 Axes>"
            ]
          },
          "metadata": {
            "tags": [],
            "needs_background": "light"
          }
        }
      ]
    },
    {
      "cell_type": "code",
      "metadata": {
        "id": "f99FVOXY0yXD",
        "colab_type": "code",
        "colab": {
          "base_uri": "https://localhost:8080/",
          "height": 71
        },
        "outputId": "b0607bd3-e3e1-40b4-cf8a-9e6a732b1c86"
      },
      "source": [
        "# multiply vectors\n",
        "from numpy import array\n",
        "a = array([4, 2, 3])\n",
        "print(a)\n",
        "b = array([5, 2, 3])\n",
        "print(b)\n",
        "c=a*b \n",
        "print(\"multiply vectors: {}\".format(c))"
      ],
      "execution_count": 19,
      "outputs": [
        {
          "output_type": "stream",
          "text": [
            "[4 2 3]\n",
            "[5 2 3]\n",
            "multiply vectors: [20  4  9]\n"
          ],
          "name": "stdout"
        }
      ]
    },
    {
      "cell_type": "markdown",
      "metadata": {
        "id": "KAbfuTv_1JLK",
        "colab_type": "text"
      },
      "source": [
        "### Matrix\n",
        "2D array of scalars with one or more columns and one or more rows\n",
        "\n",
        "$\\begin{pmatrix}\n",
        "  a & b\\\\ \n",
        "  c & d\n",
        "\\end{pmatrix}$ \n",
        "\n",
        "\n",
        "#### Types of matrices \n",
        "\n",
        "![C6510E85-F99C-4276-BE8B-FC343B5C7BB0_1_201_a](https://user-images.githubusercontent.com/8268939/79810713-7f8b7d80-8328-11ea-9423-06caea774183.jpeg)\n"
      ]
    },
    {
      "cell_type": "markdown",
      "metadata": {
        "id": "C35Tx7Ar1wjX",
        "colab_type": "text"
      },
      "source": [
        "### Creating a matrix"
      ]
    },
    {
      "cell_type": "code",
      "metadata": {
        "id": "D--4_7tB1y0D",
        "colab_type": "code",
        "outputId": "b0f9adb1-aad6-4b35-db0f-72c267c3412f",
        "colab": {
          "base_uri": "https://localhost:8080/",
          "height": 53
        }
      },
      "source": [
        "# create matrix\n",
        "from numpy import array\n",
        "A = array([[1, 0], [-3, 4]])\n",
        "print(A)"
      ],
      "execution_count": 20,
      "outputs": [
        {
          "output_type": "stream",
          "text": [
            "[[ 1  0]\n",
            " [-3  4]]\n"
          ],
          "name": "stdout"
        }
      ]
    },
    {
      "cell_type": "markdown",
      "metadata": {
        "id": "hDjZytZC2BFQ",
        "colab_type": "text"
      },
      "source": [
        "### Matrix Addition"
      ]
    },
    {
      "cell_type": "code",
      "metadata": {
        "id": "lFyacPkH2Dde",
        "colab_type": "code",
        "colab": {
          "base_uri": "https://localhost:8080/",
          "height": 143
        },
        "outputId": "c7b16b6c-9604-4827-8c72-225a2b9fc68b"
      },
      "source": [
        "# adding 2 matrices\"\n",
        "from numpy import array\n",
        "matrix1 = array([[1, 2, 3], [4, 5, 6]])\n",
        "print(matrix1)\n",
        "\n",
        "matrix2 = array([[1, 2, 3], [4, 5, 6]])\n",
        "print(matrix2) \n",
        "output = matrix1 + matrix2\n",
        "print(\"adding 2 matrices: \\n {}\".format(output))"
      ],
      "execution_count": 23,
      "outputs": [
        {
          "output_type": "stream",
          "text": [
            "[[1 2 3]\n",
            " [4 5 6]]\n",
            "[[1 2 3]\n",
            " [4 5 6]]\n",
            "adding 2 matrices: \n",
            " [[ 2  4  6]\n",
            " [ 8 10 12]]\n"
          ],
          "name": "stdout"
        }
      ]
    },
    {
      "cell_type": "code",
      "metadata": {
        "id": "KW0DmicE-WFc",
        "colab_type": "code",
        "colab": {
          "base_uri": "https://localhost:8080/",
          "height": 143
        },
        "outputId": "3525a8ed-18ca-4a1d-b27a-6eb3572adc2c"
      },
      "source": [
        "# Transpose of matrix\n",
        "\n",
        "from numpy import array\n",
        "# define square symmetric 3x3  matrix\n",
        "A = array([\n",
        "    [1, 2, 3],\n",
        "    [2, 1, 2],\n",
        "    [3, 2, 1]\n",
        "])\n",
        "print(A)\n",
        "\n",
        "# transpose A\n",
        "ATranspose = A.T\n",
        "print(\"transpose of matrix: \\n {}\".format(ATranspose))"
      ],
      "execution_count": 25,
      "outputs": [
        {
          "output_type": "stream",
          "text": [
            "[[1 2 3]\n",
            " [2 1 2]\n",
            " [3 2 1]]\n",
            "transpose of matrix: \n",
            " [[1 2 3]\n",
            " [2 1 2]\n",
            " [3 2 1]]\n"
          ],
          "name": "stdout"
        }
      ]
    },
    {
      "cell_type": "markdown",
      "metadata": {
        "id": "yXufv8AQ20M0",
        "colab_type": "text"
      },
      "source": [
        "### Dot product"
      ]
    },
    {
      "cell_type": "code",
      "metadata": {
        "id": "1UfxhTg924eh",
        "colab_type": "code",
        "colab": {
          "base_uri": "https://localhost:8080/",
          "height": 179
        },
        "outputId": "dca689af-0814-4f77-adf9-d45c20c0dcfc"
      },
      "source": [
        "# matrix dot product\n",
        "from numpy import array\n",
        "matrix1 = array([[1, 2], [3, 4], [5, 6]]) \n",
        "print(matrix1)\n",
        "matrix2 = array([[1, 2], [3, 4]]) \n",
        "print(matrix2)\n",
        "output = matrix1.dot(matrix2)\n",
        "print(\"dot product result: \\n {}\".format(output))"
      ],
      "execution_count": 27,
      "outputs": [
        {
          "output_type": "stream",
          "text": [
            "[[1 2]\n",
            " [3 4]\n",
            " [5 6]]\n",
            "[[1 2]\n",
            " [3 4]]\n",
            "dot product result: \n",
            " [[ 7 10]\n",
            " [15 22]\n",
            " [23 34]]\n"
          ],
          "name": "stdout"
        }
      ]
    },
    {
      "cell_type": "markdown",
      "metadata": {
        "id": "ICcT84YrPXt_",
        "colab_type": "text"
      },
      "source": [
        "# Eigen Values and Eigen Vectors"
      ]
    },
    {
      "cell_type": "markdown",
      "metadata": {
        "id": "dkr8ey7wPcOa",
        "colab_type": "text"
      },
      "source": [
        "# Principle Component Analysis (PCA)"
      ]
    },
    {
      "cell_type": "markdown",
      "metadata": {
        "id": "dAaN2wCTPhtx",
        "colab_type": "text"
      },
      "source": [
        "# Singular Value Decomposition"
      ]
    }
  ]
}