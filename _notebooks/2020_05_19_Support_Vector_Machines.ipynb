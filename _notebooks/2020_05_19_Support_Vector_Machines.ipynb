{
  "nbformat": 4,
  "nbformat_minor": 0,
  "metadata": {
    "colab": {
      "name": "2020-05-19-Support Vector Machines.ipynb",
      "provenance": [],
      "collapsed_sections": [],
      "authorship_tag": "ABX9TyM0qN18KwQn+U7XYg67ks06"
    },
    "kernelspec": {
      "name": "python3",
      "display_name": "Python 3"
    }
  },
  "cells": [
    {
      "cell_type": "markdown",
      "metadata": {
        "id": "T1ixgfI6YjKu",
        "colab_type": "text"
      },
      "source": [
        "# \"Support Vector Machines\"\n",
        "> \"SVM\"\n",
        "\n",
        "- toc: true\n",
        "- badges: true\n",
        "- comments: true\n",
        "- categories: [machine learning]\n",
        "- hide: false\n",
        "- search_exclude: true"
      ]
    },
    {
      "cell_type": "markdown",
      "metadata": {
        "id": "4pVdemBXIr7e",
        "colab_type": "text"
      },
      "source": [
        "SVM aims to make the margings as large as possible between closest data points of those classes. \n",
        "\n",
        "![image](https://user-images.githubusercontent.com/8268939/82343745-13904980-99a8-11ea-8a4f-39583fe81eef.png)\n",
        "\n",
        "we can apply it for Linear as well as Non Linear. For Non Linear data we will use kerner spec.\n",
        "\n",
        "# Usecases\n",
        "\n",
        "- regression\n",
        "- classification\n",
        "\n",
        "# Linear Classifier\n",
        "\n",
        "![image](https://user-images.githubusercontent.com/8268939/82403216-28ee8d80-9a13-11ea-8780-6c31a0babf70.png)\n",
        "\n",
        "# Support Vector Machines \n",
        "\n",
        "![image](https://user-images.githubusercontent.com/8268939/82405620-4888b480-9a19-11ea-8325-e0646ea060a3.png)\n",
        "\n",
        "\n",
        "\n",
        "\n"
      ]
    },
    {
      "cell_type": "code",
      "metadata": {
        "id": "wuyisUw_KGhs",
        "colab_type": "code",
        "colab": {}
      },
      "source": [
        "# import data\n",
        "\n",
        "import numpy as np\n",
        "from matplotlib import pyplot as plt\n",
        "\n"
      ],
      "execution_count": 0,
      "outputs": []
    }
  ]
}