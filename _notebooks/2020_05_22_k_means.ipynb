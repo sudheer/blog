{
  "nbformat": 4,
  "nbformat_minor": 0,
  "metadata": {
    "colab": {
      "name": "2020-05-22-k-means.ipynb",
      "provenance": [],
      "collapsed_sections": [],
      "authorship_tag": "ABX9TyO5PIHHlN+s4/pYvAXXO9QI"
    },
    "kernelspec": {
      "name": "python3",
      "display_name": "Python 3"
    }
  },
  "cells": [
    {
      "cell_type": "markdown",
      "metadata": {
        "id": "z8E-21YVDF9G",
        "colab_type": "text"
      },
      "source": [
        "# \"K means clustering\"\n",
        "> \"k means clustering algorithm\"\n",
        "\n",
        "- toc: true\n",
        "- branch: master\n",
        "- badges: true\n",
        "- comments: true\n",
        "- categories: [machine learning]\n",
        "- search_exclude: true\n"
      ]
    },
    {
      "cell_type": "markdown",
      "metadata": {
        "id": "IEcabN7rHElr",
        "colab_type": "text"
      },
      "source": [
        "Clustering is the process of dividing the entire data into groups.\n",
        "\n",
        "![image](https://user-images.githubusercontent.com/8268939/82712197-59fdd680-9c3c-11ea-8536-7f0251b7161c.png)\n",
        "\n",
        "# How k means work\n",
        "\n",
        "[![](https://mermaid.ink/img/eyJjb2RlIjoiZ3JhcGggVERcblx0QVtTdGFydF0gLS0-IEJbL051bWJlciBvZiBjbHVzdGVycywgay9dXG5cdEIgLS0-IENbY2FsY3VsYXRlIGNlbnRyb2lkXVxuXHRDIC0tPiBEW2NhbGN1bGF0ZSBkaXN0YW5jZXMgdG8gY2VudHJvaWRdXG5cdEQgLS0-IEVbZmE6ZmEtb2JqZWN0LWdyb3VwIEdyb3VwIGJhc2VkIG9uIG1pbiBkaXN0YW5jZV1cbiAgICBFIC0tPiBGe0NvbnZlcmdlbmNlID99XG4gICAgRiAtLT4gfFllc3wgRW5kXG4gICAgRiAtLT4gfE5PfCBDXG5cdFx0XHRcdFx0IiwibWVybWFpZCI6eyJ0aGVtZSI6Im5ldXRyYWwifSwidXBkYXRlRWRpdG9yIjpmYWxzZX0)](https://mermaid-js.github.io/mermaid-live-editor/#/edit/eyJjb2RlIjoiZ3JhcGggVERcblx0QVtTdGFydF0gLS0-IEJbL051bWJlciBvZiBjbHVzdGVycywgay9dXG5cdEIgLS0-IENbY2FsY3VsYXRlIGNlbnRyb2lkXVxuXHRDIC0tPiBEW2NhbGN1bGF0ZSBkaXN0YW5jZXMgdG8gY2VudHJvaWRdXG5cdEQgLS0-IEVbZmE6ZmEtb2JqZWN0LWdyb3VwIEdyb3VwIGJhc2VkIG9uIG1pbiBkaXN0YW5jZV1cbiAgICBFIC0tPiBGe0NvbnZlcmdlbmNlID99XG4gICAgRiAtLT4gfFllc3wgRW5kXG4gICAgRiAtLT4gfE5PfCBDXG5cdFx0XHRcdFx0IiwibWVybWFpZCI6eyJ0aGVtZSI6Im5ldXRyYWwifSwidXBkYXRlRWRpdG9yIjpmYWxzZX0)\n",
        "\n",
        "\n",
        "# Error Equation for optmization\n",
        "\n",
        "Assume we have points $X = {x_1, x_2... x_n}$\n",
        "\n",
        "Clusters $S = {s_1, s_2, ... , s_k}$\n",
        "\n",
        "where $\\mu_i$ is mean of centroid $s_i$\n",
        "\n",
        "Optimization criteria WCSS (within cluster sum of squares) is ..\n",
        "\n",
        "$\\sum_{i=1}^{k} \\sum_{x \\in S_{i}}\\left\\|x_{i-\\mu_{i}}\\right\\|^{2}$\n",
        "\n",
        "# Complexity \n",
        "\n",
        "## Time\n",
        "\n",
        "Each Round:  O(kN) for N points, k clusters\n",
        "\n",
        "For i (I) rounds: O(IkN)\n",
        "\n",
        "For M-dimensional vectors: O(IkMN)\n",
        "\n",
        "## Space\n",
        "\n",
        "- To store points and centroids: O((N+K)M)\n"
      ]
    },
    {
      "cell_type": "code",
      "metadata": {
        "id": "EOGd_vYYqjlQ",
        "colab_type": "code",
        "outputId": "891d90cd-7771-4a37-fe15-a87631eadb56",
        "colab": {
          "base_uri": "https://localhost:8080/",
          "height": 282
        }
      },
      "source": [
        "# input dataset\n",
        "import matplotlib.pyplot as plt\n",
        "\n",
        "X = np.array([[1,3],[3.5,4.6],\n",
        "              [4.5,4.5],\n",
        "              [6,7],\n",
        "              [8,9],\n",
        "              [2,1.6],\n",
        "              [9,11]])\n",
        "\n",
        "plt.scatter(X[:,0], X[:,1], s=50)"
      ],
      "execution_count": 91,
      "outputs": [
        {
          "output_type": "execute_result",
          "data": {
            "text/plain": [
              "<matplotlib.collections.PathCollection at 0x7fdc2a798e48>"
            ]
          },
          "metadata": {
            "tags": []
          },
          "execution_count": 91
        },
        {
          "output_type": "display_data",
          "data": {
            "image/png": "[encoded data removed]",
            "text/plain": [
              "<Figure size 432x288 with 1 Axes>"
            ]
          },
          "metadata": {
            "tags": [],
            "needs_background": "light"
          }
        }
      ]
    },
    {
      "cell_type": "code",
      "metadata": {
        "id": "HM0WmSmLHCJN",
        "colab_type": "code",
        "colab": {}
      },
      "source": [
        "# distance formulae\n",
        "import numpy as np\n",
        "import random\n",
        "\n",
        "def euclidean(x1, x2):\n",
        "  return np.sqrt(np.sum((x1-x2)**2))"
      ],
      "execution_count": 0,
      "outputs": []
    },
    {
      "cell_type": "code",
      "metadata": {
        "id": "pY5b_GAJaeyZ",
        "colab_type": "code",
        "outputId": "2871d4bf-e791-4bc2-a074-6142497fbf75",
        "colab": {
          "base_uri": "https://localhost:8080/",
          "height": 68
        }
      },
      "source": [
        "k = 2 # num of clusters\n",
        "m = 1 # max num of iterations\n",
        "\n",
        "\n",
        "\n",
        "def predict(X):\n",
        "\n",
        "  samples, features = X.shape\n",
        "\n",
        "  # initialize centroids\n",
        "  initial_centroids = np.random.choice(X.shape[0], size=k, replace=False)\n",
        "  centroids = [X[cent] for cent in initial_centroids]\n",
        "\n",
        "  print(\"initial centroids {}\".format(centroids))\n",
        "\n",
        "  # cluster list\n",
        "  \n",
        "\n",
        "  for iterations in range(m):\n",
        "\n",
        "    cluster_list = [[] for _ in range(k)]\n",
        "\n",
        "    for point in X:\n",
        "      distances = [euclidean(point, centroid) for centroid in centroids]\n",
        "      min_centroid_pos = distances.index(min(distances))\n",
        "      cluster_list[min_centroid_pos].append(point)\n",
        "    old_centroids = centroids\n",
        "    centroids = update_centroids(cluster_list)\n",
        "\n",
        "    if k_means_converged(old_centroids, centroids):\n",
        "      print(\"K means done\")\n",
        "      break\n",
        "\n",
        "    print(cluster_list) \n",
        "\n",
        "def update_centroids(cluster_list):\n",
        "        print(cluster_list)\n",
        "        # assign mean value of clusters to centroids\n",
        "        new_centroids = np.zeros((k, features))\n",
        "        for cluster_idx, cluster in enumerate(cluster_list):\n",
        "          cluster_mean = np.mean(cluster_list[cluster_idx], axis=0)\n",
        "          new_centroids[cluster_idx] = cluster_mean\n",
        "        return new_centroids\n",
        "\n",
        "def k_means_converged(centroids_old, centroids):\n",
        "        distances = [euclidean_distance(centroids_old[i], centroids[i]) for i in range(k)]\n",
        "        return sum(distances) == 0        \n",
        "\n",
        "predict(X)"
      ],
      "execution_count": 95,
      "outputs": [
        {
          "output_type": "stream",
          "text": [
            "initial centroids [array([3.5, 4.6]), array([ 9., 11.])]\n",
            "[[array([1., 3.]), array([3.5, 4.6]), array([4.5, 4.5]), array([6., 7.]), array([2. , 1.6])], [array([8., 9.]), array([ 9., 11.])]]\n",
            "[[array([1., 3.]), array([3.5, 4.6]), array([4.5, 4.5]), array([6., 7.]), array([2. , 1.6])], [array([8., 9.]), array([ 9., 11.])]]\n"
          ],
          "name": "stdout"
        }
      ]
    }
  ]
}