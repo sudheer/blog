{
  "nbformat": 4,
  "nbformat_minor": 0,
  "metadata": {
    "colab": {
      "name": "2020-05-21-SVM.ipynb",
      "provenance": [],
      "collapsed_sections": [],
      "authorship_tag": "ABX9TyNY4TmN9+a8CnyypdAYC2+F"
    },
    "kernelspec": {
      "name": "python3",
      "display_name": "Python 3"
    }
  },
  "cells": [
    {
      "cell_type": "markdown",
      "metadata": {
        "id": "T1ixgfI6YjKu",
        "colab_type": "text"
      },
      "source": [
        "# \"Support Vector Machines\"\n",
        "> \"SVM\"\n",
        "\n",
        "- toc: true\n",
        "- badges: true\n",
        "- comments: true\n",
        "- categories: [machine learning]\n",
        "- hide: false\n",
        "- search_exclude: true"
      ]
    },
    {
      "cell_type": "markdown",
      "metadata": {
        "id": "4pVdemBXIr7e",
        "colab_type": "text"
      },
      "source": [
        "SVM aims to make the margings as large as possible between closest data points of those classes. \n",
        "\n",
        "# Key ideas\n",
        "\n",
        "- find hyperplane that separates the class \n",
        "- increase the margin that separates the class \n",
        "- use kernal spec to make the model work for Non Linear data.\n",
        "\n",
        "# Applications\n",
        "\n",
        "- Handwriting recognition \n",
        "- facial recognition\n",
        "\n",
        "we can apply it for Linear as well as Non Linear. For Non Linear data we will use kerner spec.\n",
        "\n",
        "# Linear vs Non Linear\n",
        "\n",
        "![](https://user-images.githubusercontent.com/8268939/82466239-fecdb780-9a74-11ea-8723-52ea50c95654.png)\n",
        "\n",
        "# Usecases\n",
        "\n",
        "- regression\n",
        "- classification\n",
        "\n",
        "# Hypothesis function \n",
        "\n",
        "Lets say we have training samples ${(x_i, y_i), i=1 to n}$ where $x_i \\in {R}$ are input training samples and $y_i$ where $y_i \\in \\{-1, +1\\}$ are class attributes i.e output classifications.\n",
        "\n",
        "Lets assume these are linearly separable, then there exist vector $w \\in R$ and scalar $b \\in R$\n",
        "\n",
        "$w^T x_i + b > 0, \\forall i  \\text{ such that } y_i = +1$\n",
        "\n",
        "$w^T x_i + b < 0, \\forall i  \\text{ such that } y_i = -1$\n",
        "\n",
        "Since the classes are linearly separable, there exists a line that separates the 2 classes.\n",
        "\n",
        "$w_T x + b = 0$\n",
        "\n",
        "By scaling above equation, we can also find such that there will be no samples existing between these hyperplanes.\n",
        "\n",
        "$w_T x + b \\geq 1, \\forall i  \\text{ such that } y_i = +1$\n",
        "$w_T x + b \\leq -1, \\forall i  \\text{ such that } y_i = -1$\n",
        "\n",
        "The above equations can also be written as....\n",
        "\n",
        "$y_i * [w^T x_i + b ] \\geq 1, i \\in \\{1...n\\}$\n",
        "\n",
        "The distance between these equations is called **margin**\n",
        "\n",
        "![image](https://user-images.githubusercontent.com/8268939/83337847-9603ed80-a273-11ea-8d78-bf9621da5f4a.png)\n",
        "\n",
        "# Goal of SVM\n",
        "\n",
        "To find the max margin between the hyperplanes such that there will be no data points in between them.\n",
        "\n",
        "![image](https://user-images.githubusercontent.com/8268939/82343745-13904980-99a8-11ea-8a4f-39583fe81eef.png)\n",
        "\n",
        "# SVM margin width\n",
        "\n",
        "![image](https://user-images.githubusercontent.com/8268939/83341367-7d0d3380-a297-11ea-833d-ad00e632ce09.png)\n",
        "\n",
        "![image](https://user-images.githubusercontent.com/8268939/82405620-4888b480-9a19-11ea-8325-e0646ea060a3.png)\n",
        "\n",
        "# Optimization problem \n",
        "\n",
        "The width equation $\\frac{2}{||w||}$ also can be taken as $\\frac{1}{2* ||w||^2}$ which is $\\frac{1}{2 * w^T * w}$\n",
        "\n",
        "Maximize $\\frac{2}{||w||}$ mean minimize $\\frac{1}{2 * w^T * w}$\n",
        "\n",
        "**For Hard Margin SVM**\n",
        "\n",
        "Minimize : $\\Phi(\\mathbf{w})=1 / 2 \\mathbf{w}^{T} \\mathbf{w}$\n",
        "\n",
        "Subject to $: y_{i}\\left(\\mathbf{w}^{T} \\mathbf{x}_{\\mathbf{i}}+b\\right)-1 \\geq 0 \\quad \\forall i$\n",
        "\n",
        "Integrating constraints into lagrangian form...\n",
        "\n",
        "> Note: Minimize $: J(\\mathbf{w}, b, \\boldsymbol{\\alpha})=1 / 2 \\mathbf{w}^{T} \\mathbf{w}-\\sum_{i=1}^{N} \\alpha_{i} y_{i}\\left(\\mathbf{w}^{T} \\mathbf{x}_{\\mathbf{i}}+b\\right)+\\sum_{i=1}^{N} \\alpha_{i}$\n",
        "\n",
        "> Note: Subject to $: \\alpha_{i} \\geq 0 \\quad \\forall i$\n",
        "\n",
        "Minimize J wrt $w$ and $b$ and maximize wrt $\\alpha$\n",
        "\n",
        "# SVM Types\n",
        "\n",
        "[![](https://mermaid.ink/img/eyJjb2RlIjoiZ3JhcGggVERcblx0QVtTVk0gVHlwZXNdIC0tPiBCKEhhcmQgTWFyZ2luKVxuXHRBIC0tPiBDKFNvZnQgTWFyZ2luKVxuXG4iLCJtZXJtYWlkIjp7InRoZW1lIjoiZGVmYXVsdCJ9LCJ1cGRhdGVFZGl0b3IiOmZhbHNlfQ)](https://mermaid-js.github.io/mermaid-live-editor/#/edit/eyJjb2RlIjoiZ3JhcGggVERcblx0QVtTVk0gVHlwZXNdIC0tPiBCKEhhcmQgTWFyZ2luKVxuXHRBIC0tPiBDKFNvZnQgTWFyZ2luKVxuXG4iLCJtZXJtYWlkIjp7InRoZW1lIjoiZGVmYXVsdCJ9LCJ1cGRhdGVFZGl0b3IiOmZhbHNlfQ)\n",
        "\n",
        "# using kernel spec\n",
        "\n",
        "![17A37789-E666-4712-9A6E-23D1F47CC0E5](https://user-images.githubusercontent.com/8268939/82531120-91ad3700-9af3-11ea-9b6e-3498cb54f858.jpeg)\n",
        "\n",
        "\n",
        "\n"
      ]
    },
    {
      "cell_type": "code",
      "metadata": {
        "id": "1_lOoVOluAIx",
        "colab_type": "code",
        "outputId": "0a6e41e6-09b7-4103-c13a-95f2223780fa",
        "colab": {
          "base_uri": "https://localhost:8080/",
          "height": 204
        }
      },
      "source": [
        "# load iris dataset\n",
        "\n",
        "from matplotlib import pyplot as plt\n",
        "from sklearn import datasets\n",
        "from sklearn.model_selection import train_test_split\n",
        "import pandas as pd\n",
        "import seaborn as sns\n",
        "\n",
        "iris = datasets.load_iris()\n",
        "\n",
        "iris_df = pd.DataFrame(iris.data, columns=iris.feature_names)\n",
        "iris_df['target'] = iris.target\n",
        "iris_df = iris_df.loc[iris_df['target'].isin([0,1])]\n",
        "iris_df.head()"
      ],
      "execution_count": 0,
      "outputs": [
        {
          "output_type": "execute_result",
          "data": {
            "text/html": [
              "<div>\n",
              "<style scoped>\n",
              "    .dataframe tbody tr th:only-of-type {\n",
              "        vertical-align: middle;\n",
              "    }\n",
              "\n",
              "    .dataframe tbody tr th {\n",
              "        vertical-align: top;\n",
              "    }\n",
              "\n",
              "    .dataframe thead th {\n",
              "        text-align: right;\n",
              "    }\n",
              "</style>\n",
              "<table border=\"1\" class=\"dataframe\">\n",
              "  <thead>\n",
              "    <tr style=\"text-align: right;\">\n",
              "      <th></th>\n",
              "      <th>sepal length (cm)</th>\n",
              "      <th>sepal width (cm)</th>\n",
              "      <th>petal length (cm)</th>\n",
              "      <th>petal width (cm)</th>\n",
              "      <th>target</th>\n",
              "    </tr>\n",
              "  </thead>\n",
              "  <tbody>\n",
              "    <tr>\n",
              "      <th>0</th>\n",
              "      <td>5.1</td>\n",
              "      <td>3.5</td>\n",
              "      <td>1.4</td>\n",
              "      <td>0.2</td>\n",
              "      <td>0</td>\n",
              "    </tr>\n",
              "    <tr>\n",
              "      <th>1</th>\n",
              "      <td>4.9</td>\n",
              "      <td>3.0</td>\n",
              "      <td>1.4</td>\n",
              "      <td>0.2</td>\n",
              "      <td>0</td>\n",
              "    </tr>\n",
              "    <tr>\n",
              "      <th>2</th>\n",
              "      <td>4.7</td>\n",
              "      <td>3.2</td>\n",
              "      <td>1.3</td>\n",
              "      <td>0.2</td>\n",
              "      <td>0</td>\n",
              "    </tr>\n",
              "    <tr>\n",
              "      <th>3</th>\n",
              "      <td>4.6</td>\n",
              "      <td>3.1</td>\n",
              "      <td>1.5</td>\n",
              "      <td>0.2</td>\n",
              "      <td>0</td>\n",
              "    </tr>\n",
              "    <tr>\n",
              "      <th>4</th>\n",
              "      <td>5.0</td>\n",
              "      <td>3.6</td>\n",
              "      <td>1.4</td>\n",
              "      <td>0.2</td>\n",
              "      <td>0</td>\n",
              "    </tr>\n",
              "  </tbody>\n",
              "</table>\n",
              "</div>"
            ],
            "text/plain": [
              "   sepal length (cm)  sepal width (cm)  ...  petal width (cm)  target\n",
              "0                5.1               3.5  ...               0.2       0\n",
              "1                4.9               3.0  ...               0.2       0\n",
              "2                4.7               3.2  ...               0.2       0\n",
              "3                4.6               3.1  ...               0.2       0\n",
              "4                5.0               3.6  ...               0.2       0\n",
              "\n",
              "[5 rows x 5 columns]"
            ]
          },
          "metadata": {
            "tags": []
          },
          "execution_count": 66
        }
      ]
    },
    {
      "cell_type": "code",
      "metadata": {
        "id": "iWM5WrgmzeNr",
        "colab_type": "code",
        "outputId": "5d86d3b2-7a10-435b-ac0a-c5053d032c08",
        "colab": {
          "base_uri": "https://localhost:8080/",
          "height": 34
        }
      },
      "source": [
        "iris_df.shape"
      ],
      "execution_count": 0,
      "outputs": [
        {
          "output_type": "execute_result",
          "data": {
            "text/plain": [
              "(100, 5)"
            ]
          },
          "metadata": {
            "tags": []
          },
          "execution_count": 67
        }
      ]
    },
    {
      "cell_type": "code",
      "metadata": {
        "id": "WmVP0ioS1ZEv",
        "colab_type": "code",
        "outputId": "3dcb045f-9ed3-45b5-a8ba-bf84abf3f6db",
        "colab": {
          "base_uri": "https://localhost:8080/",
          "height": 377
        }
      },
      "source": [
        "# visualize\n",
        "sns.lmplot(x='petal length (cm)',y='petal width (cm)',hue='target',data=iris_df, fit_reg=False)\n",
        "plt.xlabel('petal length (scaled)', fontsize = 18)\n",
        "plt.ylabel('petal width (scaled)', fontsize = 18)\n",
        "plt.show()"
      ],
      "execution_count": 0,
      "outputs": [
        {
          "output_type": "display_data",
          "data": {
            "image/png": "[encoded data removed]",
            "text/plain": [
              "<Figure size 402.375x360 with 1 Axes>"
            ]
          },
          "metadata": {
            "tags": [],
            "needs_background": "light"
          }
        }
      ]
    },
    {
      "cell_type": "code",
      "metadata": {
        "id": "AmIFhvID0sYt",
        "colab_type": "code",
        "colab": {}
      },
      "source": [
        "# separate input and output variables from dataframe\n",
        "X=iris_df.iloc[0:3]\n",
        "y=iris.iloc[:,4]"
      ],
      "execution_count": 0,
      "outputs": []
    },
    {
      "cell_type": "code",
      "metadata": {
        "id": "ucOwLYLIuVus",
        "colab_type": "code",
        "colab": {}
      },
      "source": [
        "X_train, X_test, y_train, y_test = train_test_split(iris.data, iris.target, test_size=0.33, random_state=42)"
      ],
      "execution_count": 0,
      "outputs": []
    },
    {
      "cell_type": "code",
      "metadata": {
        "id": "yOXKJR6_uWOp",
        "colab_type": "code",
        "outputId": "d6d70c0b-78ab-45bd-b639-bddb9eed60a4",
        "colab": {
          "base_uri": "https://localhost:8080/",
          "height": 51
        }
      },
      "source": [
        "# train the model with default hyperparameter\n",
        "from sklearn.svm import SVC\n",
        "from sklearn import metrics\n",
        "svc=SVC() #Default hyperparameters\n",
        "svc.fit(X_train,y_train)\n",
        "y_pred=svc.predict(X_test)\n",
        "print('Accuracy Score:')\n",
        "print(metrics.accuracy_score(y_test,y_pred))"
      ],
      "execution_count": 0,
      "outputs": [
        {
          "output_type": "stream",
          "text": [
            "Accuracy Score:\n",
            "1.0\n"
          ],
          "name": "stdout"
        }
      ]
    },
    {
      "cell_type": "code",
      "metadata": {
        "id": "AAfPVspFy9OH",
        "colab_type": "code",
        "outputId": "ea8c27ce-de25-41c7-d98e-e98aecf5b966",
        "colab": {
          "base_uri": "https://localhost:8080/",
          "height": 68
        }
      },
      "source": [
        "# print confusion matrix \n",
        "print(metrics.confusion_matrix(y_test, y_pred))"
      ],
      "execution_count": 0,
      "outputs": [
        {
          "output_type": "stream",
          "text": [
            "[[19  0  0]\n",
            " [ 0 15  0]\n",
            " [ 0  0 16]]\n"
          ],
          "name": "stdout"
        }
      ]
    }
  ]
}