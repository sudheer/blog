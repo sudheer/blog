{
  "nbformat": 4,
  "nbformat_minor": 0,
  "metadata": {
    "colab": {
      "name": "2020-05-02-Statistics.ipynb",
      "provenance": [],
      "collapsed_sections": [],
      "authorship_tag": "ABX9TyPbXgaItmWEzKKzuUd/uk/D"
    },
    "kernelspec": {
      "name": "python3",
      "display_name": "Python 3"
    }
  },
  "cells": [
    {
      "cell_type": "markdown",
      "metadata": {
        "id": "5n95mkZpDZk_",
        "colab_type": "text"
      },
      "source": [
        "# \"Statistics for Machine Learning\"\n",
        "> \"Basic stats needed for machine learning\"\n",
        "\n",
        "- toc:true\n",
        "- branch: master\n",
        "- badges: true\n",
        "- comments: true\n",
        "- categories: [machine learning]\n",
        "- tags: [stats]"
      ]
    },
    {
      "cell_type": "markdown",
      "metadata": {
        "id": "IFNS7Yqp9VL7",
        "colab_type": "text"
      },
      "source": [
        "# Mean Median and Mode"
      ]
    },
    {
      "cell_type": "code",
      "metadata": {
        "id": "7gfkEusB9O5a",
        "colab_type": "code",
        "colab": {}
      },
      "source": [
        "marks = [100,87,88,89,35,87,88,95,79,78,86,87]"
      ],
      "execution_count": 0,
      "outputs": []
    },
    {
      "cell_type": "markdown",
      "metadata": {
        "id": "IpWmRF88AML8",
        "colab_type": "text"
      },
      "source": [
        "Lets plot the histogram of marks and analyse it."
      ]
    },
    {
      "cell_type": "code",
      "metadata": {
        "id": "J0jABEMj-mjJ",
        "colab_type": "code",
        "outputId": "ffe7e102-c675-4731-b358-81a63ebee960",
        "colab": {
          "base_uri": "https://localhost:8080/",
          "height": 279
        }
      },
      "source": [
        "import matplotlib.pyplot as plt\n",
        "plt.hist(marks)\n",
        "plt.xlabel(\"marks\")\n",
        "plt.ylabel(\"frequency\")\n",
        "plt.show()"
      ],
      "execution_count": 0,
      "outputs": [
        {
          "output_type": "display_data",
          "data": {
            "image/png": "[encoded data removed]",
            "text/plain": [
              "<Figure size 432x288 with 1 Axes>"
            ]
          },
          "metadata": {
            "tags": [],
            "needs_background": "light"
          }
        }
      ]
    },
    {
      "cell_type": "markdown",
      "metadata": {
        "id": "W5PbXZ0HAP6t",
        "colab_type": "text"
      },
      "source": [
        "As you see we have an outlier in the data 35 which could bring down the average marks of the class. "
      ]
    },
    {
      "cell_type": "markdown",
      "metadata": {
        "id": "mOlrHpE89_GP",
        "colab_type": "text"
      },
      "source": [
        "## Mean\n",
        "\n",
        "$\\mu=\\frac{\\sum_{i=1}^{N} x_{i}}{N}$"
      ]
    },
    {
      "cell_type": "code",
      "metadata": {
        "id": "mlx9ej-1-D0T",
        "colab_type": "code",
        "outputId": "a640ad0b-8a3f-4b48-aeac-38c0cf17ae82",
        "colab": {
          "base_uri": "https://localhost:8080/",
          "height": 35
        }
      },
      "source": [
        "import numpy\n",
        "numpy.mean(marks)"
      ],
      "execution_count": 0,
      "outputs": [
        {
          "output_type": "execute_result",
          "data": {
            "text/plain": [
              "83.25"
            ]
          },
          "metadata": {
            "tags": []
          },
          "execution_count": 2
        }
      ]
    },
    {
      "cell_type": "markdown",
      "metadata": {
        "id": "1P1M1q60AnWu",
        "colab_type": "text"
      },
      "source": [
        "## Median"
      ]
    },
    {
      "cell_type": "markdown",
      "metadata": {
        "id": "A4eqZgW9Engs",
        "colab_type": "text"
      },
      "source": [
        "**if n is odd**\n",
        "\n",
        "$Median =\\left(\\frac{n+1}{2}\\right)^{t h} term$\n",
        "\n",
        "**if n is even**\n",
        "\n",
        "$\\text { Median }=\\frac{\\left(\\frac{n}{2}\\right)^{t h} \\text {term}+\\left(\\frac{n}{2}+1\\right)^{t h} \\text { term }}{2}$\n",
        "\n"
      ]
    },
    {
      "cell_type": "code",
      "metadata": {
        "id": "BI3OuMom-RUm",
        "colab_type": "code",
        "outputId": "e80220a2-ac36-4bc8-8be5-bb9e40c0e731",
        "colab": {
          "base_uri": "https://localhost:8080/",
          "height": 35
        }
      },
      "source": [
        "numpy.median(marks)"
      ],
      "execution_count": 0,
      "outputs": [
        {
          "output_type": "execute_result",
          "data": {
            "text/plain": [
              "87.0"
            ]
          },
          "metadata": {
            "tags": []
          },
          "execution_count": 3
        }
      ]
    },
    {
      "cell_type": "markdown",
      "metadata": {
        "id": "uJdvfRsUAr0-",
        "colab_type": "text"
      },
      "source": [
        "## Mode"
      ]
    },
    {
      "cell_type": "code",
      "metadata": {
        "id": "0fHOoPjg-fAd",
        "colab_type": "code",
        "outputId": "f72b9677-eb5f-46b0-9d37-6344cd5be213",
        "colab": {
          "base_uri": "https://localhost:8080/",
          "height": 35
        }
      },
      "source": [
        "from scipy import stats\n",
        "stats.mode(marks)"
      ],
      "execution_count": 0,
      "outputs": [
        {
          "output_type": "execute_result",
          "data": {
            "text/plain": [
              "ModeResult(mode=array([87]), count=array([3]))"
            ]
          },
          "metadata": {
            "tags": []
          },
          "execution_count": 4
        }
      ]
    },
    {
      "cell_type": "markdown",
      "metadata": {
        "id": "GcbwkQ76Au81",
        "colab_type": "text"
      },
      "source": [
        "## How they change\n",
        "\n",
        "![FD0B573E-2D62-4100-B9F9-68FC36677A87](https://user-images.githubusercontent.com/8268939/81034613-95329400-8e4c-11ea-9e44-3930cf0e0619.jpeg)\n"
      ]
    },
    {
      "cell_type": "markdown",
      "metadata": {
        "id": "IcF4ABydQqaZ",
        "colab_type": "text"
      },
      "source": [
        "# Variance & Std Deviation"
      ]
    },
    {
      "cell_type": "markdown",
      "metadata": {
        "id": "mbJd6FgvQuZI",
        "colab_type": "text"
      },
      "source": [
        "## Variance\n",
        "\n",
        "Measures how much data is spread from the mean. For technical reasons, we use (n-1) in denominator.\n",
        "\n",
        "$\\text { Variance }=s^{2}=\\frac{\\sum(x-\\bar{x})^{2}}{n-1}$"
      ]
    },
    {
      "cell_type": "markdown",
      "metadata": {
        "id": "oBSCEpRxhD7L",
        "colab_type": "text"
      },
      "source": [
        "![D581071A-9335-46CB-8C7A-06742206CDBE](https://user-images.githubusercontent.com/8268939/81039743-b603e500-8e5e-11ea-8205-702d2f818ee4.jpeg)\n"
      ]
    },
    {
      "cell_type": "markdown",
      "metadata": {
        "id": "ph7IYn9xUpNx",
        "colab_type": "text"
      },
      "source": [
        "## Std Deviation \n",
        "\n",
        "Measures the spread from the mean. You can think of it like average distance of data from mean. To negate the squares applied earlier, we do square root here.\n",
        "\n",
        "$s=\\sqrt{\\frac{1}{n} \\sum_{i=1}^{n}\\left(x_{i}-\\bar{x}\\right)^{2}}$"
      ]
    },
    {
      "cell_type": "markdown",
      "metadata": {
        "id": "n3xfwWSghH6K",
        "colab_type": "text"
      },
      "source": [
        "![D3AC658E-085B-4565-95BD-412A2CD262AF](https://user-images.githubusercontent.com/8268939/81039810-d2a01d00-8e5e-11ea-9b2e-a775a602b2ac.jpeg)\n"
      ]
    },
    {
      "cell_type": "markdown",
      "metadata": {
        "id": "jxkxyrE-Zji2",
        "colab_type": "text"
      },
      "source": [
        "For a normal distribution let's see how standard deviation varies from the mean\n",
        "\n",
        "![8CE72B93-D603-4BF2-B736-DC2760D4192D](https://user-images.githubusercontent.com/8268939/81082544-43b7f280-8ea8-11ea-988c-8ade97f1c843.jpeg)"
      ]
    },
    {
      "cell_type": "code",
      "metadata": {
        "id": "w_qjYIwadwJa",
        "colab_type": "code",
        "outputId": "997d78f7-1ff4-4f9c-e1fd-36492de0b85e",
        "colab": {
          "base_uri": "https://localhost:8080/"
        }
      },
      "source": [
        "numpy.std(marks)"
      ],
      "execution_count": 0,
      "outputs": [
        {
          "output_type": "execute_result",
          "data": {
            "text/plain": [
              "15.59981303306763"
            ]
          },
          "metadata": {
            "tags": []
          },
          "execution_count": 14
        }
      ]
    },
    {
      "cell_type": "code",
      "metadata": {
        "id": "WmOIllbQhxdH",
        "colab_type": "code",
        "colab": {}
      },
      "source": [
        ""
      ],
      "execution_count": 0,
      "outputs": []
    }
  ]
}