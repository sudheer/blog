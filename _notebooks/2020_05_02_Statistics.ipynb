{
  "nbformat": 4,
  "nbformat_minor": 0,
  "metadata": {
    "colab": {
      "name": "2020-05-02-Statistics.ipynb",
      "provenance": [],
      "collapsed_sections": [
        "o24I_Mxag77c"
      ],
      "authorship_tag": "ABX9TyOMrqy0FsOodoFJ8gDStVE0"
    },
    "kernelspec": {
      "name": "python3",
      "display_name": "Python 3"
    }
  },
  "cells": [
    {
      "cell_type": "markdown",
      "metadata": {
        "id": "5n95mkZpDZk_",
        "colab_type": "text"
      },
      "source": [
        "# \"Statistics for Machine Learning\"\n",
        "> \"Basic stats needed for machine learning\"\n",
        "\n",
        "- toc:true\n",
        "- branch: master\n",
        "- badges: true\n",
        "- comments: true\n",
        "- categories: [machine learning]\n",
        "- tags: [stats]"
      ]
    },
    {
      "cell_type": "markdown",
      "metadata": {
        "id": "yENMSEi6HyJQ",
        "colab_type": "text"
      },
      "source": [
        "\n",
        "![](https://user-images.githubusercontent.com/8268939/81514537-90566000-92e4-11ea-977c-5b2884f04a93.png)\n",
        "\n"
      ]
    },
    {
      "cell_type": "markdown",
      "metadata": {
        "id": "feihN_ZSM0u5",
        "colab_type": "text"
      },
      "source": [
        "# Data types in stats\n",
        "\n",
        "![](https://mermaid.ink/img/eyJjb2RlIjoiZ3JhcGggVERcblx0QVtUeXBlcyBvZiBkYXRhXSAtLT4gQihOdW1lcmljYWwpXG5cdEIgLS0-IERpc2NyZXRlXG4gICAgQiAtLT4gQ29udGludW91c1xuICAgIEEgLS0-IEQoQ2F0ZWdvcmljYWwpXG4gICAgRCAtLT4gT3JkaW5hbFxuICAgIEQgLS0-IE5vbWluYWxcbiAgICBcblxuIiwibWVybWFpZCI6eyJ0aGVtZSI6ImRlZmF1bHQifSwidXBkYXRlRWRpdG9yIjpmYWxzZX0)\n",
        "\n",
        "## Examples of Numerical\n",
        "\n"
      ]
    },
    {
      "cell_type": "code",
      "metadata": {
        "id": "XsDFyZzcPCgY",
        "colab_type": "code",
        "colab": {
          "base_uri": "https://localhost:8080/",
          "height": 513
        },
        "outputId": "a84097c2-7b30-4aba-caee-f97e26db0e9a"
      },
      "source": [
        "# continous\n",
        "mu = 20\n",
        "sigma=2\n",
        "data_continous = numpy.random.normal(mu, sigma, 1000) # generate from 100 to 150 with 0.1 difference\n",
        "sns.distplot(data_continous, color=\"blue\")\n",
        "plt.show()\n",
        "\n",
        "# discrete\n",
        "import numpy as np\n",
        "dice_rolls = [np.random.randint(1, 7) for _ in range(10)]\n",
        "plt.hist(dice_rolls)\n",
        "plt.show()"
      ],
      "execution_count": 65,
      "outputs": [
        {
          "output_type": "display_data",
          "data": {
            "image/png": "[encoded data removed]",
            "text/plain": [
              "<Figure size 432x288 with 1 Axes>"
            ]
          },
          "metadata": {
            "tags": [],
            "needs_background": "light"
          }
        },
        {
          "output_type": "display_data",
          "data": {
            "image/png": "[encoded data removed]",
            "text/plain": [
              "<Figure size 432x288 with 1 Axes>"
            ]
          },
          "metadata": {
            "tags": [],
            "needs_background": "light"
          }
        }
      ]
    },
    {
      "cell_type": "markdown",
      "metadata": {
        "id": "dLgC9K9VYaAk",
        "colab_type": "text"
      },
      "source": [
        "### Nominal Data\n",
        "\n",
        "Data you can't order. \n",
        "- Gender\n",
        "- religion\n",
        "- hair color"
      ]
    },
    {
      "cell_type": "code",
      "metadata": {
        "id": "VnI9fdntXd7g",
        "colab_type": "code",
        "colab": {
          "base_uri": "https://localhost:8080/",
          "height": 142
        },
        "outputId": "030e6ea9-bb68-4fa1-fd59-dd9b27ea0e2e"
      },
      "source": [
        "data = {'Name': ['Jim','Jake','Jessy'],\n",
        "        'Gender': ['Male','Male','Female']\n",
        "        }\n",
        "\n",
        "data = pd.DataFrame(data, columns=['Name', 'Gender'])\n",
        "data"
      ],
      "execution_count": 68,
      "outputs": [
        {
          "output_type": "execute_result",
          "data": {
            "text/html": [
              "<div>\n",
              "<style scoped>\n",
              "    .dataframe tbody tr th:only-of-type {\n",
              "        vertical-align: middle;\n",
              "    }\n",
              "\n",
              "    .dataframe tbody tr th {\n",
              "        vertical-align: top;\n",
              "    }\n",
              "\n",
              "    .dataframe thead th {\n",
              "        text-align: right;\n",
              "    }\n",
              "</style>\n",
              "<table border=\"1\" class=\"dataframe\">\n",
              "  <thead>\n",
              "    <tr style=\"text-align: right;\">\n",
              "      <th></th>\n",
              "      <th>Name</th>\n",
              "      <th>Gender</th>\n",
              "    </tr>\n",
              "  </thead>\n",
              "  <tbody>\n",
              "    <tr>\n",
              "      <th>0</th>\n",
              "      <td>Jim</td>\n",
              "      <td>Male</td>\n",
              "    </tr>\n",
              "    <tr>\n",
              "      <th>1</th>\n",
              "      <td>Jake</td>\n",
              "      <td>Male</td>\n",
              "    </tr>\n",
              "    <tr>\n",
              "      <th>2</th>\n",
              "      <td>Jessy</td>\n",
              "      <td>Female</td>\n",
              "    </tr>\n",
              "  </tbody>\n",
              "</table>\n",
              "</div>"
            ],
            "text/plain": [
              "    Name  Gender\n",
              "0    Jim    Male\n",
              "1   Jake    Male\n",
              "2  Jessy  Female"
            ]
          },
          "metadata": {
            "tags": []
          },
          "execution_count": 68
        }
      ]
    },
    {
      "cell_type": "markdown",
      "metadata": {
        "id": "yQMgw6PtYdrB",
        "colab_type": "text"
      },
      "source": [
        "### Ordinal Data\n",
        "\n",
        "Data you can order, but can't do arthematic.\n",
        "\n",
        "- customer ratings\n",
        "- economic status"
      ]
    },
    {
      "cell_type": "code",
      "metadata": {
        "id": "eQOJomwXYgoe",
        "colab_type": "code",
        "colab": {
          "base_uri": "https://localhost:8080/",
          "height": 142
        },
        "outputId": "8a9c3a27-e053-471c-8c67-3a032610f47c"
      },
      "source": [
        "data = {'Movie': ['Superman','Heman','Spiderman'],\n",
        "        'Rating': [4.0,4.7,4.9]\n",
        "        }\n",
        "\n",
        "data = pd.DataFrame(data, columns=['Movie', 'Rating'])\n",
        "data"
      ],
      "execution_count": 69,
      "outputs": [
        {
          "output_type": "execute_result",
          "data": {
            "text/html": [
              "<div>\n",
              "<style scoped>\n",
              "    .dataframe tbody tr th:only-of-type {\n",
              "        vertical-align: middle;\n",
              "    }\n",
              "\n",
              "    .dataframe tbody tr th {\n",
              "        vertical-align: top;\n",
              "    }\n",
              "\n",
              "    .dataframe thead th {\n",
              "        text-align: right;\n",
              "    }\n",
              "</style>\n",
              "<table border=\"1\" class=\"dataframe\">\n",
              "  <thead>\n",
              "    <tr style=\"text-align: right;\">\n",
              "      <th></th>\n",
              "      <th>Movie</th>\n",
              "      <th>Rating</th>\n",
              "    </tr>\n",
              "  </thead>\n",
              "  <tbody>\n",
              "    <tr>\n",
              "      <th>0</th>\n",
              "      <td>Superman</td>\n",
              "      <td>4.0</td>\n",
              "    </tr>\n",
              "    <tr>\n",
              "      <th>1</th>\n",
              "      <td>Heman</td>\n",
              "      <td>4.7</td>\n",
              "    </tr>\n",
              "    <tr>\n",
              "      <th>2</th>\n",
              "      <td>Spiderman</td>\n",
              "      <td>4.9</td>\n",
              "    </tr>\n",
              "  </tbody>\n",
              "</table>\n",
              "</div>"
            ],
            "text/plain": [
              "       Movie  Rating\n",
              "0   Superman     4.0\n",
              "1      Heman     4.7\n",
              "2  Spiderman     4.9"
            ]
          },
          "metadata": {
            "tags": []
          },
          "execution_count": 69
        }
      ]
    },
    {
      "cell_type": "markdown",
      "metadata": {
        "id": "IFNS7Yqp9VL7",
        "colab_type": "text"
      },
      "source": [
        "# Central Tendancy\n",
        "\n"
      ]
    },
    {
      "cell_type": "markdown",
      "metadata": {
        "id": "wT9Xy0UJqUAE",
        "colab_type": "text"
      },
      "source": [
        "## Generate data"
      ]
    },
    {
      "cell_type": "code",
      "metadata": {
        "id": "7gfkEusB9O5a",
        "colab_type": "code",
        "colab": {}
      },
      "source": [
        "import numpy as np\n",
        "import pandas as pd\n",
        "from numpy.random import seed\n",
        "from numpy.random import randint\n",
        "from numpy import mean\n",
        "import seaborn as sns\n",
        "import matplotlib.pyplot as plt\n",
        "\n",
        "# lets generate some weights of population\n",
        "\n",
        "# seed the random number generator\n",
        "seed(1)\n",
        "# generate a sample of weights of population\n",
        "weights = randint(low=120, high=200, size=10000)"
      ],
      "execution_count": 0,
      "outputs": []
    },
    {
      "cell_type": "markdown",
      "metadata": {
        "id": "IpWmRF88AML8",
        "colab_type": "text"
      },
      "source": [
        "Lets plot the histogram of weights of population and analyse it."
      ]
    },
    {
      "cell_type": "code",
      "metadata": {
        "id": "J0jABEMj-mjJ",
        "colab_type": "code",
        "outputId": "5c152ba0-2c81-4d11-fc51-d3f569221608",
        "colab": {
          "base_uri": "https://localhost:8080/",
          "height": 283
        }
      },
      "source": [
        "import matplotlib.pyplot as plt\n",
        "sns.distplot(weights, color=\"blue\")\n",
        "plt.xlabel(\"weights\")\n",
        "plt.ylabel(\"frequency\")\n",
        "plt.show()"
      ],
      "execution_count": 5,
      "outputs": [
        {
          "output_type": "display_data",
          "data": {
            "image/png": "[encoded data removed]",
            "text/plain": [
              "<Figure size 432x288 with 1 Axes>"
            ]
          },
          "metadata": {
            "tags": [],
            "needs_background": "light"
          }
        }
      ]
    },
    {
      "cell_type": "markdown",
      "metadata": {
        "id": "mOlrHpE89_GP",
        "colab_type": "text"
      },
      "source": [
        "## Mean\n",
        "\n",
        "$\\mu=\\frac{\\sum_{i=1}^{N} x_{i}}{N}$\n",
        "\n",
        "- one of the several values to descrie central tendancy of the data"
      ]
    },
    {
      "cell_type": "code",
      "metadata": {
        "id": "mlx9ej-1-D0T",
        "colab_type": "code",
        "outputId": "8214ba2a-a317-4c4d-cb86-19642a154211",
        "colab": {
          "base_uri": "https://localhost:8080/",
          "height": 34
        }
      },
      "source": [
        "import numpy\n",
        "numpy.mean(weights)"
      ],
      "execution_count": 7,
      "outputs": [
        {
          "output_type": "execute_result",
          "data": {
            "text/plain": [
              "159.6552"
            ]
          },
          "metadata": {
            "tags": []
          },
          "execution_count": 7
        }
      ]
    },
    {
      "cell_type": "markdown",
      "metadata": {
        "id": "1P1M1q60AnWu",
        "colab_type": "text"
      },
      "source": [
        "## Median"
      ]
    },
    {
      "cell_type": "markdown",
      "metadata": {
        "id": "A4eqZgW9Engs",
        "colab_type": "text"
      },
      "source": [
        "**if n is odd**\n",
        "\n",
        "$Median =\\left(\\frac{n+1}{2}\\right)^{t h} term$\n",
        "\n",
        "**if n is even**\n",
        "\n",
        "$\\text { Median }=\\frac{\\left(\\frac{n}{2}\\right)^{t h} \\text {term}+\\left(\\frac{n}{2}+1\\right)^{t h} \\text { term }}{2}$\n",
        "\n"
      ]
    },
    {
      "cell_type": "code",
      "metadata": {
        "id": "BI3OuMom-RUm",
        "colab_type": "code",
        "outputId": "8a3a8624-f3f6-46db-ba27-98c8daf7211c",
        "colab": {
          "base_uri": "https://localhost:8080/",
          "height": 34
        }
      },
      "source": [
        "numpy.median(weights)"
      ],
      "execution_count": 8,
      "outputs": [
        {
          "output_type": "execute_result",
          "data": {
            "text/plain": [
              "159.0"
            ]
          },
          "metadata": {
            "tags": []
          },
          "execution_count": 8
        }
      ]
    },
    {
      "cell_type": "markdown",
      "metadata": {
        "id": "uJdvfRsUAr0-",
        "colab_type": "text"
      },
      "source": [
        "## Mode\n",
        "\n",
        "Mode is the most frequently occured value in our distribution. "
      ]
    },
    {
      "cell_type": "code",
      "metadata": {
        "id": "0fHOoPjg-fAd",
        "colab_type": "code",
        "outputId": "80453627-8ae6-4edb-cb25-3aa04c32e77e",
        "colab": {
          "base_uri": "https://localhost:8080/",
          "height": 34
        }
      },
      "source": [
        "from scipy import stats\n",
        "stats.mode(weights)"
      ],
      "execution_count": 9,
      "outputs": [
        {
          "output_type": "execute_result",
          "data": {
            "text/plain": [
              "ModeResult(mode=array([152]), count=array([152]))"
            ]
          },
          "metadata": {
            "tags": []
          },
          "execution_count": 9
        }
      ]
    },
    {
      "cell_type": "markdown",
      "metadata": {
        "id": "GcbwkQ76Au81",
        "colab_type": "text"
      },
      "source": [
        "## How they change\n",
        "\n",
        "![FD0B573E-2D62-4100-B9F9-68FC36677A87](https://user-images.githubusercontent.com/8268939/81034613-95329400-8e4c-11ea-9e44-3930cf0e0619.jpeg)\n"
      ]
    },
    {
      "cell_type": "markdown",
      "metadata": {
        "id": "IcF4ABydQqaZ",
        "colab_type": "text"
      },
      "source": [
        "# Measure of spread"
      ]
    },
    {
      "cell_type": "markdown",
      "metadata": {
        "id": "wDcsub80sxIF",
        "colab_type": "text"
      },
      "source": [
        "## Range \n",
        "\n",
        "Range is the difference between min and max value. It shows how much our data is spread."
      ]
    },
    {
      "cell_type": "code",
      "metadata": {
        "id": "R0CSZP6OtBDa",
        "colab_type": "code",
        "colab": {
          "base_uri": "https://localhost:8080/",
          "height": 34
        },
        "outputId": "bc5ea970-5d95-41e7-fdb2-d942781d1790"
      },
      "source": [
        "np.max(weights) - np.min(weights)"
      ],
      "execution_count": 10,
      "outputs": [
        {
          "output_type": "execute_result",
          "data": {
            "text/plain": [
              "79"
            ]
          },
          "metadata": {
            "tags": []
          },
          "execution_count": 10
        }
      ]
    },
    {
      "cell_type": "markdown",
      "metadata": {
        "id": "eIEAAP95txYY",
        "colab_type": "text"
      },
      "source": [
        "## Quartiles\n",
        "\n",
        "![](https://user-images.githubusercontent.com/8268939/81514170-6734d000-92e2-11ea-84ae-982368fe0ce4.png)"
      ]
    },
    {
      "cell_type": "code",
      "metadata": {
        "id": "rfrX1EQqEXSb",
        "colab_type": "code",
        "colab": {
          "base_uri": "https://localhost:8080/",
          "height": 85
        },
        "outputId": "7d37916c-ec47-4153-c4b9-dbd030a6e911"
      },
      "source": [
        "from numpy import percentile\n",
        "\n",
        "# calculate quartiles\n",
        "quartiles = percentile(weights, [25, 50, 75])\n",
        "\n",
        "print('Q1: %.3f' % quartiles[0])\n",
        "print('Q2 or Median: %.3f' % quartiles[1])\n",
        "print('Q3: %.3f' % quartiles[2])\n",
        "print('Q4 or Max: %.3f' % np.max(weights))"
      ],
      "execution_count": 15,
      "outputs": [
        {
          "output_type": "stream",
          "text": [
            "Q1: 140.000\n",
            "Q2 or Median: 159.000\n",
            "Q3: 180.000\n",
            "Q4 or Max: 199.000\n"
          ],
          "name": "stdout"
        }
      ]
    },
    {
      "cell_type": "markdown",
      "metadata": {
        "id": "mbJd6FgvQuZI",
        "colab_type": "text"
      },
      "source": [
        "## Variance\n",
        "\n",
        "Measures how much data is spread from the mean. For technical reasons, we use (n-1) in denominator.\n",
        "\n",
        "$\\text { Variance }=s^{2}=\\frac{\\sum(x_i-\\bar{x})^{2}}{n-1}$\n",
        "\n",
        "$(x_i -\\bar{x})$ is deviation from mean for every value of sample, so variance is mean squared deviation"
      ]
    },
    {
      "cell_type": "markdown",
      "metadata": {
        "id": "oBSCEpRxhD7L",
        "colab_type": "text"
      },
      "source": [
        "![](https://user-images.githubusercontent.com/8268939/81039743-b603e500-8e5e-11ea-8205-702d2f818ee4.jpeg)"
      ]
    },
    {
      "cell_type": "code",
      "metadata": {
        "id": "SX_9drwTHJ6M",
        "colab_type": "code",
        "colab": {
          "base_uri": "https://localhost:8080/",
          "height": 34
        },
        "outputId": "bdd98861-8a80-47f9-cf5a-04e938e62df5"
      },
      "source": [
        "np.var(weights)"
      ],
      "execution_count": 16,
      "outputs": [
        {
          "output_type": "execute_result",
          "data": {
            "text/plain": [
              "537.16871296"
            ]
          },
          "metadata": {
            "tags": []
          },
          "execution_count": 16
        }
      ]
    },
    {
      "cell_type": "markdown",
      "metadata": {
        "id": "ph7IYn9xUpNx",
        "colab_type": "text"
      },
      "source": [
        "## Std Deviation \n",
        "\n",
        "Measures the spread from the mean. You can think of it like average distance of data from mean. To negate the squares applied earlier, we do square root here.\n",
        "\n",
        "$s=\\sqrt{\\frac{1}{n} \\sum_{i=1}^{n}\\left(x_{i}-\\bar{x}\\right)^{2}}$"
      ]
    },
    {
      "cell_type": "markdown",
      "metadata": {
        "id": "n3xfwWSghH6K",
        "colab_type": "text"
      },
      "source": [
        "![D3AC658E-085B-4565-95BD-412A2CD262AF](https://user-images.githubusercontent.com/8268939/81039810-d2a01d00-8e5e-11ea-9b2e-a775a602b2ac.jpeg)\n"
      ]
    },
    {
      "cell_type": "markdown",
      "metadata": {
        "id": "jxkxyrE-Zji2",
        "colab_type": "text"
      },
      "source": [
        "For a normal distribution let's see how standard deviation varies from the mean\n",
        "\n",
        "The below percentages are for most plots which are normally distributed.\n",
        "\n",
        "![](https://user-images.githubusercontent.com/8268939/81082544-43b7f280-8ea8-11ea-988c-8ade97f1c843.jpeg)\n"
      ]
    },
    {
      "cell_type": "code",
      "metadata": {
        "id": "WmOIllbQhxdH",
        "colab_type": "code",
        "outputId": "22681f2c-120c-41d3-86b0-2af160de9b5c",
        "colab": {
          "base_uri": "https://localhost:8080/",
          "height": 34
        }
      },
      "source": [
        "np.std(weights)"
      ],
      "execution_count": 17,
      "outputs": [
        {
          "output_type": "execute_result",
          "data": {
            "text/plain": [
              "23.1769004174415"
            ]
          },
          "metadata": {
            "tags": []
          },
          "execution_count": 17
        }
      ]
    },
    {
      "cell_type": "markdown",
      "metadata": {
        "id": "o24I_Mxag77c",
        "colab_type": "text"
      },
      "source": [
        "# Covariance & Co-relation"
      ]
    },
    {
      "cell_type": "markdown",
      "metadata": {
        "id": "wpW1HpZZQWig",
        "colab_type": "text"
      },
      "source": [
        "<img width=\"482\" alt=\"image\" src=\"https://user-images.githubusercontent.com/8268939/81138760-fb381d80-8f17-11ea-8a85-e35ba3d45d29.jpeg\">\n",
        "\n",
        "\n",
        "\n",
        "\n"
      ]
    },
    {
      "cell_type": "markdown",
      "metadata": {
        "id": "dePi--NLhF6M",
        "colab_type": "text"
      },
      "source": [
        "## Covariance\n",
        "\n",
        "covariance measures how two variables are dependent on each other. For a positive covariance 2nd variable increases if 1st increases. For negetive one decreases while other increases. \n",
        "\n",
        "$\\operatorname{cov}(X, Y)=\\frac{\\sum_{i=1}^{N}\\left(x_{i}-\\mu_{x}\\right)\\left(y_{i}-\\mu_{y}\\right)}{N}$"
      ]
    },
    {
      "cell_type": "markdown",
      "metadata": {
        "id": "wOnyyLyIham2",
        "colab_type": "text"
      },
      "source": [
        "## Corelation \n",
        "\n",
        "**corelation co-efficient** : value lies always between -1 and 1\n",
        "\n",
        "$\\rho_{x, y}=\\frac{\\operatorname{cov}(X, Y)}{\\sigma_{x}, \\sigma_{y}}$\n",
        "\n",
        "<img width=\"482\" alt=\"image\" src=\"https://user-images.githubusercontent.com/8268939/81138794-173bbf00-8f18-11ea-893e-2fcbdbfb90a1.jpeg\">\n",
        "\n",
        "\n"
      ]
    },
    {
      "cell_type": "code",
      "metadata": {
        "id": "sUpInCPjiR8D",
        "colab_type": "code",
        "outputId": "0ad6e8b2-146e-4953-e828-6a473ff5899b",
        "colab": {
          "base_uri": "https://localhost:8080/",
          "height": 173
        }
      },
      "source": [
        "# Import pandas library \n",
        "import pandas as pd \n",
        "  \n",
        "# initialize list of lists \n",
        "data = [[180, 160], [160, 175], [155, 125], [158, 148]] \n",
        "  \n",
        "# Create the pandas DataFrame \n",
        "df = pd.DataFrame(data, columns = ['Height', 'Weight']) \n",
        "  \n",
        "# print dataframe. \n",
        "df "
      ],
      "execution_count": 0,
      "outputs": [
        {
          "output_type": "execute_result",
          "data": {
            "text/html": [
              "<div>\n",
              "<style scoped>\n",
              "    .dataframe tbody tr th:only-of-type {\n",
              "        vertical-align: middle;\n",
              "    }\n",
              "\n",
              "    .dataframe tbody tr th {\n",
              "        vertical-align: top;\n",
              "    }\n",
              "\n",
              "    .dataframe thead th {\n",
              "        text-align: right;\n",
              "    }\n",
              "</style>\n",
              "<table border=\"1\" class=\"dataframe\">\n",
              "  <thead>\n",
              "    <tr style=\"text-align: right;\">\n",
              "      <th></th>\n",
              "      <th>Height</th>\n",
              "      <th>Weight</th>\n",
              "    </tr>\n",
              "  </thead>\n",
              "  <tbody>\n",
              "    <tr>\n",
              "      <th>0</th>\n",
              "      <td>180</td>\n",
              "      <td>160</td>\n",
              "    </tr>\n",
              "    <tr>\n",
              "      <th>1</th>\n",
              "      <td>160</td>\n",
              "      <td>175</td>\n",
              "    </tr>\n",
              "    <tr>\n",
              "      <th>2</th>\n",
              "      <td>155</td>\n",
              "      <td>125</td>\n",
              "    </tr>\n",
              "    <tr>\n",
              "      <th>3</th>\n",
              "      <td>158</td>\n",
              "      <td>148</td>\n",
              "    </tr>\n",
              "  </tbody>\n",
              "</table>\n",
              "</div>"
            ],
            "text/plain": [
              "   Height  Weight\n",
              "0     180     160\n",
              "1     160     175\n",
              "2     155     125\n",
              "3     158     148"
            ]
          },
          "metadata": {
            "tags": []
          },
          "execution_count": 6
        }
      ]
    },
    {
      "cell_type": "code",
      "metadata": {
        "id": "qc8Gr_-Wjgz-",
        "colab_type": "code",
        "outputId": "72ae02ac-5238-4712-dee9-748e87e4f402",
        "colab": {
          "base_uri": "https://localhost:8080/",
          "height": 53
        }
      },
      "source": [
        "numpy.corrcoef(df['Height'], df['Weight'])"
      ],
      "execution_count": 0,
      "outputs": [
        {
          "output_type": "execute_result",
          "data": {
            "text/plain": [
              "array([[1.        , 0.42121072],\n",
              "       [0.42121072, 1.        ]])"
            ]
          },
          "metadata": {
            "tags": []
          },
          "execution_count": 9
        }
      ]
    },
    {
      "cell_type": "markdown",
      "metadata": {
        "id": "IsjUpL4e79Qx",
        "colab_type": "text"
      },
      "source": [
        "# Random Variable \n",
        "\n",
        "Assigns a numerical value to the outcome of random experiment.\n",
        "\n",
        "![](https://user-images.githubusercontent.com/8268939/81478819-880eff80-91d4-11ea-949a-d990fa5af45b.jpeg)\n",
        "\n"
      ]
    },
    {
      "cell_type": "markdown",
      "metadata": {
        "id": "lfMP7u9jeT1J",
        "colab_type": "text"
      },
      "source": [
        "# Distributions\n",
        "\n",
        "## Histogram \n",
        "\n",
        "Plots frequency of values against values. A histogram can tell following in data \n",
        "\n",
        "![](https://mermaid.ink/img/eyJjb2RlIjoiZ3JhcGggVERcblx0QVtIaXN0b2dyYW1dIC0tPiBCKENlbnRyYWwgVGVuZGFuY3kpXG5cdEEgLS0-IFNwcmVhZFxuICAgIEEgLS0-IE91dGxpZXJzXG4gICAgQSAtLT4gTW9kZXNcblxuIiwibWVybWFpZCI6eyJ0aGVtZSI6ImRlZmF1bHQifSwidXBkYXRlRWRpdG9yIjpmYWxzZX0)\n",
        "\n",
        "## Probability Density Functions\n",
        "\n",
        "- Continuous\n",
        "- Discrete\n",
        "\n",
        "![](https://user-images.githubusercontent.com/8268939/81479176-a37b0a00-91d6-11ea-90f2-b8a5dbbde264.jpeg)\n",
        "\n",
        "\n",
        "## Cumulative Density Function\n",
        "\n",
        "The max on y axis for CDF will be 1 as all the probabilities will add upto 1.\n",
        "\n",
        "![](https://user-images.githubusercontent.com/8268939/81479581-efc74980-91d8-11ea-9d3d-0be4301c51f8.jpeg)\n",
        "\n"
      ]
    },
    {
      "cell_type": "markdown",
      "metadata": {
        "id": "oJ_FgIBkAOmy",
        "colab_type": "text"
      },
      "source": [
        "# Conditional Probability \n",
        "\n",
        "Measure of probability of an event occurring given that another event has occurred. \n",
        "\n",
        "**For dependent Events**\n",
        "\n",
        "$P(\\mathrm{A} | \\mathrm{B})=\\frac{\\mathrm{P}(\\mathrm{A} \\cap \\mathrm{B})}{P(\\mathrm{B})}$\n",
        "\n",
        "$\\mathrm{P}(\\mathrm{A} | \\mathrm{B})=$ Probability of $\\mathrm{A}$, given $\\mathrm{B}$ occurs \n",
        "\n",
        "$\\mathrm{P}(\\mathrm{A} \\cap \\mathrm{B})=$ Probability of \n",
        "$\\mathrm{A}$ and $\\mathrm{B}$ occurring \n",
        "\n",
        "$\\mathrm{P}(\\mathrm{B})=$ Probability of $\\mathrm{B}$\n",
        "\n",
        "**For Independent Events**\n",
        "\n",
        "$P(A | B)=P(A) \\quad$ (if $A$ and $B$ independent)\n",
        "\n",
        "Lets see some example of coin tossings. \n",
        "\n",
        "![](https://user-images.githubusercontent.com/8268939/81362809-95be6b00-9096-11ea-9b73-2a9c8e96f0b3.jpeg)\n",
        "\n",
        "\n",
        "Here is the tree diagram for combinations. \n",
        "\n",
        "Finally if you sum up, all the combinations will result in sum of 1. \n",
        "\n",
        "(1/4) + (1/4) + (1/4) + (1/4) = 1\n",
        "\n",
        "\n",
        "\n"
      ]
    },
    {
      "cell_type": "code",
      "metadata": {
        "id": "BjgLqowBCmmT",
        "colab_type": "code",
        "outputId": "21a6e2c0-2a7f-41a0-8932-364c21b86c67",
        "colab": {
          "base_uri": "https://localhost:8080/",
          "height": 170
        }
      },
      "source": [
        "# Lets see all possible combinations of coin tossings\n",
        "from itertools import product \n",
        "tossings = set(product(['H', 'T'], repeat=3))\n",
        "print(\"All possible combinations of coin 3 tossings\")\n",
        "tossings"
      ],
      "execution_count": 0,
      "outputs": [
        {
          "output_type": "stream",
          "text": [
            "All possible combinations of coin 3 tossings\n"
          ],
          "name": "stdout"
        },
        {
          "output_type": "execute_result",
          "data": {
            "text/plain": [
              "{('H', 'H', 'H'),\n",
              " ('H', 'H', 'T'),\n",
              " ('H', 'T', 'H'),\n",
              " ('H', 'T', 'T'),\n",
              " ('T', 'H', 'H'),\n",
              " ('T', 'H', 'T'),\n",
              " ('T', 'T', 'H'),\n",
              " ('T', 'T', 'T')}"
            ]
          },
          "metadata": {
            "tags": []
          },
          "execution_count": 38
        }
      ]
    },
    {
      "cell_type": "code",
      "metadata": {
        "id": "gOnz8PlFCr5Y",
        "colab_type": "code",
        "outputId": "dbdfd0cf-7ff2-4dcb-f517-69ed56df183d",
        "colab": {
          "base_uri": "https://localhost:8080/",
          "height": 34
        }
      },
      "source": [
        "# filter by 1st trail is Head\n",
        "first_head = {item for item in tossings if item[0] == 'H'}\n",
        "first_head"
      ],
      "execution_count": 0,
      "outputs": [
        {
          "output_type": "execute_result",
          "data": {
            "text/plain": [
              "{('H', 'H', 'H'), ('H', 'H', 'T'), ('H', 'T', 'H'), ('H', 'T', 'T')}"
            ]
          },
          "metadata": {
            "tags": []
          },
          "execution_count": 41
        }
      ]
    },
    {
      "cell_type": "code",
      "metadata": {
        "id": "9aFzkjCyOSLR",
        "colab_type": "code",
        "outputId": "a6962ea3-c729-4c7d-9851-0d425de87a77",
        "colab": {
          "base_uri": "https://localhost:8080/",
          "height": 34
        }
      },
      "source": [
        "two_head = {item for item in tossings if item.count('H') == 2}\n",
        "two_head"
      ],
      "execution_count": 0,
      "outputs": [
        {
          "output_type": "execute_result",
          "data": {
            "text/plain": [
              "{('H', 'H', 'T'), ('H', 'T', 'H'), ('T', 'H', 'H')}"
            ]
          },
          "metadata": {
            "tags": []
          },
          "execution_count": 42
        }
      ]
    },
    {
      "cell_type": "code",
      "metadata": {
        "id": "EJRwjLg9Pqip",
        "colab_type": "code",
        "colab": {}
      },
      "source": [
        "# p(first_head / two_head) : probability of first one being head given there are 2 heads\n",
        "\n",
        "def probability(items):\n",
        "  return len(items) / len(tossings)"
      ],
      "execution_count": 0,
      "outputs": []
    },
    {
      "cell_type": "code",
      "metadata": {
        "id": "7mDHBlbEQGEb",
        "colab_type": "code",
        "colab": {}
      },
      "source": [
        "def conditional_probability(A, B):\n",
        "  return len(A & B) / len(B)"
      ],
      "execution_count": 0,
      "outputs": []
    },
    {
      "cell_type": "code",
      "metadata": {
        "id": "rqgi8tFnQhhU",
        "colab_type": "code",
        "outputId": "d6207e59-f270-4eac-de30-8e2d87f3849f",
        "colab": {
          "base_uri": "https://localhost:8080/",
          "height": 34
        }
      },
      "source": [
        "probability(first_head)"
      ],
      "execution_count": 0,
      "outputs": [
        {
          "output_type": "execute_result",
          "data": {
            "text/plain": [
              "0.5"
            ]
          },
          "metadata": {
            "tags": []
          },
          "execution_count": 48
        }
      ]
    },
    {
      "cell_type": "code",
      "metadata": {
        "id": "lG60VyXxQkRs",
        "colab_type": "code",
        "outputId": "9fa209b5-9587-410b-de65-5f346fe06c0c",
        "colab": {
          "base_uri": "https://localhost:8080/",
          "height": 34
        }
      },
      "source": [
        "probability(two_head)"
      ],
      "execution_count": 0,
      "outputs": [
        {
          "output_type": "execute_result",
          "data": {
            "text/plain": [
              "0.375"
            ]
          },
          "metadata": {
            "tags": []
          },
          "execution_count": 49
        }
      ]
    },
    {
      "cell_type": "code",
      "metadata": {
        "id": "gx_-uywOQoPL",
        "colab_type": "code",
        "outputId": "6b3d1a71-9ee5-4923-b8d6-ec64e848b3d9",
        "colab": {
          "base_uri": "https://localhost:8080/",
          "height": 34
        }
      },
      "source": [
        "conditional_probability(first_head, two_head)"
      ],
      "execution_count": 0,
      "outputs": [
        {
          "output_type": "execute_result",
          "data": {
            "text/plain": [
              "0.6666666666666666"
            ]
          },
          "metadata": {
            "tags": []
          },
          "execution_count": 51
        }
      ]
    },
    {
      "cell_type": "markdown",
      "metadata": {
        "id": "QAAMfNvvaOHl",
        "colab_type": "text"
      },
      "source": [
        "# Central Limit Theorem\n",
        "\n",
        "> The distribution of mean of all the samples will be normal distribution even if actual population is not normal.\n"
      ]
    },
    {
      "cell_type": "code",
      "metadata": {
        "id": "HCNnWtFzgS3U",
        "colab_type": "code",
        "outputId": "9ce01f55-de0a-48db-ed7b-277747c17b8f",
        "colab": {
          "base_uri": "https://localhost:8080/",
          "height": 278
        }
      },
      "source": [
        "import numpy as np\n",
        "import pandas as pd\n",
        "from numpy.random import seed\n",
        "from numpy.random import randint\n",
        "from numpy import mean\n",
        "import seaborn as sns\n",
        "import matplotlib.pyplot as plt\n",
        "\n",
        "# seed the random number generator\n",
        "seed(1)\n",
        "# generate a sample of weights of population\n",
        "weights = randint(low=120, high=200, size=10000)\n",
        "print('The average weight is {} pounds'.format(mean(weights)))\n",
        "\n",
        "weight_df = pd.DataFrame(data={'weight_in_pounds': weights})\n",
        "\n",
        "weight_df.head()"
      ],
      "execution_count": 0,
      "outputs": [
        {
          "output_type": "stream",
          "text": [
            "The average weight is 159.6552 pounds\n"
          ],
          "name": "stdout"
        },
        {
          "output_type": "stream",
          "text": [
            "/usr/local/lib/python3.6/dist-packages/statsmodels/tools/_testing.py:19: FutureWarning: pandas.util.testing is deprecated. Use the functions in the public API at pandas.testing instead.\n",
            "  import pandas.util.testing as tm\n"
          ],
          "name": "stderr"
        },
        {
          "output_type": "execute_result",
          "data": {
            "text/html": [
              "<div>\n",
              "<style scoped>\n",
              "    .dataframe tbody tr th:only-of-type {\n",
              "        vertical-align: middle;\n",
              "    }\n",
              "\n",
              "    .dataframe tbody tr th {\n",
              "        vertical-align: top;\n",
              "    }\n",
              "\n",
              "    .dataframe thead th {\n",
              "        text-align: right;\n",
              "    }\n",
              "</style>\n",
              "<table border=\"1\" class=\"dataframe\">\n",
              "  <thead>\n",
              "    <tr style=\"text-align: right;\">\n",
              "      <th></th>\n",
              "      <th>weight_in_pounds</th>\n",
              "    </tr>\n",
              "  </thead>\n",
              "  <tbody>\n",
              "    <tr>\n",
              "      <th>0</th>\n",
              "      <td>157</td>\n",
              "    </tr>\n",
              "    <tr>\n",
              "      <th>1</th>\n",
              "      <td>132</td>\n",
              "    </tr>\n",
              "    <tr>\n",
              "      <th>2</th>\n",
              "      <td>192</td>\n",
              "    </tr>\n",
              "    <tr>\n",
              "      <th>3</th>\n",
              "      <td>129</td>\n",
              "    </tr>\n",
              "    <tr>\n",
              "      <th>4</th>\n",
              "      <td>195</td>\n",
              "    </tr>\n",
              "  </tbody>\n",
              "</table>\n",
              "</div>"
            ],
            "text/plain": [
              "   weight_in_pounds\n",
              "0               157\n",
              "1               132\n",
              "2               192\n",
              "3               129\n",
              "4               195"
            ]
          },
          "metadata": {
            "tags": []
          },
          "execution_count": 2
        }
      ]
    },
    {
      "cell_type": "code",
      "metadata": {
        "id": "3hOBRYXs8R8T",
        "colab_type": "code",
        "outputId": "5d3a587a-830c-4c1b-96fc-4e5e17d8ab7a",
        "colab": {
          "base_uri": "https://localhost:8080/",
          "height": 295
        }
      },
      "source": [
        "# Lets visualize the population weight frequency graph\n",
        "\n",
        "sns.distplot(weight_df['weight_in_pounds'], color=\"blue\")\n",
        "plt.xlabel(\"random variable of weights\")\n",
        "plt.ylabel(\"probability of occurence\")\n",
        "plt.title(\"Distribution of weight of people\");"
      ],
      "execution_count": 0,
      "outputs": [
        {
          "output_type": "display_data",
          "data": {
            "image/png": "[encoded data removed]",
            "text/plain": [
              "<Figure size 432x288 with 1 Axes>"
            ]
          },
          "metadata": {
            "tags": [],
            "needs_background": "light"
          }
        }
      ]
    },
    {
      "cell_type": "markdown",
      "metadata": {
        "id": "mGZ3mXDX9Gi3",
        "colab_type": "text"
      },
      "source": [
        "Lets collect the mean of all the samples taken from the population"
      ]
    },
    {
      "cell_type": "code",
      "metadata": {
        "id": "rqqk4FXYixcf",
        "colab_type": "code",
        "outputId": "6154ada9-b919-4ff1-8423-20e059548be6",
        "colab": {
          "base_uri": "https://localhost:8080/",
          "height": 863
        }
      },
      "source": [
        "no_of_samples_list = [20, 100, 1000] # total samples n\n",
        "total_mean_list = [] # to store mean of each sample caclulated\n",
        "mean_of_mean_list = [] \n",
        "\n",
        "for n in no_of_samples_list:\n",
        "  mean_list_given_sample_num = []\n",
        "  for sample_no in range(n):\n",
        "    curr_sample = np.random.choice(weight_df['weight_in_pounds'], size = 100) # each sample size k\n",
        "    mean = np.mean(curr_sample)\n",
        "    mean_list_given_sample_num.append(mean)\n",
        "  total_mean_list.append(mean_list_given_sample_num)\n",
        "  mean_of_mean_list.append(np.mean(mean_list_given_sample_num))\n",
        "  \n",
        "# Lets view the distribution and frequency of mean of this samples \n",
        "\n",
        "# Make the graph 40 inches by 40 inches\n",
        "# fig, ax = plt.subplots(nrows=1, ncols=3, figsize=(15,5), sharex=True)\n",
        "\n",
        "# plot numbering starts at 1\n",
        "plot_number=1\n",
        "for mean_list in total_mean_list:\n",
        "    ax = sns.distplot(mean_list, color=\"blue\")\n",
        "    print(\"plt number {} and mean of mean {}\".format(plot_number, np.mean(mean_list)))\n",
        "    ax.set_title(\"no of samples {}\".format(len(mean_list)))\n",
        "    # Go to the next plot for the next loop\n",
        "    plot_number = plot_number + 1\n",
        "    plt.show()"
      ],
      "execution_count": 0,
      "outputs": [
        {
          "output_type": "stream",
          "text": [
            "plt number 1 and mean of mean 158.977\n"
          ],
          "name": "stdout"
        },
        {
          "output_type": "display_data",
          "data": {
            "image/png": "[encoded data removed]",
            "text/plain": [
              "<Figure size 432x288 with 1 Axes>"
            ]
          },
          "metadata": {
            "tags": [],
            "needs_background": "light"
          }
        },
        {
          "output_type": "stream",
          "text": [
            "plt number 2 and mean of mean 159.8567\n"
          ],
          "name": "stdout"
        },
        {
          "output_type": "display_data",
          "data": {
            "image/png": "[encoded data removed]",
            "text/plain": [
              "<Figure size 432x288 with 1 Axes>"
            ]
          },
          "metadata": {
            "tags": [],
            "needs_background": "light"
          }
        },
        {
          "output_type": "stream",
          "text": [
            "plt number 3 and mean of mean 159.63302000000002\n"
          ],
          "name": "stdout"
        },
        {
          "output_type": "display_data",
          "data": {
            "image/png": "[encoded data removed]",
            "text/plain": [
              "<Figure size 432x288 with 1 Axes>"
            ]
          },
          "metadata": {
            "tags": [],
            "needs_background": "light"
          }
        }
      ]
    },
    {
      "cell_type": "markdown",
      "metadata": {
        "id": "Kklv2jQwLbAm",
        "colab_type": "text"
      },
      "source": [
        "> when the number of samples increased, the distribution of mean of samples tends to become normal distribution function.\n",
        "\n",
        "Lets see the mean of means for different no of samples values."
      ]
    },
    {
      "cell_type": "code",
      "metadata": {
        "id": "viwD5BjVQIOX",
        "colab_type": "code",
        "outputId": "5f84a0a9-3733-4f04-e134-000a69e99f02",
        "colab": {
          "base_uri": "https://localhost:8080/",
          "height": 35
        }
      },
      "source": [
        "mean_of_mean_list"
      ],
      "execution_count": 0,
      "outputs": [
        {
          "output_type": "execute_result",
          "data": {
            "text/plain": [
              "[160.49999999999997, 159.65560000000002, 159.65964000000002]"
            ]
          },
          "metadata": {
            "tags": []
          },
          "execution_count": 10
        }
      ]
    },
    {
      "cell_type": "markdown",
      "metadata": {
        "id": "NqTRkJBzj8J0",
        "colab_type": "text"
      },
      "source": [
        "Lets visualize all the 3 in single plot to compare."
      ]
    },
    {
      "cell_type": "code",
      "metadata": {
        "id": "65r-_U7BkAdU",
        "colab_type": "code",
        "outputId": "c15ccef4-6f39-479f-8c8f-78c9811e13c1",
        "colab": {
          "base_uri": "https://localhost:8080/",
          "height": 304
        }
      },
      "source": [
        "sns.distplot(total_mean_list[0], label=\"mean of samples for $n={}$\".format(no_of_samples_list[0]))\n",
        "sns.distplot(total_mean_list[1], label=\"mean of samples for $n={}$\".format(no_of_samples_list[1]))\n",
        "sns.distplot(total_mean_list[2], label=\"mean of samples for $n={}$\".format(no_of_samples_list[2]))\n",
        "plt.title(\"Distribution of Sample Means of People's Mass in Pounds\", y=1.015, fontsize=20)\n",
        "plt.xlabel(\"sample mean mass [pounds]\")\n",
        "plt.ylabel(\"frequency of occurence\")\n",
        "plt.legend();"
      ],
      "execution_count": 0,
      "outputs": [
        {
          "output_type": "display_data",
          "data": {
            "image/png": "[encoded data removed]",
            "text/plain": [
              "<Figure size 432x288 with 1 Axes>"
            ]
          },
          "metadata": {
            "tags": [],
            "needs_background": "light"
          }
        }
      ]
    },
    {
      "cell_type": "markdown",
      "metadata": {
        "id": "Ng3rZ-3YoG1Z",
        "colab_type": "text"
      },
      "source": [
        "# References\n",
        "\n",
        "https://dfrieds.com/math/central-limit-theorem.html"
      ]
    }
  ]
}