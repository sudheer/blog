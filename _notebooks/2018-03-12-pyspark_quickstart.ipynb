{
 "cells": [
  {
   "cell_type": "markdown",
   "metadata": {},
   "source": [
    "# \"Pyspark quickstart\"\n",
    "> \"pyspark quickstart\"\n",
    "\n",
    "- toc:true\n",
    "- branch: master\n",
    "- badges: true\n",
    "- comments: true\n",
    "- categories: [computing]\n",
    "- tags: [spark, python]"
   ]
  },
  {
   "cell_type": "markdown",
   "metadata": {},
   "source": [
    "## Creating RDD"
   ]
  },
  {
   "cell_type": "code",
   "execution_count": 5,
   "metadata": {
    "ExecuteTime": {
     "end_time": "2020-04-02T14:52:09.066964Z",
     "start_time": "2020-04-02T14:52:08.230730Z"
    }
   },
   "outputs": [
    {
     "data": {
      "text/html": [
       "<div id=\"pm_overallContainer609078d3\" style=\"display:none\">\n",
       "    <table width=\"100%\" style=\"border:0px\">\n",
       "        <tr style=\"border:0px\">\n",
       "            <td width=\"20px\" style=\"border:0px\"><span id=\"twistie609078d3\" style=\"color:blue;font-size:x-large;cursor:pointer\">&#9656;</span></td>\n",
       "            <td width=\"130px\" style=\"text-align:left;border:0px\"><span id=\"pm_overallJobName609078d3\"></span>:</td>\n",
       "            <td width=\"calc(100% - 150px)\" style=\"border:0px\"><progress id=\"pm_overallProgress609078d3\" max=\"100\" value=\"0\" style=\"width:100%\"></progress></td>\n",
       "        </tr>\n",
       "    </table>\n",
       "</div>\n",
       "<div id=\"pm_container609078d3\" style=\"display:none\">\n",
       "    <ul class=\"nav nav-tabs\" id=\"progressMonitors609078d3\">\n",
       "    </ul>\n",
       "    <div class=\"tab-content\" id=\"tabContent609078d3\">\n",
       "    </div>\n",
       "</div>\n",
       "\n",
       "<script>\n",
       "$(\"#twistie609078d3\").click(function(){\n",
       "    visible = $(\"#pm_container609078d3\").is(':visible');\n",
       "    $(\"#pm_container609078d3\").slideToggle(\"slow\");\n",
       "    $(this).html(visible?\"&#9656;\":\"&#9662;\")\n",
       "});\n",
       "</script>"
      ],
      "text/plain": [
       "<IPython.core.display.HTML object>"
      ]
     },
     "metadata": {},
     "output_type": "display_data"
    },
    {
     "data": {
      "application/javascript": [
       "\n",
       "\n",
       "$(\"#pm_container609078d3\").css(\"border\",\"1px solid #dddddd\").css(\"padding\",\"10px\")\n",
       "var jobName = 'Job 2 (1 '+\n",
       "             'Stage'+  ')'\n",
       "$(\"#pm_overallContainer609078d3\").show();\n",
       "$(\"#pm_overallJobName609078d3\").text(jobName);\n",
       "$(\"#pm_overallProgress609078d3\").attr(\"max\", 12).attr(\"value\",0);\n",
       "$(\"#progressMonitors609078d3\").append(\n",
       "    '<li>'+\n",
       "        '<a style=\"padding: 5px 5px;font-size: 12px;\" data-toggle=\"tab\" href=\"#menu609078d32\">'+\n",
       "            jobName +\n",
       "        '</a>'+\n",
       "    '</li>'\n",
       ");\n",
       "\n",
       "$(\"#tabContent609078d3\").append(\n",
       "'<div id=\"menu609078d32\" class=\"tab-pane fade in active\">'+\n",
       "    '<table>' + \n",
       "        '<thead>' +\n",
       "            '<tr>' +\n",
       "                '<th style=\"text-align:center\">Stage</th>' +\n",
       "                '<th style=\"text-align:center\">Progress</th>' +\n",
       "                '<th style=\"text-align:center\">Executor</th>' +\n",
       "                '<th style=\"text-align:center\">Details</th>' +\n",
       "            '</tr>' +\n",
       "        '</thead>' +\n",
       "        '<tbody>' + \n",
       "        \n",
       "            '<tr>        <td style=\"max-width:200px\">            Stage 2 <span id=\"progressNumTask609078d32\">0</span>/12:        </td>        <td style=\"max-width: 300px\">            <progress id=\"progress609078d32\" max=\"12\" value=\"0\" style=\"width:200px\"></progress>        </td>        <td>            <span id=\"host609078d32\"></span>        </td>        <td>            <i title=\"org.apache.spark.rdd.RDD.collect(RDD.scala:989)\\norg.apache.spark.api.python.PythonRDD$.collectAndServe(PythonRDD.scala:166)\\norg.apache.spark.api.python.PythonRDD.collectAndServe(PythonRDD.scala)\\nsun.reflect.NativeMethodAccessorImpl.invoke0(Native Method)\\nsun.reflect.NativeMethodAccessorImpl.invoke(NativeMethodAccessorImpl.java:62)\\nsun.reflect.DelegatingMethodAccessorImpl.invoke(DelegatingMethodAccessorImpl.java:43)\\njava.lang.reflect.Method.invoke(Method.java:498)\\npy4j.reflection.MethodInvoker.invoke(MethodInvoker.java:244)\\npy4j.reflection.ReflectionEngine.invoke(ReflectionEngine.java:357)\\npy4j.Gateway.invoke(Gateway.java:282)\\npy4j.commands.AbstractCommand.invokeMethod(AbstractCommand.java:132)\\npy4j.commands.CallCommand.execute(CallCommand.java:79)\\npy4j.GatewayConnection.run(GatewayConnection.java:238)\\njava.lang.Thread.run(Thread.java:748)\" class=\"fa fa-info-circle\"></i>            <span id=\"status609078d32\">Not Started</span>        </td>    </tr>'+\n",
       "        \n",
       "        '</tbody>' +\n",
       "    '</table>' +\n",
       "'</div>'\n",
       ")\n",
       "\n",
       "$('.nav-tabs a[href=\"#menu609078d32\"]').tab('show');\n"
      ],
      "text/plain": [
       "<IPython.core.display.Javascript object>"
      ]
     },
     "metadata": {},
     "output_type": "display_data"
    },
    {
     "data": {
      "application/javascript": [
       "$(\"#status609078d32\").text(\"Submitted\")\n",
       "\n",
       "\n",
       "function incProgress(id){\n",
       "    var n = $(id);\n",
       "    n.attr(\"value\", parseInt( n.attr(\"value\")) + 12);\n",
       "}\n",
       "incProgress(\"#progress609078d32\");\n",
       "incProgress(\"#pm_overallProgress609078d3\");\n",
       "$(\"#progressNumTask609078d32\").text(\"12\");\n",
       "$(\"#status609078d32\").text(\"Running\")\n",
       "\n",
       "\n",
       "$(\"#host609078d32\").text(\"827606604(17.58.166.145)\")\n",
       "\n"
      ],
      "text/plain": [
       "<IPython.core.display.Javascript object>"
      ]
     },
     "metadata": {},
     "output_type": "display_data"
    },
    {
     "data": {
      "text/plain": [
       "[1, 2, 3, 4, 5]"
      ]
     },
     "execution_count": 5,
     "metadata": {},
     "output_type": "execute_result"
    },
    {
     "data": {
      "application/javascript": [
       "$(\"#status609078d32\").text(\"Completed\")\n",
       "\n",
       "\n",
       "$(\"#menu609078d32 [id^=status609078d3]\").each(function(){\n",
       "    if ($(this).text() == \"Not Started\"){\n",
       "        $(this).text(\"Skipped\");\n",
       "    }\n",
       "})\n",
       "\n",
       "var n = $(\"#pm_overallProgress609078d3\");\n",
       "n.attr(\"value\", parseInt(n.attr(\"max\")))\n"
      ],
      "text/plain": [
       "<IPython.core.display.Javascript object>"
      ]
     },
     "metadata": {},
     "output_type": "display_data"
    }
   ],
   "source": [
    "# from list\n",
    "parallelRdd = sc.parallelize([1,2,3,4,5])\n",
    "parallelRdd.collect()"
   ]
  },
  {
   "cell_type": "code",
   "execution_count": 6,
   "metadata": {
    "ExecuteTime": {
     "end_time": "2020-04-02T14:52:35.870504Z",
     "start_time": "2020-04-02T14:52:35.497569Z"
    }
   },
   "outputs": [
    {
     "data": {
      "text/html": [
       "<div id=\"pm_overallContainer73966787\" style=\"display:none\">\n",
       "    <table width=\"100%\" style=\"border:0px\">\n",
       "        <tr style=\"border:0px\">\n",
       "            <td width=\"20px\" style=\"border:0px\"><span id=\"twistie73966787\" style=\"color:blue;font-size:x-large;cursor:pointer\">&#9656;</span></td>\n",
       "            <td width=\"130px\" style=\"text-align:left;border:0px\"><span id=\"pm_overallJobName73966787\"></span>:</td>\n",
       "            <td width=\"calc(100% - 150px)\" style=\"border:0px\"><progress id=\"pm_overallProgress73966787\" max=\"100\" value=\"0\" style=\"width:100%\"></progress></td>\n",
       "        </tr>\n",
       "    </table>\n",
       "</div>\n",
       "<div id=\"pm_container73966787\" style=\"display:none\">\n",
       "    <ul class=\"nav nav-tabs\" id=\"progressMonitors73966787\">\n",
       "    </ul>\n",
       "    <div class=\"tab-content\" id=\"tabContent73966787\">\n",
       "    </div>\n",
       "</div>\n",
       "\n",
       "<script>\n",
       "$(\"#twistie73966787\").click(function(){\n",
       "    visible = $(\"#pm_container73966787\").is(':visible');\n",
       "    $(\"#pm_container73966787\").slideToggle(\"slow\");\n",
       "    $(this).html(visible?\"&#9656;\":\"&#9662;\")\n",
       "});\n",
       "</script>"
      ],
      "text/plain": [
       "<IPython.core.display.HTML object>"
      ]
     },
     "metadata": {},
     "output_type": "display_data"
    },
    {
     "data": {
      "application/javascript": [
       "\n",
       "\n",
       "$(\"#pm_container73966787\").css(\"border\",\"1px solid #dddddd\").css(\"padding\",\"10px\")\n",
       "var jobName = 'Job 3 (1 '+\n",
       "             'Stage'+  ')'\n",
       "$(\"#pm_overallContainer73966787\").show();\n",
       "$(\"#pm_overallJobName73966787\").text(jobName);\n",
       "$(\"#pm_overallProgress73966787\").attr(\"max\", 12).attr(\"value\",0);\n",
       "$(\"#progressMonitors73966787\").append(\n",
       "    '<li>'+\n",
       "        '<a style=\"padding: 5px 5px;font-size: 12px;\" data-toggle=\"tab\" href=\"#menu739667873\">'+\n",
       "            jobName +\n",
       "        '</a>'+\n",
       "    '</li>'\n",
       ");\n",
       "\n",
       "$(\"#tabContent73966787\").append(\n",
       "'<div id=\"menu739667873\" class=\"tab-pane fade in active\">'+\n",
       "    '<table>' + \n",
       "        '<thead>' +\n",
       "            '<tr>' +\n",
       "                '<th style=\"text-align:center\">Stage</th>' +\n",
       "                '<th style=\"text-align:center\">Progress</th>' +\n",
       "                '<th style=\"text-align:center\">Executor</th>' +\n",
       "                '<th style=\"text-align:center\">Details</th>' +\n",
       "            '</tr>' +\n",
       "        '</thead>' +\n",
       "        '<tbody>' + \n",
       "        \n",
       "            '<tr>        <td style=\"max-width:200px\">            Stage 3 <span id=\"progressNumTask739667873\">0</span>/12:        </td>        <td style=\"max-width: 300px\">            <progress id=\"progress739667873\" max=\"12\" value=\"0\" style=\"width:200px\"></progress>        </td>        <td>            <span id=\"host739667873\"></span>        </td>        <td>            <i title=\"org.apache.spark.rdd.RDD.collect(RDD.scala:989)\\norg.apache.spark.api.python.PythonRDD$.collectAndServe(PythonRDD.scala:166)\\norg.apache.spark.api.python.PythonRDD.collectAndServe(PythonRDD.scala)\\nsun.reflect.NativeMethodAccessorImpl.invoke0(Native Method)\\nsun.reflect.NativeMethodAccessorImpl.invoke(NativeMethodAccessorImpl.java:62)\\nsun.reflect.DelegatingMethodAccessorImpl.invoke(DelegatingMethodAccessorImpl.java:43)\\njava.lang.reflect.Method.invoke(Method.java:498)\\npy4j.reflection.MethodInvoker.invoke(MethodInvoker.java:244)\\npy4j.reflection.ReflectionEngine.invoke(ReflectionEngine.java:357)\\npy4j.Gateway.invoke(Gateway.java:282)\\npy4j.commands.AbstractCommand.invokeMethod(AbstractCommand.java:132)\\npy4j.commands.CallCommand.execute(CallCommand.java:79)\\npy4j.GatewayConnection.run(GatewayConnection.java:238)\\njava.lang.Thread.run(Thread.java:748)\" class=\"fa fa-info-circle\"></i>            <span id=\"status739667873\">Not Started</span>        </td>    </tr>'+\n",
       "        \n",
       "        '</tbody>' +\n",
       "    '</table>' +\n",
       "'</div>'\n",
       ")\n",
       "\n",
       "$('.nav-tabs a[href=\"#menu739667873\"]').tab('show');\n"
      ],
      "text/plain": [
       "<IPython.core.display.Javascript object>"
      ]
     },
     "metadata": {},
     "output_type": "display_data"
    },
    {
     "data": {
      "text/plain": [
       "['a', 'b', 'c']"
      ]
     },
     "execution_count": 6,
     "metadata": {},
     "output_type": "execute_result"
    },
    {
     "data": {
      "application/javascript": [
       "$(\"#status739667873\").text(\"Submitted\")\n",
       "\n",
       "\n",
       "function incProgress(id){\n",
       "    var n = $(id);\n",
       "    n.attr(\"value\", parseInt( n.attr(\"value\")) + 12);\n",
       "}\n",
       "incProgress(\"#progress739667873\");\n",
       "incProgress(\"#pm_overallProgress73966787\");\n",
       "$(\"#progressNumTask739667873\").text(\"12\");\n",
       "$(\"#status739667873\").text(\"Running\")\n",
       "\n",
       "\n",
       "$(\"#host739667873\").text(\"1323707573(17.58.166.36)\")\n",
       "\n",
       "$(\"#status739667873\").text(\"Completed\")\n",
       "\n",
       "\n",
       "$(\"#menu739667873 [id^=status73966787]\").each(function(){\n",
       "    if ($(this).text() == \"Not Started\"){\n",
       "        $(this).text(\"Skipped\");\n",
       "    }\n",
       "})\n",
       "\n",
       "var n = $(\"#pm_overallProgress73966787\");\n",
       "n.attr(\"value\", parseInt(n.attr(\"max\")))\n"
      ],
      "text/plain": [
       "<IPython.core.display.Javascript object>"
      ]
     },
     "metadata": {},
     "output_type": "display_data"
    }
   ],
   "source": [
    "# from tuple\n",
    "rdd = sc.parallelize(('a','b','c'))\n",
    "rdd.collect()"
   ]
  },
  {
   "cell_type": "code",
   "execution_count": 7,
   "metadata": {
    "ExecuteTime": {
     "end_time": "2020-04-02T14:53:23.962446Z",
     "start_time": "2020-04-02T14:53:23.538677Z"
    }
   },
   "outputs": [
    {
     "data": {
      "text/html": [
       "<div id=\"pm_overallContainer86c1fab5\" style=\"display:none\">\n",
       "    <table width=\"100%\" style=\"border:0px\">\n",
       "        <tr style=\"border:0px\">\n",
       "            <td width=\"20px\" style=\"border:0px\"><span id=\"twistie86c1fab5\" style=\"color:blue;font-size:x-large;cursor:pointer\">&#9656;</span></td>\n",
       "            <td width=\"130px\" style=\"text-align:left;border:0px\"><span id=\"pm_overallJobName86c1fab5\"></span>:</td>\n",
       "            <td width=\"calc(100% - 150px)\" style=\"border:0px\"><progress id=\"pm_overallProgress86c1fab5\" max=\"100\" value=\"0\" style=\"width:100%\"></progress></td>\n",
       "        </tr>\n",
       "    </table>\n",
       "</div>\n",
       "<div id=\"pm_container86c1fab5\" style=\"display:none\">\n",
       "    <ul class=\"nav nav-tabs\" id=\"progressMonitors86c1fab5\">\n",
       "    </ul>\n",
       "    <div class=\"tab-content\" id=\"tabContent86c1fab5\">\n",
       "    </div>\n",
       "</div>\n",
       "\n",
       "<script>\n",
       "$(\"#twistie86c1fab5\").click(function(){\n",
       "    visible = $(\"#pm_container86c1fab5\").is(':visible');\n",
       "    $(\"#pm_container86c1fab5\").slideToggle(\"slow\");\n",
       "    $(this).html(visible?\"&#9656;\":\"&#9662;\")\n",
       "});\n",
       "</script>"
      ],
      "text/plain": [
       "<IPython.core.display.HTML object>"
      ]
     },
     "metadata": {},
     "output_type": "display_data"
    },
    {
     "data": {
      "application/javascript": [
       "\n",
       "\n",
       "$(\"#pm_container86c1fab5\").css(\"border\",\"1px solid #dddddd\").css(\"padding\",\"10px\")\n",
       "var jobName = 'Job 4 (1 '+\n",
       "             'Stage'+  ')'\n",
       "$(\"#pm_overallContainer86c1fab5\").show();\n",
       "$(\"#pm_overallJobName86c1fab5\").text(jobName);\n",
       "$(\"#pm_overallProgress86c1fab5\").attr(\"max\", 12).attr(\"value\",0);\n",
       "$(\"#progressMonitors86c1fab5\").append(\n",
       "    '<li>'+\n",
       "        '<a style=\"padding: 5px 5px;font-size: 12px;\" data-toggle=\"tab\" href=\"#menu86c1fab54\">'+\n",
       "            jobName +\n",
       "        '</a>'+\n",
       "    '</li>'\n",
       ");\n",
       "\n",
       "$(\"#tabContent86c1fab5\").append(\n",
       "'<div id=\"menu86c1fab54\" class=\"tab-pane fade in active\">'+\n",
       "    '<table>' + \n",
       "        '<thead>' +\n",
       "            '<tr>' +\n",
       "                '<th style=\"text-align:center\">Stage</th>' +\n",
       "                '<th style=\"text-align:center\">Progress</th>' +\n",
       "                '<th style=\"text-align:center\">Executor</th>' +\n",
       "                '<th style=\"text-align:center\">Details</th>' +\n",
       "            '</tr>' +\n",
       "        '</thead>' +\n",
       "        '<tbody>' + \n",
       "        \n",
       "            '<tr>        <td style=\"max-width:200px\">            Stage 4 <span id=\"progressNumTask86c1fab54\">0</span>/12:        </td>        <td style=\"max-width: 300px\">            <progress id=\"progress86c1fab54\" max=\"12\" value=\"0\" style=\"width:200px\"></progress>        </td>        <td>            <span id=\"host86c1fab54\"></span>        </td>        <td>            <i title=\"org.apache.spark.rdd.RDD.collect(RDD.scala:989)\\norg.apache.spark.api.python.PythonRDD$.collectAndServe(PythonRDD.scala:166)\\norg.apache.spark.api.python.PythonRDD.collectAndServe(PythonRDD.scala)\\nsun.reflect.NativeMethodAccessorImpl.invoke0(Native Method)\\nsun.reflect.NativeMethodAccessorImpl.invoke(NativeMethodAccessorImpl.java:62)\\nsun.reflect.DelegatingMethodAccessorImpl.invoke(DelegatingMethodAccessorImpl.java:43)\\njava.lang.reflect.Method.invoke(Method.java:498)\\npy4j.reflection.MethodInvoker.invoke(MethodInvoker.java:244)\\npy4j.reflection.ReflectionEngine.invoke(ReflectionEngine.java:357)\\npy4j.Gateway.invoke(Gateway.java:282)\\npy4j.commands.AbstractCommand.invokeMethod(AbstractCommand.java:132)\\npy4j.commands.CallCommand.execute(CallCommand.java:79)\\npy4j.GatewayConnection.run(GatewayConnection.java:238)\\njava.lang.Thread.run(Thread.java:748)\" class=\"fa fa-info-circle\"></i>            <span id=\"status86c1fab54\">Not Started</span>        </td>    </tr>'+\n",
       "        \n",
       "        '</tbody>' +\n",
       "    '</table>' +\n",
       "'</div>'\n",
       ")\n",
       "\n",
       "$('.nav-tabs a[href=\"#menu86c1fab54\"]').tab('show');\n"
      ],
      "text/plain": [
       "<IPython.core.display.Javascript object>"
      ]
     },
     "metadata": {},
     "output_type": "display_data"
    },
    {
     "data": {
      "text/plain": [
       "['a', 'b', 'c', 'd']"
      ]
     },
     "execution_count": 7,
     "metadata": {},
     "output_type": "execute_result"
    },
    {
     "data": {
      "application/javascript": [
       "$(\"#status86c1fab54\").text(\"Submitted\")\n",
       "\n",
       "\n",
       "function incProgress(id){\n",
       "    var n = $(id);\n",
       "    n.attr(\"value\", parseInt( n.attr(\"value\")) + 12);\n",
       "}\n",
       "incProgress(\"#progress86c1fab54\");\n",
       "incProgress(\"#pm_overallProgress86c1fab5\");\n",
       "$(\"#progressNumTask86c1fab54\").text(\"12\");\n",
       "$(\"#status86c1fab54\").text(\"Running\")\n",
       "\n",
       "\n",
       "$(\"#host86c1fab54\").text(\"827606604(17.58.166.145)\")\n",
       "\n",
       "$(\"#status86c1fab54\").text(\"Completed\")\n",
       "\n",
       "\n",
       "$(\"#menu86c1fab54 [id^=status86c1fab5]\").each(function(){\n",
       "    if ($(this).text() == \"Not Started\"){\n",
       "        $(this).text(\"Skipped\");\n",
       "    }\n",
       "})\n",
       "\n",
       "var n = $(\"#pm_overallProgress86c1fab5\");\n",
       "n.attr(\"value\", parseInt(n.attr(\"max\")))\n"
      ],
      "text/plain": [
       "<IPython.core.display.Javascript object>"
      ]
     },
     "metadata": {},
     "output_type": "display_data"
    }
   ],
   "source": [
    "# from list\n",
    "rdd = sc.parallelize(['a','b','c','d'])\n",
    "rdd.collect()"
   ]
  },
  {
   "cell_type": "code",
   "execution_count": 8,
   "metadata": {
    "ExecuteTime": {
     "end_time": "2020-04-02T14:54:10.358687Z",
     "start_time": "2020-04-02T14:54:10.074993Z"
    }
   },
   "outputs": [
    {
     "data": {
      "text/html": [
       "<div id=\"pm_overallContainer39468878\" style=\"display:none\">\n",
       "    <table width=\"100%\" style=\"border:0px\">\n",
       "        <tr style=\"border:0px\">\n",
       "            <td width=\"20px\" style=\"border:0px\"><span id=\"twistie39468878\" style=\"color:blue;font-size:x-large;cursor:pointer\">&#9656;</span></td>\n",
       "            <td width=\"130px\" style=\"text-align:left;border:0px\"><span id=\"pm_overallJobName39468878\"></span>:</td>\n",
       "            <td width=\"calc(100% - 150px)\" style=\"border:0px\"><progress id=\"pm_overallProgress39468878\" max=\"100\" value=\"0\" style=\"width:100%\"></progress></td>\n",
       "        </tr>\n",
       "    </table>\n",
       "</div>\n",
       "<div id=\"pm_container39468878\" style=\"display:none\">\n",
       "    <ul class=\"nav nav-tabs\" id=\"progressMonitors39468878\">\n",
       "    </ul>\n",
       "    <div class=\"tab-content\" id=\"tabContent39468878\">\n",
       "    </div>\n",
       "</div>\n",
       "\n",
       "<script>\n",
       "$(\"#twistie39468878\").click(function(){\n",
       "    visible = $(\"#pm_container39468878\").is(':visible');\n",
       "    $(\"#pm_container39468878\").slideToggle(\"slow\");\n",
       "    $(this).html(visible?\"&#9656;\":\"&#9662;\")\n",
       "});\n",
       "</script>"
      ],
      "text/plain": [
       "<IPython.core.display.HTML object>"
      ]
     },
     "metadata": {},
     "output_type": "display_data"
    },
    {
     "data": {
      "application/javascript": [
       "\n",
       "\n",
       "$(\"#pm_container39468878\").css(\"border\",\"1px solid #dddddd\").css(\"padding\",\"10px\")\n",
       "var jobName = 'Job 5 (1 '+\n",
       "             'Stage'+  ')'\n",
       "$(\"#pm_overallContainer39468878\").show();\n",
       "$(\"#pm_overallJobName39468878\").text(jobName);\n",
       "$(\"#pm_overallProgress39468878\").attr(\"max\", 12).attr(\"value\",0);\n",
       "$(\"#progressMonitors39468878\").append(\n",
       "    '<li>'+\n",
       "        '<a style=\"padding: 5px 5px;font-size: 12px;\" data-toggle=\"tab\" href=\"#menu394688785\">'+\n",
       "            jobName +\n",
       "        '</a>'+\n",
       "    '</li>'\n",
       ");\n",
       "\n",
       "$(\"#tabContent39468878\").append(\n",
       "'<div id=\"menu394688785\" class=\"tab-pane fade in active\">'+\n",
       "    '<table>' + \n",
       "        '<thead>' +\n",
       "            '<tr>' +\n",
       "                '<th style=\"text-align:center\">Stage</th>' +\n",
       "                '<th style=\"text-align:center\">Progress</th>' +\n",
       "                '<th style=\"text-align:center\">Executor</th>' +\n",
       "                '<th style=\"text-align:center\">Details</th>' +\n",
       "            '</tr>' +\n",
       "        '</thead>' +\n",
       "        '<tbody>' + \n",
       "        \n",
       "            '<tr>        <td style=\"max-width:200px\">            Stage 5 <span id=\"progressNumTask394688785\">0</span>/12:        </td>        <td style=\"max-width: 300px\">            <progress id=\"progress394688785\" max=\"12\" value=\"0\" style=\"width:200px\"></progress>        </td>        <td>            <span id=\"host394688785\"></span>        </td>        <td>            <i title=\"org.apache.spark.rdd.RDD.collect(RDD.scala:989)\\norg.apache.spark.api.python.PythonRDD$.collectAndServe(PythonRDD.scala:166)\\norg.apache.spark.api.python.PythonRDD.collectAndServe(PythonRDD.scala)\\nsun.reflect.NativeMethodAccessorImpl.invoke0(Native Method)\\nsun.reflect.NativeMethodAccessorImpl.invoke(NativeMethodAccessorImpl.java:62)\\nsun.reflect.DelegatingMethodAccessorImpl.invoke(DelegatingMethodAccessorImpl.java:43)\\njava.lang.reflect.Method.invoke(Method.java:498)\\npy4j.reflection.MethodInvoker.invoke(MethodInvoker.java:244)\\npy4j.reflection.ReflectionEngine.invoke(ReflectionEngine.java:357)\\npy4j.Gateway.invoke(Gateway.java:282)\\npy4j.commands.AbstractCommand.invokeMethod(AbstractCommand.java:132)\\npy4j.commands.CallCommand.execute(CallCommand.java:79)\\npy4j.GatewayConnection.run(GatewayConnection.java:238)\\njava.lang.Thread.run(Thread.java:748)\" class=\"fa fa-info-circle\"></i>            <span id=\"status394688785\">Not Started</span>        </td>    </tr>'+\n",
       "        \n",
       "        '</tbody>' +\n",
       "    '</table>' +\n",
       "'</div>'\n",
       ")\n",
       "\n",
       "$('.nav-tabs a[href=\"#menu394688785\"]').tab('show');\n"
      ],
      "text/plain": [
       "<IPython.core.display.Javascript object>"
      ]
     },
     "metadata": {},
     "output_type": "display_data"
    },
    {
     "data": {
      "text/plain": [
       "['c', 'd', 'b', 'a']"
      ]
     },
     "execution_count": 8,
     "metadata": {},
     "output_type": "execute_result"
    },
    {
     "data": {
      "application/javascript": [
       "$(\"#status394688785\").text(\"Submitted\")\n",
       "\n",
       "\n",
       "function incProgress(id){\n",
       "    var n = $(id);\n",
       "    n.attr(\"value\", parseInt( n.attr(\"value\")) + 12);\n",
       "}\n",
       "incProgress(\"#progress394688785\");\n",
       "incProgress(\"#pm_overallProgress39468878\");\n",
       "$(\"#progressNumTask394688785\").text(\"12\");\n",
       "$(\"#status394688785\").text(\"Running\")\n",
       "\n",
       "\n",
       "$(\"#host394688785\").text(\"1856197944(17.58.170.82)\")\n",
       "\n",
       "$(\"#status394688785\").text(\"Completed\")\n",
       "\n",
       "\n",
       "$(\"#menu394688785 [id^=status39468878]\").each(function(){\n",
       "    if ($(this).text() == \"Not Started\"){\n",
       "        $(this).text(\"Skipped\");\n",
       "    }\n",
       "})\n",
       "\n",
       "var n = $(\"#pm_overallProgress39468878\");\n",
       "n.attr(\"value\", parseInt(n.attr(\"max\")))\n"
      ],
      "text/plain": [
       "<IPython.core.display.Javascript object>"
      ]
     },
     "metadata": {},
     "output_type": "display_data"
    }
   ],
   "source": [
    "# from set\n",
    "rdd = sc.parallelize({'a','b','c','d'})\n",
    "rdd.collect()"
   ]
  },
  {
   "cell_type": "code",
   "execution_count": 10,
   "metadata": {
    "ExecuteTime": {
     "end_time": "2020-04-02T14:56:08.997644Z",
     "start_time": "2020-04-02T14:56:08.738656Z"
    }
   },
   "outputs": [
    {
     "data": {
      "text/html": [
       "<div id=\"pm_overallContainer8443c5f7\" style=\"display:none\">\n",
       "    <table width=\"100%\" style=\"border:0px\">\n",
       "        <tr style=\"border:0px\">\n",
       "            <td width=\"20px\" style=\"border:0px\"><span id=\"twistie8443c5f7\" style=\"color:blue;font-size:x-large;cursor:pointer\">&#9656;</span></td>\n",
       "            <td width=\"130px\" style=\"text-align:left;border:0px\"><span id=\"pm_overallJobName8443c5f7\"></span>:</td>\n",
       "            <td width=\"calc(100% - 150px)\" style=\"border:0px\"><progress id=\"pm_overallProgress8443c5f7\" max=\"100\" value=\"0\" style=\"width:100%\"></progress></td>\n",
       "        </tr>\n",
       "    </table>\n",
       "</div>\n",
       "<div id=\"pm_container8443c5f7\" style=\"display:none\">\n",
       "    <ul class=\"nav nav-tabs\" id=\"progressMonitors8443c5f7\">\n",
       "    </ul>\n",
       "    <div class=\"tab-content\" id=\"tabContent8443c5f7\">\n",
       "    </div>\n",
       "</div>\n",
       "\n",
       "<script>\n",
       "$(\"#twistie8443c5f7\").click(function(){\n",
       "    visible = $(\"#pm_container8443c5f7\").is(':visible');\n",
       "    $(\"#pm_container8443c5f7\").slideToggle(\"slow\");\n",
       "    $(this).html(visible?\"&#9656;\":\"&#9662;\")\n",
       "});\n",
       "</script>"
      ],
      "text/plain": [
       "<IPython.core.display.HTML object>"
      ]
     },
     "metadata": {},
     "output_type": "display_data"
    },
    {
     "data": {
      "application/javascript": [
       "\n",
       "\n",
       "$(\"#pm_container8443c5f7\").css(\"border\",\"1px solid #dddddd\").css(\"padding\",\"10px\")\n",
       "var jobName = 'Job 6 (1 '+\n",
       "             'Stage'+  ')'\n",
       "$(\"#pm_overallContainer8443c5f7\").show();\n",
       "$(\"#pm_overallJobName8443c5f7\").text(jobName);\n",
       "$(\"#pm_overallProgress8443c5f7\").attr(\"max\", 12).attr(\"value\",0);\n",
       "$(\"#progressMonitors8443c5f7\").append(\n",
       "    '<li>'+\n",
       "        '<a style=\"padding: 5px 5px;font-size: 12px;\" data-toggle=\"tab\" href=\"#menu8443c5f76\">'+\n",
       "            jobName +\n",
       "        '</a>'+\n",
       "    '</li>'\n",
       ");\n",
       "\n",
       "$(\"#tabContent8443c5f7\").append(\n",
       "'<div id=\"menu8443c5f76\" class=\"tab-pane fade in active\">'+\n",
       "    '<table>' + \n",
       "        '<thead>' +\n",
       "            '<tr>' +\n",
       "                '<th style=\"text-align:center\">Stage</th>' +\n",
       "                '<th style=\"text-align:center\">Progress</th>' +\n",
       "                '<th style=\"text-align:center\">Executor</th>' +\n",
       "                '<th style=\"text-align:center\">Details</th>' +\n",
       "            '</tr>' +\n",
       "        '</thead>' +\n",
       "        '<tbody>' + \n",
       "        \n",
       "            '<tr>        <td style=\"max-width:200px\">            Stage 6 <span id=\"progressNumTask8443c5f76\">0</span>/12:        </td>        <td style=\"max-width: 300px\">            <progress id=\"progress8443c5f76\" max=\"12\" value=\"0\" style=\"width:200px\"></progress>        </td>        <td>            <span id=\"host8443c5f76\"></span>        </td>        <td>            <i title=\"org.apache.spark.rdd.RDD.collect(RDD.scala:989)\\norg.apache.spark.api.python.PythonRDD$.collectAndServe(PythonRDD.scala:166)\\norg.apache.spark.api.python.PythonRDD.collectAndServe(PythonRDD.scala)\\nsun.reflect.NativeMethodAccessorImpl.invoke0(Native Method)\\nsun.reflect.NativeMethodAccessorImpl.invoke(NativeMethodAccessorImpl.java:62)\\nsun.reflect.DelegatingMethodAccessorImpl.invoke(DelegatingMethodAccessorImpl.java:43)\\njava.lang.reflect.Method.invoke(Method.java:498)\\npy4j.reflection.MethodInvoker.invoke(MethodInvoker.java:244)\\npy4j.reflection.ReflectionEngine.invoke(ReflectionEngine.java:357)\\npy4j.Gateway.invoke(Gateway.java:282)\\npy4j.commands.AbstractCommand.invokeMethod(AbstractCommand.java:132)\\npy4j.commands.CallCommand.execute(CallCommand.java:79)\\npy4j.GatewayConnection.run(GatewayConnection.java:238)\\njava.lang.Thread.run(Thread.java:748)\" class=\"fa fa-info-circle\"></i>            <span id=\"status8443c5f76\">Not Started</span>        </td>    </tr>'+\n",
       "        \n",
       "        '</tbody>' +\n",
       "    '</table>' +\n",
       "'</div>'\n",
       ")\n",
       "\n",
       "$('.nav-tabs a[href=\"#menu8443c5f76\"]').tab('show');\n"
      ],
      "text/plain": [
       "<IPython.core.display.Javascript object>"
      ]
     },
     "metadata": {},
     "output_type": "display_data"
    },
    {
     "data": {
      "text/plain": [
       "['a', 'b', 'c']"
      ]
     },
     "execution_count": 10,
     "metadata": {},
     "output_type": "execute_result"
    },
    {
     "data": {
      "application/javascript": [
       "$(\"#status8443c5f76\").text(\"Submitted\")\n",
       "\n",
       "\n",
       "function incProgress(id){\n",
       "    var n = $(id);\n",
       "    n.attr(\"value\", parseInt( n.attr(\"value\")) + 12);\n",
       "}\n",
       "incProgress(\"#progress8443c5f76\");\n",
       "incProgress(\"#pm_overallProgress8443c5f7\");\n",
       "$(\"#progressNumTask8443c5f76\").text(\"12\");\n",
       "$(\"#status8443c5f76\").text(\"Running\")\n",
       "\n",
       "\n",
       "$(\"#host8443c5f76\").text(\"618747455(17.58.160.162)\")\n",
       "\n",
       "$(\"#status8443c5f76\").text(\"Completed\")\n",
       "\n",
       "\n",
       "$(\"#menu8443c5f76 [id^=status8443c5f7]\").each(function(){\n",
       "    if ($(this).text() == \"Not Started\"){\n",
       "        $(this).text(\"Skipped\");\n",
       "    }\n",
       "})\n",
       "\n",
       "var n = $(\"#pm_overallProgress8443c5f7\");\n",
       "n.attr(\"value\", parseInt(n.attr(\"max\")))\n"
      ],
      "text/plain": [
       "<IPython.core.display.Javascript object>"
      ]
     },
     "metadata": {},
     "output_type": "display_data"
    }
   ],
   "source": [
    "# from dict\n",
    "rdd = sc.parallelize(\n",
    "{\n",
    "    'a' : 1,\n",
    "    'b' : 2,\n",
    "    'c' : 3\n",
    "})\n",
    "\n",
    "rdd.collect()"
   ]
  },
  {
   "cell_type": "markdown",
   "metadata": {},
   "source": [
    "As you see only keys are used in the dictionary to form RDD"
   ]
  },
  {
   "cell_type": "code",
   "execution_count": null,
   "metadata": {},
   "outputs": [],
   "source": [
    "# read from csv file\n",
    "rdd = sc.textFile('')\n",
    "rdd.take(2)"
   ]
  },
  {
   "cell_type": "code",
   "execution_count": 18,
   "metadata": {
    "ExecuteTime": {
     "end_time": "2020-04-02T15:23:48.255643Z",
     "start_time": "2020-04-02T15:23:48.241771Z"
    }
   },
   "outputs": [
    {
     "data": {
      "text/html": [
       "<div id=\"pm_overallContainer1ecbc03e\" style=\"display:none\">\n",
       "    <table width=\"100%\" style=\"border:0px\">\n",
       "        <tr style=\"border:0px\">\n",
       "            <td width=\"20px\" style=\"border:0px\"><span id=\"twistie1ecbc03e\" style=\"color:blue;font-size:x-large;cursor:pointer\">&#9656;</span></td>\n",
       "            <td width=\"130px\" style=\"text-align:left;border:0px\"><span id=\"pm_overallJobName1ecbc03e\"></span>:</td>\n",
       "            <td width=\"calc(100% - 150px)\" style=\"border:0px\"><progress id=\"pm_overallProgress1ecbc03e\" max=\"100\" value=\"0\" style=\"width:100%\"></progress></td>\n",
       "        </tr>\n",
       "    </table>\n",
       "</div>\n",
       "<div id=\"pm_container1ecbc03e\" style=\"display:none\">\n",
       "    <ul class=\"nav nav-tabs\" id=\"progressMonitors1ecbc03e\">\n",
       "    </ul>\n",
       "    <div class=\"tab-content\" id=\"tabContent1ecbc03e\">\n",
       "    </div>\n",
       "</div>\n",
       "\n",
       "<script>\n",
       "$(\"#twistie1ecbc03e\").click(function(){\n",
       "    visible = $(\"#pm_container1ecbc03e\").is(':visible');\n",
       "    $(\"#pm_container1ecbc03e\").slideToggle(\"slow\");\n",
       "    $(this).html(visible?\"&#9656;\":\"&#9662;\")\n",
       "});\n",
       "</script>"
      ],
      "text/plain": [
       "<IPython.core.display.HTML object>"
      ]
     },
     "metadata": {},
     "output_type": "display_data"
    },
    {
     "data": {
      "text/plain": [
       "True"
      ]
     },
     "execution_count": 18,
     "metadata": {},
     "output_type": "execute_result"
    }
   ],
   "source": [
    "# create empty rdd\n",
    "rdd = sc.emptyRDD()\n",
    "rdd.isEmpty()"
   ]
  },
  {
   "cell_type": "code",
   "execution_count": 25,
   "metadata": {
    "ExecuteTime": {
     "end_time": "2020-04-02T15:29:23.082237Z",
     "start_time": "2020-04-02T15:29:22.806467Z"
    }
   },
   "outputs": [
    {
     "data": {
      "text/html": [
       "<div id=\"pm_overallContainer86015466\" style=\"display:none\">\n",
       "    <table width=\"100%\" style=\"border:0px\">\n",
       "        <tr style=\"border:0px\">\n",
       "            <td width=\"20px\" style=\"border:0px\"><span id=\"twistie86015466\" style=\"color:blue;font-size:x-large;cursor:pointer\">&#9656;</span></td>\n",
       "            <td width=\"130px\" style=\"text-align:left;border:0px\"><span id=\"pm_overallJobName86015466\"></span>:</td>\n",
       "            <td width=\"calc(100% - 150px)\" style=\"border:0px\"><progress id=\"pm_overallProgress86015466\" max=\"100\" value=\"0\" style=\"width:100%\"></progress></td>\n",
       "        </tr>\n",
       "    </table>\n",
       "</div>\n",
       "<div id=\"pm_container86015466\" style=\"display:none\">\n",
       "    <ul class=\"nav nav-tabs\" id=\"progressMonitors86015466\">\n",
       "    </ul>\n",
       "    <div class=\"tab-content\" id=\"tabContent86015466\">\n",
       "    </div>\n",
       "</div>\n",
       "\n",
       "<script>\n",
       "$(\"#twistie86015466\").click(function(){\n",
       "    visible = $(\"#pm_container86015466\").is(':visible');\n",
       "    $(\"#pm_container86015466\").slideToggle(\"slow\");\n",
       "    $(this).html(visible?\"&#9656;\":\"&#9662;\")\n",
       "});\n",
       "</script>"
      ],
      "text/plain": [
       "<IPython.core.display.HTML object>"
      ]
     },
     "metadata": {},
     "output_type": "display_data"
    },
    {
     "data": {
      "application/javascript": [
       "\n",
       "\n",
       "$(\"#pm_container86015466\").css(\"border\",\"1px solid #dddddd\").css(\"padding\",\"10px\")\n",
       "var jobName = 'Job 23 (1 '+\n",
       "             'Stage'+  ')'\n",
       "$(\"#pm_overallContainer86015466\").show();\n",
       "$(\"#pm_overallJobName86015466\").text(jobName);\n",
       "$(\"#pm_overallProgress86015466\").attr(\"max\", 12).attr(\"value\",0);\n",
       "$(\"#progressMonitors86015466\").append(\n",
       "    '<li>'+\n",
       "        '<a style=\"padding: 5px 5px;font-size: 12px;\" data-toggle=\"tab\" href=\"#menu8601546623\">'+\n",
       "            jobName +\n",
       "        '</a>'+\n",
       "    '</li>'\n",
       ");\n",
       "\n",
       "$(\"#tabContent86015466\").append(\n",
       "'<div id=\"menu8601546623\" class=\"tab-pane fade in active\">'+\n",
       "    '<table>' + \n",
       "        '<thead>' +\n",
       "            '<tr>' +\n",
       "                '<th style=\"text-align:center\">Stage</th>' +\n",
       "                '<th style=\"text-align:center\">Progress</th>' +\n",
       "                '<th style=\"text-align:center\">Executor</th>' +\n",
       "                '<th style=\"text-align:center\">Details</th>' +\n",
       "            '</tr>' +\n",
       "        '</thead>' +\n",
       "        '<tbody>' + \n",
       "        \n",
       "            '<tr>        <td style=\"max-width:200px\">            Stage 23 <span id=\"progressNumTask8601546623\">0</span>/12:        </td>        <td style=\"max-width: 300px\">            <progress id=\"progress8601546623\" max=\"12\" value=\"0\" style=\"width:200px\"></progress>        </td>        <td>            <span id=\"host8601546623\"></span>        </td>        <td>            <i title=\"org.apache.spark.rdd.RDD.collect(RDD.scala:989)\\norg.apache.spark.api.python.PythonRDD$.collectAndServe(PythonRDD.scala:166)\\norg.apache.spark.api.python.PythonRDD.collectAndServe(PythonRDD.scala)\\nsun.reflect.GeneratedMethodAccessor76.invoke(Unknown Source)\\nsun.reflect.DelegatingMethodAccessorImpl.invoke(DelegatingMethodAccessorImpl.java:43)\\njava.lang.reflect.Method.invoke(Method.java:498)\\npy4j.reflection.MethodInvoker.invoke(MethodInvoker.java:244)\\npy4j.reflection.ReflectionEngine.invoke(ReflectionEngine.java:357)\\npy4j.Gateway.invoke(Gateway.java:282)\\npy4j.commands.AbstractCommand.invokeMethod(AbstractCommand.java:132)\\npy4j.commands.CallCommand.execute(CallCommand.java:79)\\npy4j.GatewayConnection.run(GatewayConnection.java:238)\\njava.lang.Thread.run(Thread.java:748)\" class=\"fa fa-info-circle\"></i>            <span id=\"status8601546623\">Not Started</span>        </td>    </tr>'+\n",
       "        \n",
       "        '</tbody>' +\n",
       "    '</table>' +\n",
       "'</div>'\n",
       ")\n",
       "\n",
       "$('.nav-tabs a[href=\"#menu8601546623\"]').tab('show');\n"
      ],
      "text/plain": [
       "<IPython.core.display.Javascript object>"
      ]
     },
     "metadata": {},
     "output_type": "display_data"
    },
    {
     "data": {
      "text/plain": [
       "[Person(id=1, firstName='Jon', lastName='Doe'),\n",
       " Person(id=2, firstName='Jane', lastName='Doe')]"
      ]
     },
     "execution_count": 25,
     "metadata": {},
     "output_type": "execute_result"
    },
    {
     "data": {
      "application/javascript": [
       "$(\"#status8601546623\").text(\"Submitted\")\n",
       "\n",
       "\n",
       "function incProgress(id){\n",
       "    var n = $(id);\n",
       "    n.attr(\"value\", parseInt( n.attr(\"value\")) + 12);\n",
       "}\n",
       "incProgress(\"#progress8601546623\");\n",
       "incProgress(\"#pm_overallProgress86015466\");\n",
       "$(\"#progressNumTask8601546623\").text(\"12\");\n",
       "$(\"#status8601546623\").text(\"Running\")\n",
       "\n",
       "\n",
       "$(\"#host8601546623\").text(\"618747455(17.58.160.162)\")\n",
       "\n",
       "$(\"#status8601546623\").text(\"Completed\")\n",
       "\n",
       "\n",
       "$(\"#menu8601546623 [id^=status86015466]\").each(function(){\n",
       "    if ($(this).text() == \"Not Started\"){\n",
       "        $(this).text(\"Skipped\");\n",
       "    }\n",
       "})\n",
       "\n",
       "var n = $(\"#pm_overallProgress86015466\");\n",
       "n.attr(\"value\", parseInt(n.attr(\"max\")))\n"
      ],
      "text/plain": [
       "<IPython.core.display.Javascript object>"
      ]
     },
     "metadata": {},
     "output_type": "display_data"
    }
   ],
   "source": [
    "# from namedtuple\n",
    "from collections import namedtuple\n",
    "Person = namedtuple(\"Person\", \"id firstName lastName\")\n",
    "jon = Person(1, \"Jon\", \"Doe\")\n",
    "jane = Person(2, \"Jane\", \"Doe\")\n",
    "rdd = sc.parallelize([jon, jane])\n",
    "rdd.collect()"
   ]
  },
  {
   "cell_type": "markdown",
   "metadata": {},
   "source": [
    "### Test Rdd Functions"
   ]
  },
  {
   "cell_type": "code",
   "execution_count": 20,
   "metadata": {
    "ExecuteTime": {
     "end_time": "2020-04-02T15:24:47.332900Z",
     "start_time": "2020-04-02T15:24:46.274602Z"
    }
   },
   "outputs": [
    {
     "data": {
      "text/html": [
       "<div id=\"pm_overallContainer84a097fc\" style=\"display:none\">\n",
       "    <table width=\"100%\" style=\"border:0px\">\n",
       "        <tr style=\"border:0px\">\n",
       "            <td width=\"20px\" style=\"border:0px\"><span id=\"twistie84a097fc\" style=\"color:blue;font-size:x-large;cursor:pointer\">&#9656;</span></td>\n",
       "            <td width=\"130px\" style=\"text-align:left;border:0px\"><span id=\"pm_overallJobName84a097fc\"></span>:</td>\n",
       "            <td width=\"calc(100% - 150px)\" style=\"border:0px\"><progress id=\"pm_overallProgress84a097fc\" max=\"100\" value=\"0\" style=\"width:100%\"></progress></td>\n",
       "        </tr>\n",
       "    </table>\n",
       "</div>\n",
       "<div id=\"pm_container84a097fc\" style=\"display:none\">\n",
       "    <ul class=\"nav nav-tabs\" id=\"progressMonitors84a097fc\">\n",
       "    </ul>\n",
       "    <div class=\"tab-content\" id=\"tabContent84a097fc\">\n",
       "    </div>\n",
       "</div>\n",
       "\n",
       "<script>\n",
       "$(\"#twistie84a097fc\").click(function(){\n",
       "    visible = $(\"#pm_container84a097fc\").is(':visible');\n",
       "    $(\"#pm_container84a097fc\").slideToggle(\"slow\");\n",
       "    $(this).html(visible?\"&#9656;\":\"&#9662;\")\n",
       "});\n",
       "</script>"
      ],
      "text/plain": [
       "<IPython.core.display.HTML object>"
      ]
     },
     "metadata": {},
     "output_type": "display_data"
    },
    {
     "data": {
      "application/javascript": [
       "\n",
       "\n",
       "$(\"#pm_container84a097fc\").css(\"border\",\"1px solid #dddddd\").css(\"padding\",\"10px\")\n",
       "var jobName = 'Job 19 (1 '+\n",
       "             'Stage'+  ')'\n",
       "$(\"#pm_overallContainer84a097fc\").show();\n",
       "$(\"#pm_overallJobName84a097fc\").text(jobName);\n",
       "$(\"#pm_overallProgress84a097fc\").attr(\"max\", 12).attr(\"value\",0);\n",
       "$(\"#progressMonitors84a097fc\").append(\n",
       "    '<li>'+\n",
       "        '<a style=\"padding: 5px 5px;font-size: 12px;\" data-toggle=\"tab\" href=\"#menu84a097fc19\">'+\n",
       "            jobName +\n",
       "        '</a>'+\n",
       "    '</li>'\n",
       ");\n",
       "\n",
       "$(\"#tabContent84a097fc\").append(\n",
       "'<div id=\"menu84a097fc19\" class=\"tab-pane fade in active\">'+\n",
       "    '<table>' + \n",
       "        '<thead>' +\n",
       "            '<tr>' +\n",
       "                '<th style=\"text-align:center\">Stage</th>' +\n",
       "                '<th style=\"text-align:center\">Progress</th>' +\n",
       "                '<th style=\"text-align:center\">Executor</th>' +\n",
       "                '<th style=\"text-align:center\">Details</th>' +\n",
       "            '</tr>' +\n",
       "        '</thead>' +\n",
       "        '<tbody>' + \n",
       "        \n",
       "            '<tr>        <td style=\"max-width:200px\">            Stage 19 <span id=\"progressNumTask84a097fc19\">0</span>/12:        </td>        <td style=\"max-width: 300px\">            <progress id=\"progress84a097fc19\" max=\"12\" value=\"0\" style=\"width:200px\"></progress>        </td>        <td>            <span id=\"host84a097fc19\"></span>        </td>        <td>            <i title=\"org.apache.spark.rdd.RDD.collect(RDD.scala:989)\\norg.apache.spark.api.python.PythonRDD$.collectAndServe(PythonRDD.scala:166)\\norg.apache.spark.api.python.PythonRDD.collectAndServe(PythonRDD.scala)\\nsun.reflect.GeneratedMethodAccessor76.invoke(Unknown Source)\\nsun.reflect.DelegatingMethodAccessorImpl.invoke(DelegatingMethodAccessorImpl.java:43)\\njava.lang.reflect.Method.invoke(Method.java:498)\\npy4j.reflection.MethodInvoker.invoke(MethodInvoker.java:244)\\npy4j.reflection.ReflectionEngine.invoke(ReflectionEngine.java:357)\\npy4j.Gateway.invoke(Gateway.java:282)\\npy4j.commands.AbstractCommand.invokeMethod(AbstractCommand.java:132)\\npy4j.commands.CallCommand.execute(CallCommand.java:79)\\npy4j.GatewayConnection.run(GatewayConnection.java:238)\\njava.lang.Thread.run(Thread.java:748)\" class=\"fa fa-info-circle\"></i>            <span id=\"status84a097fc19\">Not Started</span>        </td>    </tr>'+\n",
       "        \n",
       "        '</tbody>' +\n",
       "    '</table>' +\n",
       "'</div>'\n",
       ")\n",
       "\n",
       "$('.nav-tabs a[href=\"#menu84a097fc19\"]').tab('show');\n"
      ],
      "text/plain": [
       "<IPython.core.display.Javascript object>"
      ]
     },
     "metadata": {},
     "output_type": "display_data"
    },
    {
     "data": {
      "application/javascript": [
       "$(\"#status84a097fc19\").text(\"Submitted\")\n",
       "\n",
       "\n",
       "function incProgress(id){\n",
       "    var n = $(id);\n",
       "    n.attr(\"value\", parseInt( n.attr(\"value\")) + 12);\n",
       "}\n",
       "incProgress(\"#progress84a097fc19\");\n",
       "incProgress(\"#pm_overallProgress84a097fc\");\n",
       "$(\"#progressNumTask84a097fc19\").text(\"12\");\n",
       "$(\"#status84a097fc19\").text(\"Running\")\n",
       "\n",
       "\n",
       "$(\"#host84a097fc19\").text(\"1323707573(17.58.166.36)\")\n",
       "\n",
       "$(\"#status84a097fc19\").text(\"Completed\")\n",
       "\n",
       "\n",
       "$(\"#menu84a097fc19 [id^=status84a097fc]\").each(function(){\n",
       "    if ($(this).text() == \"Not Started\"){\n",
       "        $(this).text(\"Skipped\");\n",
       "    }\n",
       "})\n",
       "\n",
       "var n = $(\"#pm_overallProgress84a097fc\");\n",
       "n.attr(\"value\", parseInt(n.attr(\"max\")))\n",
       "\n",
       "\n",
       "$(\"#pm_container84a097fc\").css(\"border\",\"1px solid #dddddd\").css(\"padding\",\"10px\")\n",
       "var jobName = 'Job 20 (1 '+\n",
       "             'Stage'+  ')'\n",
       "$(\"#pm_overallContainer84a097fc\").show();\n",
       "$(\"#pm_overallJobName84a097fc\").text(jobName);\n",
       "$(\"#pm_overallProgress84a097fc\").attr(\"max\", 12).attr(\"value\",0);\n",
       "$(\"#progressMonitors84a097fc\").append(\n",
       "    '<li>'+\n",
       "        '<a style=\"padding: 5px 5px;font-size: 12px;\" data-toggle=\"tab\" href=\"#menu84a097fc20\">'+\n",
       "            jobName +\n",
       "        '</a>'+\n",
       "    '</li>'\n",
       ");\n",
       "\n",
       "$(\"#tabContent84a097fc\").append(\n",
       "'<div id=\"menu84a097fc20\" class=\"tab-pane fade in active\">'+\n",
       "    '<table>' + \n",
       "        '<thead>' +\n",
       "            '<tr>' +\n",
       "                '<th style=\"text-align:center\">Stage</th>' +\n",
       "                '<th style=\"text-align:center\">Progress</th>' +\n",
       "                '<th style=\"text-align:center\">Executor</th>' +\n",
       "                '<th style=\"text-align:center\">Details</th>' +\n",
       "            '</tr>' +\n",
       "        '</thead>' +\n",
       "        '<tbody>' + \n",
       "        \n",
       "            '<tr>        <td style=\"max-width:200px\">            Stage 20 <span id=\"progressNumTask84a097fc20\">0</span>/12:        </td>        <td style=\"max-width: 300px\">            <progress id=\"progress84a097fc20\" max=\"12\" value=\"0\" style=\"width:200px\"></progress>        </td>        <td>            <span id=\"host84a097fc20\"></span>        </td>        <td>            <i title=\"org.apache.spark.rdd.RDD.collect(RDD.scala:989)\\norg.apache.spark.api.python.PythonRDD$.collectAndServe(PythonRDD.scala:166)\\norg.apache.spark.api.python.PythonRDD.collectAndServe(PythonRDD.scala)\\nsun.reflect.GeneratedMethodAccessor76.invoke(Unknown Source)\\nsun.reflect.DelegatingMethodAccessorImpl.invoke(DelegatingMethodAccessorImpl.java:43)\\njava.lang.reflect.Method.invoke(Method.java:498)\\npy4j.reflection.MethodInvoker.invoke(MethodInvoker.java:244)\\npy4j.reflection.ReflectionEngine.invoke(ReflectionEngine.java:357)\\npy4j.Gateway.invoke(Gateway.java:282)\\npy4j.commands.AbstractCommand.invokeMethod(AbstractCommand.java:132)\\npy4j.commands.CallCommand.execute(CallCommand.java:79)\\npy4j.GatewayConnection.run(GatewayConnection.java:238)\\njava.lang.Thread.run(Thread.java:748)\" class=\"fa fa-info-circle\"></i>            <span id=\"status84a097fc20\">Not Started</span>        </td>    </tr>'+\n",
       "        \n",
       "        '</tbody>' +\n",
       "    '</table>' +\n",
       "'</div>'\n",
       ")\n",
       "\n",
       "$('.nav-tabs a[href=\"#menu84a097fc20\"]').tab('show');\n",
       "$(\"#status84a097fc20\").text(\"Submitted\")\n",
       "\n",
       "\n",
       "function incProgress(id){\n",
       "    var n = $(id);\n",
       "    n.attr(\"value\", parseInt( n.attr(\"value\")) + 12);\n",
       "}\n",
       "incProgress(\"#progress84a097fc20\");\n",
       "incProgress(\"#pm_overallProgress84a097fc\");\n",
       "$(\"#progressNumTask84a097fc20\").text(\"12\");\n",
       "$(\"#status84a097fc20\").text(\"Running\")\n",
       "\n",
       "\n",
       "$(\"#host84a097fc20\").text(\"1431551498(17.58.172.200)\")\n",
       "\n"
      ],
      "text/plain": [
       "<IPython.core.display.Javascript object>"
      ]
     },
     "metadata": {},
     "output_type": "display_data"
    },
    {
     "data": {
      "text/plain": [
       "([1.0,\n",
       "  1.4,\n",
       "  1.8,\n",
       "  2.2,\n",
       "  2.6,\n",
       "  3.0,\n",
       "  3.4000000000000004,\n",
       "  3.8000000000000003,\n",
       "  4.2,\n",
       "  4.6,\n",
       "  5],\n",
       " [1, 0, 1, 0, 0, 1, 0, 1, 0, 1])"
      ]
     },
     "execution_count": 20,
     "metadata": {},
     "output_type": "execute_result"
    },
    {
     "data": {
      "application/javascript": [
       "$(\"#status84a097fc20\").text(\"Completed\")\n",
       "\n",
       "\n",
       "$(\"#menu84a097fc20 [id^=status84a097fc]\").each(function(){\n",
       "    if ($(this).text() == \"Not Started\"){\n",
       "        $(this).text(\"Skipped\");\n",
       "    }\n",
       "})\n",
       "\n",
       "var n = $(\"#pm_overallProgress84a097fc\");\n",
       "n.attr(\"value\", parseInt(n.attr(\"max\")))\n"
      ],
      "text/plain": [
       "<IPython.core.display.Javascript object>"
      ]
     },
     "metadata": {},
     "output_type": "display_data"
    }
   ],
   "source": [
    "# Histogram\n",
    "rdd = sc.parallelize([1,2,3,4,5])\n",
    "rdd.histogram([0,10][1])"
   ]
  },
  {
   "cell_type": "code",
   "execution_count": 21,
   "metadata": {
    "ExecuteTime": {
     "end_time": "2020-04-02T15:24:53.069504Z",
     "start_time": "2020-04-02T15:24:52.684187Z"
    }
   },
   "outputs": [
    {
     "data": {
      "text/html": [
       "<div id=\"pm_overallContainerc18c59aa\" style=\"display:none\">\n",
       "    <table width=\"100%\" style=\"border:0px\">\n",
       "        <tr style=\"border:0px\">\n",
       "            <td width=\"20px\" style=\"border:0px\"><span id=\"twistiec18c59aa\" style=\"color:blue;font-size:x-large;cursor:pointer\">&#9656;</span></td>\n",
       "            <td width=\"130px\" style=\"text-align:left;border:0px\"><span id=\"pm_overallJobNamec18c59aa\"></span>:</td>\n",
       "            <td width=\"calc(100% - 150px)\" style=\"border:0px\"><progress id=\"pm_overallProgressc18c59aa\" max=\"100\" value=\"0\" style=\"width:100%\"></progress></td>\n",
       "        </tr>\n",
       "    </table>\n",
       "</div>\n",
       "<div id=\"pm_containerc18c59aa\" style=\"display:none\">\n",
       "    <ul class=\"nav nav-tabs\" id=\"progressMonitorsc18c59aa\">\n",
       "    </ul>\n",
       "    <div class=\"tab-content\" id=\"tabContentc18c59aa\">\n",
       "    </div>\n",
       "</div>\n",
       "\n",
       "<script>\n",
       "$(\"#twistiec18c59aa\").click(function(){\n",
       "    visible = $(\"#pm_containerc18c59aa\").is(':visible');\n",
       "    $(\"#pm_containerc18c59aa\").slideToggle(\"slow\");\n",
       "    $(this).html(visible?\"&#9656;\":\"&#9662;\")\n",
       "});\n",
       "</script>"
      ],
      "text/plain": [
       "<IPython.core.display.HTML object>"
      ]
     },
     "metadata": {},
     "output_type": "display_data"
    },
    {
     "data": {
      "application/javascript": [
       "\n",
       "\n",
       "$(\"#pm_containerc18c59aa\").css(\"border\",\"1px solid #dddddd\").css(\"padding\",\"10px\")\n",
       "var jobName = 'Job 21 (1 '+\n",
       "             'Stage'+  ')'\n",
       "$(\"#pm_overallContainerc18c59aa\").show();\n",
       "$(\"#pm_overallJobNamec18c59aa\").text(jobName);\n",
       "$(\"#pm_overallProgressc18c59aa\").attr(\"max\", 12).attr(\"value\",0);\n",
       "$(\"#progressMonitorsc18c59aa\").append(\n",
       "    '<li>'+\n",
       "        '<a style=\"padding: 5px 5px;font-size: 12px;\" data-toggle=\"tab\" href=\"#menuc18c59aa21\">'+\n",
       "            jobName +\n",
       "        '</a>'+\n",
       "    '</li>'\n",
       ");\n",
       "\n",
       "$(\"#tabContentc18c59aa\").append(\n",
       "'<div id=\"menuc18c59aa21\" class=\"tab-pane fade in active\">'+\n",
       "    '<table>' + \n",
       "        '<thead>' +\n",
       "            '<tr>' +\n",
       "                '<th style=\"text-align:center\">Stage</th>' +\n",
       "                '<th style=\"text-align:center\">Progress</th>' +\n",
       "                '<th style=\"text-align:center\">Executor</th>' +\n",
       "                '<th style=\"text-align:center\">Details</th>' +\n",
       "            '</tr>' +\n",
       "        '</thead>' +\n",
       "        '<tbody>' + \n",
       "        \n",
       "            '<tr>        <td style=\"max-width:200px\">            Stage 21 <span id=\"progressNumTaskc18c59aa21\">0</span>/12:        </td>        <td style=\"max-width: 300px\">            <progress id=\"progressc18c59aa21\" max=\"12\" value=\"0\" style=\"width:200px\"></progress>        </td>        <td>            <span id=\"hostc18c59aa21\"></span>        </td>        <td>            <i title=\"org.apache.spark.rdd.RDD.collect(RDD.scala:989)\\norg.apache.spark.api.python.PythonRDD$.collectAndServe(PythonRDD.scala:166)\\norg.apache.spark.api.python.PythonRDD.collectAndServe(PythonRDD.scala)\\nsun.reflect.GeneratedMethodAccessor76.invoke(Unknown Source)\\nsun.reflect.DelegatingMethodAccessorImpl.invoke(DelegatingMethodAccessorImpl.java:43)\\njava.lang.reflect.Method.invoke(Method.java:498)\\npy4j.reflection.MethodInvoker.invoke(MethodInvoker.java:244)\\npy4j.reflection.ReflectionEngine.invoke(ReflectionEngine.java:357)\\npy4j.Gateway.invoke(Gateway.java:282)\\npy4j.commands.AbstractCommand.invokeMethod(AbstractCommand.java:132)\\npy4j.commands.CallCommand.execute(CallCommand.java:79)\\npy4j.GatewayConnection.run(GatewayConnection.java:238)\\njava.lang.Thread.run(Thread.java:748)\" class=\"fa fa-info-circle\"></i>            <span id=\"statusc18c59aa21\">Not Started</span>        </td>    </tr>'+\n",
       "        \n",
       "        '</tbody>' +\n",
       "    '</table>' +\n",
       "'</div>'\n",
       ")\n",
       "\n",
       "$('.nav-tabs a[href=\"#menuc18c59aa21\"]').tab('show');\n"
      ],
      "text/plain": [
       "<IPython.core.display.Javascript object>"
      ]
     },
     "metadata": {},
     "output_type": "display_data"
    },
    {
     "data": {
      "text/plain": [
       "15"
      ]
     },
     "execution_count": 21,
     "metadata": {},
     "output_type": "execute_result"
    },
    {
     "data": {
      "application/javascript": [
       "$(\"#statusc18c59aa21\").text(\"Submitted\")\n",
       "\n",
       "\n",
       "function incProgress(id){\n",
       "    var n = $(id);\n",
       "    n.attr(\"value\", parseInt( n.attr(\"value\")) + 12);\n",
       "}\n",
       "incProgress(\"#progressc18c59aa21\");\n",
       "incProgress(\"#pm_overallProgressc18c59aa\");\n",
       "$(\"#progressNumTaskc18c59aa21\").text(\"12\");\n",
       "$(\"#statusc18c59aa21\").text(\"Running\")\n",
       "\n",
       "\n",
       "$(\"#hostc18c59aa21\").text(\"623460586(17.58.161.211)\")\n",
       "\n",
       "$(\"#statusc18c59aa21\").text(\"Completed\")\n",
       "\n",
       "\n",
       "$(\"#menuc18c59aa21 [id^=statusc18c59aa]\").each(function(){\n",
       "    if ($(this).text() == \"Not Started\"){\n",
       "        $(this).text(\"Skipped\");\n",
       "    }\n",
       "})\n",
       "\n",
       "var n = $(\"#pm_overallProgressc18c59aa\");\n",
       "n.attr(\"value\", parseInt(n.attr(\"max\")))\n"
      ],
      "text/plain": [
       "<IPython.core.display.Javascript object>"
      ]
     },
     "metadata": {},
     "output_type": "display_data"
    }
   ],
   "source": [
    "# sum\n",
    "rdd.sum()"
   ]
  },
  {
   "cell_type": "code",
   "execution_count": 26,
   "metadata": {
    "ExecuteTime": {
     "end_time": "2020-04-02T15:30:48.804292Z",
     "start_time": "2020-04-02T15:30:46.669810Z"
    }
   },
   "outputs": [
    {
     "data": {
      "text/html": [
       "<div id=\"pm_overallContainer93a9e130\" style=\"display:none\">\n",
       "    <table width=\"100%\" style=\"border:0px\">\n",
       "        <tr style=\"border:0px\">\n",
       "            <td width=\"20px\" style=\"border:0px\"><span id=\"twistie93a9e130\" style=\"color:blue;font-size:x-large;cursor:pointer\">&#9656;</span></td>\n",
       "            <td width=\"130px\" style=\"text-align:left;border:0px\"><span id=\"pm_overallJobName93a9e130\"></span>:</td>\n",
       "            <td width=\"calc(100% - 150px)\" style=\"border:0px\"><progress id=\"pm_overallProgress93a9e130\" max=\"100\" value=\"0\" style=\"width:100%\"></progress></td>\n",
       "        </tr>\n",
       "    </table>\n",
       "</div>\n",
       "<div id=\"pm_container93a9e130\" style=\"display:none\">\n",
       "    <ul class=\"nav nav-tabs\" id=\"progressMonitors93a9e130\">\n",
       "    </ul>\n",
       "    <div class=\"tab-content\" id=\"tabContent93a9e130\">\n",
       "    </div>\n",
       "</div>\n",
       "\n",
       "<script>\n",
       "$(\"#twistie93a9e130\").click(function(){\n",
       "    visible = $(\"#pm_container93a9e130\").is(':visible');\n",
       "    $(\"#pm_container93a9e130\").slideToggle(\"slow\");\n",
       "    $(this).html(visible?\"&#9656;\":\"&#9662;\")\n",
       "});\n",
       "</script>"
      ],
      "text/plain": [
       "<IPython.core.display.HTML object>"
      ]
     },
     "metadata": {},
     "output_type": "display_data"
    },
    {
     "data": {
      "application/javascript": [
       "\n",
       "\n",
       "$(\"#pm_container93a9e130\").css(\"border\",\"1px solid #dddddd\").css(\"padding\",\"10px\")\n",
       "var jobName = 'Job 24 (2 '+\n",
       "             'Stages'+  ')'\n",
       "$(\"#pm_overallContainer93a9e130\").show();\n",
       "$(\"#pm_overallJobName93a9e130\").text(jobName);\n",
       "$(\"#pm_overallProgress93a9e130\").attr(\"max\", 24).attr(\"value\",0);\n",
       "$(\"#progressMonitors93a9e130\").append(\n",
       "    '<li>'+\n",
       "        '<a style=\"padding: 5px 5px;font-size: 12px;\" data-toggle=\"tab\" href=\"#menu93a9e13024\">'+\n",
       "            jobName +\n",
       "        '</a>'+\n",
       "    '</li>'\n",
       ");\n",
       "\n",
       "$(\"#tabContent93a9e130\").append(\n",
       "'<div id=\"menu93a9e13024\" class=\"tab-pane fade in active\">'+\n",
       "    '<table>' + \n",
       "        '<thead>' +\n",
       "            '<tr>' +\n",
       "                '<th style=\"text-align:center\">Stage</th>' +\n",
       "                '<th style=\"text-align:center\">Progress</th>' +\n",
       "                '<th style=\"text-align:center\">Executor</th>' +\n",
       "                '<th style=\"text-align:center\">Details</th>' +\n",
       "            '</tr>' +\n",
       "        '</thead>' +\n",
       "        '<tbody>' + \n",
       "        \n",
       "            '<tr>        <td style=\"max-width:200px\">            Stage 24 <span id=\"progressNumTask93a9e13024\">0</span>/12:        </td>        <td style=\"max-width: 300px\">            <progress id=\"progress93a9e13024\" max=\"12\" value=\"0\" style=\"width:200px\"></progress>        </td>        <td>            <span id=\"host93a9e13024\"></span>        </td>        <td>            <i title=\"org.apache.spark.rdd.RDD.<init>(RDD.scala:105)\\norg.apache.spark.api.python.PairwiseRDD.<init>(PythonRDD.scala:99)\\nsun.reflect.NativeConstructorAccessorImpl.newInstance0(Native Method)\\nsun.reflect.NativeConstructorAccessorImpl.newInstance(NativeConstructorAccessorImpl.java:62)\\nsun.reflect.DelegatingConstructorAccessorImpl.newInstance(DelegatingConstructorAccessorImpl.java:45)\\njava.lang.reflect.Constructor.newInstance(Constructor.java:423)\\npy4j.reflection.MethodInvoker.invoke(MethodInvoker.java:247)\\npy4j.reflection.ReflectionEngine.invoke(ReflectionEngine.java:357)\\npy4j.Gateway.invoke(Gateway.java:238)\\npy4j.commands.ConstructorCommand.invokeConstructor(ConstructorCommand.java:80)\\npy4j.commands.ConstructorCommand.execute(ConstructorCommand.java:69)\\npy4j.GatewayConnection.run(GatewayConnection.java:238)\\njava.lang.Thread.run(Thread.java:748)\" class=\"fa fa-info-circle\"></i>            <span id=\"status93a9e13024\">Not Started</span>        </td>    </tr>'+\n",
       "        \n",
       "            '<tr>        <td style=\"max-width:200px\">            Stage 25 <span id=\"progressNumTask93a9e13025\">0</span>/12:        </td>        <td style=\"max-width: 300px\">            <progress id=\"progress93a9e13025\" max=\"12\" value=\"0\" style=\"width:200px\"></progress>        </td>        <td>            <span id=\"host93a9e13025\"></span>        </td>        <td>            <i title=\"org.apache.spark.rdd.RDD.collect(RDD.scala:989)\\norg.apache.spark.api.python.PythonRDD$.collectAndServe(PythonRDD.scala:166)\\norg.apache.spark.api.python.PythonRDD.collectAndServe(PythonRDD.scala)\\nsun.reflect.GeneratedMethodAccessor76.invoke(Unknown Source)\\nsun.reflect.DelegatingMethodAccessorImpl.invoke(DelegatingMethodAccessorImpl.java:43)\\njava.lang.reflect.Method.invoke(Method.java:498)\\npy4j.reflection.MethodInvoker.invoke(MethodInvoker.java:244)\\npy4j.reflection.ReflectionEngine.invoke(ReflectionEngine.java:357)\\npy4j.Gateway.invoke(Gateway.java:282)\\npy4j.commands.AbstractCommand.invokeMethod(AbstractCommand.java:132)\\npy4j.commands.CallCommand.execute(CallCommand.java:79)\\npy4j.GatewayConnection.run(GatewayConnection.java:238)\\njava.lang.Thread.run(Thread.java:748)\" class=\"fa fa-info-circle\"></i>            <span id=\"status93a9e13025\">Not Started</span>        </td>    </tr>'+\n",
       "        \n",
       "        '</tbody>' +\n",
       "    '</table>' +\n",
       "'</div>'\n",
       ")\n",
       "\n",
       "$('.nav-tabs a[href=\"#menu93a9e13024\"]').tab('show');\n"
      ],
      "text/plain": [
       "<IPython.core.display.Javascript object>"
      ]
     },
     "metadata": {},
     "output_type": "display_data"
    },
    {
     "data": {
      "application/javascript": [
       "$(\"#status93a9e13024\").text(\"Submitted\")\n",
       "\n",
       "\n",
       "function incProgress(id){\n",
       "    var n = $(id);\n",
       "    n.attr(\"value\", parseInt( n.attr(\"value\")) + 12);\n",
       "}\n",
       "incProgress(\"#progress93a9e13024\");\n",
       "incProgress(\"#pm_overallProgress93a9e130\");\n",
       "$(\"#progressNumTask93a9e13024\").text(\"12\");\n",
       "$(\"#status93a9e13024\").text(\"Running\")\n",
       "\n",
       "\n",
       "$(\"#host93a9e13024\").text(\"618747455(17.58.160.162)\")\n",
       "\n"
      ],
      "text/plain": [
       "<IPython.core.display.Javascript object>"
      ]
     },
     "metadata": {},
     "output_type": "display_data"
    },
    {
     "data": {
      "application/javascript": [
       "$(\"#status93a9e13024\").text(\"Completed\")\n",
       "\n",
       "\n",
       "$(\"#status93a9e13025\").text(\"Submitted\")\n",
       "\n",
       "\n",
       "function incProgress(id){\n",
       "    var n = $(id);\n",
       "    n.attr(\"value\", parseInt( n.attr(\"value\")) + 12);\n",
       "}\n",
       "incProgress(\"#progress93a9e13025\");\n",
       "incProgress(\"#pm_overallProgress93a9e130\");\n",
       "$(\"#progressNumTask93a9e13025\").text(\"12\");\n",
       "$(\"#status93a9e13025\").text(\"Running\")\n",
       "\n",
       "\n",
       "$(\"#host93a9e13025\").text(\"1856197944(17.58.170.82)\")\n",
       "\n"
      ],
      "text/plain": [
       "<IPython.core.display.Javascript object>"
      ]
     },
     "metadata": {},
     "output_type": "display_data"
    },
    {
     "data": {
      "application/javascript": [
       "$(\"#status93a9e13025\").text(\"Completed\")\n",
       "\n",
       "\n"
      ],
      "text/plain": [
       "<IPython.core.display.Javascript object>"
      ]
     },
     "metadata": {},
     "output_type": "display_data"
    },
    {
     "data": {
      "text/plain": [
       "2"
      ]
     },
     "execution_count": 26,
     "metadata": {},
     "output_type": "execute_result"
    },
    {
     "data": {
      "application/javascript": [
       "$(\"#menu93a9e13024 [id^=status93a9e130]\").each(function(){\n",
       "    if ($(this).text() == \"Not Started\"){\n",
       "        $(this).text(\"Skipped\");\n",
       "    }\n",
       "})\n",
       "\n",
       "var n = $(\"#pm_overallProgress93a9e130\");\n",
       "n.attr(\"value\", parseInt(n.attr(\"max\")))\n"
      ],
      "text/plain": [
       "<IPython.core.display.Javascript object>"
      ]
     },
     "metadata": {},
     "output_type": "display_data"
    }
   ],
   "source": [
    "rdd.distinct().count()"
   ]
  },
  {
   "cell_type": "code",
   "execution_count": 27,
   "metadata": {
    "ExecuteTime": {
     "end_time": "2020-04-02T15:33:10.002099Z",
     "start_time": "2020-04-02T15:33:09.702719Z"
    }
   },
   "outputs": [
    {
     "data": {
      "text/html": [
       "<div id=\"pm_overallContainer30b436c3\" style=\"display:none\">\n",
       "    <table width=\"100%\" style=\"border:0px\">\n",
       "        <tr style=\"border:0px\">\n",
       "            <td width=\"20px\" style=\"border:0px\"><span id=\"twistie30b436c3\" style=\"color:blue;font-size:x-large;cursor:pointer\">&#9656;</span></td>\n",
       "            <td width=\"130px\" style=\"text-align:left;border:0px\"><span id=\"pm_overallJobName30b436c3\"></span>:</td>\n",
       "            <td width=\"calc(100% - 150px)\" style=\"border:0px\"><progress id=\"pm_overallProgress30b436c3\" max=\"100\" value=\"0\" style=\"width:100%\"></progress></td>\n",
       "        </tr>\n",
       "    </table>\n",
       "</div>\n",
       "<div id=\"pm_container30b436c3\" style=\"display:none\">\n",
       "    <ul class=\"nav nav-tabs\" id=\"progressMonitors30b436c3\">\n",
       "    </ul>\n",
       "    <div class=\"tab-content\" id=\"tabContent30b436c3\">\n",
       "    </div>\n",
       "</div>\n",
       "\n",
       "<script>\n",
       "$(\"#twistie30b436c3\").click(function(){\n",
       "    visible = $(\"#pm_container30b436c3\").is(':visible');\n",
       "    $(\"#pm_container30b436c3\").slideToggle(\"slow\");\n",
       "    $(this).html(visible?\"&#9656;\":\"&#9662;\")\n",
       "});\n",
       "</script>"
      ],
      "text/plain": [
       "<IPython.core.display.HTML object>"
      ]
     },
     "metadata": {},
     "output_type": "display_data"
    },
    {
     "data": {
      "application/javascript": [
       "\n",
       "\n",
       "$(\"#pm_container30b436c3\").css(\"border\",\"1px solid #dddddd\").css(\"padding\",\"10px\")\n",
       "var jobName = 'Job 25 (1 '+\n",
       "             'Stage'+  ')'\n",
       "$(\"#pm_overallContainer30b436c3\").show();\n",
       "$(\"#pm_overallJobName30b436c3\").text(jobName);\n",
       "$(\"#pm_overallProgress30b436c3\").attr(\"max\", 12).attr(\"value\",0);\n",
       "$(\"#progressMonitors30b436c3\").append(\n",
       "    '<li>'+\n",
       "        '<a style=\"padding: 5px 5px;font-size: 12px;\" data-toggle=\"tab\" href=\"#menu30b436c325\">'+\n",
       "            jobName +\n",
       "        '</a>'+\n",
       "    '</li>'\n",
       ");\n",
       "\n",
       "$(\"#tabContent30b436c3\").append(\n",
       "'<div id=\"menu30b436c325\" class=\"tab-pane fade in active\">'+\n",
       "    '<table>' + \n",
       "        '<thead>' +\n",
       "            '<tr>' +\n",
       "                '<th style=\"text-align:center\">Stage</th>' +\n",
       "                '<th style=\"text-align:center\">Progress</th>' +\n",
       "                '<th style=\"text-align:center\">Executor</th>' +\n",
       "                '<th style=\"text-align:center\">Details</th>' +\n",
       "            '</tr>' +\n",
       "        '</thead>' +\n",
       "        '<tbody>' + \n",
       "        \n",
       "            '<tr>        <td style=\"max-width:200px\">            Stage 26 <span id=\"progressNumTask30b436c326\">0</span>/12:        </td>        <td style=\"max-width: 300px\">            <progress id=\"progress30b436c326\" max=\"12\" value=\"0\" style=\"width:200px\"></progress>        </td>        <td>            <span id=\"host30b436c326\"></span>        </td>        <td>            <i title=\"org.apache.spark.rdd.RDD.collect(RDD.scala:989)\\norg.apache.spark.api.python.PythonRDD$.collectAndServe(PythonRDD.scala:166)\\norg.apache.spark.api.python.PythonRDD.collectAndServe(PythonRDD.scala)\\nsun.reflect.GeneratedMethodAccessor76.invoke(Unknown Source)\\nsun.reflect.DelegatingMethodAccessorImpl.invoke(DelegatingMethodAccessorImpl.java:43)\\njava.lang.reflect.Method.invoke(Method.java:498)\\npy4j.reflection.MethodInvoker.invoke(MethodInvoker.java:244)\\npy4j.reflection.ReflectionEngine.invoke(ReflectionEngine.java:357)\\npy4j.Gateway.invoke(Gateway.java:282)\\npy4j.commands.AbstractCommand.invokeMethod(AbstractCommand.java:132)\\npy4j.commands.CallCommand.execute(CallCommand.java:79)\\npy4j.GatewayConnection.run(GatewayConnection.java:238)\\njava.lang.Thread.run(Thread.java:748)\" class=\"fa fa-info-circle\"></i>            <span id=\"status30b436c326\">Not Started</span>        </td>    </tr>'+\n",
       "        \n",
       "        '</tbody>' +\n",
       "    '</table>' +\n",
       "'</div>'\n",
       ")\n",
       "\n",
       "$('.nav-tabs a[href=\"#menu30b436c325\"]').tab('show');\n"
      ],
      "text/plain": [
       "<IPython.core.display.Javascript object>"
      ]
     },
     "metadata": {},
     "output_type": "display_data"
    },
    {
     "data": {
      "text/plain": [
       "[(1, 1), (2, 2), (0, 3), (1, 4), (2, 5), (0, 6)]"
      ]
     },
     "execution_count": 27,
     "metadata": {},
     "output_type": "execute_result"
    },
    {
     "data": {
      "application/javascript": [
       "$(\"#status30b436c326\").text(\"Submitted\")\n",
       "\n",
       "\n",
       "function incProgress(id){\n",
       "    var n = $(id);\n",
       "    n.attr(\"value\", parseInt( n.attr(\"value\")) + 12);\n",
       "}\n",
       "incProgress(\"#progress30b436c326\");\n",
       "incProgress(\"#pm_overallProgress30b436c3\");\n",
       "$(\"#progressNumTask30b436c326\").text(\"12\");\n",
       "$(\"#status30b436c326\").text(\"Running\")\n",
       "\n",
       "\n",
       "$(\"#host30b436c326\").text(\"623460586(17.58.161.211)\")\n",
       "\n",
       "$(\"#status30b436c326\").text(\"Completed\")\n",
       "\n",
       "\n",
       "$(\"#menu30b436c325 [id^=status30b436c3]\").each(function(){\n",
       "    if ($(this).text() == \"Not Started\"){\n",
       "        $(this).text(\"Skipped\");\n",
       "    }\n",
       "})\n",
       "\n",
       "var n = $(\"#pm_overallProgress30b436c3\");\n",
       "n.attr(\"value\", parseInt(n.attr(\"max\")))\n"
      ],
      "text/plain": [
       "<IPython.core.display.Javascript object>"
      ]
     },
     "metadata": {},
     "output_type": "display_data"
    }
   ],
   "source": [
    "# convert rdd to pair rdd using map\n",
    "sc.parallelize([1,2,3,4,5,6]).map(lambda x: (x%3, x)).collect()"
   ]
  },
  {
   "cell_type": "code",
   "execution_count": 29,
   "metadata": {
    "ExecuteTime": {
     "end_time": "2020-04-02T15:34:40.454550Z",
     "start_time": "2020-04-02T15:34:40.021304Z"
    }
   },
   "outputs": [
    {
     "data": {
      "text/html": [
       "<div id=\"pm_overallContainer1ca767de\" style=\"display:none\">\n",
       "    <table width=\"100%\" style=\"border:0px\">\n",
       "        <tr style=\"border:0px\">\n",
       "            <td width=\"20px\" style=\"border:0px\"><span id=\"twistie1ca767de\" style=\"color:blue;font-size:x-large;cursor:pointer\">&#9656;</span></td>\n",
       "            <td width=\"130px\" style=\"text-align:left;border:0px\"><span id=\"pm_overallJobName1ca767de\"></span>:</td>\n",
       "            <td width=\"calc(100% - 150px)\" style=\"border:0px\"><progress id=\"pm_overallProgress1ca767de\" max=\"100\" value=\"0\" style=\"width:100%\"></progress></td>\n",
       "        </tr>\n",
       "    </table>\n",
       "</div>\n",
       "<div id=\"pm_container1ca767de\" style=\"display:none\">\n",
       "    <ul class=\"nav nav-tabs\" id=\"progressMonitors1ca767de\">\n",
       "    </ul>\n",
       "    <div class=\"tab-content\" id=\"tabContent1ca767de\">\n",
       "    </div>\n",
       "</div>\n",
       "\n",
       "<script>\n",
       "$(\"#twistie1ca767de\").click(function(){\n",
       "    visible = $(\"#pm_container1ca767de\").is(':visible');\n",
       "    $(\"#pm_container1ca767de\").slideToggle(\"slow\");\n",
       "    $(this).html(visible?\"&#9656;\":\"&#9662;\")\n",
       "});\n",
       "</script>"
      ],
      "text/plain": [
       "<IPython.core.display.HTML object>"
      ]
     },
     "metadata": {},
     "output_type": "display_data"
    },
    {
     "data": {
      "application/javascript": [
       "\n",
       "\n",
       "$(\"#pm_container1ca767de\").css(\"border\",\"1px solid #dddddd\").css(\"padding\",\"10px\")\n",
       "var jobName = 'Job 28 (1 '+\n",
       "             'Stage'+  ')'\n",
       "$(\"#pm_overallContainer1ca767de\").show();\n",
       "$(\"#pm_overallJobName1ca767de\").text(jobName);\n",
       "$(\"#pm_overallProgress1ca767de\").attr(\"max\", 1).attr(\"value\",0);\n",
       "$(\"#progressMonitors1ca767de\").append(\n",
       "    '<li>'+\n",
       "        '<a style=\"padding: 5px 5px;font-size: 12px;\" data-toggle=\"tab\" href=\"#menu1ca767de28\">'+\n",
       "            jobName +\n",
       "        '</a>'+\n",
       "    '</li>'\n",
       ");\n",
       "\n",
       "$(\"#tabContent1ca767de\").append(\n",
       "'<div id=\"menu1ca767de28\" class=\"tab-pane fade in active\">'+\n",
       "    '<table>' + \n",
       "        '<thead>' +\n",
       "            '<tr>' +\n",
       "                '<th style=\"text-align:center\">Stage</th>' +\n",
       "                '<th style=\"text-align:center\">Progress</th>' +\n",
       "                '<th style=\"text-align:center\">Executor</th>' +\n",
       "                '<th style=\"text-align:center\">Details</th>' +\n",
       "            '</tr>' +\n",
       "        '</thead>' +\n",
       "        '<tbody>' + \n",
       "        \n",
       "            '<tr>        <td style=\"max-width:200px\">            Stage 29 <span id=\"progressNumTask1ca767de29\">0</span>/1:        </td>        <td style=\"max-width: 300px\">            <progress id=\"progress1ca767de29\" max=\"1\" value=\"0\" style=\"width:200px\"></progress>        </td>        <td>            <span id=\"host1ca767de29\"></span>        </td>        <td>            <i title=\"org.apache.spark.SparkContext.runJob(SparkContext.scala:2101)\\norg.apache.spark.api.python.PythonRDD$.runJob(PythonRDD.scala:153)\\norg.apache.spark.api.python.PythonRDD.runJob(PythonRDD.scala)\\nsun.reflect.NativeMethodAccessorImpl.invoke0(Native Method)\\nsun.reflect.NativeMethodAccessorImpl.invoke(NativeMethodAccessorImpl.java:62)\\nsun.reflect.DelegatingMethodAccessorImpl.invoke(DelegatingMethodAccessorImpl.java:43)\\njava.lang.reflect.Method.invoke(Method.java:498)\\npy4j.reflection.MethodInvoker.invoke(MethodInvoker.java:244)\\npy4j.reflection.ReflectionEngine.invoke(ReflectionEngine.java:357)\\npy4j.Gateway.invoke(Gateway.java:282)\\npy4j.commands.AbstractCommand.invokeMethod(AbstractCommand.java:132)\\npy4j.commands.CallCommand.execute(CallCommand.java:79)\\npy4j.GatewayConnection.run(GatewayConnection.java:238)\\njava.lang.Thread.run(Thread.java:748)\" class=\"fa fa-info-circle\"></i>            <span id=\"status1ca767de29\">Not Started</span>        </td>    </tr>'+\n",
       "        \n",
       "        '</tbody>' +\n",
       "    '</table>' +\n",
       "'</div>'\n",
       ")\n",
       "\n",
       "$('.nav-tabs a[href=\"#menu1ca767de28\"]').tab('show');\n"
      ],
      "text/plain": [
       "<IPython.core.display.Javascript object>"
      ]
     },
     "metadata": {},
     "output_type": "display_data"
    },
    {
     "data": {
      "text/plain": [
       "1"
      ]
     },
     "execution_count": 29,
     "metadata": {},
     "output_type": "execute_result"
    },
    {
     "data": {
      "application/javascript": [
       "$(\"#status1ca767de29\").text(\"Submitted\")\n",
       "\n",
       "\n",
       "function incProgress(id){\n",
       "    var n = $(id);\n",
       "    n.attr(\"value\", parseInt( n.attr(\"value\")) + 1);\n",
       "}\n",
       "incProgress(\"#progress1ca767de29\");\n",
       "incProgress(\"#pm_overallProgress1ca767de\");\n",
       "$(\"#progressNumTask1ca767de29\").text(\"1\");\n",
       "$(\"#status1ca767de29\").text(\"Running\")\n",
       "\n",
       "\n",
       "$(\"#host1ca767de29\").text(\"618747455(17.58.160.162)\")\n",
       "\n",
       "$(\"#status1ca767de29\").text(\"Completed\")\n",
       "\n",
       "\n",
       "$(\"#menu1ca767de28 [id^=status1ca767de]\").each(function(){\n",
       "    if ($(this).text() == \"Not Started\"){\n",
       "        $(this).text(\"Skipped\");\n",
       "    }\n",
       "})\n",
       "\n",
       "var n = $(\"#pm_overallProgress1ca767de\");\n",
       "n.attr(\"value\", parseInt(n.attr(\"max\")))\n",
       "\n",
       "\n",
       "$(\"#pm_container1ca767de\").css(\"border\",\"1px solid #dddddd\").css(\"padding\",\"10px\")\n",
       "var jobName = 'Job 29 (1 '+\n",
       "             'Stage'+  ')'\n",
       "$(\"#pm_overallContainer1ca767de\").show();\n",
       "$(\"#pm_overallJobName1ca767de\").text(jobName);\n",
       "$(\"#pm_overallProgress1ca767de\").attr(\"max\", 4).attr(\"value\",0);\n",
       "$(\"#progressMonitors1ca767de\").append(\n",
       "    '<li>'+\n",
       "        '<a style=\"padding: 5px 5px;font-size: 12px;\" data-toggle=\"tab\" href=\"#menu1ca767de29\">'+\n",
       "            jobName +\n",
       "        '</a>'+\n",
       "    '</li>'\n",
       ");\n",
       "\n",
       "$(\"#tabContent1ca767de\").append(\n",
       "'<div id=\"menu1ca767de29\" class=\"tab-pane fade in active\">'+\n",
       "    '<table>' + \n",
       "        '<thead>' +\n",
       "            '<tr>' +\n",
       "                '<th style=\"text-align:center\">Stage</th>' +\n",
       "                '<th style=\"text-align:center\">Progress</th>' +\n",
       "                '<th style=\"text-align:center\">Executor</th>' +\n",
       "                '<th style=\"text-align:center\">Details</th>' +\n",
       "            '</tr>' +\n",
       "        '</thead>' +\n",
       "        '<tbody>' + \n",
       "        \n",
       "            '<tr>        <td style=\"max-width:200px\">            Stage 30 <span id=\"progressNumTask1ca767de30\">0</span>/4:        </td>        <td style=\"max-width: 300px\">            <progress id=\"progress1ca767de30\" max=\"4\" value=\"0\" style=\"width:200px\"></progress>        </td>        <td>            <span id=\"host1ca767de30\"></span>        </td>        <td>            <i title=\"org.apache.spark.SparkContext.runJob(SparkContext.scala:2101)\\norg.apache.spark.api.python.PythonRDD$.runJob(PythonRDD.scala:153)\\norg.apache.spark.api.python.PythonRDD.runJob(PythonRDD.scala)\\nsun.reflect.NativeMethodAccessorImpl.invoke0(Native Method)\\nsun.reflect.NativeMethodAccessorImpl.invoke(NativeMethodAccessorImpl.java:62)\\nsun.reflect.DelegatingMethodAccessorImpl.invoke(DelegatingMethodAccessorImpl.java:43)\\njava.lang.reflect.Method.invoke(Method.java:498)\\npy4j.reflection.MethodInvoker.invoke(MethodInvoker.java:244)\\npy4j.reflection.ReflectionEngine.invoke(ReflectionEngine.java:357)\\npy4j.Gateway.invoke(Gateway.java:282)\\npy4j.commands.AbstractCommand.invokeMethod(AbstractCommand.java:132)\\npy4j.commands.CallCommand.execute(CallCommand.java:79)\\npy4j.GatewayConnection.run(GatewayConnection.java:238)\\njava.lang.Thread.run(Thread.java:748)\" class=\"fa fa-info-circle\"></i>            <span id=\"status1ca767de30\">Not Started</span>        </td>    </tr>'+\n",
       "        \n",
       "        '</tbody>' +\n",
       "    '</table>' +\n",
       "'</div>'\n",
       ")\n",
       "\n",
       "$('.nav-tabs a[href=\"#menu1ca767de29\"]').tab('show');\n",
       "$(\"#status1ca767de30\").text(\"Submitted\")\n",
       "\n",
       "\n",
       "function incProgress(id){\n",
       "    var n = $(id);\n",
       "    n.attr(\"value\", parseInt( n.attr(\"value\")) + 4);\n",
       "}\n",
       "incProgress(\"#progress1ca767de30\");\n",
       "incProgress(\"#pm_overallProgress1ca767de\");\n",
       "$(\"#progressNumTask1ca767de30\").text(\"4\");\n",
       "$(\"#status1ca767de30\").text(\"Running\")\n",
       "\n",
       "\n",
       "$(\"#host1ca767de30\").text(\"618747455(17.58.160.162)\")\n",
       "\n",
       "$(\"#status1ca767de30\").text(\"Completed\")\n",
       "\n",
       "\n",
       "$(\"#menu1ca767de29 [id^=status1ca767de]\").each(function(){\n",
       "    if ($(this).text() == \"Not Started\"){\n",
       "        $(this).text(\"Skipped\");\n",
       "    }\n",
       "})\n",
       "\n",
       "var n = $(\"#pm_overallProgress1ca767de\");\n",
       "n.attr(\"value\", parseInt(n.attr(\"max\")))\n"
      ],
      "text/plain": [
       "<IPython.core.display.Javascript object>"
      ]
     },
     "metadata": {},
     "output_type": "display_data"
    }
   ],
   "source": [
    "# take\n",
    "sc.parallelize([1,2,3,4,5,6]).first()"
   ]
  },
  {
   "cell_type": "raw",
   "metadata": {
    "ExecuteTime": {
     "end_time": "2020-04-02T15:36:55.151391Z",
     "start_time": "2020-04-02T15:36:55.123708Z"
    }
   },
   "source": [
    "# sort by key\n",
    "sc.parallelize([1,6,3,4,2,7]).map(lambda x: (x%3, x)).sortByKey(ascending=ascending, numPartitions=5).collect()"
   ]
  },
  {
   "cell_type": "markdown",
   "metadata": {},
   "source": [
    "# DataFrame's"
   ]
  },
  {
   "cell_type": "markdown",
   "metadata": {},
   "source": [
    "### create dataframe by reading csv file"
   ]
  },
  {
   "cell_type": "code",
   "execution_count": null,
   "metadata": {},
   "outputs": [],
   "source": [
    "csvData = spark.read.csv( path='',\n",
    "                         sep=',',\n",
    "                         encoding='UTF-8',\n",
    "                         comment=None,\n",
    "                         header=True,\n",
    "                         inferSchema=True)\n",
    "\n",
    "csvData.show(n=5, truncate=False)"
   ]
  },
  {
   "cell_type": "markdown",
   "metadata": {},
   "source": [
    "### create dataframe by createDataFrame function"
   ]
  },
  {
   "cell_type": "code",
   "execution_count": 76,
   "metadata": {
    "ExecuteTime": {
     "end_time": "2020-04-03T06:50:29.017041Z",
     "start_time": "2020-04-03T06:50:28.676168Z"
    }
   },
   "outputs": [
    {
     "data": {
      "text/html": [
       "<div id=\"pm_overallContainerf3343a3d\" style=\"display:none\">\n",
       "    <table width=\"100%\" style=\"border:0px\">\n",
       "        <tr style=\"border:0px\">\n",
       "            <td width=\"20px\" style=\"border:0px\"><span id=\"twistief3343a3d\" style=\"color:blue;font-size:x-large;cursor:pointer\">&#9656;</span></td>\n",
       "            <td width=\"130px\" style=\"text-align:left;border:0px\"><span id=\"pm_overallJobNamef3343a3d\"></span>:</td>\n",
       "            <td width=\"calc(100% - 150px)\" style=\"border:0px\"><progress id=\"pm_overallProgressf3343a3d\" max=\"100\" value=\"0\" style=\"width:100%\"></progress></td>\n",
       "        </tr>\n",
       "    </table>\n",
       "</div>\n",
       "<div id=\"pm_containerf3343a3d\" style=\"display:none\">\n",
       "    <ul class=\"nav nav-tabs\" id=\"progressMonitorsf3343a3d\">\n",
       "    </ul>\n",
       "    <div class=\"tab-content\" id=\"tabContentf3343a3d\">\n",
       "    </div>\n",
       "</div>\n",
       "\n",
       "<script>\n",
       "$(\"#twistief3343a3d\").click(function(){\n",
       "    visible = $(\"#pm_containerf3343a3d\").is(':visible');\n",
       "    $(\"#pm_containerf3343a3d\").slideToggle(\"slow\");\n",
       "    $(this).html(visible?\"&#9656;\":\"&#9662;\")\n",
       "});\n",
       "</script>"
      ],
      "text/plain": [
       "<IPython.core.display.HTML object>"
      ]
     },
     "metadata": {},
     "output_type": "display_data"
    },
    {
     "data": {
      "application/javascript": [
       "\n",
       "\n",
       "$(\"#pm_containerf3343a3d\").css(\"border\",\"1px solid #dddddd\").css(\"padding\",\"10px\")\n",
       "var jobName = 'Job 81 (1 '+\n",
       "             'Stage'+  ')'\n",
       "$(\"#pm_overallContainerf3343a3d\").show();\n",
       "$(\"#pm_overallJobNamef3343a3d\").text(jobName);\n",
       "$(\"#pm_overallProgressf3343a3d\").attr(\"max\", 1).attr(\"value\",0);\n",
       "$(\"#progressMonitorsf3343a3d\").append(\n",
       "    '<li>'+\n",
       "        '<a style=\"padding: 5px 5px;font-size: 12px;\" data-toggle=\"tab\" href=\"#menuf3343a3d81\">'+\n",
       "            jobName +\n",
       "        '</a>'+\n",
       "    '</li>'\n",
       ");\n",
       "\n",
       "$(\"#tabContentf3343a3d\").append(\n",
       "'<div id=\"menuf3343a3d81\" class=\"tab-pane fade in active\">'+\n",
       "    '<table>' + \n",
       "        '<thead>' +\n",
       "            '<tr>' +\n",
       "                '<th style=\"text-align:center\">Stage</th>' +\n",
       "                '<th style=\"text-align:center\">Progress</th>' +\n",
       "                '<th style=\"text-align:center\">Executor</th>' +\n",
       "                '<th style=\"text-align:center\">Details</th>' +\n",
       "            '</tr>' +\n",
       "        '</thead>' +\n",
       "        '<tbody>' + \n",
       "        \n",
       "            '<tr>        <td style=\"max-width:200px\">            Stage 119 <span id=\"progressNumTaskf3343a3d119\">0</span>/1:        </td>        <td style=\"max-width: 300px\">            <progress id=\"progressf3343a3d119\" max=\"1\" value=\"0\" style=\"width:200px\"></progress>        </td>        <td>            <span id=\"hostf3343a3d119\"></span>        </td>        <td>            <i title=\"org.apache.spark.sql.Dataset.showString(Dataset.scala:291)\\nsun.reflect.NativeMethodAccessorImpl.invoke0(Native Method)\\nsun.reflect.NativeMethodAccessorImpl.invoke(NativeMethodAccessorImpl.java:62)\\nsun.reflect.DelegatingMethodAccessorImpl.invoke(DelegatingMethodAccessorImpl.java:43)\\njava.lang.reflect.Method.invoke(Method.java:498)\\npy4j.reflection.MethodInvoker.invoke(MethodInvoker.java:244)\\npy4j.reflection.ReflectionEngine.invoke(ReflectionEngine.java:357)\\npy4j.Gateway.invoke(Gateway.java:282)\\npy4j.commands.AbstractCommand.invokeMethod(AbstractCommand.java:132)\\npy4j.commands.CallCommand.execute(CallCommand.java:79)\\npy4j.GatewayConnection.run(GatewayConnection.java:238)\\njava.lang.Thread.run(Thread.java:748)\" class=\"fa fa-info-circle\"></i>            <span id=\"statusf3343a3d119\">Not Started</span>        </td>    </tr>'+\n",
       "        \n",
       "        '</tbody>' +\n",
       "    '</table>' +\n",
       "'</div>'\n",
       ")\n",
       "\n",
       "$('.nav-tabs a[href=\"#menuf3343a3d81\"]').tab('show');\n"
      ],
      "text/plain": [
       "<IPython.core.display.Javascript object>"
      ]
     },
     "metadata": {},
     "output_type": "display_data"
    },
    {
     "name": "stdout",
     "output_type": "stream",
     "text": [
      "+---+---+\n",
      "| id|txt|\n",
      "+---+---+\n",
      "|  1|foo|\n",
      "|  2|bar|\n",
      "+---+---+\n",
      "\n"
     ]
    },
    {
     "data": {
      "application/javascript": [
       "$(\"#statusf3343a3d119\").text(\"Submitted\")\n",
       "\n",
       "\n",
       "function incProgress(id){\n",
       "    var n = $(id);\n",
       "    n.attr(\"value\", parseInt( n.attr(\"value\")) + 1);\n",
       "}\n",
       "incProgress(\"#progressf3343a3d119\");\n",
       "incProgress(\"#pm_overallProgressf3343a3d\");\n",
       "$(\"#progressNumTaskf3343a3d119\").text(\"1\");\n",
       "$(\"#statusf3343a3d119\").text(\"Running\")\n",
       "\n",
       "\n",
       "$(\"#hostf3343a3d119\").text(\"623460586(17.58.161.211)\")\n",
       "\n",
       "$(\"#statusf3343a3d119\").text(\"Completed\")\n",
       "\n",
       "\n",
       "$(\"#menuf3343a3d81 [id^=statusf3343a3d]\").each(function(){\n",
       "    if ($(this).text() == \"Not Started\"){\n",
       "        $(this).text(\"Skipped\");\n",
       "    }\n",
       "})\n",
       "\n",
       "var n = $(\"#pm_overallProgressf3343a3d\");\n",
       "n.attr(\"value\", parseInt(n.attr(\"max\")))\n",
       "\n",
       "\n",
       "$(\"#pm_containerf3343a3d\").css(\"border\",\"1px solid #dddddd\").css(\"padding\",\"10px\")\n",
       "var jobName = 'Job 82 (1 '+\n",
       "             'Stage'+  ')'\n",
       "$(\"#pm_overallContainerf3343a3d\").show();\n",
       "$(\"#pm_overallJobNamef3343a3d\").text(jobName);\n",
       "$(\"#pm_overallProgressf3343a3d\").attr(\"max\", 4).attr(\"value\",0);\n",
       "$(\"#progressMonitorsf3343a3d\").append(\n",
       "    '<li>'+\n",
       "        '<a style=\"padding: 5px 5px;font-size: 12px;\" data-toggle=\"tab\" href=\"#menuf3343a3d82\">'+\n",
       "            jobName +\n",
       "        '</a>'+\n",
       "    '</li>'\n",
       ");\n",
       "\n",
       "$(\"#tabContentf3343a3d\").append(\n",
       "'<div id=\"menuf3343a3d82\" class=\"tab-pane fade in active\">'+\n",
       "    '<table>' + \n",
       "        '<thead>' +\n",
       "            '<tr>' +\n",
       "                '<th style=\"text-align:center\">Stage</th>' +\n",
       "                '<th style=\"text-align:center\">Progress</th>' +\n",
       "                '<th style=\"text-align:center\">Executor</th>' +\n",
       "                '<th style=\"text-align:center\">Details</th>' +\n",
       "            '</tr>' +\n",
       "        '</thead>' +\n",
       "        '<tbody>' + \n",
       "        \n",
       "            '<tr>        <td style=\"max-width:200px\">            Stage 120 <span id=\"progressNumTaskf3343a3d120\">0</span>/4:        </td>        <td style=\"max-width: 300px\">            <progress id=\"progressf3343a3d120\" max=\"4\" value=\"0\" style=\"width:200px\"></progress>        </td>        <td>            <span id=\"hostf3343a3d120\"></span>        </td>        <td>            <i title=\"org.apache.spark.sql.Dataset.showString(Dataset.scala:291)\\nsun.reflect.NativeMethodAccessorImpl.invoke0(Native Method)\\nsun.reflect.NativeMethodAccessorImpl.invoke(NativeMethodAccessorImpl.java:62)\\nsun.reflect.DelegatingMethodAccessorImpl.invoke(DelegatingMethodAccessorImpl.java:43)\\njava.lang.reflect.Method.invoke(Method.java:498)\\npy4j.reflection.MethodInvoker.invoke(MethodInvoker.java:244)\\npy4j.reflection.ReflectionEngine.invoke(ReflectionEngine.java:357)\\npy4j.Gateway.invoke(Gateway.java:282)\\npy4j.commands.AbstractCommand.invokeMethod(AbstractCommand.java:132)\\npy4j.commands.CallCommand.execute(CallCommand.java:79)\\npy4j.GatewayConnection.run(GatewayConnection.java:238)\\njava.lang.Thread.run(Thread.java:748)\" class=\"fa fa-info-circle\"></i>            <span id=\"statusf3343a3d120\">Not Started</span>        </td>    </tr>'+\n",
       "        \n",
       "        '</tbody>' +\n",
       "    '</table>' +\n",
       "'</div>'\n",
       ")\n",
       "\n",
       "$('.nav-tabs a[href=\"#menuf3343a3d82\"]').tab('show');\n",
       "$(\"#statusf3343a3d120\").text(\"Submitted\")\n",
       "\n",
       "\n",
       "function incProgress(id){\n",
       "    var n = $(id);\n",
       "    n.attr(\"value\", parseInt( n.attr(\"value\")) + 4);\n",
       "}\n",
       "incProgress(\"#progressf3343a3d120\");\n",
       "incProgress(\"#pm_overallProgressf3343a3d\");\n",
       "$(\"#progressNumTaskf3343a3d120\").text(\"4\");\n",
       "$(\"#statusf3343a3d120\").text(\"Running\")\n",
       "\n",
       "\n",
       "$(\"#hostf3343a3d120\").text(\"1323707573(17.58.166.36)\")\n",
       "\n",
       "$(\"#statusf3343a3d120\").text(\"Completed\")\n",
       "\n",
       "\n",
       "$(\"#menuf3343a3d82 [id^=statusf3343a3d]\").each(function(){\n",
       "    if ($(this).text() == \"Not Started\"){\n",
       "        $(this).text(\"Skipped\");\n",
       "    }\n",
       "})\n",
       "\n",
       "var n = $(\"#pm_overallProgressf3343a3d\");\n",
       "n.attr(\"value\", parseInt(n.attr(\"max\")))\n",
       "\n",
       "\n",
       "$(\"#pm_containerf3343a3d\").css(\"border\",\"1px solid #dddddd\").css(\"padding\",\"10px\")\n",
       "var jobName = 'Job 83 (1 '+\n",
       "             'Stage'+  ')'\n",
       "$(\"#pm_overallContainerf3343a3d\").show();\n",
       "$(\"#pm_overallJobNamef3343a3d\").text(jobName);\n",
       "$(\"#pm_overallProgressf3343a3d\").attr(\"max\", 7).attr(\"value\",0);\n",
       "$(\"#progressMonitorsf3343a3d\").append(\n",
       "    '<li>'+\n",
       "        '<a style=\"padding: 5px 5px;font-size: 12px;\" data-toggle=\"tab\" href=\"#menuf3343a3d83\">'+\n",
       "            jobName +\n",
       "        '</a>'+\n",
       "    '</li>'\n",
       ");\n",
       "\n",
       "$(\"#tabContentf3343a3d\").append(\n",
       "'<div id=\"menuf3343a3d83\" class=\"tab-pane fade in active\">'+\n",
       "    '<table>' + \n",
       "        '<thead>' +\n",
       "            '<tr>' +\n",
       "                '<th style=\"text-align:center\">Stage</th>' +\n",
       "                '<th style=\"text-align:center\">Progress</th>' +\n",
       "                '<th style=\"text-align:center\">Executor</th>' +\n",
       "                '<th style=\"text-align:center\">Details</th>' +\n",
       "            '</tr>' +\n",
       "        '</thead>' +\n",
       "        '<tbody>' + \n",
       "        \n",
       "            '<tr>        <td style=\"max-width:200px\">            Stage 121 <span id=\"progressNumTaskf3343a3d121\">0</span>/7:        </td>        <td style=\"max-width: 300px\">            <progress id=\"progressf3343a3d121\" max=\"7\" value=\"0\" style=\"width:200px\"></progress>        </td>        <td>            <span id=\"hostf3343a3d121\"></span>        </td>        <td>            <i title=\"org.apache.spark.sql.Dataset.showString(Dataset.scala:291)\\nsun.reflect.NativeMethodAccessorImpl.invoke0(Native Method)\\nsun.reflect.NativeMethodAccessorImpl.invoke(NativeMethodAccessorImpl.java:62)\\nsun.reflect.DelegatingMethodAccessorImpl.invoke(DelegatingMethodAccessorImpl.java:43)\\njava.lang.reflect.Method.invoke(Method.java:498)\\npy4j.reflection.MethodInvoker.invoke(MethodInvoker.java:244)\\npy4j.reflection.ReflectionEngine.invoke(ReflectionEngine.java:357)\\npy4j.Gateway.invoke(Gateway.java:282)\\npy4j.commands.AbstractCommand.invokeMethod(AbstractCommand.java:132)\\npy4j.commands.CallCommand.execute(CallCommand.java:79)\\npy4j.GatewayConnection.run(GatewayConnection.java:238)\\njava.lang.Thread.run(Thread.java:748)\" class=\"fa fa-info-circle\"></i>            <span id=\"statusf3343a3d121\">Not Started</span>        </td>    </tr>'+\n",
       "        \n",
       "        '</tbody>' +\n",
       "    '</table>' +\n",
       "'</div>'\n",
       ")\n",
       "\n",
       "$('.nav-tabs a[href=\"#menuf3343a3d83\"]').tab('show');\n",
       "$(\"#statusf3343a3d121\").text(\"Submitted\")\n",
       "\n",
       "\n",
       "function incProgress(id){\n",
       "    var n = $(id);\n",
       "    n.attr(\"value\", parseInt( n.attr(\"value\")) + 7);\n",
       "}\n",
       "incProgress(\"#progressf3343a3d121\");\n",
       "incProgress(\"#pm_overallProgressf3343a3d\");\n",
       "$(\"#progressNumTaskf3343a3d121\").text(\"7\");\n",
       "$(\"#statusf3343a3d121\").text(\"Running\")\n",
       "\n",
       "\n",
       "$(\"#hostf3343a3d121\").text(\"1323707573(17.58.166.36)\")\n",
       "\n",
       "$(\"#statusf3343a3d121\").text(\"Completed\")\n",
       "\n",
       "\n",
       "$(\"#menuf3343a3d83 [id^=statusf3343a3d]\").each(function(){\n",
       "    if ($(this).text() == \"Not Started\"){\n",
       "        $(this).text(\"Skipped\");\n",
       "    }\n",
       "})\n",
       "\n",
       "var n = $(\"#pm_overallProgressf3343a3d\");\n",
       "n.attr(\"value\", parseInt(n.attr(\"max\")))\n"
      ],
      "text/plain": [
       "<IPython.core.display.Javascript object>"
      ]
     },
     "metadata": {},
     "output_type": "display_data"
    }
   ],
   "source": [
    "rdd = spark.createDataFrame(\n",
    "    [\n",
    "        (1, 'foo'), \n",
    "        (2, 'bar'),\n",
    "    ],\n",
    "    ['id', 'txt'] # schema of columns here\n",
    ")\n",
    "\n",
    "rdd.show(2)"
   ]
  },
  {
   "cell_type": "markdown",
   "metadata": {},
   "source": [
    "## change column names"
   ]
  },
  {
   "cell_type": "markdown",
   "metadata": {
    "ExecuteTime": {
     "end_time": "2020-04-03T06:43:17.805853Z",
     "start_time": "2020-04-03T06:43:17.796537Z"
    }
   },
   "source": [
    "#### Option-1"
   ]
  },
  {
   "cell_type": "code",
   "execution_count": 66,
   "metadata": {
    "ExecuteTime": {
     "end_time": "2020-04-03T06:43:06.096254Z",
     "start_time": "2020-04-03T06:43:06.079634Z"
    }
   },
   "outputs": [
    {
     "data": {
      "text/html": [
       "<div id=\"pm_overallContainer5c6db732\" style=\"display:none\">\n",
       "    <table width=\"100%\" style=\"border:0px\">\n",
       "        <tr style=\"border:0px\">\n",
       "            <td width=\"20px\" style=\"border:0px\"><span id=\"twistie5c6db732\" style=\"color:blue;font-size:x-large;cursor:pointer\">&#9656;</span></td>\n",
       "            <td width=\"130px\" style=\"text-align:left;border:0px\"><span id=\"pm_overallJobName5c6db732\"></span>:</td>\n",
       "            <td width=\"calc(100% - 150px)\" style=\"border:0px\"><progress id=\"pm_overallProgress5c6db732\" max=\"100\" value=\"0\" style=\"width:100%\"></progress></td>\n",
       "        </tr>\n",
       "    </table>\n",
       "</div>\n",
       "<div id=\"pm_container5c6db732\" style=\"display:none\">\n",
       "    <ul class=\"nav nav-tabs\" id=\"progressMonitors5c6db732\">\n",
       "    </ul>\n",
       "    <div class=\"tab-content\" id=\"tabContent5c6db732\">\n",
       "    </div>\n",
       "</div>\n",
       "\n",
       "<script>\n",
       "$(\"#twistie5c6db732\").click(function(){\n",
       "    visible = $(\"#pm_container5c6db732\").is(':visible');\n",
       "    $(\"#pm_container5c6db732\").slideToggle(\"slow\");\n",
       "    $(this).html(visible?\"&#9656;\":\"&#9662;\")\n",
       "});\n",
       "</script>"
      ],
      "text/plain": [
       "<IPython.core.display.HTML object>"
      ]
     },
     "metadata": {},
     "output_type": "display_data"
    },
    {
     "name": "stdout",
     "output_type": "stream",
     "text": [
      "root\n",
      " |-- emp_id: long (nullable = true)\n",
      " |-- name: string (nullable = true)\n",
      "\n"
     ]
    }
   ],
   "source": [
    "from pyspark.sql.functions import col\n",
    "rdd.selectExpr(\"id as emp_id\", \"txt as name\").printSchema()\n"
   ]
  },
  {
   "cell_type": "markdown",
   "metadata": {},
   "source": [
    "#### Option-2"
   ]
  },
  {
   "cell_type": "code",
   "execution_count": 75,
   "metadata": {
    "ExecuteTime": {
     "end_time": "2020-04-03T06:48:46.633359Z",
     "start_time": "2020-04-03T06:48:46.612794Z"
    }
   },
   "outputs": [
    {
     "data": {
      "text/html": [
       "<div id=\"pm_overallContainer0264bb5a\" style=\"display:none\">\n",
       "    <table width=\"100%\" style=\"border:0px\">\n",
       "        <tr style=\"border:0px\">\n",
       "            <td width=\"20px\" style=\"border:0px\"><span id=\"twistie0264bb5a\" style=\"color:blue;font-size:x-large;cursor:pointer\">&#9656;</span></td>\n",
       "            <td width=\"130px\" style=\"text-align:left;border:0px\"><span id=\"pm_overallJobName0264bb5a\"></span>:</td>\n",
       "            <td width=\"calc(100% - 150px)\" style=\"border:0px\"><progress id=\"pm_overallProgress0264bb5a\" max=\"100\" value=\"0\" style=\"width:100%\"></progress></td>\n",
       "        </tr>\n",
       "    </table>\n",
       "</div>\n",
       "<div id=\"pm_container0264bb5a\" style=\"display:none\">\n",
       "    <ul class=\"nav nav-tabs\" id=\"progressMonitors0264bb5a\">\n",
       "    </ul>\n",
       "    <div class=\"tab-content\" id=\"tabContent0264bb5a\">\n",
       "    </div>\n",
       "</div>\n",
       "\n",
       "<script>\n",
       "$(\"#twistie0264bb5a\").click(function(){\n",
       "    visible = $(\"#pm_container0264bb5a\").is(':visible');\n",
       "    $(\"#pm_container0264bb5a\").slideToggle(\"slow\");\n",
       "    $(this).html(visible?\"&#9656;\":\"&#9662;\")\n",
       "});\n",
       "</script>"
      ],
      "text/plain": [
       "<IPython.core.display.HTML object>"
      ]
     },
     "metadata": {},
     "output_type": "display_data"
    },
    {
     "name": "stdout",
     "output_type": "stream",
     "text": [
      "root\n",
      " |-- emp_id: long (nullable = true)\n",
      " |-- name: string (nullable = true)\n",
      "\n"
     ]
    }
   ],
   "source": [
    "from pyspark.sql.functions import col\n",
    "\n",
    "rdd.select(col(\"id\").alias(\"emp_id\"), col(\"txt\").alias(\"name\")).printSchema()"
   ]
  },
  {
   "cell_type": "markdown",
   "metadata": {},
   "source": [
    "#### Option-3"
   ]
  },
  {
   "cell_type": "code",
   "execution_count": 78,
   "metadata": {
    "ExecuteTime": {
     "end_time": "2020-04-03T06:50:35.794825Z",
     "start_time": "2020-04-03T06:50:35.755474Z"
    }
   },
   "outputs": [
    {
     "data": {
      "text/html": [
       "<div id=\"pm_overallContainer154c0c37\" style=\"display:none\">\n",
       "    <table width=\"100%\" style=\"border:0px\">\n",
       "        <tr style=\"border:0px\">\n",
       "            <td width=\"20px\" style=\"border:0px\"><span id=\"twistie154c0c37\" style=\"color:blue;font-size:x-large;cursor:pointer\">&#9656;</span></td>\n",
       "            <td width=\"130px\" style=\"text-align:left;border:0px\"><span id=\"pm_overallJobName154c0c37\"></span>:</td>\n",
       "            <td width=\"calc(100% - 150px)\" style=\"border:0px\"><progress id=\"pm_overallProgress154c0c37\" max=\"100\" value=\"0\" style=\"width:100%\"></progress></td>\n",
       "        </tr>\n",
       "    </table>\n",
       "</div>\n",
       "<div id=\"pm_container154c0c37\" style=\"display:none\">\n",
       "    <ul class=\"nav nav-tabs\" id=\"progressMonitors154c0c37\">\n",
       "    </ul>\n",
       "    <div class=\"tab-content\" id=\"tabContent154c0c37\">\n",
       "    </div>\n",
       "</div>\n",
       "\n",
       "<script>\n",
       "$(\"#twistie154c0c37\").click(function(){\n",
       "    visible = $(\"#pm_container154c0c37\").is(':visible');\n",
       "    $(\"#pm_container154c0c37\").slideToggle(\"slow\");\n",
       "    $(this).html(visible?\"&#9656;\":\"&#9662;\")\n",
       "});\n",
       "</script>"
      ],
      "text/plain": [
       "<IPython.core.display.HTML object>"
      ]
     },
     "metadata": {},
     "output_type": "display_data"
    },
    {
     "name": "stdout",
     "output_type": "stream",
     "text": [
      "root\n",
      " |-- emp_id: long (nullable = true)\n",
      " |-- Name: string (nullable = true)\n",
      "\n"
     ]
    }
   ],
   "source": [
    "rdd.registerTempTable(\"rdd\")\n",
    "output = spark.sql(\"SELECT id AS emp_id, txt as Name from rdd\")\n",
    "output.printSchema()"
   ]
  },
  {
   "cell_type": "markdown",
   "metadata": {},
   "source": [
    "## Group by and Aggregate"
   ]
  },
  {
   "cell_type": "code",
   "execution_count": 38,
   "metadata": {
    "ExecuteTime": {
     "end_time": "2020-04-03T05:05:50.709245Z",
     "start_time": "2020-04-03T05:05:50.175171Z"
    }
   },
   "outputs": [
    {
     "data": {
      "text/html": [
       "<div id=\"pm_overallContainerd97b7807\" style=\"display:none\">\n",
       "    <table width=\"100%\" style=\"border:0px\">\n",
       "        <tr style=\"border:0px\">\n",
       "            <td width=\"20px\" style=\"border:0px\"><span id=\"twistied97b7807\" style=\"color:blue;font-size:x-large;cursor:pointer\">&#9656;</span></td>\n",
       "            <td width=\"130px\" style=\"text-align:left;border:0px\"><span id=\"pm_overallJobNamed97b7807\"></span>:</td>\n",
       "            <td width=\"calc(100% - 150px)\" style=\"border:0px\"><progress id=\"pm_overallProgressd97b7807\" max=\"100\" value=\"0\" style=\"width:100%\"></progress></td>\n",
       "        </tr>\n",
       "    </table>\n",
       "</div>\n",
       "<div id=\"pm_containerd97b7807\" style=\"display:none\">\n",
       "    <ul class=\"nav nav-tabs\" id=\"progressMonitorsd97b7807\">\n",
       "    </ul>\n",
       "    <div class=\"tab-content\" id=\"tabContentd97b7807\">\n",
       "    </div>\n",
       "</div>\n",
       "\n",
       "<script>\n",
       "$(\"#twistied97b7807\").click(function(){\n",
       "    visible = $(\"#pm_containerd97b7807\").is(':visible');\n",
       "    $(\"#pm_containerd97b7807\").slideToggle(\"slow\");\n",
       "    $(this).html(visible?\"&#9656;\":\"&#9662;\")\n",
       "});\n",
       "</script>"
      ],
      "text/plain": [
       "<IPython.core.display.HTML object>"
      ]
     },
     "metadata": {},
     "output_type": "display_data"
    },
    {
     "data": {
      "application/javascript": [
       "\n",
       "\n",
       "$(\"#pm_containerd97b7807\").css(\"border\",\"1px solid #dddddd\").css(\"padding\",\"10px\")\n",
       "var jobName = 'Job 34 (1 '+\n",
       "             'Stage'+  ')'\n",
       "$(\"#pm_overallContainerd97b7807\").show();\n",
       "$(\"#pm_overallJobNamed97b7807\").text(jobName);\n",
       "$(\"#pm_overallProgressd97b7807\").attr(\"max\", 1).attr(\"value\",0);\n",
       "$(\"#progressMonitorsd97b7807\").append(\n",
       "    '<li>'+\n",
       "        '<a style=\"padding: 5px 5px;font-size: 12px;\" data-toggle=\"tab\" href=\"#menud97b780734\">'+\n",
       "            jobName +\n",
       "        '</a>'+\n",
       "    '</li>'\n",
       ");\n",
       "\n",
       "$(\"#tabContentd97b7807\").append(\n",
       "'<div id=\"menud97b780734\" class=\"tab-pane fade in active\">'+\n",
       "    '<table>' + \n",
       "        '<thead>' +\n",
       "            '<tr>' +\n",
       "                '<th style=\"text-align:center\">Stage</th>' +\n",
       "                '<th style=\"text-align:center\">Progress</th>' +\n",
       "                '<th style=\"text-align:center\">Executor</th>' +\n",
       "                '<th style=\"text-align:center\">Details</th>' +\n",
       "            '</tr>' +\n",
       "        '</thead>' +\n",
       "        '<tbody>' + \n",
       "        \n",
       "            '<tr>        <td style=\"max-width:200px\">            Stage 36 <span id=\"progressNumTaskd97b780736\">0</span>/1:        </td>        <td style=\"max-width: 300px\">            <progress id=\"progressd97b780736\" max=\"1\" value=\"0\" style=\"width:200px\"></progress>        </td>        <td>            <span id=\"hostd97b780736\"></span>        </td>        <td>            <i title=\"org.apache.spark.sql.Dataset.showString(Dataset.scala:291)\\nsun.reflect.NativeMethodAccessorImpl.invoke0(Native Method)\\nsun.reflect.NativeMethodAccessorImpl.invoke(NativeMethodAccessorImpl.java:62)\\nsun.reflect.DelegatingMethodAccessorImpl.invoke(DelegatingMethodAccessorImpl.java:43)\\njava.lang.reflect.Method.invoke(Method.java:498)\\npy4j.reflection.MethodInvoker.invoke(MethodInvoker.java:244)\\npy4j.reflection.ReflectionEngine.invoke(ReflectionEngine.java:357)\\npy4j.Gateway.invoke(Gateway.java:282)\\npy4j.commands.AbstractCommand.invokeMethod(AbstractCommand.java:132)\\npy4j.commands.CallCommand.execute(CallCommand.java:79)\\npy4j.GatewayConnection.run(GatewayConnection.java:238)\\njava.lang.Thread.run(Thread.java:748)\" class=\"fa fa-info-circle\"></i>            <span id=\"statusd97b780736\">Not Started</span>        </td>    </tr>'+\n",
       "        \n",
       "        '</tbody>' +\n",
       "    '</table>' +\n",
       "'</div>'\n",
       ")\n",
       "\n",
       "$('.nav-tabs a[href=\"#menud97b780734\"]').tab('show');\n"
      ],
      "text/plain": [
       "<IPython.core.display.Javascript object>"
      ]
     },
     "metadata": {},
     "output_type": "display_data"
    },
    {
     "name": "stdout",
     "output_type": "stream",
     "text": [
      "+-------+------+------+\n",
      "|company|emp_id|salary|\n",
      "+-------+------+------+\n",
      "|   GOOG|     1|200000|\n",
      "|   GOOG|     2|150000|\n",
      "|   AAPL|     3|175000|\n",
      "|   AAPL|     4|180000|\n",
      "+-------+------+------+\n",
      "\n"
     ]
    },
    {
     "data": {
      "application/javascript": [
       "$(\"#statusd97b780736\").text(\"Submitted\")\n",
       "\n",
       "\n",
       "function incProgress(id){\n",
       "    var n = $(id);\n",
       "    n.attr(\"value\", parseInt( n.attr(\"value\")) + 1);\n",
       "}\n",
       "incProgress(\"#progressd97b780736\");\n",
       "incProgress(\"#pm_overallProgressd97b7807\");\n",
       "$(\"#progressNumTaskd97b780736\").text(\"1\");\n",
       "$(\"#statusd97b780736\").text(\"Running\")\n",
       "\n",
       "\n",
       "$(\"#hostd97b780736\").text(\"618747455(17.58.160.162)\")\n",
       "\n",
       "$(\"#statusd97b780736\").text(\"Completed\")\n",
       "\n",
       "\n",
       "$(\"#menud97b780734 [id^=statusd97b7807]\").each(function(){\n",
       "    if ($(this).text() == \"Not Started\"){\n",
       "        $(this).text(\"Skipped\");\n",
       "    }\n",
       "})\n",
       "\n",
       "var n = $(\"#pm_overallProgressd97b7807\");\n",
       "n.attr(\"value\", parseInt(n.attr(\"max\")))\n",
       "\n",
       "\n",
       "$(\"#pm_containerd97b7807\").css(\"border\",\"1px solid #dddddd\").css(\"padding\",\"10px\")\n",
       "var jobName = 'Job 35 (1 '+\n",
       "             'Stage'+  ')'\n",
       "$(\"#pm_overallContainerd97b7807\").show();\n",
       "$(\"#pm_overallJobNamed97b7807\").text(jobName);\n",
       "$(\"#pm_overallProgressd97b7807\").attr(\"max\", 4).attr(\"value\",0);\n",
       "$(\"#progressMonitorsd97b7807\").append(\n",
       "    '<li>'+\n",
       "        '<a style=\"padding: 5px 5px;font-size: 12px;\" data-toggle=\"tab\" href=\"#menud97b780735\">'+\n",
       "            jobName +\n",
       "        '</a>'+\n",
       "    '</li>'\n",
       ");\n",
       "\n",
       "$(\"#tabContentd97b7807\").append(\n",
       "'<div id=\"menud97b780735\" class=\"tab-pane fade in active\">'+\n",
       "    '<table>' + \n",
       "        '<thead>' +\n",
       "            '<tr>' +\n",
       "                '<th style=\"text-align:center\">Stage</th>' +\n",
       "                '<th style=\"text-align:center\">Progress</th>' +\n",
       "                '<th style=\"text-align:center\">Executor</th>' +\n",
       "                '<th style=\"text-align:center\">Details</th>' +\n",
       "            '</tr>' +\n",
       "        '</thead>' +\n",
       "        '<tbody>' + \n",
       "        \n",
       "            '<tr>        <td style=\"max-width:200px\">            Stage 37 <span id=\"progressNumTaskd97b780737\">0</span>/4:        </td>        <td style=\"max-width: 300px\">            <progress id=\"progressd97b780737\" max=\"4\" value=\"0\" style=\"width:200px\"></progress>        </td>        <td>            <span id=\"hostd97b780737\"></span>        </td>        <td>            <i title=\"org.apache.spark.sql.Dataset.showString(Dataset.scala:291)\\nsun.reflect.NativeMethodAccessorImpl.invoke0(Native Method)\\nsun.reflect.NativeMethodAccessorImpl.invoke(NativeMethodAccessorImpl.java:62)\\nsun.reflect.DelegatingMethodAccessorImpl.invoke(DelegatingMethodAccessorImpl.java:43)\\njava.lang.reflect.Method.invoke(Method.java:498)\\npy4j.reflection.MethodInvoker.invoke(MethodInvoker.java:244)\\npy4j.reflection.ReflectionEngine.invoke(ReflectionEngine.java:357)\\npy4j.Gateway.invoke(Gateway.java:282)\\npy4j.commands.AbstractCommand.invokeMethod(AbstractCommand.java:132)\\npy4j.commands.CallCommand.execute(CallCommand.java:79)\\npy4j.GatewayConnection.run(GatewayConnection.java:238)\\njava.lang.Thread.run(Thread.java:748)\" class=\"fa fa-info-circle\"></i>            <span id=\"statusd97b780737\">Not Started</span>        </td>    </tr>'+\n",
       "        \n",
       "        '</tbody>' +\n",
       "    '</table>' +\n",
       "'</div>'\n",
       ")\n",
       "\n",
       "$('.nav-tabs a[href=\"#menud97b780735\"]').tab('show');\n",
       "$(\"#statusd97b780737\").text(\"Submitted\")\n",
       "\n",
       "\n",
       "function incProgress(id){\n",
       "    var n = $(id);\n",
       "    n.attr(\"value\", parseInt( n.attr(\"value\")) + 4);\n",
       "}\n",
       "incProgress(\"#progressd97b780737\");\n",
       "incProgress(\"#pm_overallProgressd97b7807\");\n",
       "$(\"#progressNumTaskd97b780737\").text(\"4\");\n",
       "$(\"#statusd97b780737\").text(\"Running\")\n",
       "\n",
       "\n",
       "$(\"#hostd97b780737\").text(\"1431551498(17.58.172.200)\")\n",
       "\n",
       "$(\"#statusd97b780737\").text(\"Completed\")\n",
       "\n",
       "\n",
       "$(\"#menud97b780735 [id^=statusd97b7807]\").each(function(){\n",
       "    if ($(this).text() == \"Not Started\"){\n",
       "        $(this).text(\"Skipped\");\n",
       "    }\n",
       "})\n",
       "\n",
       "var n = $(\"#pm_overallProgressd97b7807\");\n",
       "n.attr(\"value\", parseInt(n.attr(\"max\")))\n",
       "\n",
       "\n",
       "$(\"#pm_containerd97b7807\").css(\"border\",\"1px solid #dddddd\").css(\"padding\",\"10px\")\n",
       "var jobName = 'Job 36 (1 '+\n",
       "             'Stage'+  ')'\n",
       "$(\"#pm_overallContainerd97b7807\").show();\n",
       "$(\"#pm_overallJobNamed97b7807\").text(jobName);\n",
       "$(\"#pm_overallProgressd97b7807\").attr(\"max\", 7).attr(\"value\",0);\n",
       "$(\"#progressMonitorsd97b7807\").append(\n",
       "    '<li>'+\n",
       "        '<a style=\"padding: 5px 5px;font-size: 12px;\" data-toggle=\"tab\" href=\"#menud97b780736\">'+\n",
       "            jobName +\n",
       "        '</a>'+\n",
       "    '</li>'\n",
       ");\n",
       "\n",
       "$(\"#tabContentd97b7807\").append(\n",
       "'<div id=\"menud97b780736\" class=\"tab-pane fade in active\">'+\n",
       "    '<table>' + \n",
       "        '<thead>' +\n",
       "            '<tr>' +\n",
       "                '<th style=\"text-align:center\">Stage</th>' +\n",
       "                '<th style=\"text-align:center\">Progress</th>' +\n",
       "                '<th style=\"text-align:center\">Executor</th>' +\n",
       "                '<th style=\"text-align:center\">Details</th>' +\n",
       "            '</tr>' +\n",
       "        '</thead>' +\n",
       "        '<tbody>' + \n",
       "        \n",
       "            '<tr>        <td style=\"max-width:200px\">            Stage 38 <span id=\"progressNumTaskd97b780738\">0</span>/7:        </td>        <td style=\"max-width: 300px\">            <progress id=\"progressd97b780738\" max=\"7\" value=\"0\" style=\"width:200px\"></progress>        </td>        <td>            <span id=\"hostd97b780738\"></span>        </td>        <td>            <i title=\"org.apache.spark.sql.Dataset.showString(Dataset.scala:291)\\nsun.reflect.NativeMethodAccessorImpl.invoke0(Native Method)\\nsun.reflect.NativeMethodAccessorImpl.invoke(NativeMethodAccessorImpl.java:62)\\nsun.reflect.DelegatingMethodAccessorImpl.invoke(DelegatingMethodAccessorImpl.java:43)\\njava.lang.reflect.Method.invoke(Method.java:498)\\npy4j.reflection.MethodInvoker.invoke(MethodInvoker.java:244)\\npy4j.reflection.ReflectionEngine.invoke(ReflectionEngine.java:357)\\npy4j.Gateway.invoke(Gateway.java:282)\\npy4j.commands.AbstractCommand.invokeMethod(AbstractCommand.java:132)\\npy4j.commands.CallCommand.execute(CallCommand.java:79)\\npy4j.GatewayConnection.run(GatewayConnection.java:238)\\njava.lang.Thread.run(Thread.java:748)\" class=\"fa fa-info-circle\"></i>            <span id=\"statusd97b780738\">Not Started</span>        </td>    </tr>'+\n",
       "        \n",
       "        '</tbody>' +\n",
       "    '</table>' +\n",
       "'</div>'\n",
       ")\n",
       "\n",
       "$('.nav-tabs a[href=\"#menud97b780736\"]').tab('show');\n",
       "$(\"#statusd97b780738\").text(\"Submitted\")\n",
       "\n",
       "\n",
       "function incProgress(id){\n",
       "    var n = $(id);\n",
       "    n.attr(\"value\", parseInt( n.attr(\"value\")) + 7);\n",
       "}\n",
       "incProgress(\"#progressd97b780738\");\n",
       "incProgress(\"#pm_overallProgressd97b7807\");\n",
       "$(\"#progressNumTaskd97b780738\").text(\"7\");\n",
       "$(\"#statusd97b780738\").text(\"Running\")\n",
       "\n",
       "\n",
       "$(\"#hostd97b780738\").text(\"618747455(17.58.160.162)\")\n",
       "\n",
       "$(\"#statusd97b780738\").text(\"Completed\")\n",
       "\n",
       "\n",
       "$(\"#menud97b780736 [id^=statusd97b7807]\").each(function(){\n",
       "    if ($(this).text() == \"Not Started\"){\n",
       "        $(this).text(\"Skipped\");\n",
       "    }\n",
       "})\n",
       "\n",
       "var n = $(\"#pm_overallProgressd97b7807\");\n",
       "n.attr(\"value\", parseInt(n.attr(\"max\")))\n"
      ],
      "text/plain": [
       "<IPython.core.display.Javascript object>"
      ]
     },
     "metadata": {},
     "output_type": "display_data"
    }
   ],
   "source": [
    "rdd = spark.createDataFrame(\n",
    "    [\n",
    "        ('GOOG', 1, 200000), \n",
    "        ('GOOG', 2, 150000),\n",
    "        ('AAPL', 3, 175000),\n",
    "        ('AAPL', 4, 180000)\n",
    "    ],\n",
    "    ['company', 'emp_id', 'salary'] # schema of columns here\n",
    ")\n",
    "\n",
    "rdd.show()"
   ]
  },
  {
   "cell_type": "code",
   "execution_count": 42,
   "metadata": {
    "ExecuteTime": {
     "end_time": "2020-04-03T05:08:05.215815Z",
     "start_time": "2020-04-03T05:08:05.191824Z"
    }
   },
   "outputs": [
    {
     "data": {
      "text/html": [
       "<div id=\"pm_overallContainera0262218\" style=\"display:none\">\n",
       "    <table width=\"100%\" style=\"border:0px\">\n",
       "        <tr style=\"border:0px\">\n",
       "            <td width=\"20px\" style=\"border:0px\"><span id=\"twistiea0262218\" style=\"color:blue;font-size:x-large;cursor:pointer\">&#9656;</span></td>\n",
       "            <td width=\"130px\" style=\"text-align:left;border:0px\"><span id=\"pm_overallJobNamea0262218\"></span>:</td>\n",
       "            <td width=\"calc(100% - 150px)\" style=\"border:0px\"><progress id=\"pm_overallProgressa0262218\" max=\"100\" value=\"0\" style=\"width:100%\"></progress></td>\n",
       "        </tr>\n",
       "    </table>\n",
       "</div>\n",
       "<div id=\"pm_containera0262218\" style=\"display:none\">\n",
       "    <ul class=\"nav nav-tabs\" id=\"progressMonitorsa0262218\">\n",
       "    </ul>\n",
       "    <div class=\"tab-content\" id=\"tabContenta0262218\">\n",
       "    </div>\n",
       "</div>\n",
       "\n",
       "<script>\n",
       "$(\"#twistiea0262218\").click(function(){\n",
       "    visible = $(\"#pm_containera0262218\").is(':visible');\n",
       "    $(\"#pm_containera0262218\").slideToggle(\"slow\");\n",
       "    $(this).html(visible?\"&#9656;\":\"&#9662;\")\n",
       "});\n",
       "</script>"
      ],
      "text/plain": [
       "<IPython.core.display.HTML object>"
      ]
     },
     "metadata": {},
     "output_type": "display_data"
    },
    {
     "data": {
      "text/plain": [
       "<pyspark.sql.group.GroupedData at 0x7f351e56d278>"
      ]
     },
     "execution_count": 42,
     "metadata": {},
     "output_type": "execute_result"
    }
   ],
   "source": [
    "rdd.groupBy('company')"
   ]
  },
  {
   "cell_type": "code",
   "execution_count": 44,
   "metadata": {
    "ExecuteTime": {
     "end_time": "2020-04-03T05:09:29.166612Z",
     "start_time": "2020-04-03T05:09:27.594459Z"
    }
   },
   "outputs": [
    {
     "data": {
      "text/html": [
       "<div id=\"pm_overallContainer2c59781b\" style=\"display:none\">\n",
       "    <table width=\"100%\" style=\"border:0px\">\n",
       "        <tr style=\"border:0px\">\n",
       "            <td width=\"20px\" style=\"border:0px\"><span id=\"twistie2c59781b\" style=\"color:blue;font-size:x-large;cursor:pointer\">&#9656;</span></td>\n",
       "            <td width=\"130px\" style=\"text-align:left;border:0px\"><span id=\"pm_overallJobName2c59781b\"></span>:</td>\n",
       "            <td width=\"calc(100% - 150px)\" style=\"border:0px\"><progress id=\"pm_overallProgress2c59781b\" max=\"100\" value=\"0\" style=\"width:100%\"></progress></td>\n",
       "        </tr>\n",
       "    </table>\n",
       "</div>\n",
       "<div id=\"pm_container2c59781b\" style=\"display:none\">\n",
       "    <ul class=\"nav nav-tabs\" id=\"progressMonitors2c59781b\">\n",
       "    </ul>\n",
       "    <div class=\"tab-content\" id=\"tabContent2c59781b\">\n",
       "    </div>\n",
       "</div>\n",
       "\n",
       "<script>\n",
       "$(\"#twistie2c59781b\").click(function(){\n",
       "    visible = $(\"#pm_container2c59781b\").is(':visible');\n",
       "    $(\"#pm_container2c59781b\").slideToggle(\"slow\");\n",
       "    $(this).html(visible?\"&#9656;\":\"&#9662;\")\n",
       "});\n",
       "</script>"
      ],
      "text/plain": [
       "<IPython.core.display.HTML object>"
      ]
     },
     "metadata": {},
     "output_type": "display_data"
    },
    {
     "data": {
      "application/javascript": [
       "\n",
       "\n",
       "$(\"#pm_container2c59781b\").css(\"border\",\"1px solid #dddddd\").css(\"padding\",\"10px\")\n",
       "var jobName = 'Job 44 (2 '+\n",
       "             'Stages'+  ')'\n",
       "$(\"#pm_overallContainer2c59781b\").show();\n",
       "$(\"#pm_overallJobName2c59781b\").text(jobName);\n",
       "$(\"#pm_overallProgress2c59781b\").attr(\"max\", 13).attr(\"value\",0);\n",
       "$(\"#progressMonitors2c59781b\").append(\n",
       "    '<li>'+\n",
       "        '<a style=\"padding: 5px 5px;font-size: 12px;\" data-toggle=\"tab\" href=\"#menu2c59781b44\">'+\n",
       "            jobName +\n",
       "        '</a>'+\n",
       "    '</li>'\n",
       ");\n",
       "\n",
       "$(\"#tabContent2c59781b\").append(\n",
       "'<div id=\"menu2c59781b44\" class=\"tab-pane fade in active\">'+\n",
       "    '<table>' + \n",
       "        '<thead>' +\n",
       "            '<tr>' +\n",
       "                '<th style=\"text-align:center\">Stage</th>' +\n",
       "                '<th style=\"text-align:center\">Progress</th>' +\n",
       "                '<th style=\"text-align:center\">Executor</th>' +\n",
       "                '<th style=\"text-align:center\">Details</th>' +\n",
       "            '</tr>' +\n",
       "        '</thead>' +\n",
       "        '<tbody>' + \n",
       "        \n",
       "            '<tr>        <td style=\"max-width:200px\">            Stage 51 <span id=\"progressNumTask2c59781b51\">0</span>/12:        </td>        <td style=\"max-width: 300px\">            <progress id=\"progress2c59781b51\" max=\"12\" value=\"0\" style=\"width:200px\"></progress>        </td>        <td>            <span id=\"host2c59781b51\"></span>        </td>        <td>            <i title=\"org.apache.spark.sql.Dataset.showString(Dataset.scala:291)\\nsun.reflect.NativeMethodAccessorImpl.invoke0(Native Method)\\nsun.reflect.NativeMethodAccessorImpl.invoke(NativeMethodAccessorImpl.java:62)\\nsun.reflect.DelegatingMethodAccessorImpl.invoke(DelegatingMethodAccessorImpl.java:43)\\njava.lang.reflect.Method.invoke(Method.java:498)\\npy4j.reflection.MethodInvoker.invoke(MethodInvoker.java:244)\\npy4j.reflection.ReflectionEngine.invoke(ReflectionEngine.java:357)\\npy4j.Gateway.invoke(Gateway.java:282)\\npy4j.commands.AbstractCommand.invokeMethod(AbstractCommand.java:132)\\npy4j.commands.CallCommand.execute(CallCommand.java:79)\\npy4j.GatewayConnection.run(GatewayConnection.java:238)\\njava.lang.Thread.run(Thread.java:748)\" class=\"fa fa-info-circle\"></i>            <span id=\"status2c59781b51\">Not Started</span>        </td>    </tr>'+\n",
       "        \n",
       "            '<tr>        <td style=\"max-width:200px\">            Stage 52 <span id=\"progressNumTask2c59781b52\">0</span>/1:        </td>        <td style=\"max-width: 300px\">            <progress id=\"progress2c59781b52\" max=\"1\" value=\"0\" style=\"width:200px\"></progress>        </td>        <td>            <span id=\"host2c59781b52\"></span>        </td>        <td>            <i title=\"org.apache.spark.sql.Dataset.showString(Dataset.scala:291)\\nsun.reflect.NativeMethodAccessorImpl.invoke0(Native Method)\\nsun.reflect.NativeMethodAccessorImpl.invoke(NativeMethodAccessorImpl.java:62)\\nsun.reflect.DelegatingMethodAccessorImpl.invoke(DelegatingMethodAccessorImpl.java:43)\\njava.lang.reflect.Method.invoke(Method.java:498)\\npy4j.reflection.MethodInvoker.invoke(MethodInvoker.java:244)\\npy4j.reflection.ReflectionEngine.invoke(ReflectionEngine.java:357)\\npy4j.Gateway.invoke(Gateway.java:282)\\npy4j.commands.AbstractCommand.invokeMethod(AbstractCommand.java:132)\\npy4j.commands.CallCommand.execute(CallCommand.java:79)\\npy4j.GatewayConnection.run(GatewayConnection.java:238)\\njava.lang.Thread.run(Thread.java:748)\" class=\"fa fa-info-circle\"></i>            <span id=\"status2c59781b52\">Not Started</span>        </td>    </tr>'+\n",
       "        \n",
       "        '</tbody>' +\n",
       "    '</table>' +\n",
       "'</div>'\n",
       ")\n",
       "\n",
       "$('.nav-tabs a[href=\"#menu2c59781b44\"]').tab('show');\n"
      ],
      "text/plain": [
       "<IPython.core.display.Javascript object>"
      ]
     },
     "metadata": {},
     "output_type": "display_data"
    },
    {
     "data": {
      "application/javascript": [
       "$(\"#status2c59781b51\").text(\"Submitted\")\n",
       "\n",
       "\n",
       "function incProgress(id){\n",
       "    var n = $(id);\n",
       "    n.attr(\"value\", parseInt( n.attr(\"value\")) + 12);\n",
       "}\n",
       "incProgress(\"#progress2c59781b51\");\n",
       "incProgress(\"#pm_overallProgress2c59781b\");\n",
       "$(\"#progressNumTask2c59781b51\").text(\"12\");\n",
       "$(\"#status2c59781b51\").text(\"Running\")\n",
       "\n",
       "\n",
       "$(\"#host2c59781b51\").text(\"1431551498(17.58.172.200)\")\n",
       "\n",
       "$(\"#status2c59781b51\").text(\"Completed\")\n",
       "\n",
       "\n",
       "$(\"#status2c59781b52\").text(\"Submitted\")\n",
       "\n",
       "\n",
       "function incProgress(id){\n",
       "    var n = $(id);\n",
       "    n.attr(\"value\", parseInt( n.attr(\"value\")) + 1);\n",
       "}\n",
       "incProgress(\"#progress2c59781b52\");\n",
       "incProgress(\"#pm_overallProgress2c59781b\");\n",
       "$(\"#progressNumTask2c59781b52\").text(\"1\");\n",
       "$(\"#status2c59781b52\").text(\"Running\")\n",
       "\n",
       "\n",
       "$(\"#host2c59781b52\").text(\"1431551498(17.58.172.200)\")\n",
       "\n",
       "$(\"#status2c59781b52\").text(\"Completed\")\n",
       "\n",
       "\n",
       "$(\"#menu2c59781b44 [id^=status2c59781b]\").each(function(){\n",
       "    if ($(this).text() == \"Not Started\"){\n",
       "        $(this).text(\"Skipped\");\n",
       "    }\n",
       "})\n",
       "\n",
       "var n = $(\"#pm_overallProgress2c59781b\");\n",
       "n.attr(\"value\", parseInt(n.attr(\"max\")))\n",
       "\n",
       "\n",
       "$(\"#pm_container2c59781b\").css(\"border\",\"1px solid #dddddd\").css(\"padding\",\"10px\")\n",
       "var jobName = 'Job 45 (2 '+\n",
       "             'Stages'+  ')'\n",
       "$(\"#pm_overallContainer2c59781b\").show();\n",
       "$(\"#pm_overallJobName2c59781b\").text(jobName);\n",
       "$(\"#pm_overallProgress2c59781b\").attr(\"max\", 16).attr(\"value\",0);\n",
       "$(\"#progressMonitors2c59781b\").append(\n",
       "    '<li>'+\n",
       "        '<a style=\"padding: 5px 5px;font-size: 12px;\" data-toggle=\"tab\" href=\"#menu2c59781b45\">'+\n",
       "            jobName +\n",
       "        '</a>'+\n",
       "    '</li>'\n",
       ");\n",
       "\n",
       "$(\"#tabContent2c59781b\").append(\n",
       "'<div id=\"menu2c59781b45\" class=\"tab-pane fade in active\">'+\n",
       "    '<table>' + \n",
       "        '<thead>' +\n",
       "            '<tr>' +\n",
       "                '<th style=\"text-align:center\">Stage</th>' +\n",
       "                '<th style=\"text-align:center\">Progress</th>' +\n",
       "                '<th style=\"text-align:center\">Executor</th>' +\n",
       "                '<th style=\"text-align:center\">Details</th>' +\n",
       "            '</tr>' +\n",
       "        '</thead>' +\n",
       "        '<tbody>' + \n",
       "        \n",
       "            '<tr>        <td style=\"max-width:200px\">            Stage 53 <span id=\"progressNumTask2c59781b53\">0</span>/12:        </td>        <td style=\"max-width: 300px\">            <progress id=\"progress2c59781b53\" max=\"12\" value=\"0\" style=\"width:200px\"></progress>        </td>        <td>            <span id=\"host2c59781b53\"></span>        </td>        <td>            <i title=\"org.apache.spark.sql.Dataset.showString(Dataset.scala:291)\\nsun.reflect.NativeMethodAccessorImpl.invoke0(Native Method)\\nsun.reflect.NativeMethodAccessorImpl.invoke(NativeMethodAccessorImpl.java:62)\\nsun.reflect.DelegatingMethodAccessorImpl.invoke(DelegatingMethodAccessorImpl.java:43)\\njava.lang.reflect.Method.invoke(Method.java:498)\\npy4j.reflection.MethodInvoker.invoke(MethodInvoker.java:244)\\npy4j.reflection.ReflectionEngine.invoke(ReflectionEngine.java:357)\\npy4j.Gateway.invoke(Gateway.java:282)\\npy4j.commands.AbstractCommand.invokeMethod(AbstractCommand.java:132)\\npy4j.commands.CallCommand.execute(CallCommand.java:79)\\npy4j.GatewayConnection.run(GatewayConnection.java:238)\\njava.lang.Thread.run(Thread.java:748)\" class=\"fa fa-info-circle\"></i>            <span id=\"status2c59781b53\">Not Started</span>        </td>    </tr>'+\n",
       "        \n",
       "            '<tr>        <td style=\"max-width:200px\">            Stage 54 <span id=\"progressNumTask2c59781b54\">0</span>/4:        </td>        <td style=\"max-width: 300px\">            <progress id=\"progress2c59781b54\" max=\"4\" value=\"0\" style=\"width:200px\"></progress>        </td>        <td>            <span id=\"host2c59781b54\"></span>        </td>        <td>            <i title=\"org.apache.spark.sql.Dataset.showString(Dataset.scala:291)\\nsun.reflect.NativeMethodAccessorImpl.invoke0(Native Method)\\nsun.reflect.NativeMethodAccessorImpl.invoke(NativeMethodAccessorImpl.java:62)\\nsun.reflect.DelegatingMethodAccessorImpl.invoke(DelegatingMethodAccessorImpl.java:43)\\njava.lang.reflect.Method.invoke(Method.java:498)\\npy4j.reflection.MethodInvoker.invoke(MethodInvoker.java:244)\\npy4j.reflection.ReflectionEngine.invoke(ReflectionEngine.java:357)\\npy4j.Gateway.invoke(Gateway.java:282)\\npy4j.commands.AbstractCommand.invokeMethod(AbstractCommand.java:132)\\npy4j.commands.CallCommand.execute(CallCommand.java:79)\\npy4j.GatewayConnection.run(GatewayConnection.java:238)\\njava.lang.Thread.run(Thread.java:748)\" class=\"fa fa-info-circle\"></i>            <span id=\"status2c59781b54\">Not Started</span>        </td>    </tr>'+\n",
       "        \n",
       "        '</tbody>' +\n",
       "    '</table>' +\n",
       "'</div>'\n",
       ")\n",
       "\n",
       "$('.nav-tabs a[href=\"#menu2c59781b45\"]').tab('show');\n",
       "$(\"#status2c59781b54\").text(\"Submitted\")\n",
       "\n",
       "\n",
       "function incProgress(id){\n",
       "    var n = $(id);\n",
       "    n.attr(\"value\", parseInt( n.attr(\"value\")) + 4);\n",
       "}\n",
       "incProgress(\"#progress2c59781b54\");\n",
       "incProgress(\"#pm_overallProgress2c59781b\");\n",
       "$(\"#progressNumTask2c59781b54\").text(\"4\");\n",
       "$(\"#status2c59781b54\").text(\"Running\")\n",
       "\n",
       "\n",
       "$(\"#host2c59781b54\").text(\"618747455(17.58.160.162)\")\n",
       "\n",
       "$(\"#status2c59781b54\").text(\"Completed\")\n",
       "\n",
       "\n",
       "$(\"#menu2c59781b45 [id^=status2c59781b]\").each(function(){\n",
       "    if ($(this).text() == \"Not Started\"){\n",
       "        $(this).text(\"Skipped\");\n",
       "    }\n",
       "})\n",
       "\n",
       "var n = $(\"#pm_overallProgress2c59781b\");\n",
       "n.attr(\"value\", parseInt(n.attr(\"max\")))\n",
       "\n",
       "\n",
       "$(\"#pm_container2c59781b\").css(\"border\",\"1px solid #dddddd\").css(\"padding\",\"10px\")\n",
       "var jobName = 'Job 46 (2 '+\n",
       "             'Stages'+  ')'\n",
       "$(\"#pm_overallContainer2c59781b\").show();\n",
       "$(\"#pm_overallJobName2c59781b\").text(jobName);\n",
       "$(\"#pm_overallProgress2c59781b\").attr(\"max\", 32).attr(\"value\",0);\n",
       "$(\"#progressMonitors2c59781b\").append(\n",
       "    '<li>'+\n",
       "        '<a style=\"padding: 5px 5px;font-size: 12px;\" data-toggle=\"tab\" href=\"#menu2c59781b46\">'+\n",
       "            jobName +\n",
       "        '</a>'+\n",
       "    '</li>'\n",
       ");\n",
       "\n",
       "$(\"#tabContent2c59781b\").append(\n",
       "'<div id=\"menu2c59781b46\" class=\"tab-pane fade in active\">'+\n",
       "    '<table>' + \n",
       "        '<thead>' +\n",
       "            '<tr>' +\n",
       "                '<th style=\"text-align:center\">Stage</th>' +\n",
       "                '<th style=\"text-align:center\">Progress</th>' +\n",
       "                '<th style=\"text-align:center\">Executor</th>' +\n",
       "                '<th style=\"text-align:center\">Details</th>' +\n",
       "            '</tr>' +\n",
       "        '</thead>' +\n",
       "        '<tbody>' + \n",
       "        \n",
       "            '<tr>        <td style=\"max-width:200px\">            Stage 55 <span id=\"progressNumTask2c59781b55\">0</span>/12:        </td>        <td style=\"max-width: 300px\">            <progress id=\"progress2c59781b55\" max=\"12\" value=\"0\" style=\"width:200px\"></progress>        </td>        <td>            <span id=\"host2c59781b55\"></span>        </td>        <td>            <i title=\"org.apache.spark.sql.Dataset.showString(Dataset.scala:291)\\nsun.reflect.NativeMethodAccessorImpl.invoke0(Native Method)\\nsun.reflect.NativeMethodAccessorImpl.invoke(NativeMethodAccessorImpl.java:62)\\nsun.reflect.DelegatingMethodAccessorImpl.invoke(DelegatingMethodAccessorImpl.java:43)\\njava.lang.reflect.Method.invoke(Method.java:498)\\npy4j.reflection.MethodInvoker.invoke(MethodInvoker.java:244)\\npy4j.reflection.ReflectionEngine.invoke(ReflectionEngine.java:357)\\npy4j.Gateway.invoke(Gateway.java:282)\\npy4j.commands.AbstractCommand.invokeMethod(AbstractCommand.java:132)\\npy4j.commands.CallCommand.execute(CallCommand.java:79)\\npy4j.GatewayConnection.run(GatewayConnection.java:238)\\njava.lang.Thread.run(Thread.java:748)\" class=\"fa fa-info-circle\"></i>            <span id=\"status2c59781b55\">Not Started</span>        </td>    </tr>'+\n",
       "        \n",
       "            '<tr>        <td style=\"max-width:200px\">            Stage 56 <span id=\"progressNumTask2c59781b56\">0</span>/20:        </td>        <td style=\"max-width: 300px\">            <progress id=\"progress2c59781b56\" max=\"20\" value=\"0\" style=\"width:200px\"></progress>        </td>        <td>            <span id=\"host2c59781b56\"></span>        </td>        <td>            <i title=\"org.apache.spark.sql.Dataset.showString(Dataset.scala:291)\\nsun.reflect.NativeMethodAccessorImpl.invoke0(Native Method)\\nsun.reflect.NativeMethodAccessorImpl.invoke(NativeMethodAccessorImpl.java:62)\\nsun.reflect.DelegatingMethodAccessorImpl.invoke(DelegatingMethodAccessorImpl.java:43)\\njava.lang.reflect.Method.invoke(Method.java:498)\\npy4j.reflection.MethodInvoker.invoke(MethodInvoker.java:244)\\npy4j.reflection.ReflectionEngine.invoke(ReflectionEngine.java:357)\\npy4j.Gateway.invoke(Gateway.java:282)\\npy4j.commands.AbstractCommand.invokeMethod(AbstractCommand.java:132)\\npy4j.commands.CallCommand.execute(CallCommand.java:79)\\npy4j.GatewayConnection.run(GatewayConnection.java:238)\\njava.lang.Thread.run(Thread.java:748)\" class=\"fa fa-info-circle\"></i>            <span id=\"status2c59781b56\">Not Started</span>        </td>    </tr>'+\n",
       "        \n",
       "        '</tbody>' +\n",
       "    '</table>' +\n",
       "'</div>'\n",
       ")\n",
       "\n",
       "$('.nav-tabs a[href=\"#menu2c59781b46\"]').tab('show');\n",
       "$(\"#status2c59781b56\").text(\"Submitted\")\n",
       "\n",
       "\n",
       "function incProgress(id){\n",
       "    var n = $(id);\n",
       "    n.attr(\"value\", parseInt( n.attr(\"value\")) + 20);\n",
       "}\n",
       "incProgress(\"#progress2c59781b56\");\n",
       "incProgress(\"#pm_overallProgress2c59781b\");\n",
       "$(\"#progressNumTask2c59781b56\").text(\"20\");\n",
       "$(\"#status2c59781b56\").text(\"Running\")\n",
       "\n",
       "\n",
       "$(\"#host2c59781b56\").text(\"1323707573(17.58.166.36)\")\n",
       "\n"
      ],
      "text/plain": [
       "<IPython.core.display.Javascript object>"
      ]
     },
     "metadata": {},
     "output_type": "display_data"
    },
    {
     "data": {
      "application/javascript": [
       "$(\"#status2c59781b56\").text(\"Completed\")\n",
       "\n",
       "\n",
       "$(\"#menu2c59781b46 [id^=status2c59781b]\").each(function(){\n",
       "    if ($(this).text() == \"Not Started\"){\n",
       "        $(this).text(\"Skipped\");\n",
       "    }\n",
       "})\n",
       "\n",
       "var n = $(\"#pm_overallProgress2c59781b\");\n",
       "n.attr(\"value\", parseInt(n.attr(\"max\")))\n",
       "\n",
       "\n",
       "$(\"#pm_container2c59781b\").css(\"border\",\"1px solid #dddddd\").css(\"padding\",\"10px\")\n",
       "var jobName = 'Job 47 (2 '+\n",
       "             'Stages'+  ')'\n",
       "$(\"#pm_overallContainer2c59781b\").show();\n",
       "$(\"#pm_overallJobName2c59781b\").text(jobName);\n",
       "$(\"#pm_overallProgress2c59781b\").attr(\"max\", 112).attr(\"value\",0);\n",
       "$(\"#progressMonitors2c59781b\").append(\n",
       "    '<li>'+\n",
       "        '<a style=\"padding: 5px 5px;font-size: 12px;\" data-toggle=\"tab\" href=\"#menu2c59781b47\">'+\n",
       "            jobName +\n",
       "        '</a>'+\n",
       "    '</li>'\n",
       ");\n",
       "\n",
       "$(\"#tabContent2c59781b\").append(\n",
       "'<div id=\"menu2c59781b47\" class=\"tab-pane fade in active\">'+\n",
       "    '<table>' + \n",
       "        '<thead>' +\n",
       "            '<tr>' +\n",
       "                '<th style=\"text-align:center\">Stage</th>' +\n",
       "                '<th style=\"text-align:center\">Progress</th>' +\n",
       "                '<th style=\"text-align:center\">Executor</th>' +\n",
       "                '<th style=\"text-align:center\">Details</th>' +\n",
       "            '</tr>' +\n",
       "        '</thead>' +\n",
       "        '<tbody>' + \n",
       "        \n",
       "            '<tr>        <td style=\"max-width:200px\">            Stage 57 <span id=\"progressNumTask2c59781b57\">0</span>/12:        </td>        <td style=\"max-width: 300px\">            <progress id=\"progress2c59781b57\" max=\"12\" value=\"0\" style=\"width:200px\"></progress>        </td>        <td>            <span id=\"host2c59781b57\"></span>        </td>        <td>            <i title=\"org.apache.spark.sql.Dataset.showString(Dataset.scala:291)\\nsun.reflect.NativeMethodAccessorImpl.invoke0(Native Method)\\nsun.reflect.NativeMethodAccessorImpl.invoke(NativeMethodAccessorImpl.java:62)\\nsun.reflect.DelegatingMethodAccessorImpl.invoke(DelegatingMethodAccessorImpl.java:43)\\njava.lang.reflect.Method.invoke(Method.java:498)\\npy4j.reflection.MethodInvoker.invoke(MethodInvoker.java:244)\\npy4j.reflection.ReflectionEngine.invoke(ReflectionEngine.java:357)\\npy4j.Gateway.invoke(Gateway.java:282)\\npy4j.commands.AbstractCommand.invokeMethod(AbstractCommand.java:132)\\npy4j.commands.CallCommand.execute(CallCommand.java:79)\\npy4j.GatewayConnection.run(GatewayConnection.java:238)\\njava.lang.Thread.run(Thread.java:748)\" class=\"fa fa-info-circle\"></i>            <span id=\"status2c59781b57\">Not Started</span>        </td>    </tr>'+\n",
       "        \n",
       "            '<tr>        <td style=\"max-width:200px\">            Stage 58 <span id=\"progressNumTask2c59781b58\">0</span>/100:        </td>        <td style=\"max-width: 300px\">            <progress id=\"progress2c59781b58\" max=\"100\" value=\"0\" style=\"width:200px\"></progress>        </td>        <td>            <span id=\"host2c59781b58\"></span>        </td>        <td>            <i title=\"org.apache.spark.sql.Dataset.showString(Dataset.scala:291)\\nsun.reflect.NativeMethodAccessorImpl.invoke0(Native Method)\\nsun.reflect.NativeMethodAccessorImpl.invoke(NativeMethodAccessorImpl.java:62)\\nsun.reflect.DelegatingMethodAccessorImpl.invoke(DelegatingMethodAccessorImpl.java:43)\\njava.lang.reflect.Method.invoke(Method.java:498)\\npy4j.reflection.MethodInvoker.invoke(MethodInvoker.java:244)\\npy4j.reflection.ReflectionEngine.invoke(ReflectionEngine.java:357)\\npy4j.Gateway.invoke(Gateway.java:282)\\npy4j.commands.AbstractCommand.invokeMethod(AbstractCommand.java:132)\\npy4j.commands.CallCommand.execute(CallCommand.java:79)\\npy4j.GatewayConnection.run(GatewayConnection.java:238)\\njava.lang.Thread.run(Thread.java:748)\" class=\"fa fa-info-circle\"></i>            <span id=\"status2c59781b58\">Not Started</span>        </td>    </tr>'+\n",
       "        \n",
       "        '</tbody>' +\n",
       "    '</table>' +\n",
       "'</div>'\n",
       ")\n",
       "\n",
       "$('.nav-tabs a[href=\"#menu2c59781b47\"]').tab('show');\n",
       "$(\"#status2c59781b58\").text(\"Submitted\")\n",
       "\n",
       "\n",
       "function incProgress(id){\n",
       "    var n = $(id);\n",
       "    n.attr(\"value\", parseInt( n.attr(\"value\")) + 100);\n",
       "}\n",
       "incProgress(\"#progress2c59781b58\");\n",
       "incProgress(\"#pm_overallProgress2c59781b\");\n",
       "$(\"#progressNumTask2c59781b58\").text(\"100\");\n",
       "$(\"#status2c59781b58\").text(\"Running\")\n",
       "\n",
       "\n",
       "$(\"#host2c59781b58\").text(\"618747455(17.58.160.162)\")\n",
       "\n",
       "$(\"#status2c59781b58\").text(\"Completed\")\n",
       "\n",
       "\n",
       "$(\"#menu2c59781b47 [id^=status2c59781b]\").each(function(){\n",
       "    if ($(this).text() == \"Not Started\"){\n",
       "        $(this).text(\"Skipped\");\n",
       "    }\n",
       "})\n",
       "\n",
       "var n = $(\"#pm_overallProgress2c59781b\");\n",
       "n.attr(\"value\", parseInt(n.attr(\"max\")))\n",
       "\n",
       "\n",
       "$(\"#pm_container2c59781b\").css(\"border\",\"1px solid #dddddd\").css(\"padding\",\"10px\")\n",
       "var jobName = 'Job 48 (2 '+\n",
       "             'Stages'+  ')'\n",
       "$(\"#pm_overallContainer2c59781b\").show();\n",
       "$(\"#pm_overallJobName2c59781b\").text(jobName);\n",
       "$(\"#pm_overallProgress2c59781b\").attr(\"max\", 87).attr(\"value\",0);\n",
       "$(\"#progressMonitors2c59781b\").append(\n",
       "    '<li>'+\n",
       "        '<a style=\"padding: 5px 5px;font-size: 12px;\" data-toggle=\"tab\" href=\"#menu2c59781b48\">'+\n",
       "            jobName +\n",
       "        '</a>'+\n",
       "    '</li>'\n",
       ");\n",
       "\n",
       "$(\"#tabContent2c59781b\").append(\n",
       "'<div id=\"menu2c59781b48\" class=\"tab-pane fade in active\">'+\n",
       "    '<table>' + \n",
       "        '<thead>' +\n",
       "            '<tr>' +\n",
       "                '<th style=\"text-align:center\">Stage</th>' +\n",
       "                '<th style=\"text-align:center\">Progress</th>' +\n",
       "                '<th style=\"text-align:center\">Executor</th>' +\n",
       "                '<th style=\"text-align:center\">Details</th>' +\n",
       "            '</tr>' +\n",
       "        '</thead>' +\n",
       "        '<tbody>' + \n",
       "        \n",
       "            '<tr>        <td style=\"max-width:200px\">            Stage 59 <span id=\"progressNumTask2c59781b59\">0</span>/12:        </td>        <td style=\"max-width: 300px\">            <progress id=\"progress2c59781b59\" max=\"12\" value=\"0\" style=\"width:200px\"></progress>        </td>        <td>            <span id=\"host2c59781b59\"></span>        </td>        <td>            <i title=\"org.apache.spark.sql.Dataset.showString(Dataset.scala:291)\\nsun.reflect.NativeMethodAccessorImpl.invoke0(Native Method)\\nsun.reflect.NativeMethodAccessorImpl.invoke(NativeMethodAccessorImpl.java:62)\\nsun.reflect.DelegatingMethodAccessorImpl.invoke(DelegatingMethodAccessorImpl.java:43)\\njava.lang.reflect.Method.invoke(Method.java:498)\\npy4j.reflection.MethodInvoker.invoke(MethodInvoker.java:244)\\npy4j.reflection.ReflectionEngine.invoke(ReflectionEngine.java:357)\\npy4j.Gateway.invoke(Gateway.java:282)\\npy4j.commands.AbstractCommand.invokeMethod(AbstractCommand.java:132)\\npy4j.commands.CallCommand.execute(CallCommand.java:79)\\npy4j.GatewayConnection.run(GatewayConnection.java:238)\\njava.lang.Thread.run(Thread.java:748)\" class=\"fa fa-info-circle\"></i>            <span id=\"status2c59781b59\">Not Started</span>        </td>    </tr>'+\n",
       "        \n",
       "            '<tr>        <td style=\"max-width:200px\">            Stage 60 <span id=\"progressNumTask2c59781b60\">0</span>/75:        </td>        <td style=\"max-width: 300px\">            <progress id=\"progress2c59781b60\" max=\"75\" value=\"0\" style=\"width:200px\"></progress>        </td>        <td>            <span id=\"host2c59781b60\"></span>        </td>        <td>            <i title=\"org.apache.spark.sql.Dataset.showString(Dataset.scala:291)\\nsun.reflect.NativeMethodAccessorImpl.invoke0(Native Method)\\nsun.reflect.NativeMethodAccessorImpl.invoke(NativeMethodAccessorImpl.java:62)\\nsun.reflect.DelegatingMethodAccessorImpl.invoke(DelegatingMethodAccessorImpl.java:43)\\njava.lang.reflect.Method.invoke(Method.java:498)\\npy4j.reflection.MethodInvoker.invoke(MethodInvoker.java:244)\\npy4j.reflection.ReflectionEngine.invoke(ReflectionEngine.java:357)\\npy4j.Gateway.invoke(Gateway.java:282)\\npy4j.commands.AbstractCommand.invokeMethod(AbstractCommand.java:132)\\npy4j.commands.CallCommand.execute(CallCommand.java:79)\\npy4j.GatewayConnection.run(GatewayConnection.java:238)\\njava.lang.Thread.run(Thread.java:748)\" class=\"fa fa-info-circle\"></i>            <span id=\"status2c59781b60\">Not Started</span>        </td>    </tr>'+\n",
       "        \n",
       "        '</tbody>' +\n",
       "    '</table>' +\n",
       "'</div>'\n",
       ")\n",
       "\n",
       "$('.nav-tabs a[href=\"#menu2c59781b48\"]').tab('show');\n",
       "$(\"#status2c59781b60\").text(\"Submitted\")\n",
       "\n",
       "\n",
       "function incProgress(id){\n",
       "    var n = $(id);\n",
       "    n.attr(\"value\", parseInt( n.attr(\"value\")) + 18);\n",
       "}\n",
       "incProgress(\"#progress2c59781b60\");\n",
       "incProgress(\"#pm_overallProgress2c59781b\");\n",
       "$(\"#progressNumTask2c59781b60\").text(\"18\");\n",
       "$(\"#status2c59781b60\").text(\"Running\")\n",
       "\n",
       "\n",
       "$(\"#host2c59781b60\").text(\"623460586(17.58.161.211)\")\n",
       "\n"
      ],
      "text/plain": [
       "<IPython.core.display.Javascript object>"
      ]
     },
     "metadata": {},
     "output_type": "display_data"
    },
    {
     "name": "stdout",
     "output_type": "stream",
     "text": [
      "+-------+-----------+-----------+\n",
      "|company|max(emp_id)|max(salary)|\n",
      "+-------+-----------+-----------+\n",
      "|   AAPL|          4|     180000|\n",
      "|   GOOG|          2|     200000|\n",
      "+-------+-----------+-----------+\n",
      "\n"
     ]
    },
    {
     "data": {
      "application/javascript": [
       "function incProgress(id){\n",
       "    var n = $(id);\n",
       "    n.attr(\"value\", parseInt( n.attr(\"value\")) + 57);\n",
       "}\n",
       "incProgress(\"#progress2c59781b60\");\n",
       "incProgress(\"#pm_overallProgress2c59781b\");\n",
       "$(\"#progressNumTask2c59781b60\").text(\"75\");\n",
       "$(\"#status2c59781b60\").text(\"Running\")\n",
       "\n",
       "\n",
       "$(\"#host2c59781b60\").text(\"1431551498(17.58.172.200)\")\n",
       "\n",
       "$(\"#status2c59781b60\").text(\"Completed\")\n",
       "\n",
       "\n",
       "$(\"#menu2c59781b48 [id^=status2c59781b]\").each(function(){\n",
       "    if ($(this).text() == \"Not Started\"){\n",
       "        $(this).text(\"Skipped\");\n",
       "    }\n",
       "})\n",
       "\n",
       "var n = $(\"#pm_overallProgress2c59781b\");\n",
       "n.attr(\"value\", parseInt(n.attr(\"max\")))\n"
      ],
      "text/plain": [
       "<IPython.core.display.Javascript object>"
      ]
     },
     "metadata": {},
     "output_type": "display_data"
    }
   ],
   "source": [
    "rdd.groupBy('company').max().show()\n",
    "\n",
    "## you see if gave max values for a company for both columns"
   ]
  },
  {
   "cell_type": "code",
   "execution_count": 45,
   "metadata": {
    "ExecuteTime": {
     "end_time": "2020-04-03T05:09:41.267310Z",
     "start_time": "2020-04-03T05:09:39.753724Z"
    }
   },
   "outputs": [
    {
     "data": {
      "text/html": [
       "<div id=\"pm_overallContainercf12d07f\" style=\"display:none\">\n",
       "    <table width=\"100%\" style=\"border:0px\">\n",
       "        <tr style=\"border:0px\">\n",
       "            <td width=\"20px\" style=\"border:0px\"><span id=\"twistiecf12d07f\" style=\"color:blue;font-size:x-large;cursor:pointer\">&#9656;</span></td>\n",
       "            <td width=\"130px\" style=\"text-align:left;border:0px\"><span id=\"pm_overallJobNamecf12d07f\"></span>:</td>\n",
       "            <td width=\"calc(100% - 150px)\" style=\"border:0px\"><progress id=\"pm_overallProgresscf12d07f\" max=\"100\" value=\"0\" style=\"width:100%\"></progress></td>\n",
       "        </tr>\n",
       "    </table>\n",
       "</div>\n",
       "<div id=\"pm_containercf12d07f\" style=\"display:none\">\n",
       "    <ul class=\"nav nav-tabs\" id=\"progressMonitorscf12d07f\">\n",
       "    </ul>\n",
       "    <div class=\"tab-content\" id=\"tabContentcf12d07f\">\n",
       "    </div>\n",
       "</div>\n",
       "\n",
       "<script>\n",
       "$(\"#twistiecf12d07f\").click(function(){\n",
       "    visible = $(\"#pm_containercf12d07f\").is(':visible');\n",
       "    $(\"#pm_containercf12d07f\").slideToggle(\"slow\");\n",
       "    $(this).html(visible?\"&#9656;\":\"&#9662;\")\n",
       "});\n",
       "</script>"
      ],
      "text/plain": [
       "<IPython.core.display.HTML object>"
      ]
     },
     "metadata": {},
     "output_type": "display_data"
    },
    {
     "data": {
      "application/javascript": [
       "\n",
       "\n",
       "$(\"#pm_containercf12d07f\").css(\"border\",\"1px solid #dddddd\").css(\"padding\",\"10px\")\n",
       "var jobName = 'Job 49 (2 '+\n",
       "             'Stages'+  ')'\n",
       "$(\"#pm_overallContainercf12d07f\").show();\n",
       "$(\"#pm_overallJobNamecf12d07f\").text(jobName);\n",
       "$(\"#pm_overallProgresscf12d07f\").attr(\"max\", 13).attr(\"value\",0);\n",
       "$(\"#progressMonitorscf12d07f\").append(\n",
       "    '<li>'+\n",
       "        '<a style=\"padding: 5px 5px;font-size: 12px;\" data-toggle=\"tab\" href=\"#menucf12d07f49\">'+\n",
       "            jobName +\n",
       "        '</a>'+\n",
       "    '</li>'\n",
       ");\n",
       "\n",
       "$(\"#tabContentcf12d07f\").append(\n",
       "'<div id=\"menucf12d07f49\" class=\"tab-pane fade in active\">'+\n",
       "    '<table>' + \n",
       "        '<thead>' +\n",
       "            '<tr>' +\n",
       "                '<th style=\"text-align:center\">Stage</th>' +\n",
       "                '<th style=\"text-align:center\">Progress</th>' +\n",
       "                '<th style=\"text-align:center\">Executor</th>' +\n",
       "                '<th style=\"text-align:center\">Details</th>' +\n",
       "            '</tr>' +\n",
       "        '</thead>' +\n",
       "        '<tbody>' + \n",
       "        \n",
       "            '<tr>        <td style=\"max-width:200px\">            Stage 61 <span id=\"progressNumTaskcf12d07f61\">0</span>/12:        </td>        <td style=\"max-width: 300px\">            <progress id=\"progresscf12d07f61\" max=\"12\" value=\"0\" style=\"width:200px\"></progress>        </td>        <td>            <span id=\"hostcf12d07f61\"></span>        </td>        <td>            <i title=\"org.apache.spark.sql.Dataset.showString(Dataset.scala:291)\\nsun.reflect.NativeMethodAccessorImpl.invoke0(Native Method)\\nsun.reflect.NativeMethodAccessorImpl.invoke(NativeMethodAccessorImpl.java:62)\\nsun.reflect.DelegatingMethodAccessorImpl.invoke(DelegatingMethodAccessorImpl.java:43)\\njava.lang.reflect.Method.invoke(Method.java:498)\\npy4j.reflection.MethodInvoker.invoke(MethodInvoker.java:244)\\npy4j.reflection.ReflectionEngine.invoke(ReflectionEngine.java:357)\\npy4j.Gateway.invoke(Gateway.java:282)\\npy4j.commands.AbstractCommand.invokeMethod(AbstractCommand.java:132)\\npy4j.commands.CallCommand.execute(CallCommand.java:79)\\npy4j.GatewayConnection.run(GatewayConnection.java:238)\\njava.lang.Thread.run(Thread.java:748)\" class=\"fa fa-info-circle\"></i>            <span id=\"statuscf12d07f61\">Not Started</span>        </td>    </tr>'+\n",
       "        \n",
       "            '<tr>        <td style=\"max-width:200px\">            Stage 62 <span id=\"progressNumTaskcf12d07f62\">0</span>/1:        </td>        <td style=\"max-width: 300px\">            <progress id=\"progresscf12d07f62\" max=\"1\" value=\"0\" style=\"width:200px\"></progress>        </td>        <td>            <span id=\"hostcf12d07f62\"></span>        </td>        <td>            <i title=\"org.apache.spark.sql.Dataset.showString(Dataset.scala:291)\\nsun.reflect.NativeMethodAccessorImpl.invoke0(Native Method)\\nsun.reflect.NativeMethodAccessorImpl.invoke(NativeMethodAccessorImpl.java:62)\\nsun.reflect.DelegatingMethodAccessorImpl.invoke(DelegatingMethodAccessorImpl.java:43)\\njava.lang.reflect.Method.invoke(Method.java:498)\\npy4j.reflection.MethodInvoker.invoke(MethodInvoker.java:244)\\npy4j.reflection.ReflectionEngine.invoke(ReflectionEngine.java:357)\\npy4j.Gateway.invoke(Gateway.java:282)\\npy4j.commands.AbstractCommand.invokeMethod(AbstractCommand.java:132)\\npy4j.commands.CallCommand.execute(CallCommand.java:79)\\npy4j.GatewayConnection.run(GatewayConnection.java:238)\\njava.lang.Thread.run(Thread.java:748)\" class=\"fa fa-info-circle\"></i>            <span id=\"statuscf12d07f62\">Not Started</span>        </td>    </tr>'+\n",
       "        \n",
       "        '</tbody>' +\n",
       "    '</table>' +\n",
       "'</div>'\n",
       ")\n",
       "\n",
       "$('.nav-tabs a[href=\"#menucf12d07f49\"]').tab('show');\n"
      ],
      "text/plain": [
       "<IPython.core.display.Javascript object>"
      ]
     },
     "metadata": {},
     "output_type": "display_data"
    },
    {
     "data": {
      "application/javascript": [
       "$(\"#statuscf12d07f61\").text(\"Submitted\")\n",
       "\n",
       "\n",
       "function incProgress(id){\n",
       "    var n = $(id);\n",
       "    n.attr(\"value\", parseInt( n.attr(\"value\")) + 12);\n",
       "}\n",
       "incProgress(\"#progresscf12d07f61\");\n",
       "incProgress(\"#pm_overallProgresscf12d07f\");\n",
       "$(\"#progressNumTaskcf12d07f61\").text(\"12\");\n",
       "$(\"#statuscf12d07f61\").text(\"Running\")\n",
       "\n",
       "\n",
       "$(\"#hostcf12d07f61\").text(\"1323707573(17.58.166.36)\")\n",
       "\n",
       "$(\"#statuscf12d07f61\").text(\"Completed\")\n",
       "\n",
       "\n",
       "$(\"#statuscf12d07f62\").text(\"Submitted\")\n",
       "\n",
       "\n",
       "function incProgress(id){\n",
       "    var n = $(id);\n",
       "    n.attr(\"value\", parseInt( n.attr(\"value\")) + 1);\n",
       "}\n",
       "incProgress(\"#progresscf12d07f62\");\n",
       "incProgress(\"#pm_overallProgresscf12d07f\");\n",
       "$(\"#progressNumTaskcf12d07f62\").text(\"1\");\n",
       "$(\"#statuscf12d07f62\").text(\"Running\")\n",
       "\n",
       "\n",
       "$(\"#hostcf12d07f62\").text(\"618747455(17.58.160.162)\")\n",
       "\n",
       "$(\"#statuscf12d07f62\").text(\"Completed\")\n",
       "\n",
       "\n",
       "$(\"#menucf12d07f49 [id^=statuscf12d07f]\").each(function(){\n",
       "    if ($(this).text() == \"Not Started\"){\n",
       "        $(this).text(\"Skipped\");\n",
       "    }\n",
       "})\n",
       "\n",
       "var n = $(\"#pm_overallProgresscf12d07f\");\n",
       "n.attr(\"value\", parseInt(n.attr(\"max\")))\n",
       "\n",
       "\n",
       "$(\"#pm_containercf12d07f\").css(\"border\",\"1px solid #dddddd\").css(\"padding\",\"10px\")\n",
       "var jobName = 'Job 50 (2 '+\n",
       "             'Stages'+  ')'\n",
       "$(\"#pm_overallContainercf12d07f\").show();\n",
       "$(\"#pm_overallJobNamecf12d07f\").text(jobName);\n",
       "$(\"#pm_overallProgresscf12d07f\").attr(\"max\", 16).attr(\"value\",0);\n",
       "$(\"#progressMonitorscf12d07f\").append(\n",
       "    '<li>'+\n",
       "        '<a style=\"padding: 5px 5px;font-size: 12px;\" data-toggle=\"tab\" href=\"#menucf12d07f50\">'+\n",
       "            jobName +\n",
       "        '</a>'+\n",
       "    '</li>'\n",
       ");\n",
       "\n",
       "$(\"#tabContentcf12d07f\").append(\n",
       "'<div id=\"menucf12d07f50\" class=\"tab-pane fade in active\">'+\n",
       "    '<table>' + \n",
       "        '<thead>' +\n",
       "            '<tr>' +\n",
       "                '<th style=\"text-align:center\">Stage</th>' +\n",
       "                '<th style=\"text-align:center\">Progress</th>' +\n",
       "                '<th style=\"text-align:center\">Executor</th>' +\n",
       "                '<th style=\"text-align:center\">Details</th>' +\n",
       "            '</tr>' +\n",
       "        '</thead>' +\n",
       "        '<tbody>' + \n",
       "        \n",
       "            '<tr>        <td style=\"max-width:200px\">            Stage 63 <span id=\"progressNumTaskcf12d07f63\">0</span>/12:        </td>        <td style=\"max-width: 300px\">            <progress id=\"progresscf12d07f63\" max=\"12\" value=\"0\" style=\"width:200px\"></progress>        </td>        <td>            <span id=\"hostcf12d07f63\"></span>        </td>        <td>            <i title=\"org.apache.spark.sql.Dataset.showString(Dataset.scala:291)\\nsun.reflect.NativeMethodAccessorImpl.invoke0(Native Method)\\nsun.reflect.NativeMethodAccessorImpl.invoke(NativeMethodAccessorImpl.java:62)\\nsun.reflect.DelegatingMethodAccessorImpl.invoke(DelegatingMethodAccessorImpl.java:43)\\njava.lang.reflect.Method.invoke(Method.java:498)\\npy4j.reflection.MethodInvoker.invoke(MethodInvoker.java:244)\\npy4j.reflection.ReflectionEngine.invoke(ReflectionEngine.java:357)\\npy4j.Gateway.invoke(Gateway.java:282)\\npy4j.commands.AbstractCommand.invokeMethod(AbstractCommand.java:132)\\npy4j.commands.CallCommand.execute(CallCommand.java:79)\\npy4j.GatewayConnection.run(GatewayConnection.java:238)\\njava.lang.Thread.run(Thread.java:748)\" class=\"fa fa-info-circle\"></i>            <span id=\"statuscf12d07f63\">Not Started</span>        </td>    </tr>'+\n",
       "        \n",
       "            '<tr>        <td style=\"max-width:200px\">            Stage 64 <span id=\"progressNumTaskcf12d07f64\">0</span>/4:        </td>        <td style=\"max-width: 300px\">            <progress id=\"progresscf12d07f64\" max=\"4\" value=\"0\" style=\"width:200px\"></progress>        </td>        <td>            <span id=\"hostcf12d07f64\"></span>        </td>        <td>            <i title=\"org.apache.spark.sql.Dataset.showString(Dataset.scala:291)\\nsun.reflect.NativeMethodAccessorImpl.invoke0(Native Method)\\nsun.reflect.NativeMethodAccessorImpl.invoke(NativeMethodAccessorImpl.java:62)\\nsun.reflect.DelegatingMethodAccessorImpl.invoke(DelegatingMethodAccessorImpl.java:43)\\njava.lang.reflect.Method.invoke(Method.java:498)\\npy4j.reflection.MethodInvoker.invoke(MethodInvoker.java:244)\\npy4j.reflection.ReflectionEngine.invoke(ReflectionEngine.java:357)\\npy4j.Gateway.invoke(Gateway.java:282)\\npy4j.commands.AbstractCommand.invokeMethod(AbstractCommand.java:132)\\npy4j.commands.CallCommand.execute(CallCommand.java:79)\\npy4j.GatewayConnection.run(GatewayConnection.java:238)\\njava.lang.Thread.run(Thread.java:748)\" class=\"fa fa-info-circle\"></i>            <span id=\"statuscf12d07f64\">Not Started</span>        </td>    </tr>'+\n",
       "        \n",
       "        '</tbody>' +\n",
       "    '</table>' +\n",
       "'</div>'\n",
       ")\n",
       "\n",
       "$('.nav-tabs a[href=\"#menucf12d07f50\"]').tab('show');\n",
       "$(\"#statuscf12d07f64\").text(\"Submitted\")\n",
       "\n",
       "\n",
       "function incProgress(id){\n",
       "    var n = $(id);\n",
       "    n.attr(\"value\", parseInt( n.attr(\"value\")) + 4);\n",
       "}\n",
       "incProgress(\"#progresscf12d07f64\");\n",
       "incProgress(\"#pm_overallProgresscf12d07f\");\n",
       "$(\"#progressNumTaskcf12d07f64\").text(\"4\");\n",
       "$(\"#statuscf12d07f64\").text(\"Running\")\n",
       "\n",
       "\n",
       "$(\"#hostcf12d07f64\").text(\"827606604(17.58.166.145)\")\n",
       "\n",
       "$(\"#statuscf12d07f64\").text(\"Completed\")\n",
       "\n",
       "\n",
       "$(\"#menucf12d07f50 [id^=statuscf12d07f]\").each(function(){\n",
       "    if ($(this).text() == \"Not Started\"){\n",
       "        $(this).text(\"Skipped\");\n",
       "    }\n",
       "})\n",
       "\n",
       "var n = $(\"#pm_overallProgresscf12d07f\");\n",
       "n.attr(\"value\", parseInt(n.attr(\"max\")))\n",
       "\n",
       "\n",
       "$(\"#pm_containercf12d07f\").css(\"border\",\"1px solid #dddddd\").css(\"padding\",\"10px\")\n",
       "var jobName = 'Job 51 (2 '+\n",
       "             'Stages'+  ')'\n",
       "$(\"#pm_overallContainercf12d07f\").show();\n",
       "$(\"#pm_overallJobNamecf12d07f\").text(jobName);\n",
       "$(\"#pm_overallProgresscf12d07f\").attr(\"max\", 32).attr(\"value\",0);\n",
       "$(\"#progressMonitorscf12d07f\").append(\n",
       "    '<li>'+\n",
       "        '<a style=\"padding: 5px 5px;font-size: 12px;\" data-toggle=\"tab\" href=\"#menucf12d07f51\">'+\n",
       "            jobName +\n",
       "        '</a>'+\n",
       "    '</li>'\n",
       ");\n",
       "\n",
       "$(\"#tabContentcf12d07f\").append(\n",
       "'<div id=\"menucf12d07f51\" class=\"tab-pane fade in active\">'+\n",
       "    '<table>' + \n",
       "        '<thead>' +\n",
       "            '<tr>' +\n",
       "                '<th style=\"text-align:center\">Stage</th>' +\n",
       "                '<th style=\"text-align:center\">Progress</th>' +\n",
       "                '<th style=\"text-align:center\">Executor</th>' +\n",
       "                '<th style=\"text-align:center\">Details</th>' +\n",
       "            '</tr>' +\n",
       "        '</thead>' +\n",
       "        '<tbody>' + \n",
       "        \n",
       "            '<tr>        <td style=\"max-width:200px\">            Stage 65 <span id=\"progressNumTaskcf12d07f65\">0</span>/12:        </td>        <td style=\"max-width: 300px\">            <progress id=\"progresscf12d07f65\" max=\"12\" value=\"0\" style=\"width:200px\"></progress>        </td>        <td>            <span id=\"hostcf12d07f65\"></span>        </td>        <td>            <i title=\"org.apache.spark.sql.Dataset.showString(Dataset.scala:291)\\nsun.reflect.NativeMethodAccessorImpl.invoke0(Native Method)\\nsun.reflect.NativeMethodAccessorImpl.invoke(NativeMethodAccessorImpl.java:62)\\nsun.reflect.DelegatingMethodAccessorImpl.invoke(DelegatingMethodAccessorImpl.java:43)\\njava.lang.reflect.Method.invoke(Method.java:498)\\npy4j.reflection.MethodInvoker.invoke(MethodInvoker.java:244)\\npy4j.reflection.ReflectionEngine.invoke(ReflectionEngine.java:357)\\npy4j.Gateway.invoke(Gateway.java:282)\\npy4j.commands.AbstractCommand.invokeMethod(AbstractCommand.java:132)\\npy4j.commands.CallCommand.execute(CallCommand.java:79)\\npy4j.GatewayConnection.run(GatewayConnection.java:238)\\njava.lang.Thread.run(Thread.java:748)\" class=\"fa fa-info-circle\"></i>            <span id=\"statuscf12d07f65\">Not Started</span>        </td>    </tr>'+\n",
       "        \n",
       "            '<tr>        <td style=\"max-width:200px\">            Stage 66 <span id=\"progressNumTaskcf12d07f66\">0</span>/20:        </td>        <td style=\"max-width: 300px\">            <progress id=\"progresscf12d07f66\" max=\"20\" value=\"0\" style=\"width:200px\"></progress>        </td>        <td>            <span id=\"hostcf12d07f66\"></span>        </td>        <td>            <i title=\"org.apache.spark.sql.Dataset.showString(Dataset.scala:291)\\nsun.reflect.NativeMethodAccessorImpl.invoke0(Native Method)\\nsun.reflect.NativeMethodAccessorImpl.invoke(NativeMethodAccessorImpl.java:62)\\nsun.reflect.DelegatingMethodAccessorImpl.invoke(DelegatingMethodAccessorImpl.java:43)\\njava.lang.reflect.Method.invoke(Method.java:498)\\npy4j.reflection.MethodInvoker.invoke(MethodInvoker.java:244)\\npy4j.reflection.ReflectionEngine.invoke(ReflectionEngine.java:357)\\npy4j.Gateway.invoke(Gateway.java:282)\\npy4j.commands.AbstractCommand.invokeMethod(AbstractCommand.java:132)\\npy4j.commands.CallCommand.execute(CallCommand.java:79)\\npy4j.GatewayConnection.run(GatewayConnection.java:238)\\njava.lang.Thread.run(Thread.java:748)\" class=\"fa fa-info-circle\"></i>            <span id=\"statuscf12d07f66\">Not Started</span>        </td>    </tr>'+\n",
       "        \n",
       "        '</tbody>' +\n",
       "    '</table>' +\n",
       "'</div>'\n",
       ")\n",
       "\n",
       "$('.nav-tabs a[href=\"#menucf12d07f51\"]').tab('show');\n",
       "$(\"#statuscf12d07f66\").text(\"Submitted\")\n",
       "\n",
       "\n",
       "function incProgress(id){\n",
       "    var n = $(id);\n",
       "    n.attr(\"value\", parseInt( n.attr(\"value\")) + 20);\n",
       "}\n",
       "incProgress(\"#progresscf12d07f66\");\n",
       "incProgress(\"#pm_overallProgresscf12d07f\");\n",
       "$(\"#progressNumTaskcf12d07f66\").text(\"20\");\n",
       "$(\"#statuscf12d07f66\").text(\"Running\")\n",
       "\n",
       "\n",
       "$(\"#hostcf12d07f66\").text(\"623460586(17.58.161.211)\")\n",
       "\n"
      ],
      "text/plain": [
       "<IPython.core.display.Javascript object>"
      ]
     },
     "metadata": {},
     "output_type": "display_data"
    },
    {
     "data": {
      "application/javascript": [
       "$(\"#statuscf12d07f66\").text(\"Completed\")\n",
       "\n",
       "\n",
       "$(\"#menucf12d07f51 [id^=statuscf12d07f]\").each(function(){\n",
       "    if ($(this).text() == \"Not Started\"){\n",
       "        $(this).text(\"Skipped\");\n",
       "    }\n",
       "})\n",
       "\n",
       "var n = $(\"#pm_overallProgresscf12d07f\");\n",
       "n.attr(\"value\", parseInt(n.attr(\"max\")))\n",
       "\n",
       "\n",
       "$(\"#pm_containercf12d07f\").css(\"border\",\"1px solid #dddddd\").css(\"padding\",\"10px\")\n",
       "var jobName = 'Job 52 (2 '+\n",
       "             'Stages'+  ')'\n",
       "$(\"#pm_overallContainercf12d07f\").show();\n",
       "$(\"#pm_overallJobNamecf12d07f\").text(jobName);\n",
       "$(\"#pm_overallProgresscf12d07f\").attr(\"max\", 112).attr(\"value\",0);\n",
       "$(\"#progressMonitorscf12d07f\").append(\n",
       "    '<li>'+\n",
       "        '<a style=\"padding: 5px 5px;font-size: 12px;\" data-toggle=\"tab\" href=\"#menucf12d07f52\">'+\n",
       "            jobName +\n",
       "        '</a>'+\n",
       "    '</li>'\n",
       ");\n",
       "\n",
       "$(\"#tabContentcf12d07f\").append(\n",
       "'<div id=\"menucf12d07f52\" class=\"tab-pane fade in active\">'+\n",
       "    '<table>' + \n",
       "        '<thead>' +\n",
       "            '<tr>' +\n",
       "                '<th style=\"text-align:center\">Stage</th>' +\n",
       "                '<th style=\"text-align:center\">Progress</th>' +\n",
       "                '<th style=\"text-align:center\">Executor</th>' +\n",
       "                '<th style=\"text-align:center\">Details</th>' +\n",
       "            '</tr>' +\n",
       "        '</thead>' +\n",
       "        '<tbody>' + \n",
       "        \n",
       "            '<tr>        <td style=\"max-width:200px\">            Stage 67 <span id=\"progressNumTaskcf12d07f67\">0</span>/12:        </td>        <td style=\"max-width: 300px\">            <progress id=\"progresscf12d07f67\" max=\"12\" value=\"0\" style=\"width:200px\"></progress>        </td>        <td>            <span id=\"hostcf12d07f67\"></span>        </td>        <td>            <i title=\"org.apache.spark.sql.Dataset.showString(Dataset.scala:291)\\nsun.reflect.NativeMethodAccessorImpl.invoke0(Native Method)\\nsun.reflect.NativeMethodAccessorImpl.invoke(NativeMethodAccessorImpl.java:62)\\nsun.reflect.DelegatingMethodAccessorImpl.invoke(DelegatingMethodAccessorImpl.java:43)\\njava.lang.reflect.Method.invoke(Method.java:498)\\npy4j.reflection.MethodInvoker.invoke(MethodInvoker.java:244)\\npy4j.reflection.ReflectionEngine.invoke(ReflectionEngine.java:357)\\npy4j.Gateway.invoke(Gateway.java:282)\\npy4j.commands.AbstractCommand.invokeMethod(AbstractCommand.java:132)\\npy4j.commands.CallCommand.execute(CallCommand.java:79)\\npy4j.GatewayConnection.run(GatewayConnection.java:238)\\njava.lang.Thread.run(Thread.java:748)\" class=\"fa fa-info-circle\"></i>            <span id=\"statuscf12d07f67\">Not Started</span>        </td>    </tr>'+\n",
       "        \n",
       "            '<tr>        <td style=\"max-width:200px\">            Stage 68 <span id=\"progressNumTaskcf12d07f68\">0</span>/100:        </td>        <td style=\"max-width: 300px\">            <progress id=\"progresscf12d07f68\" max=\"100\" value=\"0\" style=\"width:200px\"></progress>        </td>        <td>            <span id=\"hostcf12d07f68\"></span>        </td>        <td>            <i title=\"org.apache.spark.sql.Dataset.showString(Dataset.scala:291)\\nsun.reflect.NativeMethodAccessorImpl.invoke0(Native Method)\\nsun.reflect.NativeMethodAccessorImpl.invoke(NativeMethodAccessorImpl.java:62)\\nsun.reflect.DelegatingMethodAccessorImpl.invoke(DelegatingMethodAccessorImpl.java:43)\\njava.lang.reflect.Method.invoke(Method.java:498)\\npy4j.reflection.MethodInvoker.invoke(MethodInvoker.java:244)\\npy4j.reflection.ReflectionEngine.invoke(ReflectionEngine.java:357)\\npy4j.Gateway.invoke(Gateway.java:282)\\npy4j.commands.AbstractCommand.invokeMethod(AbstractCommand.java:132)\\npy4j.commands.CallCommand.execute(CallCommand.java:79)\\npy4j.GatewayConnection.run(GatewayConnection.java:238)\\njava.lang.Thread.run(Thread.java:748)\" class=\"fa fa-info-circle\"></i>            <span id=\"statuscf12d07f68\">Not Started</span>        </td>    </tr>'+\n",
       "        \n",
       "        '</tbody>' +\n",
       "    '</table>' +\n",
       "'</div>'\n",
       ")\n",
       "\n",
       "$('.nav-tabs a[href=\"#menucf12d07f52\"]').tab('show');\n",
       "$(\"#statuscf12d07f68\").text(\"Submitted\")\n",
       "\n",
       "\n",
       "function incProgress(id){\n",
       "    var n = $(id);\n",
       "    n.attr(\"value\", parseInt( n.attr(\"value\")) + 100);\n",
       "}\n",
       "incProgress(\"#progresscf12d07f68\");\n",
       "incProgress(\"#pm_overallProgresscf12d07f\");\n",
       "$(\"#progressNumTaskcf12d07f68\").text(\"100\");\n",
       "$(\"#statuscf12d07f68\").text(\"Running\")\n",
       "\n",
       "\n",
       "$(\"#hostcf12d07f68\").text(\"618747455(17.58.160.162)\")\n",
       "\n",
       "$(\"#statuscf12d07f68\").text(\"Completed\")\n",
       "\n",
       "\n",
       "$(\"#menucf12d07f52 [id^=statuscf12d07f]\").each(function(){\n",
       "    if ($(this).text() == \"Not Started\"){\n",
       "        $(this).text(\"Skipped\");\n",
       "    }\n",
       "})\n",
       "\n",
       "var n = $(\"#pm_overallProgresscf12d07f\");\n",
       "n.attr(\"value\", parseInt(n.attr(\"max\")))\n",
       "\n",
       "\n",
       "$(\"#pm_containercf12d07f\").css(\"border\",\"1px solid #dddddd\").css(\"padding\",\"10px\")\n",
       "var jobName = 'Job 53 (2 '+\n",
       "             'Stages'+  ')'\n",
       "$(\"#pm_overallContainercf12d07f\").show();\n",
       "$(\"#pm_overallJobNamecf12d07f\").text(jobName);\n",
       "$(\"#pm_overallProgresscf12d07f\").attr(\"max\", 87).attr(\"value\",0);\n",
       "$(\"#progressMonitorscf12d07f\").append(\n",
       "    '<li>'+\n",
       "        '<a style=\"padding: 5px 5px;font-size: 12px;\" data-toggle=\"tab\" href=\"#menucf12d07f53\">'+\n",
       "            jobName +\n",
       "        '</a>'+\n",
       "    '</li>'\n",
       ");\n",
       "\n",
       "$(\"#tabContentcf12d07f\").append(\n",
       "'<div id=\"menucf12d07f53\" class=\"tab-pane fade in active\">'+\n",
       "    '<table>' + \n",
       "        '<thead>' +\n",
       "            '<tr>' +\n",
       "                '<th style=\"text-align:center\">Stage</th>' +\n",
       "                '<th style=\"text-align:center\">Progress</th>' +\n",
       "                '<th style=\"text-align:center\">Executor</th>' +\n",
       "                '<th style=\"text-align:center\">Details</th>' +\n",
       "            '</tr>' +\n",
       "        '</thead>' +\n",
       "        '<tbody>' + \n",
       "        \n",
       "            '<tr>        <td style=\"max-width:200px\">            Stage 69 <span id=\"progressNumTaskcf12d07f69\">0</span>/12:        </td>        <td style=\"max-width: 300px\">            <progress id=\"progresscf12d07f69\" max=\"12\" value=\"0\" style=\"width:200px\"></progress>        </td>        <td>            <span id=\"hostcf12d07f69\"></span>        </td>        <td>            <i title=\"org.apache.spark.sql.Dataset.showString(Dataset.scala:291)\\nsun.reflect.NativeMethodAccessorImpl.invoke0(Native Method)\\nsun.reflect.NativeMethodAccessorImpl.invoke(NativeMethodAccessorImpl.java:62)\\nsun.reflect.DelegatingMethodAccessorImpl.invoke(DelegatingMethodAccessorImpl.java:43)\\njava.lang.reflect.Method.invoke(Method.java:498)\\npy4j.reflection.MethodInvoker.invoke(MethodInvoker.java:244)\\npy4j.reflection.ReflectionEngine.invoke(ReflectionEngine.java:357)\\npy4j.Gateway.invoke(Gateway.java:282)\\npy4j.commands.AbstractCommand.invokeMethod(AbstractCommand.java:132)\\npy4j.commands.CallCommand.execute(CallCommand.java:79)\\npy4j.GatewayConnection.run(GatewayConnection.java:238)\\njava.lang.Thread.run(Thread.java:748)\" class=\"fa fa-info-circle\"></i>            <span id=\"statuscf12d07f69\">Not Started</span>        </td>    </tr>'+\n",
       "        \n",
       "            '<tr>        <td style=\"max-width:200px\">            Stage 70 <span id=\"progressNumTaskcf12d07f70\">0</span>/75:        </td>        <td style=\"max-width: 300px\">            <progress id=\"progresscf12d07f70\" max=\"75\" value=\"0\" style=\"width:200px\"></progress>        </td>        <td>            <span id=\"hostcf12d07f70\"></span>        </td>        <td>            <i title=\"org.apache.spark.sql.Dataset.showString(Dataset.scala:291)\\nsun.reflect.NativeMethodAccessorImpl.invoke0(Native Method)\\nsun.reflect.NativeMethodAccessorImpl.invoke(NativeMethodAccessorImpl.java:62)\\nsun.reflect.DelegatingMethodAccessorImpl.invoke(DelegatingMethodAccessorImpl.java:43)\\njava.lang.reflect.Method.invoke(Method.java:498)\\npy4j.reflection.MethodInvoker.invoke(MethodInvoker.java:244)\\npy4j.reflection.ReflectionEngine.invoke(ReflectionEngine.java:357)\\npy4j.Gateway.invoke(Gateway.java:282)\\npy4j.commands.AbstractCommand.invokeMethod(AbstractCommand.java:132)\\npy4j.commands.CallCommand.execute(CallCommand.java:79)\\npy4j.GatewayConnection.run(GatewayConnection.java:238)\\njava.lang.Thread.run(Thread.java:748)\" class=\"fa fa-info-circle\"></i>            <span id=\"statuscf12d07f70\">Not Started</span>        </td>    </tr>'+\n",
       "        \n",
       "        '</tbody>' +\n",
       "    '</table>' +\n",
       "'</div>'\n",
       ")\n",
       "\n",
       "$('.nav-tabs a[href=\"#menucf12d07f53\"]').tab('show');\n",
       "$(\"#statuscf12d07f70\").text(\"Submitted\")\n",
       "\n",
       "\n",
       "function incProgress(id){\n",
       "    var n = $(id);\n",
       "    n.attr(\"value\", parseInt( n.attr(\"value\")) + 43);\n",
       "}\n",
       "incProgress(\"#progresscf12d07f70\");\n",
       "incProgress(\"#pm_overallProgresscf12d07f\");\n",
       "$(\"#progressNumTaskcf12d07f70\").text(\"43\");\n",
       "$(\"#statuscf12d07f70\").text(\"Running\")\n",
       "\n",
       "\n",
       "$(\"#hostcf12d07f70\").text(\"1323707573(17.58.166.36)\")\n",
       "\n"
      ],
      "text/plain": [
       "<IPython.core.display.Javascript object>"
      ]
     },
     "metadata": {},
     "output_type": "display_data"
    },
    {
     "name": "stdout",
     "output_type": "stream",
     "text": [
      "+-------+-----------+\n",
      "|company|max(salary)|\n",
      "+-------+-----------+\n",
      "|   AAPL|     180000|\n",
      "|   GOOG|     200000|\n",
      "+-------+-----------+\n",
      "\n"
     ]
    },
    {
     "data": {
      "application/javascript": [
       "function incProgress(id){\n",
       "    var n = $(id);\n",
       "    n.attr(\"value\", parseInt( n.attr(\"value\")) + 32);\n",
       "}\n",
       "incProgress(\"#progresscf12d07f70\");\n",
       "incProgress(\"#pm_overallProgresscf12d07f\");\n",
       "$(\"#progressNumTaskcf12d07f70\").text(\"75\");\n",
       "$(\"#statuscf12d07f70\").text(\"Running\")\n",
       "\n",
       "\n",
       "$(\"#hostcf12d07f70\").text(\"827606604(17.58.166.145)\")\n",
       "\n",
       "$(\"#statuscf12d07f70\").text(\"Completed\")\n",
       "\n",
       "\n",
       "$(\"#menucf12d07f53 [id^=statuscf12d07f]\").each(function(){\n",
       "    if ($(this).text() == \"Not Started\"){\n",
       "        $(this).text(\"Skipped\");\n",
       "    }\n",
       "})\n",
       "\n",
       "var n = $(\"#pm_overallProgresscf12d07f\");\n",
       "n.attr(\"value\", parseInt(n.attr(\"max\")))\n"
      ],
      "text/plain": [
       "<IPython.core.display.Javascript object>"
      ]
     },
     "metadata": {},
     "output_type": "display_data"
    }
   ],
   "source": [
    "rdd.groupBy('company').max('salary').show()"
   ]
  },
  {
   "cell_type": "code",
   "execution_count": 53,
   "metadata": {
    "ExecuteTime": {
     "end_time": "2020-04-03T05:11:16.141764Z",
     "start_time": "2020-04-03T05:11:14.496044Z"
    }
   },
   "outputs": [
    {
     "data": {
      "text/html": [
       "<div id=\"pm_overallContainer7b3d7a83\" style=\"display:none\">\n",
       "    <table width=\"100%\" style=\"border:0px\">\n",
       "        <tr style=\"border:0px\">\n",
       "            <td width=\"20px\" style=\"border:0px\"><span id=\"twistie7b3d7a83\" style=\"color:blue;font-size:x-large;cursor:pointer\">&#9656;</span></td>\n",
       "            <td width=\"130px\" style=\"text-align:left;border:0px\"><span id=\"pm_overallJobName7b3d7a83\"></span>:</td>\n",
       "            <td width=\"calc(100% - 150px)\" style=\"border:0px\"><progress id=\"pm_overallProgress7b3d7a83\" max=\"100\" value=\"0\" style=\"width:100%\"></progress></td>\n",
       "        </tr>\n",
       "    </table>\n",
       "</div>\n",
       "<div id=\"pm_container7b3d7a83\" style=\"display:none\">\n",
       "    <ul class=\"nav nav-tabs\" id=\"progressMonitors7b3d7a83\">\n",
       "    </ul>\n",
       "    <div class=\"tab-content\" id=\"tabContent7b3d7a83\">\n",
       "    </div>\n",
       "</div>\n",
       "\n",
       "<script>\n",
       "$(\"#twistie7b3d7a83\").click(function(){\n",
       "    visible = $(\"#pm_container7b3d7a83\").is(':visible');\n",
       "    $(\"#pm_container7b3d7a83\").slideToggle(\"slow\");\n",
       "    $(this).html(visible?\"&#9656;\":\"&#9662;\")\n",
       "});\n",
       "</script>"
      ],
      "text/plain": [
       "<IPython.core.display.HTML object>"
      ]
     },
     "metadata": {},
     "output_type": "display_data"
    },
    {
     "data": {
      "application/javascript": [
       "\n",
       "\n",
       "$(\"#pm_container7b3d7a83\").css(\"border\",\"1px solid #dddddd\").css(\"padding\",\"10px\")\n",
       "var jobName = 'Job 69 (2 '+\n",
       "             'Stages'+  ')'\n",
       "$(\"#pm_overallContainer7b3d7a83\").show();\n",
       "$(\"#pm_overallJobName7b3d7a83\").text(jobName);\n",
       "$(\"#pm_overallProgress7b3d7a83\").attr(\"max\", 13).attr(\"value\",0);\n",
       "$(\"#progressMonitors7b3d7a83\").append(\n",
       "    '<li>'+\n",
       "        '<a style=\"padding: 5px 5px;font-size: 12px;\" data-toggle=\"tab\" href=\"#menu7b3d7a8369\">'+\n",
       "            jobName +\n",
       "        '</a>'+\n",
       "    '</li>'\n",
       ");\n",
       "\n",
       "$(\"#tabContent7b3d7a83\").append(\n",
       "'<div id=\"menu7b3d7a8369\" class=\"tab-pane fade in active\">'+\n",
       "    '<table>' + \n",
       "        '<thead>' +\n",
       "            '<tr>' +\n",
       "                '<th style=\"text-align:center\">Stage</th>' +\n",
       "                '<th style=\"text-align:center\">Progress</th>' +\n",
       "                '<th style=\"text-align:center\">Executor</th>' +\n",
       "                '<th style=\"text-align:center\">Details</th>' +\n",
       "            '</tr>' +\n",
       "        '</thead>' +\n",
       "        '<tbody>' + \n",
       "        \n",
       "            '<tr>        <td style=\"max-width:200px\">            Stage 101 <span id=\"progressNumTask7b3d7a83101\">0</span>/12:        </td>        <td style=\"max-width: 300px\">            <progress id=\"progress7b3d7a83101\" max=\"12\" value=\"0\" style=\"width:200px\"></progress>        </td>        <td>            <span id=\"host7b3d7a83101\"></span>        </td>        <td>            <i title=\"org.apache.spark.sql.Dataset.showString(Dataset.scala:291)\\nsun.reflect.NativeMethodAccessorImpl.invoke0(Native Method)\\nsun.reflect.NativeMethodAccessorImpl.invoke(NativeMethodAccessorImpl.java:62)\\nsun.reflect.DelegatingMethodAccessorImpl.invoke(DelegatingMethodAccessorImpl.java:43)\\njava.lang.reflect.Method.invoke(Method.java:498)\\npy4j.reflection.MethodInvoker.invoke(MethodInvoker.java:244)\\npy4j.reflection.ReflectionEngine.invoke(ReflectionEngine.java:357)\\npy4j.Gateway.invoke(Gateway.java:282)\\npy4j.commands.AbstractCommand.invokeMethod(AbstractCommand.java:132)\\npy4j.commands.CallCommand.execute(CallCommand.java:79)\\npy4j.GatewayConnection.run(GatewayConnection.java:238)\\njava.lang.Thread.run(Thread.java:748)\" class=\"fa fa-info-circle\"></i>            <span id=\"status7b3d7a83101\">Not Started</span>        </td>    </tr>'+\n",
       "        \n",
       "            '<tr>        <td style=\"max-width:200px\">            Stage 102 <span id=\"progressNumTask7b3d7a83102\">0</span>/1:        </td>        <td style=\"max-width: 300px\">            <progress id=\"progress7b3d7a83102\" max=\"1\" value=\"0\" style=\"width:200px\"></progress>        </td>        <td>            <span id=\"host7b3d7a83102\"></span>        </td>        <td>            <i title=\"org.apache.spark.sql.Dataset.showString(Dataset.scala:291)\\nsun.reflect.NativeMethodAccessorImpl.invoke0(Native Method)\\nsun.reflect.NativeMethodAccessorImpl.invoke(NativeMethodAccessorImpl.java:62)\\nsun.reflect.DelegatingMethodAccessorImpl.invoke(DelegatingMethodAccessorImpl.java:43)\\njava.lang.reflect.Method.invoke(Method.java:498)\\npy4j.reflection.MethodInvoker.invoke(MethodInvoker.java:244)\\npy4j.reflection.ReflectionEngine.invoke(ReflectionEngine.java:357)\\npy4j.Gateway.invoke(Gateway.java:282)\\npy4j.commands.AbstractCommand.invokeMethod(AbstractCommand.java:132)\\npy4j.commands.CallCommand.execute(CallCommand.java:79)\\npy4j.GatewayConnection.run(GatewayConnection.java:238)\\njava.lang.Thread.run(Thread.java:748)\" class=\"fa fa-info-circle\"></i>            <span id=\"status7b3d7a83102\">Not Started</span>        </td>    </tr>'+\n",
       "        \n",
       "        '</tbody>' +\n",
       "    '</table>' +\n",
       "'</div>'\n",
       ")\n",
       "\n",
       "$('.nav-tabs a[href=\"#menu7b3d7a8369\"]').tab('show');\n"
      ],
      "text/plain": [
       "<IPython.core.display.Javascript object>"
      ]
     },
     "metadata": {},
     "output_type": "display_data"
    },
    {
     "data": {
      "application/javascript": [
       "$(\"#status7b3d7a83101\").text(\"Submitted\")\n",
       "\n",
       "\n",
       "function incProgress(id){\n",
       "    var n = $(id);\n",
       "    n.attr(\"value\", parseInt( n.attr(\"value\")) + 12);\n",
       "}\n",
       "incProgress(\"#progress7b3d7a83101\");\n",
       "incProgress(\"#pm_overallProgress7b3d7a83\");\n",
       "$(\"#progressNumTask7b3d7a83101\").text(\"12\");\n",
       "$(\"#status7b3d7a83101\").text(\"Running\")\n",
       "\n",
       "\n",
       "$(\"#host7b3d7a83101\").text(\"1431551498(17.58.172.200)\")\n",
       "\n",
       "$(\"#status7b3d7a83101\").text(\"Completed\")\n",
       "\n",
       "\n",
       "$(\"#status7b3d7a83102\").text(\"Submitted\")\n",
       "\n",
       "\n",
       "function incProgress(id){\n",
       "    var n = $(id);\n",
       "    n.attr(\"value\", parseInt( n.attr(\"value\")) + 1);\n",
       "}\n",
       "incProgress(\"#progress7b3d7a83102\");\n",
       "incProgress(\"#pm_overallProgress7b3d7a83\");\n",
       "$(\"#progressNumTask7b3d7a83102\").text(\"1\");\n",
       "$(\"#status7b3d7a83102\").text(\"Running\")\n",
       "\n",
       "\n",
       "$(\"#host7b3d7a83102\").text(\"1856197944(17.58.170.82)\")\n",
       "\n",
       "$(\"#status7b3d7a83102\").text(\"Completed\")\n",
       "\n",
       "\n",
       "$(\"#menu7b3d7a8369 [id^=status7b3d7a83]\").each(function(){\n",
       "    if ($(this).text() == \"Not Started\"){\n",
       "        $(this).text(\"Skipped\");\n",
       "    }\n",
       "})\n",
       "\n",
       "var n = $(\"#pm_overallProgress7b3d7a83\");\n",
       "n.attr(\"value\", parseInt(n.attr(\"max\")))\n",
       "\n",
       "\n",
       "$(\"#pm_container7b3d7a83\").css(\"border\",\"1px solid #dddddd\").css(\"padding\",\"10px\")\n",
       "var jobName = 'Job 70 (2 '+\n",
       "             'Stages'+  ')'\n",
       "$(\"#pm_overallContainer7b3d7a83\").show();\n",
       "$(\"#pm_overallJobName7b3d7a83\").text(jobName);\n",
       "$(\"#pm_overallProgress7b3d7a83\").attr(\"max\", 16).attr(\"value\",0);\n",
       "$(\"#progressMonitors7b3d7a83\").append(\n",
       "    '<li>'+\n",
       "        '<a style=\"padding: 5px 5px;font-size: 12px;\" data-toggle=\"tab\" href=\"#menu7b3d7a8370\">'+\n",
       "            jobName +\n",
       "        '</a>'+\n",
       "    '</li>'\n",
       ");\n",
       "\n",
       "$(\"#tabContent7b3d7a83\").append(\n",
       "'<div id=\"menu7b3d7a8370\" class=\"tab-pane fade in active\">'+\n",
       "    '<table>' + \n",
       "        '<thead>' +\n",
       "            '<tr>' +\n",
       "                '<th style=\"text-align:center\">Stage</th>' +\n",
       "                '<th style=\"text-align:center\">Progress</th>' +\n",
       "                '<th style=\"text-align:center\">Executor</th>' +\n",
       "                '<th style=\"text-align:center\">Details</th>' +\n",
       "            '</tr>' +\n",
       "        '</thead>' +\n",
       "        '<tbody>' + \n",
       "        \n",
       "            '<tr>        <td style=\"max-width:200px\">            Stage 103 <span id=\"progressNumTask7b3d7a83103\">0</span>/12:        </td>        <td style=\"max-width: 300px\">            <progress id=\"progress7b3d7a83103\" max=\"12\" value=\"0\" style=\"width:200px\"></progress>        </td>        <td>            <span id=\"host7b3d7a83103\"></span>        </td>        <td>            <i title=\"org.apache.spark.sql.Dataset.showString(Dataset.scala:291)\\nsun.reflect.NativeMethodAccessorImpl.invoke0(Native Method)\\nsun.reflect.NativeMethodAccessorImpl.invoke(NativeMethodAccessorImpl.java:62)\\nsun.reflect.DelegatingMethodAccessorImpl.invoke(DelegatingMethodAccessorImpl.java:43)\\njava.lang.reflect.Method.invoke(Method.java:498)\\npy4j.reflection.MethodInvoker.invoke(MethodInvoker.java:244)\\npy4j.reflection.ReflectionEngine.invoke(ReflectionEngine.java:357)\\npy4j.Gateway.invoke(Gateway.java:282)\\npy4j.commands.AbstractCommand.invokeMethod(AbstractCommand.java:132)\\npy4j.commands.CallCommand.execute(CallCommand.java:79)\\npy4j.GatewayConnection.run(GatewayConnection.java:238)\\njava.lang.Thread.run(Thread.java:748)\" class=\"fa fa-info-circle\"></i>            <span id=\"status7b3d7a83103\">Not Started</span>        </td>    </tr>'+\n",
       "        \n",
       "            '<tr>        <td style=\"max-width:200px\">            Stage 104 <span id=\"progressNumTask7b3d7a83104\">0</span>/4:        </td>        <td style=\"max-width: 300px\">            <progress id=\"progress7b3d7a83104\" max=\"4\" value=\"0\" style=\"width:200px\"></progress>        </td>        <td>            <span id=\"host7b3d7a83104\"></span>        </td>        <td>            <i title=\"org.apache.spark.sql.Dataset.showString(Dataset.scala:291)\\nsun.reflect.NativeMethodAccessorImpl.invoke0(Native Method)\\nsun.reflect.NativeMethodAccessorImpl.invoke(NativeMethodAccessorImpl.java:62)\\nsun.reflect.DelegatingMethodAccessorImpl.invoke(DelegatingMethodAccessorImpl.java:43)\\njava.lang.reflect.Method.invoke(Method.java:498)\\npy4j.reflection.MethodInvoker.invoke(MethodInvoker.java:244)\\npy4j.reflection.ReflectionEngine.invoke(ReflectionEngine.java:357)\\npy4j.Gateway.invoke(Gateway.java:282)\\npy4j.commands.AbstractCommand.invokeMethod(AbstractCommand.java:132)\\npy4j.commands.CallCommand.execute(CallCommand.java:79)\\npy4j.GatewayConnection.run(GatewayConnection.java:238)\\njava.lang.Thread.run(Thread.java:748)\" class=\"fa fa-info-circle\"></i>            <span id=\"status7b3d7a83104\">Not Started</span>        </td>    </tr>'+\n",
       "        \n",
       "        '</tbody>' +\n",
       "    '</table>' +\n",
       "'</div>'\n",
       ")\n",
       "\n",
       "$('.nav-tabs a[href=\"#menu7b3d7a8370\"]').tab('show');\n",
       "$(\"#status7b3d7a83104\").text(\"Submitted\")\n",
       "\n",
       "\n",
       "function incProgress(id){\n",
       "    var n = $(id);\n",
       "    n.attr(\"value\", parseInt( n.attr(\"value\")) + 4);\n",
       "}\n",
       "incProgress(\"#progress7b3d7a83104\");\n",
       "incProgress(\"#pm_overallProgress7b3d7a83\");\n",
       "$(\"#progressNumTask7b3d7a83104\").text(\"4\");\n",
       "$(\"#status7b3d7a83104\").text(\"Running\")\n",
       "\n",
       "\n",
       "$(\"#host7b3d7a83104\").text(\"827606604(17.58.166.145)\")\n",
       "\n",
       "$(\"#status7b3d7a83104\").text(\"Completed\")\n",
       "\n",
       "\n",
       "$(\"#menu7b3d7a8370 [id^=status7b3d7a83]\").each(function(){\n",
       "    if ($(this).text() == \"Not Started\"){\n",
       "        $(this).text(\"Skipped\");\n",
       "    }\n",
       "})\n",
       "\n",
       "var n = $(\"#pm_overallProgress7b3d7a83\");\n",
       "n.attr(\"value\", parseInt(n.attr(\"max\")))\n",
       "\n",
       "\n",
       "$(\"#pm_container7b3d7a83\").css(\"border\",\"1px solid #dddddd\").css(\"padding\",\"10px\")\n",
       "var jobName = 'Job 71 (2 '+\n",
       "             'Stages'+  ')'\n",
       "$(\"#pm_overallContainer7b3d7a83\").show();\n",
       "$(\"#pm_overallJobName7b3d7a83\").text(jobName);\n",
       "$(\"#pm_overallProgress7b3d7a83\").attr(\"max\", 32).attr(\"value\",0);\n",
       "$(\"#progressMonitors7b3d7a83\").append(\n",
       "    '<li>'+\n",
       "        '<a style=\"padding: 5px 5px;font-size: 12px;\" data-toggle=\"tab\" href=\"#menu7b3d7a8371\">'+\n",
       "            jobName +\n",
       "        '</a>'+\n",
       "    '</li>'\n",
       ");\n",
       "\n",
       "$(\"#tabContent7b3d7a83\").append(\n",
       "'<div id=\"menu7b3d7a8371\" class=\"tab-pane fade in active\">'+\n",
       "    '<table>' + \n",
       "        '<thead>' +\n",
       "            '<tr>' +\n",
       "                '<th style=\"text-align:center\">Stage</th>' +\n",
       "                '<th style=\"text-align:center\">Progress</th>' +\n",
       "                '<th style=\"text-align:center\">Executor</th>' +\n",
       "                '<th style=\"text-align:center\">Details</th>' +\n",
       "            '</tr>' +\n",
       "        '</thead>' +\n",
       "        '<tbody>' + \n",
       "        \n",
       "            '<tr>        <td style=\"max-width:200px\">            Stage 105 <span id=\"progressNumTask7b3d7a83105\">0</span>/12:        </td>        <td style=\"max-width: 300px\">            <progress id=\"progress7b3d7a83105\" max=\"12\" value=\"0\" style=\"width:200px\"></progress>        </td>        <td>            <span id=\"host7b3d7a83105\"></span>        </td>        <td>            <i title=\"org.apache.spark.sql.Dataset.showString(Dataset.scala:291)\\nsun.reflect.NativeMethodAccessorImpl.invoke0(Native Method)\\nsun.reflect.NativeMethodAccessorImpl.invoke(NativeMethodAccessorImpl.java:62)\\nsun.reflect.DelegatingMethodAccessorImpl.invoke(DelegatingMethodAccessorImpl.java:43)\\njava.lang.reflect.Method.invoke(Method.java:498)\\npy4j.reflection.MethodInvoker.invoke(MethodInvoker.java:244)\\npy4j.reflection.ReflectionEngine.invoke(ReflectionEngine.java:357)\\npy4j.Gateway.invoke(Gateway.java:282)\\npy4j.commands.AbstractCommand.invokeMethod(AbstractCommand.java:132)\\npy4j.commands.CallCommand.execute(CallCommand.java:79)\\npy4j.GatewayConnection.run(GatewayConnection.java:238)\\njava.lang.Thread.run(Thread.java:748)\" class=\"fa fa-info-circle\"></i>            <span id=\"status7b3d7a83105\">Not Started</span>        </td>    </tr>'+\n",
       "        \n",
       "            '<tr>        <td style=\"max-width:200px\">            Stage 106 <span id=\"progressNumTask7b3d7a83106\">0</span>/20:        </td>        <td style=\"max-width: 300px\">            <progress id=\"progress7b3d7a83106\" max=\"20\" value=\"0\" style=\"width:200px\"></progress>        </td>        <td>            <span id=\"host7b3d7a83106\"></span>        </td>        <td>            <i title=\"org.apache.spark.sql.Dataset.showString(Dataset.scala:291)\\nsun.reflect.NativeMethodAccessorImpl.invoke0(Native Method)\\nsun.reflect.NativeMethodAccessorImpl.invoke(NativeMethodAccessorImpl.java:62)\\nsun.reflect.DelegatingMethodAccessorImpl.invoke(DelegatingMethodAccessorImpl.java:43)\\njava.lang.reflect.Method.invoke(Method.java:498)\\npy4j.reflection.MethodInvoker.invoke(MethodInvoker.java:244)\\npy4j.reflection.ReflectionEngine.invoke(ReflectionEngine.java:357)\\npy4j.Gateway.invoke(Gateway.java:282)\\npy4j.commands.AbstractCommand.invokeMethod(AbstractCommand.java:132)\\npy4j.commands.CallCommand.execute(CallCommand.java:79)\\npy4j.GatewayConnection.run(GatewayConnection.java:238)\\njava.lang.Thread.run(Thread.java:748)\" class=\"fa fa-info-circle\"></i>            <span id=\"status7b3d7a83106\">Not Started</span>        </td>    </tr>'+\n",
       "        \n",
       "        '</tbody>' +\n",
       "    '</table>' +\n",
       "'</div>'\n",
       ")\n",
       "\n",
       "$('.nav-tabs a[href=\"#menu7b3d7a8371\"]').tab('show');\n",
       "$(\"#status7b3d7a83106\").text(\"Submitted\")\n",
       "\n",
       "\n",
       "function incProgress(id){\n",
       "    var n = $(id);\n",
       "    n.attr(\"value\", parseInt( n.attr(\"value\")) + 20);\n",
       "}\n",
       "incProgress(\"#progress7b3d7a83106\");\n",
       "incProgress(\"#pm_overallProgress7b3d7a83\");\n",
       "$(\"#progressNumTask7b3d7a83106\").text(\"20\");\n",
       "$(\"#status7b3d7a83106\").text(\"Running\")\n",
       "\n",
       "\n",
       "$(\"#host7b3d7a83106\").text(\"1431551498(17.58.172.200)\")\n",
       "\n",
       "$(\"#status7b3d7a83106\").text(\"Completed\")\n",
       "\n",
       "\n"
      ],
      "text/plain": [
       "<IPython.core.display.Javascript object>"
      ]
     },
     "metadata": {},
     "output_type": "display_data"
    },
    {
     "data": {
      "application/javascript": [
       "$(\"#menu7b3d7a8371 [id^=status7b3d7a83]\").each(function(){\n",
       "    if ($(this).text() == \"Not Started\"){\n",
       "        $(this).text(\"Skipped\");\n",
       "    }\n",
       "})\n",
       "\n",
       "var n = $(\"#pm_overallProgress7b3d7a83\");\n",
       "n.attr(\"value\", parseInt(n.attr(\"max\")))\n",
       "\n",
       "\n",
       "$(\"#pm_container7b3d7a83\").css(\"border\",\"1px solid #dddddd\").css(\"padding\",\"10px\")\n",
       "var jobName = 'Job 72 (2 '+\n",
       "             'Stages'+  ')'\n",
       "$(\"#pm_overallContainer7b3d7a83\").show();\n",
       "$(\"#pm_overallJobName7b3d7a83\").text(jobName);\n",
       "$(\"#pm_overallProgress7b3d7a83\").attr(\"max\", 112).attr(\"value\",0);\n",
       "$(\"#progressMonitors7b3d7a83\").append(\n",
       "    '<li>'+\n",
       "        '<a style=\"padding: 5px 5px;font-size: 12px;\" data-toggle=\"tab\" href=\"#menu7b3d7a8372\">'+\n",
       "            jobName +\n",
       "        '</a>'+\n",
       "    '</li>'\n",
       ");\n",
       "\n",
       "$(\"#tabContent7b3d7a83\").append(\n",
       "'<div id=\"menu7b3d7a8372\" class=\"tab-pane fade in active\">'+\n",
       "    '<table>' + \n",
       "        '<thead>' +\n",
       "            '<tr>' +\n",
       "                '<th style=\"text-align:center\">Stage</th>' +\n",
       "                '<th style=\"text-align:center\">Progress</th>' +\n",
       "                '<th style=\"text-align:center\">Executor</th>' +\n",
       "                '<th style=\"text-align:center\">Details</th>' +\n",
       "            '</tr>' +\n",
       "        '</thead>' +\n",
       "        '<tbody>' + \n",
       "        \n",
       "            '<tr>        <td style=\"max-width:200px\">            Stage 107 <span id=\"progressNumTask7b3d7a83107\">0</span>/12:        </td>        <td style=\"max-width: 300px\">            <progress id=\"progress7b3d7a83107\" max=\"12\" value=\"0\" style=\"width:200px\"></progress>        </td>        <td>            <span id=\"host7b3d7a83107\"></span>        </td>        <td>            <i title=\"org.apache.spark.sql.Dataset.showString(Dataset.scala:291)\\nsun.reflect.NativeMethodAccessorImpl.invoke0(Native Method)\\nsun.reflect.NativeMethodAccessorImpl.invoke(NativeMethodAccessorImpl.java:62)\\nsun.reflect.DelegatingMethodAccessorImpl.invoke(DelegatingMethodAccessorImpl.java:43)\\njava.lang.reflect.Method.invoke(Method.java:498)\\npy4j.reflection.MethodInvoker.invoke(MethodInvoker.java:244)\\npy4j.reflection.ReflectionEngine.invoke(ReflectionEngine.java:357)\\npy4j.Gateway.invoke(Gateway.java:282)\\npy4j.commands.AbstractCommand.invokeMethod(AbstractCommand.java:132)\\npy4j.commands.CallCommand.execute(CallCommand.java:79)\\npy4j.GatewayConnection.run(GatewayConnection.java:238)\\njava.lang.Thread.run(Thread.java:748)\" class=\"fa fa-info-circle\"></i>            <span id=\"status7b3d7a83107\">Not Started</span>        </td>    </tr>'+\n",
       "        \n",
       "            '<tr>        <td style=\"max-width:200px\">            Stage 108 <span id=\"progressNumTask7b3d7a83108\">0</span>/100:        </td>        <td style=\"max-width: 300px\">            <progress id=\"progress7b3d7a83108\" max=\"100\" value=\"0\" style=\"width:200px\"></progress>        </td>        <td>            <span id=\"host7b3d7a83108\"></span>        </td>        <td>            <i title=\"org.apache.spark.sql.Dataset.showString(Dataset.scala:291)\\nsun.reflect.NativeMethodAccessorImpl.invoke0(Native Method)\\nsun.reflect.NativeMethodAccessorImpl.invoke(NativeMethodAccessorImpl.java:62)\\nsun.reflect.DelegatingMethodAccessorImpl.invoke(DelegatingMethodAccessorImpl.java:43)\\njava.lang.reflect.Method.invoke(Method.java:498)\\npy4j.reflection.MethodInvoker.invoke(MethodInvoker.java:244)\\npy4j.reflection.ReflectionEngine.invoke(ReflectionEngine.java:357)\\npy4j.Gateway.invoke(Gateway.java:282)\\npy4j.commands.AbstractCommand.invokeMethod(AbstractCommand.java:132)\\npy4j.commands.CallCommand.execute(CallCommand.java:79)\\npy4j.GatewayConnection.run(GatewayConnection.java:238)\\njava.lang.Thread.run(Thread.java:748)\" class=\"fa fa-info-circle\"></i>            <span id=\"status7b3d7a83108\">Not Started</span>        </td>    </tr>'+\n",
       "        \n",
       "        '</tbody>' +\n",
       "    '</table>' +\n",
       "'</div>'\n",
       ")\n",
       "\n",
       "$('.nav-tabs a[href=\"#menu7b3d7a8372\"]').tab('show');\n",
       "$(\"#status7b3d7a83108\").text(\"Submitted\")\n",
       "\n",
       "\n",
       "function incProgress(id){\n",
       "    var n = $(id);\n",
       "    n.attr(\"value\", parseInt( n.attr(\"value\")) + 100);\n",
       "}\n",
       "incProgress(\"#progress7b3d7a83108\");\n",
       "incProgress(\"#pm_overallProgress7b3d7a83\");\n",
       "$(\"#progressNumTask7b3d7a83108\").text(\"100\");\n",
       "$(\"#status7b3d7a83108\").text(\"Running\")\n",
       "\n",
       "\n",
       "$(\"#host7b3d7a83108\").text(\"623460586(17.58.161.211)\")\n",
       "\n",
       "$(\"#status7b3d7a83108\").text(\"Completed\")\n",
       "\n",
       "\n",
       "$(\"#menu7b3d7a8372 [id^=status7b3d7a83]\").each(function(){\n",
       "    if ($(this).text() == \"Not Started\"){\n",
       "        $(this).text(\"Skipped\");\n",
       "    }\n",
       "})\n",
       "\n",
       "var n = $(\"#pm_overallProgress7b3d7a83\");\n",
       "n.attr(\"value\", parseInt(n.attr(\"max\")))\n",
       "\n",
       "\n",
       "$(\"#pm_container7b3d7a83\").css(\"border\",\"1px solid #dddddd\").css(\"padding\",\"10px\")\n",
       "var jobName = 'Job 73 (2 '+\n",
       "             'Stages'+  ')'\n",
       "$(\"#pm_overallContainer7b3d7a83\").show();\n",
       "$(\"#pm_overallJobName7b3d7a83\").text(jobName);\n",
       "$(\"#pm_overallProgress7b3d7a83\").attr(\"max\", 87).attr(\"value\",0);\n",
       "$(\"#progressMonitors7b3d7a83\").append(\n",
       "    '<li>'+\n",
       "        '<a style=\"padding: 5px 5px;font-size: 12px;\" data-toggle=\"tab\" href=\"#menu7b3d7a8373\">'+\n",
       "            jobName +\n",
       "        '</a>'+\n",
       "    '</li>'\n",
       ");\n",
       "\n",
       "$(\"#tabContent7b3d7a83\").append(\n",
       "'<div id=\"menu7b3d7a8373\" class=\"tab-pane fade in active\">'+\n",
       "    '<table>' + \n",
       "        '<thead>' +\n",
       "            '<tr>' +\n",
       "                '<th style=\"text-align:center\">Stage</th>' +\n",
       "                '<th style=\"text-align:center\">Progress</th>' +\n",
       "                '<th style=\"text-align:center\">Executor</th>' +\n",
       "                '<th style=\"text-align:center\">Details</th>' +\n",
       "            '</tr>' +\n",
       "        '</thead>' +\n",
       "        '<tbody>' + \n",
       "        \n",
       "            '<tr>        <td style=\"max-width:200px\">            Stage 109 <span id=\"progressNumTask7b3d7a83109\">0</span>/12:        </td>        <td style=\"max-width: 300px\">            <progress id=\"progress7b3d7a83109\" max=\"12\" value=\"0\" style=\"width:200px\"></progress>        </td>        <td>            <span id=\"host7b3d7a83109\"></span>        </td>        <td>            <i title=\"org.apache.spark.sql.Dataset.showString(Dataset.scala:291)\\nsun.reflect.NativeMethodAccessorImpl.invoke0(Native Method)\\nsun.reflect.NativeMethodAccessorImpl.invoke(NativeMethodAccessorImpl.java:62)\\nsun.reflect.DelegatingMethodAccessorImpl.invoke(DelegatingMethodAccessorImpl.java:43)\\njava.lang.reflect.Method.invoke(Method.java:498)\\npy4j.reflection.MethodInvoker.invoke(MethodInvoker.java:244)\\npy4j.reflection.ReflectionEngine.invoke(ReflectionEngine.java:357)\\npy4j.Gateway.invoke(Gateway.java:282)\\npy4j.commands.AbstractCommand.invokeMethod(AbstractCommand.java:132)\\npy4j.commands.CallCommand.execute(CallCommand.java:79)\\npy4j.GatewayConnection.run(GatewayConnection.java:238)\\njava.lang.Thread.run(Thread.java:748)\" class=\"fa fa-info-circle\"></i>            <span id=\"status7b3d7a83109\">Not Started</span>        </td>    </tr>'+\n",
       "        \n",
       "            '<tr>        <td style=\"max-width:200px\">            Stage 110 <span id=\"progressNumTask7b3d7a83110\">0</span>/75:        </td>        <td style=\"max-width: 300px\">            <progress id=\"progress7b3d7a83110\" max=\"75\" value=\"0\" style=\"width:200px\"></progress>        </td>        <td>            <span id=\"host7b3d7a83110\"></span>        </td>        <td>            <i title=\"org.apache.spark.sql.Dataset.showString(Dataset.scala:291)\\nsun.reflect.NativeMethodAccessorImpl.invoke0(Native Method)\\nsun.reflect.NativeMethodAccessorImpl.invoke(NativeMethodAccessorImpl.java:62)\\nsun.reflect.DelegatingMethodAccessorImpl.invoke(DelegatingMethodAccessorImpl.java:43)\\njava.lang.reflect.Method.invoke(Method.java:498)\\npy4j.reflection.MethodInvoker.invoke(MethodInvoker.java:244)\\npy4j.reflection.ReflectionEngine.invoke(ReflectionEngine.java:357)\\npy4j.Gateway.invoke(Gateway.java:282)\\npy4j.commands.AbstractCommand.invokeMethod(AbstractCommand.java:132)\\npy4j.commands.CallCommand.execute(CallCommand.java:79)\\npy4j.GatewayConnection.run(GatewayConnection.java:238)\\njava.lang.Thread.run(Thread.java:748)\" class=\"fa fa-info-circle\"></i>            <span id=\"status7b3d7a83110\">Not Started</span>        </td>    </tr>'+\n",
       "        \n",
       "        '</tbody>' +\n",
       "    '</table>' +\n",
       "'</div>'\n",
       ")\n",
       "\n",
       "$('.nav-tabs a[href=\"#menu7b3d7a8373\"]').tab('show');\n",
       "$(\"#status7b3d7a83110\").text(\"Submitted\")\n",
       "\n",
       "\n",
       "function incProgress(id){\n",
       "    var n = $(id);\n",
       "    n.attr(\"value\", parseInt( n.attr(\"value\")) + 12);\n",
       "}\n",
       "incProgress(\"#progress7b3d7a83110\");\n",
       "incProgress(\"#pm_overallProgress7b3d7a83\");\n",
       "$(\"#progressNumTask7b3d7a83110\").text(\"12\");\n",
       "$(\"#status7b3d7a83110\").text(\"Running\")\n",
       "\n",
       "\n",
       "$(\"#host7b3d7a83110\").text(\"1323707573(17.58.166.36)\")\n",
       "\n"
      ],
      "text/plain": [
       "<IPython.core.display.Javascript object>"
      ]
     },
     "metadata": {},
     "output_type": "display_data"
    },
    {
     "name": "stdout",
     "output_type": "stream",
     "text": [
      "+-------+-----------+\n",
      "|company|avg(salary)|\n",
      "+-------+-----------+\n",
      "|   AAPL|   177500.0|\n",
      "|   GOOG|   175000.0|\n",
      "+-------+-----------+\n",
      "\n"
     ]
    },
    {
     "data": {
      "application/javascript": [
       "function incProgress(id){\n",
       "    var n = $(id);\n",
       "    n.attr(\"value\", parseInt( n.attr(\"value\")) + 63);\n",
       "}\n",
       "incProgress(\"#progress7b3d7a83110\");\n",
       "incProgress(\"#pm_overallProgress7b3d7a83\");\n",
       "$(\"#progressNumTask7b3d7a83110\").text(\"75\");\n",
       "$(\"#status7b3d7a83110\").text(\"Running\")\n",
       "\n",
       "\n",
       "$(\"#host7b3d7a83110\").text(\"1431551498(17.58.172.200)\")\n",
       "\n",
       "$(\"#status7b3d7a83110\").text(\"Completed\")\n",
       "\n",
       "\n",
       "$(\"#menu7b3d7a8373 [id^=status7b3d7a83]\").each(function(){\n",
       "    if ($(this).text() == \"Not Started\"){\n",
       "        $(this).text(\"Skipped\");\n",
       "    }\n",
       "})\n",
       "\n",
       "var n = $(\"#pm_overallProgress7b3d7a83\");\n",
       "n.attr(\"value\", parseInt(n.attr(\"max\")))\n"
      ],
      "text/plain": [
       "<IPython.core.display.Javascript object>"
      ]
     },
     "metadata": {},
     "output_type": "display_data"
    }
   ],
   "source": [
    "# Sum by Aggregate\n",
    "\n",
    "grouped_rdd = rdd.groupBy(\"company\")\n",
    "grouped_rdd.agg({'salary':'avg'}).show()"
   ]
  },
  {
   "cell_type": "code",
   "execution_count": 55,
   "metadata": {
    "ExecuteTime": {
     "end_time": "2020-04-03T06:27:36.726204Z",
     "start_time": "2020-04-03T06:27:35.098006Z"
    }
   },
   "outputs": [
    {
     "data": {
      "text/html": [
       "<div id=\"pm_overallContainerbdac3f2b\" style=\"display:none\">\n",
       "    <table width=\"100%\" style=\"border:0px\">\n",
       "        <tr style=\"border:0px\">\n",
       "            <td width=\"20px\" style=\"border:0px\"><span id=\"twistiebdac3f2b\" style=\"color:blue;font-size:x-large;cursor:pointer\">&#9656;</span></td>\n",
       "            <td width=\"130px\" style=\"text-align:left;border:0px\"><span id=\"pm_overallJobNamebdac3f2b\"></span>:</td>\n",
       "            <td width=\"calc(100% - 150px)\" style=\"border:0px\"><progress id=\"pm_overallProgressbdac3f2b\" max=\"100\" value=\"0\" style=\"width:100%\"></progress></td>\n",
       "        </tr>\n",
       "    </table>\n",
       "</div>\n",
       "<div id=\"pm_containerbdac3f2b\" style=\"display:none\">\n",
       "    <ul class=\"nav nav-tabs\" id=\"progressMonitorsbdac3f2b\">\n",
       "    </ul>\n",
       "    <div class=\"tab-content\" id=\"tabContentbdac3f2b\">\n",
       "    </div>\n",
       "</div>\n",
       "\n",
       "<script>\n",
       "$(\"#twistiebdac3f2b\").click(function(){\n",
       "    visible = $(\"#pm_containerbdac3f2b\").is(':visible');\n",
       "    $(\"#pm_containerbdac3f2b\").slideToggle(\"slow\");\n",
       "    $(this).html(visible?\"&#9656;\":\"&#9662;\")\n",
       "});\n",
       "</script>"
      ],
      "text/plain": [
       "<IPython.core.display.HTML object>"
      ]
     },
     "metadata": {},
     "output_type": "display_data"
    },
    {
     "data": {
      "application/javascript": [
       "\n",
       "\n",
       "$(\"#pm_containerbdac3f2b\").css(\"border\",\"1px solid #dddddd\").css(\"padding\",\"10px\")\n",
       "var jobName = 'Job 74 (2 '+\n",
       "             'Stages'+  ')'\n",
       "$(\"#pm_overallContainerbdac3f2b\").show();\n",
       "$(\"#pm_overallJobNamebdac3f2b\").text(jobName);\n",
       "$(\"#pm_overallProgressbdac3f2b\").attr(\"max\", 212).attr(\"value\",0);\n",
       "$(\"#progressMonitorsbdac3f2b\").append(\n",
       "    '<li>'+\n",
       "        '<a style=\"padding: 5px 5px;font-size: 12px;\" data-toggle=\"tab\" href=\"#menubdac3f2b74\">'+\n",
       "            jobName +\n",
       "        '</a>'+\n",
       "    '</li>'\n",
       ");\n",
       "\n",
       "$(\"#tabContentbdac3f2b\").append(\n",
       "'<div id=\"menubdac3f2b74\" class=\"tab-pane fade in active\">'+\n",
       "    '<table>' + \n",
       "        '<thead>' +\n",
       "            '<tr>' +\n",
       "                '<th style=\"text-align:center\">Stage</th>' +\n",
       "                '<th style=\"text-align:center\">Progress</th>' +\n",
       "                '<th style=\"text-align:center\">Executor</th>' +\n",
       "                '<th style=\"text-align:center\">Details</th>' +\n",
       "            '</tr>' +\n",
       "        '</thead>' +\n",
       "        '<tbody>' + \n",
       "        \n",
       "            '<tr>        <td style=\"max-width:200px\">            Stage 111 <span id=\"progressNumTaskbdac3f2b111\">0</span>/12:        </td>        <td style=\"max-width: 300px\">            <progress id=\"progressbdac3f2b111\" max=\"12\" value=\"0\" style=\"width:200px\"></progress>        </td>        <td>            <span id=\"hostbdac3f2b111\"></span>        </td>        <td>            <i title=\"org.apache.spark.sql.Dataset.showString(Dataset.scala:291)\\nsun.reflect.NativeMethodAccessorImpl.invoke0(Native Method)\\nsun.reflect.NativeMethodAccessorImpl.invoke(NativeMethodAccessorImpl.java:62)\\nsun.reflect.DelegatingMethodAccessorImpl.invoke(DelegatingMethodAccessorImpl.java:43)\\njava.lang.reflect.Method.invoke(Method.java:498)\\npy4j.reflection.MethodInvoker.invoke(MethodInvoker.java:244)\\npy4j.reflection.ReflectionEngine.invoke(ReflectionEngine.java:357)\\npy4j.Gateway.invoke(Gateway.java:282)\\npy4j.commands.AbstractCommand.invokeMethod(AbstractCommand.java:132)\\npy4j.commands.CallCommand.execute(CallCommand.java:79)\\npy4j.GatewayConnection.run(GatewayConnection.java:238)\\njava.lang.Thread.run(Thread.java:748)\" class=\"fa fa-info-circle\"></i>            <span id=\"statusbdac3f2b111\">Not Started</span>        </td>    </tr>'+\n",
       "        \n",
       "            '<tr>        <td style=\"max-width:200px\">            Stage 112 <span id=\"progressNumTaskbdac3f2b112\">0</span>/200:        </td>        <td style=\"max-width: 300px\">            <progress id=\"progressbdac3f2b112\" max=\"200\" value=\"0\" style=\"width:200px\"></progress>        </td>        <td>            <span id=\"hostbdac3f2b112\"></span>        </td>        <td>            <i title=\"org.apache.spark.sql.Dataset.showString(Dataset.scala:291)\\nsun.reflect.NativeMethodAccessorImpl.invoke0(Native Method)\\nsun.reflect.NativeMethodAccessorImpl.invoke(NativeMethodAccessorImpl.java:62)\\nsun.reflect.DelegatingMethodAccessorImpl.invoke(DelegatingMethodAccessorImpl.java:43)\\njava.lang.reflect.Method.invoke(Method.java:498)\\npy4j.reflection.MethodInvoker.invoke(MethodInvoker.java:244)\\npy4j.reflection.ReflectionEngine.invoke(ReflectionEngine.java:357)\\npy4j.Gateway.invoke(Gateway.java:282)\\npy4j.commands.AbstractCommand.invokeMethod(AbstractCommand.java:132)\\npy4j.commands.CallCommand.execute(CallCommand.java:79)\\npy4j.GatewayConnection.run(GatewayConnection.java:238)\\njava.lang.Thread.run(Thread.java:748)\" class=\"fa fa-info-circle\"></i>            <span id=\"statusbdac3f2b112\">Not Started</span>        </td>    </tr>'+\n",
       "        \n",
       "        '</tbody>' +\n",
       "    '</table>' +\n",
       "'</div>'\n",
       ")\n",
       "\n",
       "$('.nav-tabs a[href=\"#menubdac3f2b74\"]').tab('show');\n"
      ],
      "text/plain": [
       "<IPython.core.display.Javascript object>"
      ]
     },
     "metadata": {},
     "output_type": "display_data"
    },
    {
     "data": {
      "application/javascript": [
       "$(\"#statusbdac3f2b111\").text(\"Submitted\")\n",
       "\n",
       "\n",
       "function incProgress(id){\n",
       "    var n = $(id);\n",
       "    n.attr(\"value\", parseInt( n.attr(\"value\")) + 12);\n",
       "}\n",
       "incProgress(\"#progressbdac3f2b111\");\n",
       "incProgress(\"#pm_overallProgressbdac3f2b\");\n",
       "$(\"#progressNumTaskbdac3f2b111\").text(\"12\");\n",
       "$(\"#statusbdac3f2b111\").text(\"Running\")\n",
       "\n",
       "\n",
       "$(\"#hostbdac3f2b111\").text(\"623460586(17.58.161.211)\")\n",
       "\n",
       "$(\"#statusbdac3f2b111\").text(\"Completed\")\n",
       "\n",
       "\n",
       "$(\"#statusbdac3f2b112\").text(\"Submitted\")\n",
       "\n",
       "\n",
       "function incProgress(id){\n",
       "    var n = $(id);\n",
       "    n.attr(\"value\", parseInt( n.attr(\"value\")) + 69);\n",
       "}\n",
       "incProgress(\"#progressbdac3f2b112\");\n",
       "incProgress(\"#pm_overallProgressbdac3f2b\");\n",
       "$(\"#progressNumTaskbdac3f2b112\").text(\"68\");\n",
       "$(\"#statusbdac3f2b112\").text(\"Running\")\n",
       "\n",
       "\n",
       "$(\"#hostbdac3f2b112\").text(\"827606604(17.58.166.145)\")\n",
       "\n"
      ],
      "text/plain": [
       "<IPython.core.display.Javascript object>"
      ]
     },
     "metadata": {},
     "output_type": "display_data"
    },
    {
     "name": "stdout",
     "output_type": "stream",
     "text": [
      "+-------+-----+\n",
      "|company|count|\n",
      "+-------+-----+\n",
      "|   AAPL|    2|\n",
      "|   GOOG|    2|\n",
      "+-------+-----+\n",
      "\n"
     ]
    },
    {
     "data": {
      "application/javascript": [
       "function incProgress(id){\n",
       "    var n = $(id);\n",
       "    n.attr(\"value\", parseInt( n.attr(\"value\")) + 131);\n",
       "}\n",
       "incProgress(\"#progressbdac3f2b112\");\n",
       "incProgress(\"#pm_overallProgressbdac3f2b\");\n",
       "$(\"#progressNumTaskbdac3f2b112\").text(\"200\");\n",
       "$(\"#statusbdac3f2b112\").text(\"Running\")\n",
       "\n",
       "\n",
       "$(\"#hostbdac3f2b112\").text(\"618747455(17.58.160.162)\")\n",
       "\n",
       "$(\"#statusbdac3f2b112\").text(\"Completed\")\n",
       "\n",
       "\n",
       "$(\"#menubdac3f2b74 [id^=statusbdac3f2b]\").each(function(){\n",
       "    if ($(this).text() == \"Not Started\"){\n",
       "        $(this).text(\"Skipped\");\n",
       "    }\n",
       "})\n",
       "\n",
       "var n = $(\"#pm_overallProgressbdac3f2b\");\n",
       "n.attr(\"value\", parseInt(n.attr(\"max\")))\n"
      ],
      "text/plain": [
       "<IPython.core.display.Javascript object>"
      ]
     },
     "metadata": {},
     "output_type": "display_data"
    }
   ],
   "source": [
    "rdd.groupBy(\"company\") \\\n",
    ".count() \\\n",
    ".orderBy(\"count\", ascending=False) \\\n",
    ".show(5)"
   ]
  },
  {
   "cell_type": "markdown",
   "metadata": {},
   "source": [
    "## Order by"
   ]
  },
  {
   "cell_type": "code",
   "execution_count": 39,
   "metadata": {
    "ExecuteTime": {
     "end_time": "2020-04-03T05:06:34.702805Z",
     "start_time": "2020-04-03T05:06:34.157571Z"
    }
   },
   "outputs": [
    {
     "data": {
      "text/html": [
       "<div id=\"pm_overallContainerc7256e02\" style=\"display:none\">\n",
       "    <table width=\"100%\" style=\"border:0px\">\n",
       "        <tr style=\"border:0px\">\n",
       "            <td width=\"20px\" style=\"border:0px\"><span id=\"twistiec7256e02\" style=\"color:blue;font-size:x-large;cursor:pointer\">&#9656;</span></td>\n",
       "            <td width=\"130px\" style=\"text-align:left;border:0px\"><span id=\"pm_overallJobNamec7256e02\"></span>:</td>\n",
       "            <td width=\"calc(100% - 150px)\" style=\"border:0px\"><progress id=\"pm_overallProgressc7256e02\" max=\"100\" value=\"0\" style=\"width:100%\"></progress></td>\n",
       "        </tr>\n",
       "    </table>\n",
       "</div>\n",
       "<div id=\"pm_containerc7256e02\" style=\"display:none\">\n",
       "    <ul class=\"nav nav-tabs\" id=\"progressMonitorsc7256e02\">\n",
       "    </ul>\n",
       "    <div class=\"tab-content\" id=\"tabContentc7256e02\">\n",
       "    </div>\n",
       "</div>\n",
       "\n",
       "<script>\n",
       "$(\"#twistiec7256e02\").click(function(){\n",
       "    visible = $(\"#pm_containerc7256e02\").is(':visible');\n",
       "    $(\"#pm_containerc7256e02\").slideToggle(\"slow\");\n",
       "    $(this).html(visible?\"&#9656;\":\"&#9662;\")\n",
       "});\n",
       "</script>"
      ],
      "text/plain": [
       "<IPython.core.display.HTML object>"
      ]
     },
     "metadata": {},
     "output_type": "display_data"
    },
    {
     "data": {
      "application/javascript": [
       "\n",
       "\n",
       "$(\"#pm_containerc7256e02\").css(\"border\",\"1px solid #dddddd\").css(\"padding\",\"10px\")\n",
       "var jobName = 'Job 37 (1 '+\n",
       "             'Stage'+  ')'\n",
       "$(\"#pm_overallContainerc7256e02\").show();\n",
       "$(\"#pm_overallJobNamec7256e02\").text(jobName);\n",
       "$(\"#pm_overallProgressc7256e02\").attr(\"max\", 12).attr(\"value\",0);\n",
       "$(\"#progressMonitorsc7256e02\").append(\n",
       "    '<li>'+\n",
       "        '<a style=\"padding: 5px 5px;font-size: 12px;\" data-toggle=\"tab\" href=\"#menuc7256e0237\">'+\n",
       "            jobName +\n",
       "        '</a>'+\n",
       "    '</li>'\n",
       ");\n",
       "\n",
       "$(\"#tabContentc7256e02\").append(\n",
       "'<div id=\"menuc7256e0237\" class=\"tab-pane fade in active\">'+\n",
       "    '<table>' + \n",
       "        '<thead>' +\n",
       "            '<tr>' +\n",
       "                '<th style=\"text-align:center\">Stage</th>' +\n",
       "                '<th style=\"text-align:center\">Progress</th>' +\n",
       "                '<th style=\"text-align:center\">Executor</th>' +\n",
       "                '<th style=\"text-align:center\">Details</th>' +\n",
       "            '</tr>' +\n",
       "        '</thead>' +\n",
       "        '<tbody>' + \n",
       "        \n",
       "            '<tr>        <td style=\"max-width:200px\">            Stage 39 <span id=\"progressNumTaskc7256e0239\">0</span>/12:        </td>        <td style=\"max-width: 300px\">            <progress id=\"progressc7256e0239\" max=\"12\" value=\"0\" style=\"width:200px\"></progress>        </td>        <td>            <span id=\"hostc7256e0239\"></span>        </td>        <td>            <i title=\"org.apache.spark.sql.Dataset.showString(Dataset.scala:291)\\nsun.reflect.NativeMethodAccessorImpl.invoke0(Native Method)\\nsun.reflect.NativeMethodAccessorImpl.invoke(NativeMethodAccessorImpl.java:62)\\nsun.reflect.DelegatingMethodAccessorImpl.invoke(DelegatingMethodAccessorImpl.java:43)\\njava.lang.reflect.Method.invoke(Method.java:498)\\npy4j.reflection.MethodInvoker.invoke(MethodInvoker.java:244)\\npy4j.reflection.ReflectionEngine.invoke(ReflectionEngine.java:357)\\npy4j.Gateway.invoke(Gateway.java:282)\\npy4j.commands.AbstractCommand.invokeMethod(AbstractCommand.java:132)\\npy4j.commands.CallCommand.execute(CallCommand.java:79)\\npy4j.GatewayConnection.run(GatewayConnection.java:238)\\njava.lang.Thread.run(Thread.java:748)\" class=\"fa fa-info-circle\"></i>            <span id=\"statusc7256e0239\">Not Started</span>        </td>    </tr>'+\n",
       "        \n",
       "        '</tbody>' +\n",
       "    '</table>' +\n",
       "'</div>'\n",
       ")\n",
       "\n",
       "$('.nav-tabs a[href=\"#menuc7256e0237\"]').tab('show');\n"
      ],
      "text/plain": [
       "<IPython.core.display.Javascript object>"
      ]
     },
     "metadata": {},
     "output_type": "display_data"
    },
    {
     "name": "stdout",
     "output_type": "stream",
     "text": [
      "+-------+------+------+\n",
      "|company|emp_id|salary|\n",
      "+-------+------+------+\n",
      "|   GOOG|     2|150000|\n",
      "|   AAPL|     3|175000|\n",
      "|   AAPL|     4|180000|\n",
      "|   GOOG|     1|200000|\n",
      "+-------+------+------+\n",
      "\n"
     ]
    },
    {
     "data": {
      "application/javascript": [
       "$(\"#statusc7256e0239\").text(\"Submitted\")\n",
       "\n",
       "\n",
       "function incProgress(id){\n",
       "    var n = $(id);\n",
       "    n.attr(\"value\", parseInt( n.attr(\"value\")) + 12);\n",
       "}\n",
       "incProgress(\"#progressc7256e0239\");\n",
       "incProgress(\"#pm_overallProgressc7256e02\");\n",
       "$(\"#progressNumTaskc7256e0239\").text(\"12\");\n",
       "$(\"#statusc7256e0239\").text(\"Running\")\n",
       "\n",
       "\n",
       "$(\"#hostc7256e0239\").text(\"618747455(17.58.160.162)\")\n",
       "\n",
       "$(\"#statusc7256e0239\").text(\"Completed\")\n",
       "\n",
       "\n",
       "$(\"#menuc7256e0237 [id^=statusc7256e02]\").each(function(){\n",
       "    if ($(this).text() == \"Not Started\"){\n",
       "        $(this).text(\"Skipped\");\n",
       "    }\n",
       "})\n",
       "\n",
       "var n = $(\"#pm_overallProgressc7256e02\");\n",
       "n.attr(\"value\", parseInt(n.attr(\"max\")))\n"
      ],
      "text/plain": [
       "<IPython.core.display.Javascript object>"
      ]
     },
     "metadata": {},
     "output_type": "display_data"
    }
   ],
   "source": [
    "rdd.orderBy('salary').show()"
   ]
  },
  {
   "cell_type": "code",
   "execution_count": 41,
   "metadata": {
    "ExecuteTime": {
     "end_time": "2020-04-03T05:07:29.911174Z",
     "start_time": "2020-04-03T05:07:29.427323Z"
    }
   },
   "outputs": [
    {
     "data": {
      "text/html": [
       "<div id=\"pm_overallContainer46a89021\" style=\"display:none\">\n",
       "    <table width=\"100%\" style=\"border:0px\">\n",
       "        <tr style=\"border:0px\">\n",
       "            <td width=\"20px\" style=\"border:0px\"><span id=\"twistie46a89021\" style=\"color:blue;font-size:x-large;cursor:pointer\">&#9656;</span></td>\n",
       "            <td width=\"130px\" style=\"text-align:left;border:0px\"><span id=\"pm_overallJobName46a89021\"></span>:</td>\n",
       "            <td width=\"calc(100% - 150px)\" style=\"border:0px\"><progress id=\"pm_overallProgress46a89021\" max=\"100\" value=\"0\" style=\"width:100%\"></progress></td>\n",
       "        </tr>\n",
       "    </table>\n",
       "</div>\n",
       "<div id=\"pm_container46a89021\" style=\"display:none\">\n",
       "    <ul class=\"nav nav-tabs\" id=\"progressMonitors46a89021\">\n",
       "    </ul>\n",
       "    <div class=\"tab-content\" id=\"tabContent46a89021\">\n",
       "    </div>\n",
       "</div>\n",
       "\n",
       "<script>\n",
       "$(\"#twistie46a89021\").click(function(){\n",
       "    visible = $(\"#pm_container46a89021\").is(':visible');\n",
       "    $(\"#pm_container46a89021\").slideToggle(\"slow\");\n",
       "    $(this).html(visible?\"&#9656;\":\"&#9662;\")\n",
       "});\n",
       "</script>"
      ],
      "text/plain": [
       "<IPython.core.display.HTML object>"
      ]
     },
     "metadata": {},
     "output_type": "display_data"
    },
    {
     "data": {
      "application/javascript": [
       "\n",
       "\n",
       "$(\"#pm_container46a89021\").css(\"border\",\"1px solid #dddddd\").css(\"padding\",\"10px\")\n",
       "var jobName = 'Job 38 (1 '+\n",
       "             'Stage'+  ')'\n",
       "$(\"#pm_overallContainer46a89021\").show();\n",
       "$(\"#pm_overallJobName46a89021\").text(jobName);\n",
       "$(\"#pm_overallProgress46a89021\").attr(\"max\", 12).attr(\"value\",0);\n",
       "$(\"#progressMonitors46a89021\").append(\n",
       "    '<li>'+\n",
       "        '<a style=\"padding: 5px 5px;font-size: 12px;\" data-toggle=\"tab\" href=\"#menu46a8902138\">'+\n",
       "            jobName +\n",
       "        '</a>'+\n",
       "    '</li>'\n",
       ");\n",
       "\n",
       "$(\"#tabContent46a89021\").append(\n",
       "'<div id=\"menu46a8902138\" class=\"tab-pane fade in active\">'+\n",
       "    '<table>' + \n",
       "        '<thead>' +\n",
       "            '<tr>' +\n",
       "                '<th style=\"text-align:center\">Stage</th>' +\n",
       "                '<th style=\"text-align:center\">Progress</th>' +\n",
       "                '<th style=\"text-align:center\">Executor</th>' +\n",
       "                '<th style=\"text-align:center\">Details</th>' +\n",
       "            '</tr>' +\n",
       "        '</thead>' +\n",
       "        '<tbody>' + \n",
       "        \n",
       "            '<tr>        <td style=\"max-width:200px\">            Stage 40 <span id=\"progressNumTask46a8902140\">0</span>/12:        </td>        <td style=\"max-width: 300px\">            <progress id=\"progress46a8902140\" max=\"12\" value=\"0\" style=\"width:200px\"></progress>        </td>        <td>            <span id=\"host46a8902140\"></span>        </td>        <td>            <i title=\"org.apache.spark.sql.Dataset.showString(Dataset.scala:291)\\nsun.reflect.NativeMethodAccessorImpl.invoke0(Native Method)\\nsun.reflect.NativeMethodAccessorImpl.invoke(NativeMethodAccessorImpl.java:62)\\nsun.reflect.DelegatingMethodAccessorImpl.invoke(DelegatingMethodAccessorImpl.java:43)\\njava.lang.reflect.Method.invoke(Method.java:498)\\npy4j.reflection.MethodInvoker.invoke(MethodInvoker.java:244)\\npy4j.reflection.ReflectionEngine.invoke(ReflectionEngine.java:357)\\npy4j.Gateway.invoke(Gateway.java:282)\\npy4j.commands.AbstractCommand.invokeMethod(AbstractCommand.java:132)\\npy4j.commands.CallCommand.execute(CallCommand.java:79)\\npy4j.GatewayConnection.run(GatewayConnection.java:238)\\njava.lang.Thread.run(Thread.java:748)\" class=\"fa fa-info-circle\"></i>            <span id=\"status46a8902140\">Not Started</span>        </td>    </tr>'+\n",
       "        \n",
       "        '</tbody>' +\n",
       "    '</table>' +\n",
       "'</div>'\n",
       ")\n",
       "\n",
       "$('.nav-tabs a[href=\"#menu46a8902138\"]').tab('show');\n"
      ],
      "text/plain": [
       "<IPython.core.display.Javascript object>"
      ]
     },
     "metadata": {},
     "output_type": "display_data"
    },
    {
     "name": "stdout",
     "output_type": "stream",
     "text": [
      "+-------+------+------+\n",
      "|company|emp_id|salary|\n",
      "+-------+------+------+\n",
      "|   GOOG|     1|200000|\n",
      "|   AAPL|     4|180000|\n",
      "|   AAPL|     3|175000|\n",
      "|   GOOG|     2|150000|\n",
      "+-------+------+------+\n",
      "\n"
     ]
    },
    {
     "data": {
      "application/javascript": [
       "$(\"#status46a8902140\").text(\"Submitted\")\n",
       "\n",
       "\n",
       "function incProgress(id){\n",
       "    var n = $(id);\n",
       "    n.attr(\"value\", parseInt( n.attr(\"value\")) + 12);\n",
       "}\n",
       "incProgress(\"#progress46a8902140\");\n",
       "incProgress(\"#pm_overallProgress46a89021\");\n",
       "$(\"#progressNumTask46a8902140\").text(\"12\");\n",
       "$(\"#status46a8902140\").text(\"Running\")\n",
       "\n",
       "\n",
       "$(\"#host46a8902140\").text(\"618747455(17.58.160.162)\")\n",
       "\n",
       "$(\"#status46a8902140\").text(\"Completed\")\n",
       "\n",
       "\n",
       "$(\"#menu46a8902138 [id^=status46a89021]\").each(function(){\n",
       "    if ($(this).text() == \"Not Started\"){\n",
       "        $(this).text(\"Skipped\");\n",
       "    }\n",
       "})\n",
       "\n",
       "var n = $(\"#pm_overallProgress46a89021\");\n",
       "n.attr(\"value\", parseInt(n.attr(\"max\")))\n"
      ],
      "text/plain": [
       "<IPython.core.display.Javascript object>"
      ]
     },
     "metadata": {},
     "output_type": "display_data"
    }
   ],
   "source": [
    "rdd.orderBy(rdd[\"salary\"].desc()).show()"
   ]
  },
  {
   "cell_type": "markdown",
   "metadata": {},
   "source": [
    "## Adding & Dropping Columns"
   ]
  },
  {
   "cell_type": "code",
   "execution_count": 60,
   "metadata": {
    "ExecuteTime": {
     "end_time": "2020-04-03T06:32:37.149355Z",
     "start_time": "2020-04-03T06:32:37.030478Z"
    }
   },
   "outputs": [
    {
     "data": {
      "text/html": [
       "<div id=\"pm_overallContainer81b3b75f\" style=\"display:none\">\n",
       "    <table width=\"100%\" style=\"border:0px\">\n",
       "        <tr style=\"border:0px\">\n",
       "            <td width=\"20px\" style=\"border:0px\"><span id=\"twistie81b3b75f\" style=\"color:blue;font-size:x-large;cursor:pointer\">&#9656;</span></td>\n",
       "            <td width=\"130px\" style=\"text-align:left;border:0px\"><span id=\"pm_overallJobName81b3b75f\"></span>:</td>\n",
       "            <td width=\"calc(100% - 150px)\" style=\"border:0px\"><progress id=\"pm_overallProgress81b3b75f\" max=\"100\" value=\"0\" style=\"width:100%\"></progress></td>\n",
       "        </tr>\n",
       "    </table>\n",
       "</div>\n",
       "<div id=\"pm_container81b3b75f\" style=\"display:none\">\n",
       "    <ul class=\"nav nav-tabs\" id=\"progressMonitors81b3b75f\">\n",
       "    </ul>\n",
       "    <div class=\"tab-content\" id=\"tabContent81b3b75f\">\n",
       "    </div>\n",
       "</div>\n",
       "\n",
       "<script>\n",
       "$(\"#twistie81b3b75f\").click(function(){\n",
       "    visible = $(\"#pm_container81b3b75f\").is(':visible');\n",
       "    $(\"#pm_container81b3b75f\").slideToggle(\"slow\");\n",
       "    $(this).html(visible?\"&#9656;\":\"&#9662;\")\n",
       "});\n",
       "</script>"
      ],
      "text/plain": [
       "<IPython.core.display.HTML object>"
      ]
     },
     "metadata": {},
     "output_type": "display_data"
    },
    {
     "name": "stdout",
     "output_type": "stream",
     "text": [
      "root\n",
      " |-- company: string (nullable = true)\n",
      " |-- emp_id: long (nullable = true)\n",
      " |-- salary: long (nullable = true)\n",
      " |-- doubleSalary: double (nullable = true)\n",
      "\n"
     ]
    }
   ],
   "source": [
    "from pyspark.sql.types import DoubleType\n",
    "\n",
    "addCol = rdd.withColumn(\"doubleSalary\", rdd['salary'].cast(DoubleType()))\n",
    "\n",
    "addCol.printSchema()"
   ]
  },
  {
   "cell_type": "code",
   "execution_count": 61,
   "metadata": {
    "ExecuteTime": {
     "end_time": "2020-04-03T06:32:53.336299Z",
     "start_time": "2020-04-03T06:32:53.322359Z"
    }
   },
   "outputs": [
    {
     "data": {
      "text/html": [
       "<div id=\"pm_overallContainer6a6d04eb\" style=\"display:none\">\n",
       "    <table width=\"100%\" style=\"border:0px\">\n",
       "        <tr style=\"border:0px\">\n",
       "            <td width=\"20px\" style=\"border:0px\"><span id=\"twistie6a6d04eb\" style=\"color:blue;font-size:x-large;cursor:pointer\">&#9656;</span></td>\n",
       "            <td width=\"130px\" style=\"text-align:left;border:0px\"><span id=\"pm_overallJobName6a6d04eb\"></span>:</td>\n",
       "            <td width=\"calc(100% - 150px)\" style=\"border:0px\"><progress id=\"pm_overallProgress6a6d04eb\" max=\"100\" value=\"0\" style=\"width:100%\"></progress></td>\n",
       "        </tr>\n",
       "    </table>\n",
       "</div>\n",
       "<div id=\"pm_container6a6d04eb\" style=\"display:none\">\n",
       "    <ul class=\"nav nav-tabs\" id=\"progressMonitors6a6d04eb\">\n",
       "    </ul>\n",
       "    <div class=\"tab-content\" id=\"tabContent6a6d04eb\">\n",
       "    </div>\n",
       "</div>\n",
       "\n",
       "<script>\n",
       "$(\"#twistie6a6d04eb\").click(function(){\n",
       "    visible = $(\"#pm_container6a6d04eb\").is(':visible');\n",
       "    $(\"#pm_container6a6d04eb\").slideToggle(\"slow\");\n",
       "    $(this).html(visible?\"&#9656;\":\"&#9662;\")\n",
       "});\n",
       "</script>"
      ],
      "text/plain": [
       "<IPython.core.display.HTML object>"
      ]
     },
     "metadata": {},
     "output_type": "display_data"
    },
    {
     "name": "stdout",
     "output_type": "stream",
     "text": [
      "root\n",
      " |-- company: string (nullable = true)\n",
      " |-- emp_id: long (nullable = true)\n",
      " |-- salary: long (nullable = true)\n",
      "\n"
     ]
    }
   ],
   "source": [
    "addCol.drop(\"doubleSalary\").printSchema()"
   ]
  },
  {
   "cell_type": "markdown",
   "metadata": {},
   "source": [
    "## Joins"
   ]
  }
 ],
 "metadata": {
  "datastudio": {
   "id": "2awbzw8zgp2u",
   "kernel": "ymnk2nlyqztk"
  },
  "kernelspec": {
   "display_name": "Python 3",
   "language": "python",
   "name": "python3"
  },
  "language_info": {
   "codemirror_mode": {
    "name": "ipython",
    "version": 3
   },
   "file_extension": ".py",
   "mimetype": "text/x-python",
   "name": "python",
   "nbconvert_exporter": "python",
   "pygments_lexer": "ipython3",
   "version": "3.7.3"
  }
 },
 "nbformat": 4,
 "nbformat_minor": 4
}
