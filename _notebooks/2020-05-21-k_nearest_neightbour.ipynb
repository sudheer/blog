{
  "nbformat": 4,
  "nbformat_minor": 0,
  "metadata": {
    "colab": {
      "name": "2020-05-21-k-nearest-neightbour.ipynb",
      "provenance": [],
      "collapsed_sections": [],
      "authorship_tag": "ABX9TyNT3Y0iEw8YwqSx8CkE+0IS"
    },
    "kernelspec": {
      "name": "python3",
      "display_name": "Python 3"
    }
  },
  "cells": [
    {
      "cell_type": "markdown",
      "metadata": {
        "id": "Ak5g3LqkzeJJ",
        "colab_type": "text"
      },
      "source": [
        "# \"K Nearest Neighbour from scratch in python\"\n",
        "> \"KNN\"\n",
        "\n",
        "- toc: true\n",
        "- branch: master\n",
        "- badges: true\n",
        "- comments: true\n",
        "- categories: [machine learning, supervised]\n",
        "- search_exclude: true"
      ]
    },
    {
      "cell_type": "markdown",
      "metadata": {
        "id": "L5TOlKkjMvjA",
        "colab_type": "text"
      },
      "source": [
        "\n",
        "Works by looking to the closest data points and predicts based on their output labels. Works both for regression and classification. \n",
        "\n",
        "It is lazy learning algorithm as it doesn't learn the function from training data, instead memorizes the training dataset.\n",
        "\n",
        "The right value is k is important to balance between **over fitting** and **under fitting**\n",
        "\n",
        "Training examples: $\\{x_i, y_i\\}$\n",
        "\n",
        "$x_i$ : features\n",
        "\n",
        "$y_i$ : class labels\n",
        "\n",
        "# How KNN works \n",
        "\n",
        "[![](https://mermaid.ink/img/eyJjb2RlIjoiZ3JhcGggVERcbiAgICBTcGxpdChTcGxpdCB0cmFpbiB0ZXN0IGRhdGEpIC0tPiBTdG9yZShTdG9yZSB0cmFpbiBkYXRhKVxuXHRTdG9yZSAtLT4gQVtDaG9vc2Ugbm8gb2Yga10gXG5cdHRlc3RfaW5wdXQgLS0-IHxmb3IgZWFjaCBzYW1wbGV8IEJcblx0QS0tPiBCKEZpbmQgbmVhcmVzdCBLIHNhbXBsZXMpXG5cdEIgLS0-IEMoRmluZCBkaXN0YW5jZSBvZiBrIG5laWdoYm91cnMpXG4gICAgQyAtLT4gRChBc3NpZ24gY2xhc3MgbGFiZWwgYnkgbWFqb3JpdHkgdm90ZSlcblxuIiwibWVybWFpZCI6eyJ0aGVtZSI6ImRlZmF1bHQifSwidXBkYXRlRWRpdG9yIjpmYWxzZX0)](https://mermaid-js.github.io/mermaid-live-editor/#/edit/eyJjb2RlIjoiZ3JhcGggVERcbiAgICBTcGxpdChTcGxpdCB0cmFpbiB0ZXN0IGRhdGEpIC0tPiBTdG9yZShTdG9yZSB0cmFpbiBkYXRhKVxuXHRTdG9yZSAtLT4gQVtDaG9vc2Ugbm8gb2Yga10gXG5cdHRlc3RfaW5wdXQgLS0-IHxmb3IgZWFjaCBzYW1wbGV8IEJcblx0QS0tPiBCKEZpbmQgbmVhcmVzdCBLIHNhbXBsZXMpXG5cdEIgLS0-IEMoRmluZCBkaXN0YW5jZSBvZiBrIG5laWdoYm91cnMpXG4gICAgQyAtLT4gRChBc3NpZ24gY2xhc3MgbGFiZWwgYnkgbWFqb3JpdHkgdm90ZSlcblxuIiwibWVybWFpZCI6eyJ0aGVtZSI6ImRlZmF1bHQifSwidXBkYXRlRWRpdG9yIjpmYWxzZX0)\n",
        "\n",
        "# Distance \n",
        "\n",
        "## Euclidean distance\n",
        "\n",
        "$D\\left(x, x^{\\prime}\\right)=\\sqrt{\\sum\\left|x_{d}-x_{d}^{\\prime}\\right|^{2}}$\n",
        "\n",
        "## Hamming Distance\n",
        "\n",
        "$D\\left(x, x^{\\prime}\\right)=\\sum_{d} 1_{x_{d} \\neq x_{d}^{\\prime}}$\n",
        "\n",
        "## Minkowski distance\n",
        "\n",
        "$D\\left(x, x^{\\prime}\\right)=\\sqrt[p]{\\sum\\left|x_{d}-x_{d}^{\\prime}\\right|^{p}}$\n",
        "\n",
        "\n",
        "\n",
        "Training Phase: Save the examples\n",
        "\n",
        "Prediction time: \n",
        "\n"
      ]
    },
    {
      "cell_type": "code",
      "metadata": {
        "id": "rteQ8qQ1cYXb",
        "colab_type": "code",
        "outputId": "8fa86d0f-6269-4b55-cbff-b1b8f4fe04e6",
        "colab": {
          "base_uri": "https://localhost:8080/",
          "height": 204
        }
      },
      "source": [
        "# load data\n",
        "from matplotlib import pyplot as plt\n",
        "from sklearn import datasets\n",
        "from sklearn.model_selection import train_test_split\n",
        "import pandas as pd\n",
        "import seaborn as sns\n",
        "\n",
        "iris = datasets.load_iris()\n",
        "\n",
        "iris_df = pd.DataFrame(iris.data, columns=iris.feature_names)\n",
        "iris_df['target'] = iris.target\n",
        "iris_df.head()"
      ],
      "execution_count": 75,
      "outputs": [
        {
          "output_type": "execute_result",
          "data": {
            "text/html": [
              "<div>\n",
              "<style scoped>\n",
              "    .dataframe tbody tr th:only-of-type {\n",
              "        vertical-align: middle;\n",
              "    }\n",
              "\n",
              "    .dataframe tbody tr th {\n",
              "        vertical-align: top;\n",
              "    }\n",
              "\n",
              "    .dataframe thead th {\n",
              "        text-align: right;\n",
              "    }\n",
              "</style>\n",
              "<table border=\"1\" class=\"dataframe\">\n",
              "  <thead>\n",
              "    <tr style=\"text-align: right;\">\n",
              "      <th></th>\n",
              "      <th>sepal length (cm)</th>\n",
              "      <th>sepal width (cm)</th>\n",
              "      <th>petal length (cm)</th>\n",
              "      <th>petal width (cm)</th>\n",
              "      <th>target</th>\n",
              "    </tr>\n",
              "  </thead>\n",
              "  <tbody>\n",
              "    <tr>\n",
              "      <th>0</th>\n",
              "      <td>5.1</td>\n",
              "      <td>3.5</td>\n",
              "      <td>1.4</td>\n",
              "      <td>0.2</td>\n",
              "      <td>0</td>\n",
              "    </tr>\n",
              "    <tr>\n",
              "      <th>1</th>\n",
              "      <td>4.9</td>\n",
              "      <td>3.0</td>\n",
              "      <td>1.4</td>\n",
              "      <td>0.2</td>\n",
              "      <td>0</td>\n",
              "    </tr>\n",
              "    <tr>\n",
              "      <th>2</th>\n",
              "      <td>4.7</td>\n",
              "      <td>3.2</td>\n",
              "      <td>1.3</td>\n",
              "      <td>0.2</td>\n",
              "      <td>0</td>\n",
              "    </tr>\n",
              "    <tr>\n",
              "      <th>3</th>\n",
              "      <td>4.6</td>\n",
              "      <td>3.1</td>\n",
              "      <td>1.5</td>\n",
              "      <td>0.2</td>\n",
              "      <td>0</td>\n",
              "    </tr>\n",
              "    <tr>\n",
              "      <th>4</th>\n",
              "      <td>5.0</td>\n",
              "      <td>3.6</td>\n",
              "      <td>1.4</td>\n",
              "      <td>0.2</td>\n",
              "      <td>0</td>\n",
              "    </tr>\n",
              "  </tbody>\n",
              "</table>\n",
              "</div>"
            ],
            "text/plain": [
              "   sepal length (cm)  sepal width (cm)  ...  petal width (cm)  target\n",
              "0                5.1               3.5  ...               0.2       0\n",
              "1                4.9               3.0  ...               0.2       0\n",
              "2                4.7               3.2  ...               0.2       0\n",
              "3                4.6               3.1  ...               0.2       0\n",
              "4                5.0               3.6  ...               0.2       0\n",
              "\n",
              "[5 rows x 5 columns]"
            ]
          },
          "metadata": {
            "tags": []
          },
          "execution_count": 75
        }
      ]
    },
    {
      "cell_type": "code",
      "metadata": {
        "id": "fHXWzAIaaRdf",
        "colab_type": "code",
        "outputId": "151da2f2-903e-41b5-ff3a-06e0e8925073",
        "colab": {
          "base_uri": "https://localhost:8080/",
          "height": 377
        }
      },
      "source": [
        "# visualize\n",
        "sns.lmplot(x='petal length (cm)',y='petal width (cm)',hue='target',data=iris_df, fit_reg=False)\n",
        "plt.xlabel('petal length (scaled)', fontsize = 18)\n",
        "plt.ylabel('petal width (scaled)', fontsize = 18)\n",
        "plt.show()"
      ],
      "execution_count": 76,
      "outputs": [
        {
          "output_type": "display_data",
          "data": {
            "image/png": "[encoded data removed]",
            "text/plain": [
              "<Figure size 402.375x360 with 1 Axes>"
            ]
          },
          "metadata": {
            "tags": [],
            "needs_background": "light"
          }
        }
      ]
    },
    {
      "cell_type": "code",
      "metadata": {
        "id": "iIQY_ZSxksOb",
        "colab_type": "code",
        "colab": {}
      },
      "source": [
        "# train test split\n",
        "X_train, X_test, y_train, y_test = train_test_split(iris.data, iris.target, test_size=0.2, random_state=1234)"
      ],
      "execution_count": 0,
      "outputs": []
    },
    {
      "cell_type": "code",
      "metadata": {
        "id": "424xDivFdSf1",
        "colab_type": "code",
        "colab": {}
      },
      "source": [
        "# store training samples\n",
        "def fit(X, y):\n",
        "  X_train = X\n",
        "  y_train = y"
      ],
      "execution_count": 0,
      "outputs": []
    },
    {
      "cell_type": "code",
      "metadata": {
        "id": "1kHh72TYeybE",
        "colab_type": "code",
        "colab": {}
      },
      "source": [
        "# Utility Distance calculation \n",
        "import numpy as np\n",
        "def euclidean(x1, x2):\n",
        "  return np.sqrt(np.sum((x1-x2)**2))"
      ],
      "execution_count": 0,
      "outputs": []
    },
    {
      "cell_type": "code",
      "metadata": {
        "id": "Op-R4EGGd-td",
        "colab_type": "code",
        "colab": {}
      },
      "source": [
        "# predict multiple samples\n",
        "predicted_labels = []\n",
        "k = 3\n",
        "def predict(X):\n",
        "  for x in X:\n",
        "    # compute distance\n",
        "    distances = [euclidean(x, x_t) for x_t in X_train]\n",
        "    # get k nearest samples, labels\n",
        "    k_indices = np.argsort(distances)[:k] # k nearest indices\n",
        "    k_nearest_lables = [y_train[i] for i in k_indices]\n",
        "    # do majority vote\n",
        "    majority_label = max(set(k_nearest_lables), key = k_nearest_lables.count)\n",
        "    predicted_labels.append(majority_label)\n",
        "  return np.array(predicted_labels)"
      ],
      "execution_count": 0,
      "outputs": []
    },
    {
      "cell_type": "code",
      "metadata": {
        "id": "sejcxie6irAJ",
        "colab_type": "code",
        "colab": {}
      },
      "source": [
        "fit(X_train, y_train)\n",
        "\n",
        "predictions = predict(X_test)"
      ],
      "execution_count": 0,
      "outputs": []
    },
    {
      "cell_type": "code",
      "metadata": {
        "id": "eNvOcd-Viywd",
        "colab_type": "code",
        "outputId": "feeb3c50-f68e-4276-8d93-184ab41aaf79",
        "colab": {
          "base_uri": "https://localhost:8080/",
          "height": 34
        }
      },
      "source": [
        "# Calculate Accuracy \n",
        "\n",
        "accuracy = np.sum(y_test == predictions) / len(y_test)\n",
        "\n",
        "accuracy"
      ],
      "execution_count": 100,
      "outputs": [
        {
          "output_type": "execute_result",
          "data": {
            "text/plain": [
              "1.0"
            ]
          },
          "metadata": {
            "tags": []
          },
          "execution_count": 100
        }
      ]
    }
  ]
}