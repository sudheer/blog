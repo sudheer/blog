{
 "cells": [
  {
   "cell_type": "markdown",
   "metadata": {},
   "source": [
    "# \"Apach Spark Transformations\"\n",
    "> \"Apach Spark Transformations\"\n",
    "\n",
    "- toc:true\n",
    "- branch: master\n",
    "- badges: true\n",
    "- comments: true\n",
    "- categories: [computing]\n",
    "- tags: [spark]"
   ]
  },
  {
   "cell_type": "markdown",
   "metadata": {},
   "source": [
    "![Apache_Spark_logo svg](https://user-images.githubusercontent.com/8268939/79700662-3c5bdc80-824c-11ea-85aa-4559e7028a8d.png)"
   ]
  },
  {
   "cell_type": "markdown",
   "metadata": {},
   "source": [
    "## Aggregate\n",
    "\n",
    "The aggregate can return a different type than RDD on which we are working on. It allows users to apply 2 functions, one on top of each partition (input type T => U), other to aggregate the results of all the partitions into final result (merging 2 U's). Both the functions have to be commutative and associative. We can also specify a initial value."
   ]
  },
  {
   "cell_type": "code",
   "execution_count": 2,
   "metadata": {
    "ExecuteTime": {
     "end_time": "2020-03-26T16:54:08.596073Z",
     "start_time": "2020-03-26T16:54:07.752Z"
    }
   },
   "outputs": [
    {
     "data": {
      "text/plain": [
       "inputRdd: org.apache.spark.rdd.RDD[Int] = ParallelCollectionRDD[1] at parallelize at <console>:27\n",
       "output: Int = 28\n"
      ]
     },
     "execution_count": 2,
     "metadata": {},
     "output_type": "execute_result"
    }
   ],
   "source": [
    "val inputRdd = sc.parallelize(Array(1,2,3,4,5,6,7))\n",
    "val output = inputRdd.aggregate(0)((x,y) => x+y, (u,v) => u+v);"
   ]
  },
  {
   "cell_type": "markdown",
   "metadata": {},
   "source": [
    "## cartesian\n",
    "\n",
    "Return the Cartesian product of this RDD and another one. result contains all pairs of (a,b) where a belongs to rdd1 and b belongs to rdd2."
   ]
  },
  {
   "cell_type": "code",
   "execution_count": 3,
   "metadata": {},
   "outputs": [
    {
     "data": {
      "text/plain": [
       "rdd1: org.apache.spark.rdd.RDD[Int] = ParallelCollectionRDD[2] at parallelize at <console>:25\n",
       "rdd2: org.apache.spark.rdd.RDD[Int] = ParallelCollectionRDD[3] at parallelize at <console>:26\n",
       "output: Array[(Int, Int)] = Array((1,3), (1,4), (1,5), (2,3), (2,4), (2,5))\n"
      ]
     },
     "execution_count": 3,
     "metadata": {},
     "output_type": "execute_result"
    }
   ],
   "source": [
    "val rdd1 = sc.parallelize(1 to 2)\n",
    "val rdd2 = sc.parallelize(3 to 5)\n",
    "val output = rdd1.cartesian(rdd2).collect()"
   ]
  },
  {
   "cell_type": "markdown",
   "metadata": {},
   "source": [
    "## countByValue\n",
    "\n",
    "Returns count of each unique value in this RDD as a local map of (value, count) pairs. Should be careful while using this when you have large data as it sends the results to driver."
   ]
  },
  {
   "cell_type": "code",
   "execution_count": 4,
   "metadata": {
    "ExecuteTime": {
     "end_time": "2020-03-26T16:54:01.080913Z",
     "start_time": "2020-03-26T16:53:59.967Z"
    }
   },
   "outputs": [
    {
     "data": {
      "text/plain": [
       "inputRdd: org.apache.spark.rdd.RDD[Int] = ParallelCollectionRDD[5] at parallelize at <console>:27\n",
       "output: scala.collection.Map[Int,Long] = Map(5 -> 1, 10 -> 1, 1 -> 1, 6 -> 1, 9 -> 1, 2 -> 1, 7 -> 1, 3 -> 1, 8 -> 1, 4 -> 1)\n"
      ]
     },
     "execution_count": 4,
     "metadata": {},
     "output_type": "execute_result"
    }
   ],
   "source": [
    "val inputRdd = sc.parallelize(1 to 10)\n",
    "val output = inputRdd.countByValue()"
   ]
  },
  {
   "cell_type": "markdown",
   "metadata": {},
   "source": [
    "## collect\n",
    "\n",
    "Used only when the rdd is small enough. Return an array that contains all of the elements in this RDD."
   ]
  },
  {
   "cell_type": "code",
   "execution_count": 5,
   "metadata": {},
   "outputs": [
    {
     "data": {
      "text/plain": [
       "output: Array[Int] = Array(1, 2, 3, 4, 5, 6, 7, 8, 9, 10)\n"
      ]
     },
     "execution_count": 5,
     "metadata": {},
     "output_type": "execute_result"
    }
   ],
   "source": [
    "val output = sc.parallelize(1 to 10, 2).collect()"
   ]
  },
  {
   "cell_type": "markdown",
   "metadata": {},
   "source": [
    "## distinct\n",
    "\n",
    "Return a new RDD containing the distinct elements in this RDD. Shuffle happens on this transformation."
   ]
  },
  {
   "cell_type": "code",
   "execution_count": 6,
   "metadata": {},
   "outputs": [
    {
     "data": {
      "text/plain": [
       "data: Seq[Int] = List(1, 1, 2, 2, 3, 4)\n",
       "inputRdd: org.apache.spark.rdd.RDD[Int] = ParallelCollectionRDD[10] at parallelize at <console>:30\n",
       "output: org.apache.spark.rdd.RDD[Int] = MapPartitionsRDD[13] at distinct at <console>:31\n",
       "res0: Array[Int] = Array(1, 2, 3, 4)\n"
      ]
     },
     "execution_count": 6,
     "metadata": {},
     "output_type": "execute_result"
    }
   ],
   "source": [
    "val data = Seq(1,1,2,2,3,4)\n",
    "val inputRdd = sc.parallelize(data)\n",
    "val output = inputRdd.distinct();\n",
    "output.collect()"
   ]
  },
  {
   "cell_type": "markdown",
   "metadata": {},
   "source": [
    "## filter\n",
    "\n",
    "Return a new RDD containing only the elements that satisfy a predicate."
   ]
  },
  {
   "cell_type": "code",
   "execution_count": 7,
   "metadata": {},
   "outputs": [
    {
     "data": {
      "text/plain": [
       "data: Seq[Int] = List(1, 2, 3, 4)\n",
       "inputRdd: org.apache.spark.rdd.RDD[Int] = ParallelCollectionRDD[14] at parallelize at <console>:29\n",
       "filterOutput: org.apache.spark.rdd.RDD[Int] = MapPartitionsRDD[15] at filter at <console>:30\n",
       "res1: Array[Int] = Array(3, 4)\n"
      ]
     },
     "execution_count": 7,
     "metadata": {},
     "output_type": "execute_result"
    }
   ],
   "source": [
    "val data = Seq(1, 2, 3, 4)\n",
    "val inputRdd = sc.parallelize(data)\n",
    "val filterOutput = inputRdd.filter( s => s>2 )\n",
    "filterOutput.collect();"
   ]
  },
  {
   "cell_type": "markdown",
   "metadata": {},
   "source": [
    "## first\n",
    "\n",
    "Return the first element in this RDD."
   ]
  },
  {
   "cell_type": "code",
   "execution_count": 8,
   "metadata": {},
   "outputs": [
    {
     "data": {
      "text/plain": [
       "output: Int = 1\n"
      ]
     },
     "execution_count": 8,
     "metadata": {},
     "output_type": "execute_result"
    }
   ],
   "source": [
    "val output = sc.parallelize(1 to 10).first();"
   ]
  },
  {
   "cell_type": "markdown",
   "metadata": {},
   "source": [
    "## flatMap\n",
    "\n",
    "Return a new RDD by first applying a function to all elements of this RDD, and then flattening the results. You need to supply (A ⇒ Iterable[B]) function to the flatMap i.e on each element of input A, Map is applied followed by flatten which is flatMap."
   ]
  },
  {
   "cell_type": "code",
   "execution_count": 9,
   "metadata": {
    "ExecuteTime": {
     "end_time": "2020-03-26T16:54:34.164387Z",
     "start_time": "2020-03-26T16:54:32.965Z"
    }
   },
   "outputs": [
    {
     "data": {
      "text/plain": [
       "data: Seq[Int] = List(1, 2, 3, 4)\n",
       "inputRdd: org.apache.spark.rdd.RDD[Int] = ParallelCollectionRDD[17] at parallelize at <console>:31\n",
       "output: org.apache.spark.rdd.RDD[Int] = MapPartitionsRDD[18] at flatMap at <console>:32\n",
       "res2: Array[Int] = Array(1, 2, 3, 2, 3, 4, 3, 4, 5, 4, 5, 6)\n"
      ]
     },
     "execution_count": 9,
     "metadata": {},
     "output_type": "execute_result"
    }
   ],
   "source": [
    "val data = Seq(1, 2, 3, 4)\n",
    "val inputRdd = sc.parallelize(data)\n",
    "val output = inputRdd.flatMap( s => List(s,s+1,s+2));\n",
    "output.collect();"
   ]
  },
  {
   "cell_type": "markdown",
   "metadata": {},
   "source": [
    "## glom\n",
    "\n",
    "Return an RDD created by coalescing all elements within each partition into an array."
   ]
  },
  {
   "cell_type": "code",
   "execution_count": 10,
   "metadata": {},
   "outputs": [
    {
     "data": {
      "text/plain": [
       "inputRdd: org.apache.spark.rdd.RDD[Int] = ParallelCollectionRDD[19] at parallelize at <console>:27\n",
       "output: Array[Array[Int]] = Array(Array(1, 2, 3, 4, 5), Array(6, 7, 8, 9, 10))\n"
      ]
     },
     "execution_count": 10,
     "metadata": {},
     "output_type": "execute_result"
    }
   ],
   "source": [
    "val inputRdd = sc.parallelize(1 to 10, 2)\n",
    "val output = inputRdd.glom().collect();"
   ]
  },
  {
   "cell_type": "markdown",
   "metadata": {},
   "source": [
    "## groupBy\n",
    "\n",
    "- Return an RDD of grouped items.\n",
    "- Each group consists of a key and a sequence of elements mapping to that key.\n",
    "- Ordering is not guaranteed, not same for every execution.\n",
    "- Shuffle happens, better to use reduceby than groupby since it does not combine in each partition itself ( i.e groupBy happens in reduce phase), hence result high network traffic."
   ]
  },
  {
   "cell_type": "code",
   "execution_count": 11,
   "metadata": {},
   "outputs": [
    {
     "data": {
      "text/plain": [
       "rdd1: org.apache.spark.rdd.RDD[Int] = ParallelCollectionRDD[21] at parallelize at <console>:27\n",
       "output: Array[(Int, Iterable[Int])] = Array((1,CompactBuffer(1)), (2,CompactBuffer(2)), (3,CompactBuffer(3, 3)), (4,CompactBuffer(4, 4)))\n"
      ]
     },
     "execution_count": 11,
     "metadata": {},
     "output_type": "execute_result"
    }
   ],
   "source": [
    "val rdd1 = sc.parallelize(Array(2,3,4,1,3,4))\n",
    "val output = rdd1.groupBy(x => x).collect()"
   ]
  },
  {
   "cell_type": "markdown",
   "metadata": {},
   "source": [
    "## intersection\n",
    "\n",
    "- Return the intersection of this RDD and another one.\n",
    "- Result will not contain any duplicate.\n",
    "- Done by map, co-group, filter in the background.\n",
    "- performs a shuffle internally"
   ]
  },
  {
   "cell_type": "code",
   "execution_count": 12,
   "metadata": {},
   "outputs": [
    {
     "data": {
      "text/plain": [
       "output: Array[Int] = Array(3, 4)\n"
      ]
     },
     "execution_count": 12,
     "metadata": {},
     "output_type": "execute_result"
    }
   ],
   "source": [
    "val output = sc.parallelize(Array(1,2,3,4))\n",
    "               .intersection(sc.parallelize(Array(3,4,5,6)))\n",
    "               .collect()"
   ]
  },
  {
   "cell_type": "markdown",
   "metadata": {},
   "source": [
    "## map\n",
    "\n",
    "Return a new RDD by applying a function to all elements of this RDD"
   ]
  },
  {
   "cell_type": "code",
   "execution_count": 13,
   "metadata": {},
   "outputs": [
    {
     "data": {
      "text/plain": [
       "data: Seq[Int] = List(1, 2, 3, 4)\n",
       "inputRdd: org.apache.spark.rdd.RDD[Int] = ParallelCollectionRDD[32] at parallelize at <console>:32\n",
       "output: org.apache.spark.rdd.RDD[Int] = MapPartitionsRDD[33] at map at <console>:33\n",
       "res3: Array[Int] = Array(2, 3, 4, 5)\n"
      ]
     },
     "execution_count": 13,
     "metadata": {},
     "output_type": "execute_result"
    }
   ],
   "source": [
    "val data = Seq(1, 2, 3, 4)\n",
    "val inputRdd = sc.parallelize(data)\n",
    "val output = inputRdd.map( s => s+1 ) // applying anonymus function to rdd elements.\n",
    "output.collect();  "
   ]
  },
  {
   "cell_type": "markdown",
   "metadata": {},
   "source": [
    "## mapPartitions\n",
    "\n",
    "Return a new RDD by applying a function to each partition of this RDD."
   ]
  },
  {
   "cell_type": "code",
   "execution_count": 14,
   "metadata": {},
   "outputs": [
    {
     "data": {
      "text/plain": [
       "rdd1: org.apache.spark.rdd.RDD[Int] = ParallelCollectionRDD[34] at parallelize at <console>:27\n",
       "output: Array[Int] = Array(1, 2, 3, 4, 5, 6, 7, 8, 9, 10, 11, 12, 13, 14, 15, 16, 17, 18, 19, 20)\n"
      ]
     },
     "execution_count": 14,
     "metadata": {},
     "output_type": "execute_result"
    }
   ],
   "source": [
    "val rdd1 = sc.parallelize(1 to 20,3)\n",
    "val output = rdd1.mapPartitions(x => x).collect();"
   ]
  },
  {
   "cell_type": "markdown",
   "metadata": {},
   "source": [
    "## mapPartitionsWithIndex\n",
    "\n",
    "Similar to mapPartitions, additionally tracks the index of the original partition."
   ]
  },
  {
   "cell_type": "code",
   "execution_count": 15,
   "metadata": {},
   "outputs": [
    {
     "data": {
      "text/plain": [
       "rdd1: org.apache.spark.rdd.RDD[Int] = ParallelCollectionRDD[36] at parallelize at <console>:27\n",
       "output: Array[Int] = Array(1, 2, 3, 4, 5, 6, 7, 8, 9, 10, 11, 12, 13, 14, 15, 16, 17, 18, 19, 20)\n"
      ]
     },
     "execution_count": 15,
     "metadata": {},
     "output_type": "execute_result"
    }
   ],
   "source": [
    "val rdd1 = sc.parallelize(1 to 20,3)\n",
    "val output = rdd1.mapPartitions(x => x).collect();"
   ]
  },
  {
   "cell_type": "markdown",
   "metadata": {},
   "source": [
    "## mapPartitionsWithIndex\n",
    "\n",
    "Similar to mapPartitions, additionally tracks the index of the original partition."
   ]
  },
  {
   "cell_type": "code",
   "execution_count": 16,
   "metadata": {},
   "outputs": [
    {
     "data": {
      "text/plain": [
       "inputRdd: org.apache.spark.rdd.RDD[Int] = ParallelCollectionRDD[38] at parallelize at <console>:27\n",
       "output: Array[(Int, Int)] = Array((0,1), (0,2), (0,3), (0,4), (0,5), (1,6), (1,7), (1,8), (1,9), (1,10))\n"
      ]
     },
     "execution_count": 16,
     "metadata": {},
     "output_type": "execute_result"
    }
   ],
   "source": [
    "val inputRdd = sc.parallelize(1 to 10, 2)\n",
    "val output = inputRdd.mapPartitionsWithIndex((idx, itr) => itr.map(s => (idx, s))).collect()"
   ]
  },
  {
   "cell_type": "markdown",
   "metadata": {},
   "source": [
    "## randomSplit\n",
    "\n",
    "Randomly splits this RDD with the provided weights. You can specify the fraction weights the output rdd's needs to split. However you can see they are not exactly equally split based on fraction as in example."
   ]
  },
  {
   "cell_type": "code",
   "execution_count": 17,
   "metadata": {},
   "outputs": [
    {
     "data": {
      "text/plain": [
       "inputRdd: org.apache.spark.rdd.RDD[Int] = ParallelCollectionRDD[40] at parallelize at <console>:28\n",
       "output: Array[org.apache.spark.rdd.RDD[Int]] = Array(MapPartitionsRDD[41] at randomSplit at <console>:29, MapPartitionsRDD[42] at randomSplit at <console>:29)\n",
       "res4: Array[Int] = Array(2, 4, 7, 9)\n"
      ]
     },
     "execution_count": 17,
     "metadata": {},
     "output_type": "execute_result"
    }
   ],
   "source": [
    "val inputRdd = sc.parallelize(1 to 10) \n",
    "val output = inputRdd.randomSplit(Array(0.5,0.5)) // return's array of rdd's   \n",
    "output(0).collect() // rdd in 0th location \n",
    "output(1).collect() // rdd in 1st location "
   ]
  },
  {
   "cell_type": "markdown",
   "metadata": {},
   "source": [
    "## reduce\n",
    "\n",
    "Reduces the elements of this RDD. function in reduce obey's commutative and  associative properties."
   ]
  },
  {
   "cell_type": "code",
   "execution_count": 18,
   "metadata": {},
   "outputs": [
    {
     "data": {
      "text/plain": [
       "output: Int = 15\n"
      ]
     },
     "execution_count": 18,
     "metadata": {},
     "output_type": "execute_result"
    }
   ],
   "source": [
    "val output = sc.parallelize(1 to 5).reduce((u,v) => u + v)"
   ]
  },
  {
   "cell_type": "markdown",
   "metadata": {},
   "source": [
    "## repartition\n",
    "\n",
    "Return a new RDD that has exactly the passed argument partitions to this method."
   ]
  },
  {
   "cell_type": "code",
   "execution_count": 19,
   "metadata": {},
   "outputs": [
    {
     "data": {
      "text/plain": [
       "data: Seq[Int] = List(1, 2, 3, 4)\n",
       "inputRdd: org.apache.spark.rdd.RDD[Int] = ParallelCollectionRDD[44] at parallelize at <console>:30\n",
       "res5: org.apache.spark.rdd.RDD[Int] = MapPartitionsRDD[48] at repartition at <console>:34\n"
      ]
     },
     "execution_count": 19,
     "metadata": {},
     "output_type": "execute_result"
    }
   ],
   "source": [
    "val data = Seq(1, 2, 3, 4) \n",
    "val inputRdd = sc.parallelize(data,2) \n",
    "inputRdd.partitions; // Get the array of partitions of this RDD \n",
    "inputRdd.repartition(1) "
   ]
  },
  {
   "cell_type": "markdown",
   "metadata": {},
   "source": [
    "## sample\n",
    "\n",
    "Return a sampled subset of this RDD."
   ]
  },
  {
   "cell_type": "code",
   "execution_count": 20,
   "metadata": {},
   "outputs": [
    {
     "data": {
      "text/plain": [
       "inputRdd: org.apache.spark.rdd.RDD[Int] = ParallelCollectionRDD[49] at parallelize at <console>:27\n",
       "res6: Array[Int] = Array(9, 10)\n"
      ]
     },
     "execution_count": 20,
     "metadata": {},
     "output_type": "execute_result"
    }
   ],
   "source": [
    "val inputRdd = sc.parallelize(1 to 10, 3) \n",
    "\n",
    "inputRdd.sample(true, 0.3, 0).collect()   "
   ]
  },
  {
   "cell_type": "markdown",
   "metadata": {},
   "source": [
    "## sortBy\n",
    "\n",
    "Return this RDD sorted by the given key function. You should pass function since its not pair rdd to generate key, boolean (asce/desc)."
   ]
  },
  {
   "cell_type": "code",
   "execution_count": 21,
   "metadata": {},
   "outputs": [
    {
     "data": {
      "text/plain": [
       "output: Array[Int] = Array(4, 3, 2, 1)\n"
      ]
     },
     "execution_count": 21,
     "metadata": {},
     "output_type": "execute_result"
    }
   ],
   "source": [
    "val output  = sc.parallelize(Array(3,4,2,1))\n",
    "                .sortBy(x => x,false) // desc order by false\n",
    "                .collect()"
   ]
  },
  {
   "cell_type": "markdown",
   "metadata": {},
   "source": [
    "## subtract\n",
    "\n",
    "Subtracts elements of one rdd from other"
   ]
  },
  {
   "cell_type": "code",
   "execution_count": 22,
   "metadata": {},
   "outputs": [
    {
     "data": {
      "text/plain": [
       "output: org.apache.spark.rdd.RDD[Int] = MapPartitionsRDD[62] at subtract at <console>:27\n",
       "res7: Array[Int] = Array(1, 2, 3, 4)\n"
      ]
     },
     "execution_count": 22,
     "metadata": {},
     "output_type": "execute_result"
    }
   ],
   "source": [
    "val output = sc.parallelize(1 to 10).subtract(sc.parallelize(5 to 15))\n",
    "output.collect()"
   ]
  },
  {
   "cell_type": "markdown",
   "metadata": {},
   "source": [
    "## take\n",
    "\n",
    "Take the first num elements of the RDD. It works by first scanning one partition, and use the results from that partition to estimate the number of additional partitions needed to satisfy the limit."
   ]
  },
  {
   "cell_type": "code",
   "execution_count": 23,
   "metadata": {},
   "outputs": [
    {
     "data": {
      "text/plain": [
       "output: Array[Int] = Array(1, 2)\n"
      ]
     },
     "execution_count": 23,
     "metadata": {},
     "output_type": "execute_result"
    }
   ],
   "source": [
    "val output = sc.parallelize(1 to 10).take(2)"
   ]
  },
  {
   "cell_type": "markdown",
   "metadata": {},
   "source": [
    "## takeSample\n",
    "\n",
    "Return a fixed-size sampled subset of this RDD in an array.\n",
    "\n",
    "sample | takeSample\n",
    "-------|-----------\n",
    "It returns an RDD | It returns an Array\n",
    "Return a fixed-size sampled subset\t| Return a fixed-size sampled subset\n",
    "Should specify sample as Double fraction arg | sample is specified as Int"
   ]
  },
  {
   "cell_type": "code",
   "execution_count": 24,
   "metadata": {},
   "outputs": [
    {
     "data": {
      "text/plain": [
       "inputRdd: org.apache.spark.rdd.RDD[Int] = ParallelCollectionRDD[64] at parallelize at <console>:27\n",
       "res8: Array[Int] = Array(7, 7, 4)\n"
      ]
     },
     "execution_count": 24,
     "metadata": {},
     "output_type": "execute_result"
    }
   ],
   "source": [
    "val inputRdd = sc.parallelize(1 to 10, 3) \n",
    "inputRdd.takeSample(true, 3, 0);   "
   ]
  },
  {
   "cell_type": "markdown",
   "metadata": {},
   "source": [
    "## toLocalIterator\n",
    "\n",
    "Return an iterator by converting RDD into a scala iterator that contains all of the elements in this RDD."
   ]
  },
  {
   "cell_type": "code",
   "execution_count": 25,
   "metadata": {},
   "outputs": [
    {
     "name": "stdout",
     "output_type": "stream",
     "text": [
      "1\n",
      "2\n",
      "3\n",
      "4\n",
      "5\n"
     ]
    },
    {
     "data": {
      "text/plain": [
       "output: Iterator[Int] = empty iterator\n"
      ]
     },
     "execution_count": 25,
     "metadata": {},
     "output_type": "execute_result"
    }
   ],
   "source": [
    "val output = sc.parallelize(1 to 5, 1).toLocalIterator\n",
    "  \n",
    "  while (output.hasNext) {\n",
    "    println(output.next)\n",
    "  }"
   ]
  },
  {
   "cell_type": "markdown",
   "metadata": {},
   "source": [
    "## union\n",
    "\n",
    "- Return the union of this RDD and another one.\n",
    "- Identical elements will appear multiple times.\n",
    "- Need to use distinct to eliminate them.\n",
    "- Can also use ++ instead of union."
   ]
  },
  {
   "cell_type": "code",
   "execution_count": 26,
   "metadata": {},
   "outputs": [
    {
     "data": {
      "text/plain": [
       "a: org.apache.spark.rdd.RDD[Int] = ParallelCollectionRDD[67] at parallelize at <console>:25\n",
       "b: org.apache.spark.rdd.RDD[Int] = ParallelCollectionRDD[68] at parallelize at <console>:26\n",
       "res10: Array[Int] = Array(4, 16, 14, 6, 8, 12, 18, 20, 10, 2, 13, 19, 15, 11, 1, 17, 3, 7, 9, 5)\n"
      ]
     },
     "execution_count": 26,
     "metadata": {},
     "output_type": "execute_result"
    }
   ],
   "source": [
    "val a = sc.parallelize(1 to 10, 1)\n",
    "val b = sc.parallelize(10 to 20, 1)\n",
    "a.union(b).collect();\n",
    "    \n",
    "a.union(b).distinct().collect();"
   ]
  }
 ],
 "metadata": {
  "datastudio": {
   "id": "2awbzw8zgp2u",
   "kernel": "m1lwed4p1hdp"
  },
  "kernelspec": {
   "display_name": "spylon-kernel",
   "language": "scala",
   "name": "spylon-kernel"
  },
  "language_info": {
   "codemirror_mode": "text/x-scala",
   "file_extension": ".scala",
   "help_links": [
    {
     "text": "MetaKernel Magics",
     "url": "https://metakernel.readthedocs.io/en/latest/source/README.html"
    }
   ],
   "mimetype": "text/x-scala",
   "name": "scala",
   "pygments_lexer": "scala",
   "version": "0.4.1"
  }
 },
 "nbformat": 4,
 "nbformat_minor": 4
}
